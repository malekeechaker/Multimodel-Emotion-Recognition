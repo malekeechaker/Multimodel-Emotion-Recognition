{
 "cells": [
  {
   "cell_type": "markdown",
   "id": "c84fc55e",
   "metadata": {
    "papermill": {
     "duration": 0.007993,
     "end_time": "2024-12-02T16:32:04.168799",
     "exception": false,
     "start_time": "2024-12-02T16:32:04.160806",
     "status": "completed"
    },
    "tags": []
   },
   "source": [
    "##                               Speech Emotion Recognition"
   ]
  },
  {
   "cell_type": "code",
   "execution_count": 1,
   "id": "aff728d1",
   "metadata": {
    "_cell_guid": "b1076dfc-b9ad-4769-8c92-a6c4dae69d19",
    "_uuid": "8f2839f25d086af736a60e9eeb907d3b93b6e0e5",
    "execution": {
     "iopub.execute_input": "2024-12-02T16:32:04.185021Z",
     "iopub.status.busy": "2024-12-02T16:32:04.184738Z",
     "iopub.status.idle": "2024-12-02T16:32:04.897880Z",
     "shell.execute_reply": "2024-12-02T16:32:04.897248Z"
    },
    "papermill": {
     "duration": 0.722781,
     "end_time": "2024-12-02T16:32:04.899825",
     "exception": false,
     "start_time": "2024-12-02T16:32:04.177044",
     "status": "completed"
    },
    "tags": []
   },
   "outputs": [],
   "source": [
    "import numpy as np \n",
    "import pandas as pd \n",
    "import os"
   ]
  },
  {
   "cell_type": "markdown",
   "id": "434582ad",
   "metadata": {
    "papermill": {
     "duration": 0.006925,
     "end_time": "2024-12-02T16:32:04.914431",
     "exception": false,
     "start_time": "2024-12-02T16:32:04.907506",
     "status": "completed"
    },
    "tags": []
   },
   "source": [
    "## RAVDESS Dataset\n",
    "* #### The Ryerson Audio-Visual Database of Emotional Speech and Song (RAVDESS) contains 7,356 files\n",
    "* #### The database contains 24 professional actors (12 female, 12 male), saying a statement  in 8 emotions which includes (neutral, calm, happy, sad, angry, fearful, surprise, and disgust), 2 times for each emotion (one normal, other strong)\n",
    "\n",
    "\n",
    "### RAVDESS file_name \n",
    "\n",
    "* ##### Modality (01 = full-AV, 02 = video-only, 03 = audio-only).\n",
    "* ##### Vocal channel (01 = speech, 02 = song).\n",
    "* ##### Emotion (01 = neutral, 02 = calm, 03 = happy, 04 = sad, 05 = angry, 06 = fearful, 07 = disgust, 08 = surprised).\n",
    "* ##### Emotional intensity (01 = normal, 02 = strong). NOTE: There is no strong intensity for the 'neutral' emotion.\n",
    "* ##### Statement (01 = \"Kids are talking by the door\", 02 = \"Dogs are sitting by the door\").\n",
    "* ##### Repetition (01 = 1st repetition, 02 = 2nd repetition).\n",
    "* ##### Actor (01 to 24. Odd numbered actors are male, even numbered actors are female)."
   ]
  },
  {
   "cell_type": "code",
   "execution_count": 2,
   "id": "b873f393",
   "metadata": {
    "execution": {
     "iopub.execute_input": "2024-12-02T16:32:04.931436Z",
     "iopub.status.busy": "2024-12-02T16:32:04.930818Z",
     "iopub.status.idle": "2024-12-02T16:32:04.934341Z",
     "shell.execute_reply": "2024-12-02T16:32:04.933580Z"
    },
    "papermill": {
     "duration": 0.013226,
     "end_time": "2024-12-02T16:32:04.936066",
     "exception": false,
     "start_time": "2024-12-02T16:32:04.922840",
     "status": "completed"
    },
    "tags": []
   },
   "outputs": [],
   "source": [
    "## path to RAVDESS data\n",
    "rav_path = '/kaggle/input/ravdess-emotional-speech-audio'"
   ]
  },
  {
   "cell_type": "code",
   "execution_count": 3,
   "id": "d178bf46",
   "metadata": {
    "execution": {
     "iopub.execute_input": "2024-12-02T16:32:04.950990Z",
     "iopub.status.busy": "2024-12-02T16:32:04.950734Z",
     "iopub.status.idle": "2024-12-02T16:32:04.954402Z",
     "shell.execute_reply": "2024-12-02T16:32:04.953823Z"
    },
    "papermill": {
     "duration": 0.013078,
     "end_time": "2024-12-02T16:32:04.956019",
     "exception": false,
     "start_time": "2024-12-02T16:32:04.942941",
     "status": "completed"
    },
    "tags": []
   },
   "outputs": [],
   "source": [
    "#label map for RAVDESS dataset which maps numerical value to emotion\n",
    "label_map_ravdess = {\n",
    "    '01' : 'neutral', '02' : 'calm', '03' : 'happy', '04' : 'sad', '05' : 'angry', '06' : 'fearful', '07' : 'disguist', '08' : 'surprised'\n",
    "}"
   ]
  },
  {
   "cell_type": "code",
   "execution_count": 4,
   "id": "1fea4fad",
   "metadata": {
    "execution": {
     "iopub.execute_input": "2024-12-02T16:32:04.971224Z",
     "iopub.status.busy": "2024-12-02T16:32:04.970761Z",
     "iopub.status.idle": "2024-12-02T16:32:05.209681Z",
     "shell.execute_reply": "2024-12-02T16:32:05.209113Z"
    },
    "papermill": {
     "duration": 0.248356,
     "end_time": "2024-12-02T16:32:05.211267",
     "exception": false,
     "start_time": "2024-12-02T16:32:04.962911",
     "status": "completed"
    },
    "tags": []
   },
   "outputs": [],
   "source": [
    "#store speech file paths and corresponding emotion for RAVDESS Dataset\n",
    "ravdess_file_paths = []\n",
    "ravdess_labels = []\n",
    "\n",
    "for actor in os.listdir(rav_path):\n",
    "    ## path for one actor\n",
    "    actor_path = os.path.join(rav_path, actor)\n",
    "    ## one actor contains 60 files\n",
    "    for file in os.listdir(actor_path):\n",
    "        if file.startswith('0'):\n",
    "            file_path = os.path.join(actor_path, file)\n",
    "            ## storing the file paths in our list\n",
    "            ravdess_file_paths.append(file_path) \n",
    "            emotion = file[6:8]  #emotion is at index [6:8])\n",
    "            ## storing emotion corresponding to that file\n",
    "            ravdess_labels.append(label_map_ravdess[emotion])"
   ]
  },
  {
   "cell_type": "code",
   "execution_count": 5,
   "id": "c7238327",
   "metadata": {
    "execution": {
     "iopub.execute_input": "2024-12-02T16:32:05.226776Z",
     "iopub.status.busy": "2024-12-02T16:32:05.226542Z",
     "iopub.status.idle": "2024-12-02T16:32:05.230094Z",
     "shell.execute_reply": "2024-12-02T16:32:05.229509Z"
    },
    "papermill": {
     "duration": 0.013429,
     "end_time": "2024-12-02T16:32:05.232019",
     "exception": false,
     "start_time": "2024-12-02T16:32:05.218590",
     "status": "completed"
    },
    "tags": []
   },
   "outputs": [
    {
     "name": "stdout",
     "output_type": "stream",
     "text": [
      "Total file paths : 1440\n",
      "Total labels : 1440\n"
     ]
    }
   ],
   "source": [
    "## lets check the length of ravdess files\n",
    "print(f\"Total file paths : {len(ravdess_file_paths)}\")\n",
    "print(f\"Total labels : {len(ravdess_labels)}\")"
   ]
  },
  {
   "cell_type": "code",
   "execution_count": 6,
   "id": "94343834",
   "metadata": {
    "execution": {
     "iopub.execute_input": "2024-12-02T16:32:05.247337Z",
     "iopub.status.busy": "2024-12-02T16:32:05.247078Z",
     "iopub.status.idle": "2024-12-02T16:32:05.255895Z",
     "shell.execute_reply": "2024-12-02T16:32:05.255153Z"
    },
    "papermill": {
     "duration": 0.018209,
     "end_time": "2024-12-02T16:32:05.257427",
     "exception": false,
     "start_time": "2024-12-02T16:32:05.239218",
     "status": "completed"
    },
    "tags": []
   },
   "outputs": [
    {
     "data": {
      "text/plain": [
       "1440"
      ]
     },
     "execution_count": 6,
     "metadata": {},
     "output_type": "execute_result"
    }
   ],
   "source": [
    "#pandas dataframe for RAVDESS data\n",
    "rav_data = pd.DataFrame({\n",
    "    'paths' : ravdess_file_paths,\n",
    "    'emotions' : ravdess_labels\n",
    "})\n",
    "len(rav_data)"
   ]
  },
  {
   "cell_type": "markdown",
   "id": "c643a803",
   "metadata": {
    "papermill": {
     "duration": 0.007035,
     "end_time": "2024-12-02T16:32:05.271762",
     "exception": false,
     "start_time": "2024-12-02T16:32:05.264727",
     "status": "completed"
    },
    "tags": []
   },
   "source": [
    "## TESS Dataset\n",
    "\n",
    "#### There are a set of 200 target words were spoken in the carrier phrase \"Say the word _' by two actresses (aged 26 and 64 years) and recordings were made of the set portraying each of seven emotions (anger, disgust, fear, happiness, pleasant surprise, sadness, and neutral). There are 2800 data points (audio files) in total.\n",
    "\n",
    "#### 200 words * 2 actresses * for 7 emotions = 2800 data points"
   ]
  },
  {
   "cell_type": "code",
   "execution_count": 7,
   "id": "885496ca",
   "metadata": {
    "execution": {
     "iopub.execute_input": "2024-12-02T16:32:05.287160Z",
     "iopub.status.busy": "2024-12-02T16:32:05.286896Z",
     "iopub.status.idle": "2024-12-02T16:32:05.290060Z",
     "shell.execute_reply": "2024-12-02T16:32:05.289366Z"
    },
    "papermill": {
     "duration": 0.012711,
     "end_time": "2024-12-02T16:32:05.291654",
     "exception": false,
     "start_time": "2024-12-02T16:32:05.278943",
     "status": "completed"
    },
    "tags": []
   },
   "outputs": [],
   "source": [
    "## path to TESS data\n",
    "tess_path = '/kaggle/input/toronto-emotional-speech-set-tess/TESS Toronto emotional speech set data'"
   ]
  },
  {
   "cell_type": "code",
   "execution_count": 8,
   "id": "b118f469",
   "metadata": {
    "execution": {
     "iopub.execute_input": "2024-12-02T16:32:05.306943Z",
     "iopub.status.busy": "2024-12-02T16:32:05.306710Z",
     "iopub.status.idle": "2024-12-02T16:32:05.516888Z",
     "shell.execute_reply": "2024-12-02T16:32:05.516052Z"
    },
    "papermill": {
     "duration": 0.219928,
     "end_time": "2024-12-02T16:32:05.518804",
     "exception": false,
     "start_time": "2024-12-02T16:32:05.298876",
     "status": "completed"
    },
    "tags": []
   },
   "outputs": [],
   "source": [
    "tess_file_paths = []\n",
    "tess_labels = []\n",
    "\n",
    "for folder in os.listdir(tess_path):\n",
    "    folder_path = os.path.join(tess_path, folder)\n",
    "    label = folder[4:] ## folder = OAF_Fear (take from index 4 to last)\n",
    "    label = label.lower() ## converting the string to lower\n",
    "    \n",
    "    for file in os.listdir(folder_path):\n",
    "        file_path = os.path.join(folder_path, file)\n",
    "        ## storing this file path in list\n",
    "        tess_file_paths.append(file_path)\n",
    "        ## storing the corresponding emotion\n",
    "        tess_labels.append(label) "
   ]
  },
  {
   "cell_type": "code",
   "execution_count": 9,
   "id": "8a21b8aa",
   "metadata": {
    "execution": {
     "iopub.execute_input": "2024-12-02T16:32:05.534634Z",
     "iopub.status.busy": "2024-12-02T16:32:05.534356Z",
     "iopub.status.idle": "2024-12-02T16:32:05.538546Z",
     "shell.execute_reply": "2024-12-02T16:32:05.537775Z"
    },
    "papermill": {
     "duration": 0.013592,
     "end_time": "2024-12-02T16:32:05.540019",
     "exception": false,
     "start_time": "2024-12-02T16:32:05.526427",
     "status": "completed"
    },
    "tags": []
   },
   "outputs": [
    {
     "name": "stdout",
     "output_type": "stream",
     "text": [
      "Total file from TESS : 2800\n",
      "Total emotions from TESS : 2800\n"
     ]
    }
   ],
   "source": [
    "##  check the length of how many file collected from TESS dataset\n",
    "print(f\"Total file from TESS : {len(tess_file_paths)}\")\n",
    "print(f\"Total emotions from TESS : {len(tess_labels)}\")"
   ]
  },
  {
   "cell_type": "code",
   "execution_count": 10,
   "id": "bcc9c24e",
   "metadata": {
    "execution": {
     "iopub.execute_input": "2024-12-02T16:32:05.555549Z",
     "iopub.status.busy": "2024-12-02T16:32:05.555287Z",
     "iopub.status.idle": "2024-12-02T16:32:05.569931Z",
     "shell.execute_reply": "2024-12-02T16:32:05.569159Z"
    },
    "papermill": {
     "duration": 0.024262,
     "end_time": "2024-12-02T16:32:05.571575",
     "exception": false,
     "start_time": "2024-12-02T16:32:05.547313",
     "status": "completed"
    },
    "tags": []
   },
   "outputs": [
    {
     "data": {
      "text/html": [
       "<div>\n",
       "<style scoped>\n",
       "    .dataframe tbody tr th:only-of-type {\n",
       "        vertical-align: middle;\n",
       "    }\n",
       "\n",
       "    .dataframe tbody tr th {\n",
       "        vertical-align: top;\n",
       "    }\n",
       "\n",
       "    .dataframe thead th {\n",
       "        text-align: right;\n",
       "    }\n",
       "</style>\n",
       "<table border=\"1\" class=\"dataframe\">\n",
       "  <thead>\n",
       "    <tr style=\"text-align: right;\">\n",
       "      <th></th>\n",
       "      <th>paths</th>\n",
       "      <th>emotions</th>\n",
       "    </tr>\n",
       "  </thead>\n",
       "  <tbody>\n",
       "    <tr>\n",
       "      <th>0</th>\n",
       "      <td>/kaggle/input/toronto-emotional-speech-set-tes...</td>\n",
       "      <td>fear</td>\n",
       "    </tr>\n",
       "    <tr>\n",
       "      <th>1</th>\n",
       "      <td>/kaggle/input/toronto-emotional-speech-set-tes...</td>\n",
       "      <td>fear</td>\n",
       "    </tr>\n",
       "    <tr>\n",
       "      <th>2</th>\n",
       "      <td>/kaggle/input/toronto-emotional-speech-set-tes...</td>\n",
       "      <td>fear</td>\n",
       "    </tr>\n",
       "    <tr>\n",
       "      <th>3</th>\n",
       "      <td>/kaggle/input/toronto-emotional-speech-set-tes...</td>\n",
       "      <td>fear</td>\n",
       "    </tr>\n",
       "    <tr>\n",
       "      <th>4</th>\n",
       "      <td>/kaggle/input/toronto-emotional-speech-set-tes...</td>\n",
       "      <td>fear</td>\n",
       "    </tr>\n",
       "  </tbody>\n",
       "</table>\n",
       "</div>"
      ],
      "text/plain": [
       "                                               paths emotions\n",
       "0  /kaggle/input/toronto-emotional-speech-set-tes...     fear\n",
       "1  /kaggle/input/toronto-emotional-speech-set-tes...     fear\n",
       "2  /kaggle/input/toronto-emotional-speech-set-tes...     fear\n",
       "3  /kaggle/input/toronto-emotional-speech-set-tes...     fear\n",
       "4  /kaggle/input/toronto-emotional-speech-set-tes...     fear"
      ]
     },
     "execution_count": 10,
     "metadata": {},
     "output_type": "execute_result"
    }
   ],
   "source": [
    "#a pandas dataframe for tess data also\n",
    "tess_data = pd.DataFrame({\n",
    "    'paths' : tess_file_paths,\n",
    "    'emotions' : tess_labels\n",
    "})\n",
    "\n",
    "tess_data.head()"
   ]
  },
  {
   "cell_type": "markdown",
   "id": "929be6c0",
   "metadata": {
    "papermill": {
     "duration": 0.007244,
     "end_time": "2024-12-02T16:32:05.586254",
     "exception": false,
     "start_time": "2024-12-02T16:32:05.579010",
     "status": "completed"
    },
    "tags": []
   },
   "source": [
    "## Make same unique emotions in both dataset so we can combine them"
   ]
  },
  {
   "cell_type": "code",
   "execution_count": 11,
   "id": "0e34d4d5",
   "metadata": {
    "execution": {
     "iopub.execute_input": "2024-12-02T16:32:05.601853Z",
     "iopub.status.busy": "2024-12-02T16:32:05.601610Z",
     "iopub.status.idle": "2024-12-02T16:32:05.609776Z",
     "shell.execute_reply": "2024-12-02T16:32:05.609149Z"
    },
    "papermill": {
     "duration": 0.017709,
     "end_time": "2024-12-02T16:32:05.611280",
     "exception": false,
     "start_time": "2024-12-02T16:32:05.593571",
     "status": "completed"
    },
    "tags": []
   },
   "outputs": [
    {
     "data": {
      "text/plain": [
       "array(['surprised', 'neutral', 'disguist', 'fearful', 'sad', 'calm',\n",
       "       'happy', 'angry'], dtype=object)"
      ]
     },
     "execution_count": 11,
     "metadata": {},
     "output_type": "execute_result"
    }
   ],
   "source": [
    "## unique emotions in REVDESS dataset\n",
    "rav_data['emotions'].unique()"
   ]
  },
  {
   "cell_type": "code",
   "execution_count": 12,
   "id": "181e8b75",
   "metadata": {
    "execution": {
     "iopub.execute_input": "2024-12-02T16:32:05.627675Z",
     "iopub.status.busy": "2024-12-02T16:32:05.627434Z",
     "iopub.status.idle": "2024-12-02T16:32:05.632470Z",
     "shell.execute_reply": "2024-12-02T16:32:05.631695Z"
    },
    "papermill": {
     "duration": 0.014694,
     "end_time": "2024-12-02T16:32:05.633908",
     "exception": false,
     "start_time": "2024-12-02T16:32:05.619214",
     "status": "completed"
    },
    "tags": []
   },
   "outputs": [
    {
     "data": {
      "text/plain": [
       "array(['fear', 'angry', 'disgust', 'neutral', 'sad', 'pleasant_surprise',\n",
       "       'happy', 'pleasant_surprised'], dtype=object)"
      ]
     },
     "execution_count": 12,
     "metadata": {},
     "output_type": "execute_result"
    }
   ],
   "source": [
    "## unique emotions in TESS dataset\n",
    "tess_data['emotions'].unique()"
   ]
  },
  {
   "cell_type": "code",
   "execution_count": 13,
   "id": "7093bdcc",
   "metadata": {
    "execution": {
     "iopub.execute_input": "2024-12-02T16:32:05.649981Z",
     "iopub.status.busy": "2024-12-02T16:32:05.649759Z",
     "iopub.status.idle": "2024-12-02T16:32:05.657293Z",
     "shell.execute_reply": "2024-12-02T16:32:05.656651Z"
    },
    "papermill": {
     "duration": 0.017458,
     "end_time": "2024-12-02T16:32:05.658812",
     "exception": false,
     "start_time": "2024-12-02T16:32:05.641354",
     "status": "completed"
    },
    "tags": []
   },
   "outputs": [
    {
     "data": {
      "text/plain": [
       "array(['fearful', 'angry', 'disguist', 'neutral', 'sad', 'surprised',\n",
       "       'happy'], dtype=object)"
      ]
     },
     "execution_count": 13,
     "metadata": {},
     "output_type": "execute_result"
    }
   ],
   "source": [
    "tess_data['emotions'] = tess_data['emotions'].replace({\n",
    "    'pleasant_surprise' : 'surprised',\n",
    "    'pleasant_surprised' : 'surprised',\n",
    "    'fear' : 'fearful',\n",
    "    'disgust' : 'disguist'\n",
    "})\n",
    "\n",
    "## now check unique emotions\n",
    "tess_data['emotions'].unique()"
   ]
  },
  {
   "cell_type": "markdown",
   "id": "b47ca5eb",
   "metadata": {
    "papermill": {
     "duration": 0.007252,
     "end_time": "2024-12-02T16:32:05.673666",
     "exception": false,
     "start_time": "2024-12-02T16:32:05.666414",
     "status": "completed"
    },
    "tags": []
   },
   "source": [
    "## Combining both RAVDESS and TESS dataframes"
   ]
  },
  {
   "cell_type": "code",
   "execution_count": 14,
   "id": "8bd7e49b",
   "metadata": {
    "execution": {
     "iopub.execute_input": "2024-12-02T16:32:05.689935Z",
     "iopub.status.busy": "2024-12-02T16:32:05.689689Z",
     "iopub.status.idle": "2024-12-02T16:32:05.701017Z",
     "shell.execute_reply": "2024-12-02T16:32:05.700384Z"
    },
    "papermill": {
     "duration": 0.02112,
     "end_time": "2024-12-02T16:32:05.702519",
     "exception": false,
     "start_time": "2024-12-02T16:32:05.681399",
     "status": "completed"
    },
    "tags": []
   },
   "outputs": [
    {
     "data": {
      "text/html": [
       "<div>\n",
       "<style scoped>\n",
       "    .dataframe tbody tr th:only-of-type {\n",
       "        vertical-align: middle;\n",
       "    }\n",
       "\n",
       "    .dataframe tbody tr th {\n",
       "        vertical-align: top;\n",
       "    }\n",
       "\n",
       "    .dataframe thead th {\n",
       "        text-align: right;\n",
       "    }\n",
       "</style>\n",
       "<table border=\"1\" class=\"dataframe\">\n",
       "  <thead>\n",
       "    <tr style=\"text-align: right;\">\n",
       "      <th></th>\n",
       "      <th>paths</th>\n",
       "      <th>emotions</th>\n",
       "    </tr>\n",
       "  </thead>\n",
       "  <tbody>\n",
       "    <tr>\n",
       "      <th>0</th>\n",
       "      <td>/kaggle/input/ravdess-emotional-speech-audio/A...</td>\n",
       "      <td>surprised</td>\n",
       "    </tr>\n",
       "    <tr>\n",
       "      <th>1</th>\n",
       "      <td>/kaggle/input/ravdess-emotional-speech-audio/A...</td>\n",
       "      <td>neutral</td>\n",
       "    </tr>\n",
       "    <tr>\n",
       "      <th>2</th>\n",
       "      <td>/kaggle/input/ravdess-emotional-speech-audio/A...</td>\n",
       "      <td>disguist</td>\n",
       "    </tr>\n",
       "    <tr>\n",
       "      <th>3</th>\n",
       "      <td>/kaggle/input/ravdess-emotional-speech-audio/A...</td>\n",
       "      <td>disguist</td>\n",
       "    </tr>\n",
       "    <tr>\n",
       "      <th>4</th>\n",
       "      <td>/kaggle/input/ravdess-emotional-speech-audio/A...</td>\n",
       "      <td>neutral</td>\n",
       "    </tr>\n",
       "  </tbody>\n",
       "</table>\n",
       "</div>"
      ],
      "text/plain": [
       "                                               paths   emotions\n",
       "0  /kaggle/input/ravdess-emotional-speech-audio/A...  surprised\n",
       "1  /kaggle/input/ravdess-emotional-speech-audio/A...    neutral\n",
       "2  /kaggle/input/ravdess-emotional-speech-audio/A...   disguist\n",
       "3  /kaggle/input/ravdess-emotional-speech-audio/A...   disguist\n",
       "4  /kaggle/input/ravdess-emotional-speech-audio/A...    neutral"
      ]
     },
     "execution_count": 14,
     "metadata": {},
     "output_type": "execute_result"
    }
   ],
   "source": [
    "emotion_data = pd.concat([rav_data, tess_data], axis=0).reset_index(drop=True) ## reassigns the index so it’s sequential from 0, without adding an extra index column.\n",
    "emotion_data.head()"
   ]
  },
  {
   "cell_type": "code",
   "execution_count": 15,
   "id": "ab229f94",
   "metadata": {
    "execution": {
     "iopub.execute_input": "2024-12-02T16:32:05.719026Z",
     "iopub.status.busy": "2024-12-02T16:32:05.718585Z",
     "iopub.status.idle": "2024-12-02T16:32:05.722639Z",
     "shell.execute_reply": "2024-12-02T16:32:05.721836Z"
    },
    "papermill": {
     "duration": 0.014139,
     "end_time": "2024-12-02T16:32:05.724345",
     "exception": false,
     "start_time": "2024-12-02T16:32:05.710206",
     "status": "completed"
    },
    "tags": []
   },
   "outputs": [
    {
     "name": "stdout",
     "output_type": "stream",
     "text": [
      "Length of combined data : 4240\n"
     ]
    }
   ],
   "source": [
    "print(f\"Length of combined data : {emotion_data.shape[0]}\")"
   ]
  },
  {
   "cell_type": "code",
   "execution_count": 16,
   "id": "9e4a0afc",
   "metadata": {
    "execution": {
     "iopub.execute_input": "2024-12-02T16:32:05.740781Z",
     "iopub.status.busy": "2024-12-02T16:32:05.740572Z",
     "iopub.status.idle": "2024-12-02T16:32:05.744899Z",
     "shell.execute_reply": "2024-12-02T16:32:05.744089Z"
    },
    "papermill": {
     "duration": 0.014543,
     "end_time": "2024-12-02T16:32:05.746600",
     "exception": false,
     "start_time": "2024-12-02T16:32:05.732057",
     "status": "completed"
    },
    "tags": []
   },
   "outputs": [
    {
     "name": "stdout",
     "output_type": "stream",
     "text": [
      "Number of unique emotions : 8\n",
      "['surprised' 'neutral' 'disguist' 'fearful' 'sad' 'calm' 'happy' 'angry']\n"
     ]
    }
   ],
   "source": [
    "unique_emotions = emotion_data['emotions'].unique()\n",
    "print(f\"Number of unique emotions : {len(unique_emotions)}\")\n",
    "print(unique_emotions)"
   ]
  },
  {
   "cell_type": "markdown",
   "id": "1ac82a01",
   "metadata": {
    "papermill": {
     "duration": 0.007573,
     "end_time": "2024-12-02T16:32:05.761942",
     "exception": false,
     "start_time": "2024-12-02T16:32:05.754369",
     "status": "completed"
    },
    "tags": []
   },
   "source": [
    "## Extracting features from audio file paths"
   ]
  },
  {
   "cell_type": "code",
   "execution_count": 17,
   "id": "01b7c446",
   "metadata": {
    "execution": {
     "iopub.execute_input": "2024-12-02T16:32:05.778599Z",
     "iopub.status.busy": "2024-12-02T16:32:05.778365Z",
     "iopub.status.idle": "2024-12-02T16:32:05.790354Z",
     "shell.execute_reply": "2024-12-02T16:32:05.789535Z"
    },
    "papermill": {
     "duration": 0.0223,
     "end_time": "2024-12-02T16:32:05.791956",
     "exception": false,
     "start_time": "2024-12-02T16:32:05.769656",
     "status": "completed"
    },
    "tags": []
   },
   "outputs": [],
   "source": [
    "import librosa"
   ]
  },
  {
   "cell_type": "code",
   "execution_count": 18,
   "id": "d09000fb",
   "metadata": {
    "execution": {
     "iopub.execute_input": "2024-12-02T16:32:05.808440Z",
     "iopub.status.busy": "2024-12-02T16:32:05.808207Z",
     "iopub.status.idle": "2024-12-02T16:32:05.812896Z",
     "shell.execute_reply": "2024-12-02T16:32:05.812121Z"
    },
    "papermill": {
     "duration": 0.014651,
     "end_time": "2024-12-02T16:32:05.814410",
     "exception": false,
     "start_time": "2024-12-02T16:32:05.799759",
     "status": "completed"
    },
    "tags": []
   },
   "outputs": [
    {
     "data": {
      "text/plain": [
       "'/kaggle/input/ravdess-emotional-speech-audio/Actor_02/03-01-08-01-01-01-02.wav'"
      ]
     },
     "execution_count": 18,
     "metadata": {},
     "output_type": "execute_result"
    }
   ],
   "source": [
    "emotion_data.loc[0, 'paths']"
   ]
  },
  {
   "cell_type": "code",
   "execution_count": 19,
   "id": "d0ee5202",
   "metadata": {
    "execution": {
     "iopub.execute_input": "2024-12-02T16:32:05.832335Z",
     "iopub.status.busy": "2024-12-02T16:32:05.831884Z",
     "iopub.status.idle": "2024-12-02T16:35:07.503078Z",
     "shell.execute_reply": "2024-12-02T16:35:07.501862Z"
    },
    "papermill": {
     "duration": 181.684508,
     "end_time": "2024-12-02T16:35:07.506769",
     "exception": false,
     "start_time": "2024-12-02T16:32:05.822261",
     "status": "completed"
    },
    "tags": []
   },
   "outputs": [],
   "source": [
    "#extract MEL and MFCC features \n",
    "mel_features = []\n",
    "mfcc_features = []\n",
    "\n",
    "for i in range(len(emotion_data)):\n",
    "    ## loading the audio file\n",
    "    data, sample_rate = librosa.load(emotion_data.loc[i, 'paths'])\n",
    "    ## extracting MEL features\n",
    "    mel_features.append(np.mean(librosa.feature.melspectrogram(y=data, sr=sample_rate).T, axis= 0))\n",
    "    ## extracting MFCC features\n",
    "    mfcc_features.append(np.mean(librosa.feature.mfcc(y=data, sr=sample_rate, n_mfcc= 13).T, axis=0))"
   ]
  },
  {
   "cell_type": "code",
   "execution_count": 20,
   "id": "69eb9bcf",
   "metadata": {
    "execution": {
     "iopub.execute_input": "2024-12-02T16:35:07.560855Z",
     "iopub.status.busy": "2024-12-02T16:35:07.559632Z",
     "iopub.status.idle": "2024-12-02T16:35:07.577598Z",
     "shell.execute_reply": "2024-12-02T16:35:07.576029Z"
    },
    "papermill": {
     "duration": 0.04828,
     "end_time": "2024-12-02T16:35:07.580361",
     "exception": false,
     "start_time": "2024-12-02T16:35:07.532081",
     "status": "completed"
    },
    "tags": []
   },
   "outputs": [
    {
     "name": "stdout",
     "output_type": "stream",
     "text": [
      "Shape of MEL features : (4240, 128)\n",
      "Shape of MFCC features : (4240, 13)\n"
     ]
    }
   ],
   "source": [
    "#convert both mel_features and mfcc_features list to arrays\n",
    "mel_features_array = np.array(mel_features)\n",
    "mfcc_features_array = np.array(mfcc_features)\n",
    "\n",
    "\n",
    "print(f\"Shape of MEL features : {mel_features_array.shape}\")\n",
    "print(f\"Shape of MFCC features : {mfcc_features_array.shape}\")"
   ]
  },
  {
   "cell_type": "markdown",
   "id": "50982af6",
   "metadata": {
    "papermill": {
     "duration": 0.02438,
     "end_time": "2024-12-02T16:35:07.630281",
     "exception": false,
     "start_time": "2024-12-02T16:35:07.605901",
     "status": "completed"
    },
    "tags": []
   },
   "source": [
    "#### We can stack these horizontally so that total features can be 128 + 13 = 141 (mel + mfcc)"
   ]
  },
  {
   "cell_type": "code",
   "execution_count": 21,
   "id": "e1b129a5",
   "metadata": {
    "execution": {
     "iopub.execute_input": "2024-12-02T16:35:07.649435Z",
     "iopub.status.busy": "2024-12-02T16:35:07.649186Z",
     "iopub.status.idle": "2024-12-02T16:35:07.655610Z",
     "shell.execute_reply": "2024-12-02T16:35:07.655143Z"
    },
    "papermill": {
     "duration": 0.016851,
     "end_time": "2024-12-02T16:35:07.657093",
     "exception": false,
     "start_time": "2024-12-02T16:35:07.640242",
     "status": "completed"
    },
    "tags": []
   },
   "outputs": [
    {
     "name": "stdout",
     "output_type": "stream",
     "text": [
      "Shape of feature data : (4240, 141)\n"
     ]
    }
   ],
   "source": [
    "features = np.hstack((mel_features_array, mfcc_features_array))\n",
    "\n",
    "print(f\"Shape of feature data : {features.shape}\")"
   ]
  },
  {
   "cell_type": "code",
   "execution_count": 22,
   "id": "16b3c120",
   "metadata": {
    "execution": {
     "iopub.execute_input": "2024-12-02T16:35:07.674026Z",
     "iopub.status.busy": "2024-12-02T16:35:07.673803Z",
     "iopub.status.idle": "2024-12-02T16:35:07.699252Z",
     "shell.execute_reply": "2024-12-02T16:35:07.698482Z"
    },
    "papermill": {
     "duration": 0.03592,
     "end_time": "2024-12-02T16:35:07.700973",
     "exception": false,
     "start_time": "2024-12-02T16:35:07.665053",
     "status": "completed"
    },
    "tags": []
   },
   "outputs": [
    {
     "data": {
      "text/html": [
       "<div>\n",
       "<style scoped>\n",
       "    .dataframe tbody tr th:only-of-type {\n",
       "        vertical-align: middle;\n",
       "    }\n",
       "\n",
       "    .dataframe tbody tr th {\n",
       "        vertical-align: top;\n",
       "    }\n",
       "\n",
       "    .dataframe thead th {\n",
       "        text-align: right;\n",
       "    }\n",
       "</style>\n",
       "<table border=\"1\" class=\"dataframe\">\n",
       "  <thead>\n",
       "    <tr style=\"text-align: right;\">\n",
       "      <th></th>\n",
       "      <th>paths</th>\n",
       "      <th>emotions</th>\n",
       "      <th>0</th>\n",
       "      <th>1</th>\n",
       "      <th>2</th>\n",
       "      <th>3</th>\n",
       "      <th>4</th>\n",
       "      <th>5</th>\n",
       "      <th>6</th>\n",
       "      <th>7</th>\n",
       "      <th>...</th>\n",
       "      <th>131</th>\n",
       "      <th>132</th>\n",
       "      <th>133</th>\n",
       "      <th>134</th>\n",
       "      <th>135</th>\n",
       "      <th>136</th>\n",
       "      <th>137</th>\n",
       "      <th>138</th>\n",
       "      <th>139</th>\n",
       "      <th>140</th>\n",
       "    </tr>\n",
       "  </thead>\n",
       "  <tbody>\n",
       "    <tr>\n",
       "      <th>0</th>\n",
       "      <td>/kaggle/input/ravdess-emotional-speech-audio/A...</td>\n",
       "      <td>surprised</td>\n",
       "      <td>0.005195</td>\n",
       "      <td>0.001722</td>\n",
       "      <td>0.000349</td>\n",
       "      <td>0.000140</td>\n",
       "      <td>0.000114</td>\n",
       "      <td>0.002602</td>\n",
       "      <td>0.024531</td>\n",
       "      <td>0.074840</td>\n",
       "      <td>...</td>\n",
       "      <td>10.058561</td>\n",
       "      <td>-7.268933</td>\n",
       "      <td>-7.338441</td>\n",
       "      <td>-3.074346</td>\n",
       "      <td>-5.954073</td>\n",
       "      <td>-3.085561</td>\n",
       "      <td>-3.633329</td>\n",
       "      <td>-4.091269</td>\n",
       "      <td>-4.767273</td>\n",
       "      <td>-3.258367</td>\n",
       "    </tr>\n",
       "    <tr>\n",
       "      <th>1</th>\n",
       "      <td>/kaggle/input/ravdess-emotional-speech-audio/A...</td>\n",
       "      <td>neutral</td>\n",
       "      <td>0.000012</td>\n",
       "      <td>0.000052</td>\n",
       "      <td>0.000112</td>\n",
       "      <td>0.000077</td>\n",
       "      <td>0.000056</td>\n",
       "      <td>0.000891</td>\n",
       "      <td>0.010599</td>\n",
       "      <td>0.067308</td>\n",
       "      <td>...</td>\n",
       "      <td>8.411754</td>\n",
       "      <td>-4.387535</td>\n",
       "      <td>-3.765707</td>\n",
       "      <td>-5.362752</td>\n",
       "      <td>-8.610383</td>\n",
       "      <td>-3.971551</td>\n",
       "      <td>-0.895974</td>\n",
       "      <td>-4.721406</td>\n",
       "      <td>-1.995389</td>\n",
       "      <td>-5.056729</td>\n",
       "    </tr>\n",
       "    <tr>\n",
       "      <th>2</th>\n",
       "      <td>/kaggle/input/ravdess-emotional-speech-audio/A...</td>\n",
       "      <td>disguist</td>\n",
       "      <td>0.000013</td>\n",
       "      <td>0.000043</td>\n",
       "      <td>0.000094</td>\n",
       "      <td>0.000146</td>\n",
       "      <td>0.000199</td>\n",
       "      <td>0.006029</td>\n",
       "      <td>0.018402</td>\n",
       "      <td>0.057368</td>\n",
       "      <td>...</td>\n",
       "      <td>5.837509</td>\n",
       "      <td>-11.664725</td>\n",
       "      <td>-2.112240</td>\n",
       "      <td>-5.376718</td>\n",
       "      <td>-11.543213</td>\n",
       "      <td>-5.600093</td>\n",
       "      <td>0.080801</td>\n",
       "      <td>-5.487411</td>\n",
       "      <td>-2.752090</td>\n",
       "      <td>-6.636899</td>\n",
       "    </tr>\n",
       "    <tr>\n",
       "      <th>3</th>\n",
       "      <td>/kaggle/input/ravdess-emotional-speech-audio/A...</td>\n",
       "      <td>disguist</td>\n",
       "      <td>0.000004</td>\n",
       "      <td>0.000011</td>\n",
       "      <td>0.000046</td>\n",
       "      <td>0.000119</td>\n",
       "      <td>0.000313</td>\n",
       "      <td>0.004024</td>\n",
       "      <td>0.025942</td>\n",
       "      <td>0.068099</td>\n",
       "      <td>...</td>\n",
       "      <td>9.040555</td>\n",
       "      <td>-9.703859</td>\n",
       "      <td>-0.132379</td>\n",
       "      <td>-8.262967</td>\n",
       "      <td>-13.345395</td>\n",
       "      <td>-6.544706</td>\n",
       "      <td>0.045263</td>\n",
       "      <td>-6.350311</td>\n",
       "      <td>-2.791579</td>\n",
       "      <td>-7.690273</td>\n",
       "    </tr>\n",
       "    <tr>\n",
       "      <th>4</th>\n",
       "      <td>/kaggle/input/ravdess-emotional-speech-audio/A...</td>\n",
       "      <td>neutral</td>\n",
       "      <td>0.000017</td>\n",
       "      <td>0.000077</td>\n",
       "      <td>0.000168</td>\n",
       "      <td>0.000099</td>\n",
       "      <td>0.000120</td>\n",
       "      <td>0.001180</td>\n",
       "      <td>0.013695</td>\n",
       "      <td>0.061049</td>\n",
       "      <td>...</td>\n",
       "      <td>4.765818</td>\n",
       "      <td>-4.809168</td>\n",
       "      <td>-3.219578</td>\n",
       "      <td>-5.721809</td>\n",
       "      <td>-9.393639</td>\n",
       "      <td>-5.245095</td>\n",
       "      <td>-1.987432</td>\n",
       "      <td>-5.037799</td>\n",
       "      <td>-2.868664</td>\n",
       "      <td>-6.420317</td>\n",
       "    </tr>\n",
       "  </tbody>\n",
       "</table>\n",
       "<p>5 rows × 143 columns</p>\n",
       "</div>"
      ],
      "text/plain": [
       "                                               paths   emotions         0  \\\n",
       "0  /kaggle/input/ravdess-emotional-speech-audio/A...  surprised  0.005195   \n",
       "1  /kaggle/input/ravdess-emotional-speech-audio/A...    neutral  0.000012   \n",
       "2  /kaggle/input/ravdess-emotional-speech-audio/A...   disguist  0.000013   \n",
       "3  /kaggle/input/ravdess-emotional-speech-audio/A...   disguist  0.000004   \n",
       "4  /kaggle/input/ravdess-emotional-speech-audio/A...    neutral  0.000017   \n",
       "\n",
       "          1         2         3         4         5         6         7  ...  \\\n",
       "0  0.001722  0.000349  0.000140  0.000114  0.002602  0.024531  0.074840  ...   \n",
       "1  0.000052  0.000112  0.000077  0.000056  0.000891  0.010599  0.067308  ...   \n",
       "2  0.000043  0.000094  0.000146  0.000199  0.006029  0.018402  0.057368  ...   \n",
       "3  0.000011  0.000046  0.000119  0.000313  0.004024  0.025942  0.068099  ...   \n",
       "4  0.000077  0.000168  0.000099  0.000120  0.001180  0.013695  0.061049  ...   \n",
       "\n",
       "         131        132       133       134        135       136       137  \\\n",
       "0  10.058561  -7.268933 -7.338441 -3.074346  -5.954073 -3.085561 -3.633329   \n",
       "1   8.411754  -4.387535 -3.765707 -5.362752  -8.610383 -3.971551 -0.895974   \n",
       "2   5.837509 -11.664725 -2.112240 -5.376718 -11.543213 -5.600093  0.080801   \n",
       "3   9.040555  -9.703859 -0.132379 -8.262967 -13.345395 -6.544706  0.045263   \n",
       "4   4.765818  -4.809168 -3.219578 -5.721809  -9.393639 -5.245095 -1.987432   \n",
       "\n",
       "        138       139       140  \n",
       "0 -4.091269 -4.767273 -3.258367  \n",
       "1 -4.721406 -1.995389 -5.056729  \n",
       "2 -5.487411 -2.752090 -6.636899  \n",
       "3 -6.350311 -2.791579 -7.690273  \n",
       "4 -5.037799 -2.868664 -6.420317  \n",
       "\n",
       "[5 rows x 143 columns]"
      ]
     },
     "execution_count": 22,
     "metadata": {},
     "output_type": "execute_result"
    }
   ],
   "source": [
    "#datagframe containing features and corresponding emotions\n",
    "df_features = pd.DataFrame(features)\n",
    "data = pd.concat([emotion_data, df_features], axis=1)\n",
    "data.head()"
   ]
  },
  {
   "cell_type": "code",
   "execution_count": 23,
   "id": "d870cd57",
   "metadata": {
    "execution": {
     "iopub.execute_input": "2024-12-02T16:35:07.719423Z",
     "iopub.status.busy": "2024-12-02T16:35:07.718679Z",
     "iopub.status.idle": "2024-12-02T16:35:07.740206Z",
     "shell.execute_reply": "2024-12-02T16:35:07.739415Z"
    },
    "papermill": {
     "duration": 0.032671,
     "end_time": "2024-12-02T16:35:07.741957",
     "exception": false,
     "start_time": "2024-12-02T16:35:07.709286",
     "status": "completed"
    },
    "tags": []
   },
   "outputs": [
    {
     "data": {
      "text/html": [
       "<div>\n",
       "<style scoped>\n",
       "    .dataframe tbody tr th:only-of-type {\n",
       "        vertical-align: middle;\n",
       "    }\n",
       "\n",
       "    .dataframe tbody tr th {\n",
       "        vertical-align: top;\n",
       "    }\n",
       "\n",
       "    .dataframe thead th {\n",
       "        text-align: right;\n",
       "    }\n",
       "</style>\n",
       "<table border=\"1\" class=\"dataframe\">\n",
       "  <thead>\n",
       "    <tr style=\"text-align: right;\">\n",
       "      <th></th>\n",
       "      <th>emotions</th>\n",
       "      <th>0</th>\n",
       "      <th>1</th>\n",
       "      <th>2</th>\n",
       "      <th>3</th>\n",
       "      <th>4</th>\n",
       "      <th>5</th>\n",
       "      <th>6</th>\n",
       "      <th>7</th>\n",
       "      <th>8</th>\n",
       "      <th>...</th>\n",
       "      <th>131</th>\n",
       "      <th>132</th>\n",
       "      <th>133</th>\n",
       "      <th>134</th>\n",
       "      <th>135</th>\n",
       "      <th>136</th>\n",
       "      <th>137</th>\n",
       "      <th>138</th>\n",
       "      <th>139</th>\n",
       "      <th>140</th>\n",
       "    </tr>\n",
       "  </thead>\n",
       "  <tbody>\n",
       "    <tr>\n",
       "      <th>0</th>\n",
       "      <td>surprised</td>\n",
       "      <td>0.005195</td>\n",
       "      <td>0.001722</td>\n",
       "      <td>0.000349</td>\n",
       "      <td>0.000140</td>\n",
       "      <td>0.000114</td>\n",
       "      <td>0.002602</td>\n",
       "      <td>0.024531</td>\n",
       "      <td>0.074840</td>\n",
       "      <td>0.096236</td>\n",
       "      <td>...</td>\n",
       "      <td>10.058561</td>\n",
       "      <td>-7.268933</td>\n",
       "      <td>-7.338441</td>\n",
       "      <td>-3.074346</td>\n",
       "      <td>-5.954073</td>\n",
       "      <td>-3.085561</td>\n",
       "      <td>-3.633329</td>\n",
       "      <td>-4.091269</td>\n",
       "      <td>-4.767273</td>\n",
       "      <td>-3.258367</td>\n",
       "    </tr>\n",
       "    <tr>\n",
       "      <th>1</th>\n",
       "      <td>neutral</td>\n",
       "      <td>0.000012</td>\n",
       "      <td>0.000052</td>\n",
       "      <td>0.000112</td>\n",
       "      <td>0.000077</td>\n",
       "      <td>0.000056</td>\n",
       "      <td>0.000891</td>\n",
       "      <td>0.010599</td>\n",
       "      <td>0.067308</td>\n",
       "      <td>0.132182</td>\n",
       "      <td>...</td>\n",
       "      <td>8.411754</td>\n",
       "      <td>-4.387535</td>\n",
       "      <td>-3.765707</td>\n",
       "      <td>-5.362752</td>\n",
       "      <td>-8.610383</td>\n",
       "      <td>-3.971551</td>\n",
       "      <td>-0.895974</td>\n",
       "      <td>-4.721406</td>\n",
       "      <td>-1.995389</td>\n",
       "      <td>-5.056729</td>\n",
       "    </tr>\n",
       "    <tr>\n",
       "      <th>2</th>\n",
       "      <td>disguist</td>\n",
       "      <td>0.000013</td>\n",
       "      <td>0.000043</td>\n",
       "      <td>0.000094</td>\n",
       "      <td>0.000146</td>\n",
       "      <td>0.000199</td>\n",
       "      <td>0.006029</td>\n",
       "      <td>0.018402</td>\n",
       "      <td>0.057368</td>\n",
       "      <td>0.154142</td>\n",
       "      <td>...</td>\n",
       "      <td>5.837509</td>\n",
       "      <td>-11.664725</td>\n",
       "      <td>-2.112240</td>\n",
       "      <td>-5.376718</td>\n",
       "      <td>-11.543213</td>\n",
       "      <td>-5.600093</td>\n",
       "      <td>0.080801</td>\n",
       "      <td>-5.487411</td>\n",
       "      <td>-2.752090</td>\n",
       "      <td>-6.636899</td>\n",
       "    </tr>\n",
       "    <tr>\n",
       "      <th>3</th>\n",
       "      <td>disguist</td>\n",
       "      <td>0.000004</td>\n",
       "      <td>0.000011</td>\n",
       "      <td>0.000046</td>\n",
       "      <td>0.000119</td>\n",
       "      <td>0.000313</td>\n",
       "      <td>0.004024</td>\n",
       "      <td>0.025942</td>\n",
       "      <td>0.068099</td>\n",
       "      <td>0.053077</td>\n",
       "      <td>...</td>\n",
       "      <td>9.040555</td>\n",
       "      <td>-9.703859</td>\n",
       "      <td>-0.132379</td>\n",
       "      <td>-8.262967</td>\n",
       "      <td>-13.345395</td>\n",
       "      <td>-6.544706</td>\n",
       "      <td>0.045263</td>\n",
       "      <td>-6.350311</td>\n",
       "      <td>-2.791579</td>\n",
       "      <td>-7.690273</td>\n",
       "    </tr>\n",
       "    <tr>\n",
       "      <th>4</th>\n",
       "      <td>neutral</td>\n",
       "      <td>0.000017</td>\n",
       "      <td>0.000077</td>\n",
       "      <td>0.000168</td>\n",
       "      <td>0.000099</td>\n",
       "      <td>0.000120</td>\n",
       "      <td>0.001180</td>\n",
       "      <td>0.013695</td>\n",
       "      <td>0.061049</td>\n",
       "      <td>0.191830</td>\n",
       "      <td>...</td>\n",
       "      <td>4.765818</td>\n",
       "      <td>-4.809168</td>\n",
       "      <td>-3.219578</td>\n",
       "      <td>-5.721809</td>\n",
       "      <td>-9.393639</td>\n",
       "      <td>-5.245095</td>\n",
       "      <td>-1.987432</td>\n",
       "      <td>-5.037799</td>\n",
       "      <td>-2.868664</td>\n",
       "      <td>-6.420317</td>\n",
       "    </tr>\n",
       "  </tbody>\n",
       "</table>\n",
       "<p>5 rows × 142 columns</p>\n",
       "</div>"
      ],
      "text/plain": [
       "    emotions         0         1         2         3         4         5  \\\n",
       "0  surprised  0.005195  0.001722  0.000349  0.000140  0.000114  0.002602   \n",
       "1    neutral  0.000012  0.000052  0.000112  0.000077  0.000056  0.000891   \n",
       "2   disguist  0.000013  0.000043  0.000094  0.000146  0.000199  0.006029   \n",
       "3   disguist  0.000004  0.000011  0.000046  0.000119  0.000313  0.004024   \n",
       "4    neutral  0.000017  0.000077  0.000168  0.000099  0.000120  0.001180   \n",
       "\n",
       "          6         7         8  ...        131        132       133  \\\n",
       "0  0.024531  0.074840  0.096236  ...  10.058561  -7.268933 -7.338441   \n",
       "1  0.010599  0.067308  0.132182  ...   8.411754  -4.387535 -3.765707   \n",
       "2  0.018402  0.057368  0.154142  ...   5.837509 -11.664725 -2.112240   \n",
       "3  0.025942  0.068099  0.053077  ...   9.040555  -9.703859 -0.132379   \n",
       "4  0.013695  0.061049  0.191830  ...   4.765818  -4.809168 -3.219578   \n",
       "\n",
       "        134        135       136       137       138       139       140  \n",
       "0 -3.074346  -5.954073 -3.085561 -3.633329 -4.091269 -4.767273 -3.258367  \n",
       "1 -5.362752  -8.610383 -3.971551 -0.895974 -4.721406 -1.995389 -5.056729  \n",
       "2 -5.376718 -11.543213 -5.600093  0.080801 -5.487411 -2.752090 -6.636899  \n",
       "3 -8.262967 -13.345395 -6.544706  0.045263 -6.350311 -2.791579 -7.690273  \n",
       "4 -5.721809  -9.393639 -5.245095 -1.987432 -5.037799 -2.868664 -6.420317  \n",
       "\n",
       "[5 rows x 142 columns]"
      ]
     },
     "execution_count": 23,
     "metadata": {},
     "output_type": "execute_result"
    }
   ],
   "source": [
    "data_new = data.drop(columns=['paths'])\n",
    "data_new.head()"
   ]
  },
  {
   "cell_type": "markdown",
   "id": "41aa5e75",
   "metadata": {
    "papermill": {
     "duration": 0.00819,
     "end_time": "2024-12-02T16:35:07.758433",
     "exception": false,
     "start_time": "2024-12-02T16:35:07.750243",
     "status": "completed"
    },
    "tags": []
   },
   "source": [
    "#### Now, for feeding it to ML model we have to separate features and emotions\n",
    "#### As emotions would act as predictions"
   ]
  },
  {
   "cell_type": "code",
   "execution_count": 24,
   "id": "4e2d4533",
   "metadata": {
    "execution": {
     "iopub.execute_input": "2024-12-02T16:35:07.776145Z",
     "iopub.status.busy": "2024-12-02T16:35:07.775877Z",
     "iopub.status.idle": "2024-12-02T16:35:07.781834Z",
     "shell.execute_reply": "2024-12-02T16:35:07.780887Z"
    },
    "papermill": {
     "duration": 0.016629,
     "end_time": "2024-12-02T16:35:07.783442",
     "exception": false,
     "start_time": "2024-12-02T16:35:07.766813",
     "status": "completed"
    },
    "tags": []
   },
   "outputs": [],
   "source": [
    "X = data_new.drop(columns=['emotions'])\n",
    "y = data_new['emotions'].to_numpy()"
   ]
  },
  {
   "cell_type": "code",
   "execution_count": 25,
   "id": "e96ba3e9",
   "metadata": {
    "execution": {
     "iopub.execute_input": "2024-12-02T16:35:07.800961Z",
     "iopub.status.busy": "2024-12-02T16:35:07.800694Z",
     "iopub.status.idle": "2024-12-02T16:35:07.875247Z",
     "shell.execute_reply": "2024-12-02T16:35:07.874479Z"
    },
    "papermill": {
     "duration": 0.08492,
     "end_time": "2024-12-02T16:35:07.876821",
     "exception": false,
     "start_time": "2024-12-02T16:35:07.791901",
     "status": "completed"
    },
    "tags": []
   },
   "outputs": [
    {
     "data": {
      "text/plain": [
       "array(['x0_angry', 'x0_calm', 'x0_disguist', 'x0_fearful', 'x0_happy',\n",
       "       'x0_neutral', 'x0_sad', 'x0_surprised'], dtype=object)"
      ]
     },
     "execution_count": 25,
     "metadata": {},
     "output_type": "execute_result"
    }
   ],
   "source": [
    "from sklearn.preprocessing import OneHotEncoder\n",
    "encoder = OneHotEncoder()\n",
    "y_encoded = encoder.fit_transform(y.reshape(-1, 1))\n",
    "\n",
    "encoder.get_feature_names_out()"
   ]
  },
  {
   "cell_type": "code",
   "execution_count": 26,
   "id": "b1c06929",
   "metadata": {
    "execution": {
     "iopub.execute_input": "2024-12-02T16:35:07.894951Z",
     "iopub.status.busy": "2024-12-02T16:35:07.894712Z",
     "iopub.status.idle": "2024-12-02T16:35:07.898622Z",
     "shell.execute_reply": "2024-12-02T16:35:07.897893Z"
    },
    "papermill": {
     "duration": 0.014778,
     "end_time": "2024-12-02T16:35:07.900315",
     "exception": false,
     "start_time": "2024-12-02T16:35:07.885537",
     "status": "completed"
    },
    "tags": []
   },
   "outputs": [
    {
     "name": "stdout",
     "output_type": "stream",
     "text": [
      "Shape of y_encoded : (4240, 8)\n"
     ]
    }
   ],
   "source": [
    "print(f\"Shape of y_encoded : {y_encoded.shape}\")"
   ]
  },
  {
   "cell_type": "code",
   "execution_count": 27,
   "id": "b2e72ca4",
   "metadata": {
    "execution": {
     "iopub.execute_input": "2024-12-02T16:35:07.918383Z",
     "iopub.status.busy": "2024-12-02T16:35:07.917920Z",
     "iopub.status.idle": "2024-12-02T16:35:07.924955Z",
     "shell.execute_reply": "2024-12-02T16:35:07.924279Z"
    },
    "papermill": {
     "duration": 0.017722,
     "end_time": "2024-12-02T16:35:07.926538",
     "exception": false,
     "start_time": "2024-12-02T16:35:07.908816",
     "status": "completed"
    },
    "tags": []
   },
   "outputs": [
    {
     "data": {
      "text/plain": [
       "array([[0., 0., 0., ..., 0., 0., 1.],\n",
       "       [0., 0., 0., ..., 1., 0., 0.],\n",
       "       [0., 0., 1., ..., 0., 0., 0.],\n",
       "       ...,\n",
       "       [0., 0., 0., ..., 0., 0., 1.],\n",
       "       [0., 0., 0., ..., 0., 0., 1.],\n",
       "       [0., 0., 0., ..., 0., 0., 1.]])"
      ]
     },
     "execution_count": 27,
     "metadata": {},
     "output_type": "execute_result"
    }
   ],
   "source": [
    "y_encoded = y_encoded.toarray()\n",
    "y_encoded"
   ]
  },
  {
   "cell_type": "code",
   "execution_count": 28,
   "id": "d0daebff",
   "metadata": {
    "execution": {
     "iopub.execute_input": "2024-12-02T16:35:07.944909Z",
     "iopub.status.busy": "2024-12-02T16:35:07.944675Z",
     "iopub.status.idle": "2024-12-02T16:35:08.028165Z",
     "shell.execute_reply": "2024-12-02T16:35:08.027264Z"
    },
    "papermill": {
     "duration": 0.094462,
     "end_time": "2024-12-02T16:35:08.029692",
     "exception": false,
     "start_time": "2024-12-02T16:35:07.935230",
     "status": "completed"
    },
    "tags": []
   },
   "outputs": [
    {
     "name": "stdout",
     "output_type": "stream",
     "text": [
      "Shape of X_train : (3392, 141)\n",
      "Shape of X_test : (848, 141)\n",
      "Shape of y_train : (3392, 8)\n",
      "Shape of y_test : (848, 8)\n"
     ]
    }
   ],
   "source": [
    "from sklearn.model_selection import train_test_split\n",
    "\n",
    "X_train, X_test, y_train, y_test = train_test_split(X, y_encoded, test_size=0.2, shuffle=True, random_state=42)\n",
    "\n",
    "print(f\"Shape of X_train : {X_train.shape}\")\n",
    "print(f\"Shape of X_test : {X_test.shape}\")\n",
    "print(f\"Shape of y_train : {y_train.shape}\")\n",
    "print(f\"Shape of y_test : {y_test.shape}\")"
   ]
  },
  {
   "cell_type": "code",
   "execution_count": 29,
   "id": "6c7ac7a0",
   "metadata": {
    "execution": {
     "iopub.execute_input": "2024-12-02T16:35:08.048070Z",
     "iopub.status.busy": "2024-12-02T16:35:08.047831Z",
     "iopub.status.idle": "2024-12-02T16:35:08.068400Z",
     "shell.execute_reply": "2024-12-02T16:35:08.067654Z"
    },
    "papermill": {
     "duration": 0.031408,
     "end_time": "2024-12-02T16:35:08.069950",
     "exception": false,
     "start_time": "2024-12-02T16:35:08.038542",
     "status": "completed"
    },
    "tags": []
   },
   "outputs": [
    {
     "data": {
      "text/html": [
       "<div>\n",
       "<style scoped>\n",
       "    .dataframe tbody tr th:only-of-type {\n",
       "        vertical-align: middle;\n",
       "    }\n",
       "\n",
       "    .dataframe tbody tr th {\n",
       "        vertical-align: top;\n",
       "    }\n",
       "\n",
       "    .dataframe thead th {\n",
       "        text-align: right;\n",
       "    }\n",
       "</style>\n",
       "<table border=\"1\" class=\"dataframe\">\n",
       "  <thead>\n",
       "    <tr style=\"text-align: right;\">\n",
       "      <th></th>\n",
       "      <th>0</th>\n",
       "      <th>1</th>\n",
       "      <th>2</th>\n",
       "      <th>3</th>\n",
       "      <th>4</th>\n",
       "      <th>5</th>\n",
       "      <th>6</th>\n",
       "      <th>7</th>\n",
       "      <th>8</th>\n",
       "      <th>9</th>\n",
       "      <th>...</th>\n",
       "      <th>131</th>\n",
       "      <th>132</th>\n",
       "      <th>133</th>\n",
       "      <th>134</th>\n",
       "      <th>135</th>\n",
       "      <th>136</th>\n",
       "      <th>137</th>\n",
       "      <th>138</th>\n",
       "      <th>139</th>\n",
       "      <th>140</th>\n",
       "    </tr>\n",
       "  </thead>\n",
       "  <tbody>\n",
       "    <tr>\n",
       "      <th>1427</th>\n",
       "      <td>0.000477</td>\n",
       "      <td>0.000044</td>\n",
       "      <td>0.004665</td>\n",
       "      <td>0.024159</td>\n",
       "      <td>0.021388</td>\n",
       "      <td>0.008630</td>\n",
       "      <td>0.023961</td>\n",
       "      <td>0.005441</td>\n",
       "      <td>0.010706</td>\n",
       "      <td>0.005339</td>\n",
       "      <td>...</td>\n",
       "      <td>22.399147</td>\n",
       "      <td>17.403778</td>\n",
       "      <td>-4.005924</td>\n",
       "      <td>-13.416574</td>\n",
       "      <td>-7.935941</td>\n",
       "      <td>7.146039</td>\n",
       "      <td>-4.218075</td>\n",
       "      <td>1.594327</td>\n",
       "      <td>0.627097</td>\n",
       "      <td>2.622564</td>\n",
       "    </tr>\n",
       "    <tr>\n",
       "      <th>3257</th>\n",
       "      <td>0.041055</td>\n",
       "      <td>0.000658</td>\n",
       "      <td>0.000055</td>\n",
       "      <td>0.000051</td>\n",
       "      <td>0.001651</td>\n",
       "      <td>0.019429</td>\n",
       "      <td>0.154886</td>\n",
       "      <td>0.116694</td>\n",
       "      <td>0.097880</td>\n",
       "      <td>0.124080</td>\n",
       "      <td>...</td>\n",
       "      <td>-8.534401</td>\n",
       "      <td>7.052462</td>\n",
       "      <td>10.264686</td>\n",
       "      <td>-18.241957</td>\n",
       "      <td>4.046032</td>\n",
       "      <td>-14.957953</td>\n",
       "      <td>1.719909</td>\n",
       "      <td>-5.297116</td>\n",
       "      <td>1.754093</td>\n",
       "      <td>-0.986070</td>\n",
       "    </tr>\n",
       "    <tr>\n",
       "      <th>3822</th>\n",
       "      <td>0.035912</td>\n",
       "      <td>0.001445</td>\n",
       "      <td>0.000192</td>\n",
       "      <td>0.000129</td>\n",
       "      <td>0.000226</td>\n",
       "      <td>0.013092</td>\n",
       "      <td>0.274857</td>\n",
       "      <td>0.333861</td>\n",
       "      <td>0.551955</td>\n",
       "      <td>1.003425</td>\n",
       "      <td>...</td>\n",
       "      <td>3.085566</td>\n",
       "      <td>1.707361</td>\n",
       "      <td>0.220964</td>\n",
       "      <td>-11.446941</td>\n",
       "      <td>-4.849497</td>\n",
       "      <td>-15.008427</td>\n",
       "      <td>-11.435095</td>\n",
       "      <td>-8.067347</td>\n",
       "      <td>-8.944011</td>\n",
       "      <td>-1.053881</td>\n",
       "    </tr>\n",
       "    <tr>\n",
       "      <th>1263</th>\n",
       "      <td>0.000873</td>\n",
       "      <td>0.000086</td>\n",
       "      <td>0.000436</td>\n",
       "      <td>0.008179</td>\n",
       "      <td>0.021549</td>\n",
       "      <td>0.040736</td>\n",
       "      <td>0.039015</td>\n",
       "      <td>0.008291</td>\n",
       "      <td>0.025101</td>\n",
       "      <td>0.028890</td>\n",
       "      <td>...</td>\n",
       "      <td>10.538507</td>\n",
       "      <td>8.028277</td>\n",
       "      <td>1.636345</td>\n",
       "      <td>-5.952413</td>\n",
       "      <td>-0.600712</td>\n",
       "      <td>-3.345659</td>\n",
       "      <td>0.310072</td>\n",
       "      <td>0.891620</td>\n",
       "      <td>-4.472423</td>\n",
       "      <td>2.409884</td>\n",
       "    </tr>\n",
       "    <tr>\n",
       "      <th>3575</th>\n",
       "      <td>0.007460</td>\n",
       "      <td>0.002344</td>\n",
       "      <td>0.001176</td>\n",
       "      <td>0.000981</td>\n",
       "      <td>0.000790</td>\n",
       "      <td>0.002062</td>\n",
       "      <td>0.685336</td>\n",
       "      <td>3.319035</td>\n",
       "      <td>6.274683</td>\n",
       "      <td>6.737397</td>\n",
       "      <td>...</td>\n",
       "      <td>16.429619</td>\n",
       "      <td>-6.271396</td>\n",
       "      <td>-7.463733</td>\n",
       "      <td>-5.786900</td>\n",
       "      <td>-17.136341</td>\n",
       "      <td>0.247275</td>\n",
       "      <td>-7.508964</td>\n",
       "      <td>-8.238815</td>\n",
       "      <td>6.657563</td>\n",
       "      <td>-11.812051</td>\n",
       "    </tr>\n",
       "    <tr>\n",
       "      <th>...</th>\n",
       "      <td>...</td>\n",
       "      <td>...</td>\n",
       "      <td>...</td>\n",
       "      <td>...</td>\n",
       "      <td>...</td>\n",
       "      <td>...</td>\n",
       "      <td>...</td>\n",
       "      <td>...</td>\n",
       "      <td>...</td>\n",
       "      <td>...</td>\n",
       "      <td>...</td>\n",
       "      <td>...</td>\n",
       "      <td>...</td>\n",
       "      <td>...</td>\n",
       "      <td>...</td>\n",
       "      <td>...</td>\n",
       "      <td>...</td>\n",
       "      <td>...</td>\n",
       "      <td>...</td>\n",
       "      <td>...</td>\n",
       "      <td>...</td>\n",
       "    </tr>\n",
       "    <tr>\n",
       "      <th>3444</th>\n",
       "      <td>0.018454</td>\n",
       "      <td>0.007390</td>\n",
       "      <td>0.002466</td>\n",
       "      <td>0.001227</td>\n",
       "      <td>0.001267</td>\n",
       "      <td>0.001247</td>\n",
       "      <td>0.140441</td>\n",
       "      <td>1.419141</td>\n",
       "      <td>2.444397</td>\n",
       "      <td>3.543794</td>\n",
       "      <td>...</td>\n",
       "      <td>26.676523</td>\n",
       "      <td>-14.344609</td>\n",
       "      <td>-2.549176</td>\n",
       "      <td>-9.640591</td>\n",
       "      <td>-12.479765</td>\n",
       "      <td>-3.705331</td>\n",
       "      <td>-4.927750</td>\n",
       "      <td>-8.373680</td>\n",
       "      <td>9.921844</td>\n",
       "      <td>-8.899537</td>\n",
       "    </tr>\n",
       "    <tr>\n",
       "      <th>466</th>\n",
       "      <td>0.000320</td>\n",
       "      <td>0.000055</td>\n",
       "      <td>0.000057</td>\n",
       "      <td>0.000050</td>\n",
       "      <td>0.000057</td>\n",
       "      <td>0.000232</td>\n",
       "      <td>0.002579</td>\n",
       "      <td>0.029195</td>\n",
       "      <td>0.092044</td>\n",
       "      <td>0.100649</td>\n",
       "      <td>...</td>\n",
       "      <td>2.842844</td>\n",
       "      <td>-8.916679</td>\n",
       "      <td>-9.610417</td>\n",
       "      <td>-9.263019</td>\n",
       "      <td>-22.260597</td>\n",
       "      <td>-13.259587</td>\n",
       "      <td>-3.681677</td>\n",
       "      <td>-13.249468</td>\n",
       "      <td>-6.624545</td>\n",
       "      <td>-6.387934</td>\n",
       "    </tr>\n",
       "    <tr>\n",
       "      <th>3092</th>\n",
       "      <td>0.010795</td>\n",
       "      <td>0.006551</td>\n",
       "      <td>0.006132</td>\n",
       "      <td>0.004359</td>\n",
       "      <td>0.002215</td>\n",
       "      <td>0.003065</td>\n",
       "      <td>1.733146</td>\n",
       "      <td>5.309069</td>\n",
       "      <td>0.224217</td>\n",
       "      <td>0.007761</td>\n",
       "      <td>...</td>\n",
       "      <td>37.678020</td>\n",
       "      <td>3.023889</td>\n",
       "      <td>-12.274909</td>\n",
       "      <td>-2.329121</td>\n",
       "      <td>-7.868658</td>\n",
       "      <td>-6.709959</td>\n",
       "      <td>1.913627</td>\n",
       "      <td>-14.466289</td>\n",
       "      <td>11.212331</td>\n",
       "      <td>-6.403859</td>\n",
       "    </tr>\n",
       "    <tr>\n",
       "      <th>3772</th>\n",
       "      <td>0.022035</td>\n",
       "      <td>0.000965</td>\n",
       "      <td>0.000121</td>\n",
       "      <td>0.000120</td>\n",
       "      <td>0.005990</td>\n",
       "      <td>0.046404</td>\n",
       "      <td>0.047387</td>\n",
       "      <td>0.069906</td>\n",
       "      <td>0.132136</td>\n",
       "      <td>0.334868</td>\n",
       "      <td>...</td>\n",
       "      <td>2.526695</td>\n",
       "      <td>2.199967</td>\n",
       "      <td>-1.486991</td>\n",
       "      <td>-13.531513</td>\n",
       "      <td>0.045614</td>\n",
       "      <td>-9.092286</td>\n",
       "      <td>-4.763992</td>\n",
       "      <td>-13.261426</td>\n",
       "      <td>-5.332277</td>\n",
       "      <td>-3.667791</td>\n",
       "    </tr>\n",
       "    <tr>\n",
       "      <th>860</th>\n",
       "      <td>0.000014</td>\n",
       "      <td>0.000010</td>\n",
       "      <td>0.000008</td>\n",
       "      <td>0.000006</td>\n",
       "      <td>0.000047</td>\n",
       "      <td>0.003525</td>\n",
       "      <td>0.040753</td>\n",
       "      <td>0.200917</td>\n",
       "      <td>0.223883</td>\n",
       "      <td>0.100317</td>\n",
       "      <td>...</td>\n",
       "      <td>-1.916719</td>\n",
       "      <td>-0.056081</td>\n",
       "      <td>-9.594347</td>\n",
       "      <td>-13.766116</td>\n",
       "      <td>-14.641969</td>\n",
       "      <td>-12.781682</td>\n",
       "      <td>0.525407</td>\n",
       "      <td>-5.595084</td>\n",
       "      <td>-8.726809</td>\n",
       "      <td>-0.748298</td>\n",
       "    </tr>\n",
       "  </tbody>\n",
       "</table>\n",
       "<p>3392 rows × 141 columns</p>\n",
       "</div>"
      ],
      "text/plain": [
       "           0         1         2         3         4         5         6    \\\n",
       "1427  0.000477  0.000044  0.004665  0.024159  0.021388  0.008630  0.023961   \n",
       "3257  0.041055  0.000658  0.000055  0.000051  0.001651  0.019429  0.154886   \n",
       "3822  0.035912  0.001445  0.000192  0.000129  0.000226  0.013092  0.274857   \n",
       "1263  0.000873  0.000086  0.000436  0.008179  0.021549  0.040736  0.039015   \n",
       "3575  0.007460  0.002344  0.001176  0.000981  0.000790  0.002062  0.685336   \n",
       "...        ...       ...       ...       ...       ...       ...       ...   \n",
       "3444  0.018454  0.007390  0.002466  0.001227  0.001267  0.001247  0.140441   \n",
       "466   0.000320  0.000055  0.000057  0.000050  0.000057  0.000232  0.002579   \n",
       "3092  0.010795  0.006551  0.006132  0.004359  0.002215  0.003065  1.733146   \n",
       "3772  0.022035  0.000965  0.000121  0.000120  0.005990  0.046404  0.047387   \n",
       "860   0.000014  0.000010  0.000008  0.000006  0.000047  0.003525  0.040753   \n",
       "\n",
       "           7         8         9    ...        131        132        133  \\\n",
       "1427  0.005441  0.010706  0.005339  ...  22.399147  17.403778  -4.005924   \n",
       "3257  0.116694  0.097880  0.124080  ...  -8.534401   7.052462  10.264686   \n",
       "3822  0.333861  0.551955  1.003425  ...   3.085566   1.707361   0.220964   \n",
       "1263  0.008291  0.025101  0.028890  ...  10.538507   8.028277   1.636345   \n",
       "3575  3.319035  6.274683  6.737397  ...  16.429619  -6.271396  -7.463733   \n",
       "...        ...       ...       ...  ...        ...        ...        ...   \n",
       "3444  1.419141  2.444397  3.543794  ...  26.676523 -14.344609  -2.549176   \n",
       "466   0.029195  0.092044  0.100649  ...   2.842844  -8.916679  -9.610417   \n",
       "3092  5.309069  0.224217  0.007761  ...  37.678020   3.023889 -12.274909   \n",
       "3772  0.069906  0.132136  0.334868  ...   2.526695   2.199967  -1.486991   \n",
       "860   0.200917  0.223883  0.100317  ...  -1.916719  -0.056081  -9.594347   \n",
       "\n",
       "            134        135        136        137        138        139  \\\n",
       "1427 -13.416574  -7.935941   7.146039  -4.218075   1.594327   0.627097   \n",
       "3257 -18.241957   4.046032 -14.957953   1.719909  -5.297116   1.754093   \n",
       "3822 -11.446941  -4.849497 -15.008427 -11.435095  -8.067347  -8.944011   \n",
       "1263  -5.952413  -0.600712  -3.345659   0.310072   0.891620  -4.472423   \n",
       "3575  -5.786900 -17.136341   0.247275  -7.508964  -8.238815   6.657563   \n",
       "...         ...        ...        ...        ...        ...        ...   \n",
       "3444  -9.640591 -12.479765  -3.705331  -4.927750  -8.373680   9.921844   \n",
       "466   -9.263019 -22.260597 -13.259587  -3.681677 -13.249468  -6.624545   \n",
       "3092  -2.329121  -7.868658  -6.709959   1.913627 -14.466289  11.212331   \n",
       "3772 -13.531513   0.045614  -9.092286  -4.763992 -13.261426  -5.332277   \n",
       "860  -13.766116 -14.641969 -12.781682   0.525407  -5.595084  -8.726809   \n",
       "\n",
       "            140  \n",
       "1427   2.622564  \n",
       "3257  -0.986070  \n",
       "3822  -1.053881  \n",
       "1263   2.409884  \n",
       "3575 -11.812051  \n",
       "...         ...  \n",
       "3444  -8.899537  \n",
       "466   -6.387934  \n",
       "3092  -6.403859  \n",
       "3772  -3.667791  \n",
       "860   -0.748298  \n",
       "\n",
       "[3392 rows x 141 columns]"
      ]
     },
     "execution_count": 29,
     "metadata": {},
     "output_type": "execute_result"
    }
   ],
   "source": [
    "X_train"
   ]
  },
  {
   "cell_type": "markdown",
   "id": "3a34f419",
   "metadata": {
    "papermill": {
     "duration": 0.008939,
     "end_time": "2024-12-02T16:35:08.088016",
     "exception": false,
     "start_time": "2024-12-02T16:35:08.079077",
     "status": "completed"
    },
    "tags": []
   },
   "source": [
    "##### Ooops features are not scaled, lets do it"
   ]
  },
  {
   "cell_type": "code",
   "execution_count": 30,
   "id": "2917ed5c",
   "metadata": {
    "execution": {
     "iopub.execute_input": "2024-12-02T16:35:08.107261Z",
     "iopub.status.busy": "2024-12-02T16:35:08.106772Z",
     "iopub.status.idle": "2024-12-02T16:35:08.121757Z",
     "shell.execute_reply": "2024-12-02T16:35:08.120664Z"
    },
    "papermill": {
     "duration": 0.0263,
     "end_time": "2024-12-02T16:35:08.123314",
     "exception": false,
     "start_time": "2024-12-02T16:35:08.097014",
     "status": "completed"
    },
    "tags": []
   },
   "outputs": [
    {
     "name": "stdout",
     "output_type": "stream",
     "text": [
      "(3392, 141)\n",
      "(848, 141)\n"
     ]
    }
   ],
   "source": [
    "## scaling features\n",
    "from sklearn.preprocessing import MinMaxScaler\n",
    "\n",
    "scaler = MinMaxScaler()\n",
    "\n",
    "X_train = scaler.fit_transform(X_train)\n",
    "X_test = scaler.transform(X_test)\n",
    "\n",
    "print(X_train.shape)\n",
    "print(X_test.shape)"
   ]
  },
  {
   "cell_type": "code",
   "execution_count": 31,
   "id": "05c9dea4",
   "metadata": {
    "execution": {
     "iopub.execute_input": "2024-12-02T16:35:08.143227Z",
     "iopub.status.busy": "2024-12-02T16:35:08.142759Z",
     "iopub.status.idle": "2024-12-02T16:35:08.148616Z",
     "shell.execute_reply": "2024-12-02T16:35:08.147955Z"
    },
    "papermill": {
     "duration": 0.018049,
     "end_time": "2024-12-02T16:35:08.150513",
     "exception": false,
     "start_time": "2024-12-02T16:35:08.132464",
     "status": "completed"
    },
    "tags": []
   },
   "outputs": [
    {
     "data": {
      "text/plain": [
       "['scaler.pkl']"
      ]
     },
     "execution_count": 31,
     "metadata": {},
     "output_type": "execute_result"
    }
   ],
   "source": [
    "import joblib\n",
    "\n",
    "# Sauvegarder le scaler\n",
    "joblib.dump(scaler, 'scaler.pkl')"
   ]
  },
  {
   "cell_type": "markdown",
   "id": "1c4c5515",
   "metadata": {
    "papermill": {
     "duration": 0.009022,
     "end_time": "2024-12-02T16:35:08.168687",
     "exception": false,
     "start_time": "2024-12-02T16:35:08.159665",
     "status": "completed"
    },
    "tags": []
   },
   "source": [
    "## Model Building"
   ]
  },
  {
   "cell_type": "code",
   "execution_count": 32,
   "id": "81100159",
   "metadata": {
    "execution": {
     "iopub.execute_input": "2024-12-02T16:35:08.187912Z",
     "iopub.status.busy": "2024-12-02T16:35:08.187468Z",
     "iopub.status.idle": "2024-12-02T16:35:19.181179Z",
     "shell.execute_reply": "2024-12-02T16:35:19.180470Z"
    },
    "papermill": {
     "duration": 11.005491,
     "end_time": "2024-12-02T16:35:19.183247",
     "exception": false,
     "start_time": "2024-12-02T16:35:08.177756",
     "status": "completed"
    },
    "tags": []
   },
   "outputs": [],
   "source": [
    "import tensorflow as tf\n",
    "import tensorflow.keras \n",
    "from tensorflow.keras.models import Sequential\n",
    "from tensorflow.keras.layers import Conv1D, MaxPooling1D, Dropout, BatchNormalization, Flatten, Dense, LSTM"
   ]
  },
  {
   "cell_type": "code",
   "execution_count": 33,
   "id": "4170d908",
   "metadata": {
    "collapsed": true,
    "execution": {
     "iopub.execute_input": "2024-12-02T16:35:19.203700Z",
     "iopub.status.busy": "2024-12-02T16:35:19.203103Z",
     "iopub.status.idle": "2024-12-02T16:35:20.659755Z",
     "shell.execute_reply": "2024-12-02T16:35:20.659046Z"
    },
    "jupyter": {
     "outputs_hidden": true,
     "source_hidden": true
    },
    "papermill": {
     "duration": 1.468909,
     "end_time": "2024-12-02T16:35:20.661799",
     "exception": false,
     "start_time": "2024-12-02T16:35:19.192890",
     "status": "completed"
    },
    "tags": []
   },
   "outputs": [
    {
     "name": "stderr",
     "output_type": "stream",
     "text": [
      "/opt/conda/lib/python3.10/site-packages/keras/src/layers/convolutional/base_conv.py:107: UserWarning: Do not pass an `input_shape`/`input_dim` argument to a layer. When using Sequential models, prefer using an `Input(shape)` object as the first layer in the model instead.\n",
      "  super().__init__(activity_regularizer=activity_regularizer, **kwargs)\n"
     ]
    }
   ],
   "source": [
    "## Model architecture\n",
    "model= Sequential([\n",
    "    Conv1D(64, kernel_size=(8), activation='relu', input_shape=(X_train.shape[1], 1)),\n",
    "    Conv1D(128, kernel_size=(8), activation='relu'),\n",
    "    MaxPooling1D(pool_size=(4)),\n",
    "    Dropout(0.2),\n",
    "\n",
    "    Conv1D(128, kernel_size=(8), activation='relu'),\n",
    "    MaxPooling1D(pool_size=(4)),\n",
    "    Dropout(0.2),\n",
    "    BatchNormalization(),\n",
    "    \n",
    "    LSTM(128, return_sequences=False),  # Capture des relations temporelles\n",
    "    Dropout(0.2),\n",
    "\n",
    "    # Fully connected layers\n",
    "    Dense(256, activation='relu'),\n",
    "    Dropout(0.2),\n",
    "    Dense(8, activation='softmax')  # 8 émotions possibles\n",
    "    \n",
    "])"
   ]
  },
  {
   "cell_type": "code",
   "execution_count": 34,
   "id": "2a270f6b",
   "metadata": {
    "collapsed": true,
    "execution": {
     "iopub.execute_input": "2024-12-02T16:35:20.682026Z",
     "iopub.status.busy": "2024-12-02T16:35:20.681753Z",
     "iopub.status.idle": "2024-12-02T16:35:20.702526Z",
     "shell.execute_reply": "2024-12-02T16:35:20.701729Z"
    },
    "jupyter": {
     "outputs_hidden": true
    },
    "papermill": {
     "duration": 0.032549,
     "end_time": "2024-12-02T16:35:20.703976",
     "exception": false,
     "start_time": "2024-12-02T16:35:20.671427",
     "status": "completed"
    },
    "tags": []
   },
   "outputs": [
    {
     "data": {
      "text/html": [
       "<pre style=\"white-space:pre;overflow-x:auto;line-height:normal;font-family:Menlo,'DejaVu Sans Mono',consolas,'Courier New',monospace\"><span style=\"font-weight: bold\">Model: \"sequential\"</span>\n",
       "</pre>\n"
      ],
      "text/plain": [
       "\u001b[1mModel: \"sequential\"\u001b[0m\n"
      ]
     },
     "metadata": {},
     "output_type": "display_data"
    },
    {
     "data": {
      "text/html": [
       "<pre style=\"white-space:pre;overflow-x:auto;line-height:normal;font-family:Menlo,'DejaVu Sans Mono',consolas,'Courier New',monospace\">┏━━━━━━━━━━━━━━━━━━━━━━━━━━━━━━━━━┳━━━━━━━━━━━━━━━━━━━━━━━━┳━━━━━━━━━━━━━━━┓\n",
       "┃<span style=\"font-weight: bold\"> Layer (type)                    </span>┃<span style=\"font-weight: bold\"> Output Shape           </span>┃<span style=\"font-weight: bold\">       Param # </span>┃\n",
       "┡━━━━━━━━━━━━━━━━━━━━━━━━━━━━━━━━━╇━━━━━━━━━━━━━━━━━━━━━━━━╇━━━━━━━━━━━━━━━┩\n",
       "│ conv1d (<span style=\"color: #0087ff; text-decoration-color: #0087ff\">Conv1D</span>)                 │ (<span style=\"color: #00d7ff; text-decoration-color: #00d7ff\">None</span>, <span style=\"color: #00af00; text-decoration-color: #00af00\">134</span>, <span style=\"color: #00af00; text-decoration-color: #00af00\">64</span>)        │           <span style=\"color: #00af00; text-decoration-color: #00af00\">576</span> │\n",
       "├─────────────────────────────────┼────────────────────────┼───────────────┤\n",
       "│ conv1d_1 (<span style=\"color: #0087ff; text-decoration-color: #0087ff\">Conv1D</span>)               │ (<span style=\"color: #00d7ff; text-decoration-color: #00d7ff\">None</span>, <span style=\"color: #00af00; text-decoration-color: #00af00\">127</span>, <span style=\"color: #00af00; text-decoration-color: #00af00\">128</span>)       │        <span style=\"color: #00af00; text-decoration-color: #00af00\">65,664</span> │\n",
       "├─────────────────────────────────┼────────────────────────┼───────────────┤\n",
       "│ max_pooling1d (<span style=\"color: #0087ff; text-decoration-color: #0087ff\">MaxPooling1D</span>)    │ (<span style=\"color: #00d7ff; text-decoration-color: #00d7ff\">None</span>, <span style=\"color: #00af00; text-decoration-color: #00af00\">31</span>, <span style=\"color: #00af00; text-decoration-color: #00af00\">128</span>)        │             <span style=\"color: #00af00; text-decoration-color: #00af00\">0</span> │\n",
       "├─────────────────────────────────┼────────────────────────┼───────────────┤\n",
       "│ dropout (<span style=\"color: #0087ff; text-decoration-color: #0087ff\">Dropout</span>)               │ (<span style=\"color: #00d7ff; text-decoration-color: #00d7ff\">None</span>, <span style=\"color: #00af00; text-decoration-color: #00af00\">31</span>, <span style=\"color: #00af00; text-decoration-color: #00af00\">128</span>)        │             <span style=\"color: #00af00; text-decoration-color: #00af00\">0</span> │\n",
       "├─────────────────────────────────┼────────────────────────┼───────────────┤\n",
       "│ conv1d_2 (<span style=\"color: #0087ff; text-decoration-color: #0087ff\">Conv1D</span>)               │ (<span style=\"color: #00d7ff; text-decoration-color: #00d7ff\">None</span>, <span style=\"color: #00af00; text-decoration-color: #00af00\">24</span>, <span style=\"color: #00af00; text-decoration-color: #00af00\">128</span>)        │       <span style=\"color: #00af00; text-decoration-color: #00af00\">131,200</span> │\n",
       "├─────────────────────────────────┼────────────────────────┼───────────────┤\n",
       "│ max_pooling1d_1 (<span style=\"color: #0087ff; text-decoration-color: #0087ff\">MaxPooling1D</span>)  │ (<span style=\"color: #00d7ff; text-decoration-color: #00d7ff\">None</span>, <span style=\"color: #00af00; text-decoration-color: #00af00\">6</span>, <span style=\"color: #00af00; text-decoration-color: #00af00\">128</span>)         │             <span style=\"color: #00af00; text-decoration-color: #00af00\">0</span> │\n",
       "├─────────────────────────────────┼────────────────────────┼───────────────┤\n",
       "│ dropout_1 (<span style=\"color: #0087ff; text-decoration-color: #0087ff\">Dropout</span>)             │ (<span style=\"color: #00d7ff; text-decoration-color: #00d7ff\">None</span>, <span style=\"color: #00af00; text-decoration-color: #00af00\">6</span>, <span style=\"color: #00af00; text-decoration-color: #00af00\">128</span>)         │             <span style=\"color: #00af00; text-decoration-color: #00af00\">0</span> │\n",
       "├─────────────────────────────────┼────────────────────────┼───────────────┤\n",
       "│ batch_normalization             │ (<span style=\"color: #00d7ff; text-decoration-color: #00d7ff\">None</span>, <span style=\"color: #00af00; text-decoration-color: #00af00\">6</span>, <span style=\"color: #00af00; text-decoration-color: #00af00\">128</span>)         │           <span style=\"color: #00af00; text-decoration-color: #00af00\">512</span> │\n",
       "│ (<span style=\"color: #0087ff; text-decoration-color: #0087ff\">BatchNormalization</span>)            │                        │               │\n",
       "├─────────────────────────────────┼────────────────────────┼───────────────┤\n",
       "│ lstm (<span style=\"color: #0087ff; text-decoration-color: #0087ff\">LSTM</span>)                     │ (<span style=\"color: #00d7ff; text-decoration-color: #00d7ff\">None</span>, <span style=\"color: #00af00; text-decoration-color: #00af00\">128</span>)            │       <span style=\"color: #00af00; text-decoration-color: #00af00\">131,584</span> │\n",
       "├─────────────────────────────────┼────────────────────────┼───────────────┤\n",
       "│ dropout_2 (<span style=\"color: #0087ff; text-decoration-color: #0087ff\">Dropout</span>)             │ (<span style=\"color: #00d7ff; text-decoration-color: #00d7ff\">None</span>, <span style=\"color: #00af00; text-decoration-color: #00af00\">128</span>)            │             <span style=\"color: #00af00; text-decoration-color: #00af00\">0</span> │\n",
       "├─────────────────────────────────┼────────────────────────┼───────────────┤\n",
       "│ dense (<span style=\"color: #0087ff; text-decoration-color: #0087ff\">Dense</span>)                   │ (<span style=\"color: #00d7ff; text-decoration-color: #00d7ff\">None</span>, <span style=\"color: #00af00; text-decoration-color: #00af00\">256</span>)            │        <span style=\"color: #00af00; text-decoration-color: #00af00\">33,024</span> │\n",
       "├─────────────────────────────────┼────────────────────────┼───────────────┤\n",
       "│ dropout_3 (<span style=\"color: #0087ff; text-decoration-color: #0087ff\">Dropout</span>)             │ (<span style=\"color: #00d7ff; text-decoration-color: #00d7ff\">None</span>, <span style=\"color: #00af00; text-decoration-color: #00af00\">256</span>)            │             <span style=\"color: #00af00; text-decoration-color: #00af00\">0</span> │\n",
       "├─────────────────────────────────┼────────────────────────┼───────────────┤\n",
       "│ dense_1 (<span style=\"color: #0087ff; text-decoration-color: #0087ff\">Dense</span>)                 │ (<span style=\"color: #00d7ff; text-decoration-color: #00d7ff\">None</span>, <span style=\"color: #00af00; text-decoration-color: #00af00\">8</span>)              │         <span style=\"color: #00af00; text-decoration-color: #00af00\">2,056</span> │\n",
       "└─────────────────────────────────┴────────────────────────┴───────────────┘\n",
       "</pre>\n"
      ],
      "text/plain": [
       "┏━━━━━━━━━━━━━━━━━━━━━━━━━━━━━━━━━┳━━━━━━━━━━━━━━━━━━━━━━━━┳━━━━━━━━━━━━━━━┓\n",
       "┃\u001b[1m \u001b[0m\u001b[1mLayer (type)                   \u001b[0m\u001b[1m \u001b[0m┃\u001b[1m \u001b[0m\u001b[1mOutput Shape          \u001b[0m\u001b[1m \u001b[0m┃\u001b[1m \u001b[0m\u001b[1m      Param #\u001b[0m\u001b[1m \u001b[0m┃\n",
       "┡━━━━━━━━━━━━━━━━━━━━━━━━━━━━━━━━━╇━━━━━━━━━━━━━━━━━━━━━━━━╇━━━━━━━━━━━━━━━┩\n",
       "│ conv1d (\u001b[38;5;33mConv1D\u001b[0m)                 │ (\u001b[38;5;45mNone\u001b[0m, \u001b[38;5;34m134\u001b[0m, \u001b[38;5;34m64\u001b[0m)        │           \u001b[38;5;34m576\u001b[0m │\n",
       "├─────────────────────────────────┼────────────────────────┼───────────────┤\n",
       "│ conv1d_1 (\u001b[38;5;33mConv1D\u001b[0m)               │ (\u001b[38;5;45mNone\u001b[0m, \u001b[38;5;34m127\u001b[0m, \u001b[38;5;34m128\u001b[0m)       │        \u001b[38;5;34m65,664\u001b[0m │\n",
       "├─────────────────────────────────┼────────────────────────┼───────────────┤\n",
       "│ max_pooling1d (\u001b[38;5;33mMaxPooling1D\u001b[0m)    │ (\u001b[38;5;45mNone\u001b[0m, \u001b[38;5;34m31\u001b[0m, \u001b[38;5;34m128\u001b[0m)        │             \u001b[38;5;34m0\u001b[0m │\n",
       "├─────────────────────────────────┼────────────────────────┼───────────────┤\n",
       "│ dropout (\u001b[38;5;33mDropout\u001b[0m)               │ (\u001b[38;5;45mNone\u001b[0m, \u001b[38;5;34m31\u001b[0m, \u001b[38;5;34m128\u001b[0m)        │             \u001b[38;5;34m0\u001b[0m │\n",
       "├─────────────────────────────────┼────────────────────────┼───────────────┤\n",
       "│ conv1d_2 (\u001b[38;5;33mConv1D\u001b[0m)               │ (\u001b[38;5;45mNone\u001b[0m, \u001b[38;5;34m24\u001b[0m, \u001b[38;5;34m128\u001b[0m)        │       \u001b[38;5;34m131,200\u001b[0m │\n",
       "├─────────────────────────────────┼────────────────────────┼───────────────┤\n",
       "│ max_pooling1d_1 (\u001b[38;5;33mMaxPooling1D\u001b[0m)  │ (\u001b[38;5;45mNone\u001b[0m, \u001b[38;5;34m6\u001b[0m, \u001b[38;5;34m128\u001b[0m)         │             \u001b[38;5;34m0\u001b[0m │\n",
       "├─────────────────────────────────┼────────────────────────┼───────────────┤\n",
       "│ dropout_1 (\u001b[38;5;33mDropout\u001b[0m)             │ (\u001b[38;5;45mNone\u001b[0m, \u001b[38;5;34m6\u001b[0m, \u001b[38;5;34m128\u001b[0m)         │             \u001b[38;5;34m0\u001b[0m │\n",
       "├─────────────────────────────────┼────────────────────────┼───────────────┤\n",
       "│ batch_normalization             │ (\u001b[38;5;45mNone\u001b[0m, \u001b[38;5;34m6\u001b[0m, \u001b[38;5;34m128\u001b[0m)         │           \u001b[38;5;34m512\u001b[0m │\n",
       "│ (\u001b[38;5;33mBatchNormalization\u001b[0m)            │                        │               │\n",
       "├─────────────────────────────────┼────────────────────────┼───────────────┤\n",
       "│ lstm (\u001b[38;5;33mLSTM\u001b[0m)                     │ (\u001b[38;5;45mNone\u001b[0m, \u001b[38;5;34m128\u001b[0m)            │       \u001b[38;5;34m131,584\u001b[0m │\n",
       "├─────────────────────────────────┼────────────────────────┼───────────────┤\n",
       "│ dropout_2 (\u001b[38;5;33mDropout\u001b[0m)             │ (\u001b[38;5;45mNone\u001b[0m, \u001b[38;5;34m128\u001b[0m)            │             \u001b[38;5;34m0\u001b[0m │\n",
       "├─────────────────────────────────┼────────────────────────┼───────────────┤\n",
       "│ dense (\u001b[38;5;33mDense\u001b[0m)                   │ (\u001b[38;5;45mNone\u001b[0m, \u001b[38;5;34m256\u001b[0m)            │        \u001b[38;5;34m33,024\u001b[0m │\n",
       "├─────────────────────────────────┼────────────────────────┼───────────────┤\n",
       "│ dropout_3 (\u001b[38;5;33mDropout\u001b[0m)             │ (\u001b[38;5;45mNone\u001b[0m, \u001b[38;5;34m256\u001b[0m)            │             \u001b[38;5;34m0\u001b[0m │\n",
       "├─────────────────────────────────┼────────────────────────┼───────────────┤\n",
       "│ dense_1 (\u001b[38;5;33mDense\u001b[0m)                 │ (\u001b[38;5;45mNone\u001b[0m, \u001b[38;5;34m8\u001b[0m)              │         \u001b[38;5;34m2,056\u001b[0m │\n",
       "└─────────────────────────────────┴────────────────────────┴───────────────┘\n"
      ]
     },
     "metadata": {},
     "output_type": "display_data"
    },
    {
     "data": {
      "text/html": [
       "<pre style=\"white-space:pre;overflow-x:auto;line-height:normal;font-family:Menlo,'DejaVu Sans Mono',consolas,'Courier New',monospace\"><span style=\"font-weight: bold\"> Total params: </span><span style=\"color: #00af00; text-decoration-color: #00af00\">364,616</span> (1.39 MB)\n",
       "</pre>\n"
      ],
      "text/plain": [
       "\u001b[1m Total params: \u001b[0m\u001b[38;5;34m364,616\u001b[0m (1.39 MB)\n"
      ]
     },
     "metadata": {},
     "output_type": "display_data"
    },
    {
     "data": {
      "text/html": [
       "<pre style=\"white-space:pre;overflow-x:auto;line-height:normal;font-family:Menlo,'DejaVu Sans Mono',consolas,'Courier New',monospace\"><span style=\"font-weight: bold\"> Trainable params: </span><span style=\"color: #00af00; text-decoration-color: #00af00\">364,360</span> (1.39 MB)\n",
       "</pre>\n"
      ],
      "text/plain": [
       "\u001b[1m Trainable params: \u001b[0m\u001b[38;5;34m364,360\u001b[0m (1.39 MB)\n"
      ]
     },
     "metadata": {},
     "output_type": "display_data"
    },
    {
     "data": {
      "text/html": [
       "<pre style=\"white-space:pre;overflow-x:auto;line-height:normal;font-family:Menlo,'DejaVu Sans Mono',consolas,'Courier New',monospace\"><span style=\"font-weight: bold\"> Non-trainable params: </span><span style=\"color: #00af00; text-decoration-color: #00af00\">256</span> (1.00 KB)\n",
       "</pre>\n"
      ],
      "text/plain": [
       "\u001b[1m Non-trainable params: \u001b[0m\u001b[38;5;34m256\u001b[0m (1.00 KB)\n"
      ]
     },
     "metadata": {},
     "output_type": "display_data"
    }
   ],
   "source": [
    "model.summary()"
   ]
  },
  {
   "cell_type": "code",
   "execution_count": 35,
   "id": "405ab119",
   "metadata": {
    "execution": {
     "iopub.execute_input": "2024-12-02T16:35:20.724577Z",
     "iopub.status.busy": "2024-12-02T16:35:20.724342Z",
     "iopub.status.idle": "2024-12-02T16:35:20.731403Z",
     "shell.execute_reply": "2024-12-02T16:35:20.730799Z"
    },
    "papermill": {
     "duration": 0.019246,
     "end_time": "2024-12-02T16:35:20.733050",
     "exception": false,
     "start_time": "2024-12-02T16:35:20.713804",
     "status": "completed"
    },
    "tags": []
   },
   "outputs": [],
   "source": [
    "# Callbacks\n",
    "import h5py\n",
    "from tensorflow.keras.callbacks import EarlyStopping\n",
    "from tensorflow.keras.callbacks import Callback\n",
    "from sklearn.metrics import f1_score\n",
    "\n",
    "class F1(Callback):\n",
    "    def __init__(self,x_train, y_train,x_test, y_test):\n",
    "        self.x = x_train\n",
    "        self.y = y_train\n",
    "        self.x_val = x_test\n",
    "        self.y_val = y_test\n",
    "\n",
    "      #def on_train_begin(self, logs={}):\n",
    "        #self.val_f1s = []\n",
    "\n",
    "\n",
    "    def on_epoch_end(self, epoch, logs={}):\n",
    "\n",
    "        val_predict = (np.asarray(self.model.predict(self.x_val))).round()\n",
    "        val_targ = self.y_val\n",
    "\n",
    "        _val_f1 = round(f1_score(val_targ, val_predict, average= 'micro'), 4)\n",
    "\n",
    "        #self.val_f1s.append(_val_f1)\n",
    "\n",
    "        print('f1_score:{}'.format(_val_f1))\n",
    "\n",
    "F1 = F1(X_train, y_train,X_test, y_test)\n",
    "\n",
    "#es = EarlyStopping(monitor= 'val_precision', patience= 3)\n",
    "from tensorflow.keras.callbacks import ModelCheckpoint\n",
    "mc = ModelCheckpoint('best_model.h5.keras', monitor= 'f1_score')"
   ]
  },
  {
   "cell_type": "code",
   "execution_count": 36,
   "id": "032d2210",
   "metadata": {
    "execution": {
     "iopub.execute_input": "2024-12-02T16:35:20.753306Z",
     "iopub.status.busy": "2024-12-02T16:35:20.753051Z",
     "iopub.status.idle": "2024-12-02T16:35:20.756423Z",
     "shell.execute_reply": "2024-12-02T16:35:20.755769Z"
    },
    "papermill": {
     "duration": 0.015218,
     "end_time": "2024-12-02T16:35:20.757884",
     "exception": false,
     "start_time": "2024-12-02T16:35:20.742666",
     "status": "completed"
    },
    "tags": []
   },
   "outputs": [],
   "source": [
    "all= [F1,mc]"
   ]
  },
  {
   "cell_type": "code",
   "execution_count": 37,
   "id": "e3f60e3f",
   "metadata": {
    "collapsed": true,
    "execution": {
     "iopub.execute_input": "2024-12-02T16:35:20.778222Z",
     "iopub.status.busy": "2024-12-02T16:35:20.777952Z",
     "iopub.status.idle": "2024-12-02T16:36:13.974688Z",
     "shell.execute_reply": "2024-12-02T16:36:13.974019Z"
    },
    "jupyter": {
     "outputs_hidden": true
    },
    "papermill": {
     "duration": 53.208773,
     "end_time": "2024-12-02T16:36:13.976340",
     "exception": false,
     "start_time": "2024-12-02T16:35:20.767567",
     "status": "completed"
    },
    "tags": []
   },
   "outputs": [
    {
     "name": "stdout",
     "output_type": "stream",
     "text": [
      "Epoch 1/50\n",
      "\u001b[1m27/27\u001b[0m \u001b[32m━━━━━━━━━━━━━━━━━━━━\u001b[0m\u001b[37m\u001b[0m \u001b[1m0s\u001b[0m 8ms/step\n",
      "f1_score:0.0\n",
      "\u001b[1m106/106\u001b[0m \u001b[32m━━━━━━━━━━━━━━━━━━━━\u001b[0m\u001b[37m\u001b[0m \u001b[1m8s\u001b[0m 17ms/step - loss: 2.0051 - precision: 0.3108 - val_loss: 2.0248 - val_precision: 0.0000e+00\n",
      "Epoch 2/50\n",
      "\u001b[1m27/27\u001b[0m \u001b[32m━━━━━━━━━━━━━━━━━━━━\u001b[0m\u001b[37m\u001b[0m \u001b[1m0s\u001b[0m 2ms/step \n",
      "f1_score:0.0\n",
      "\u001b[1m106/106\u001b[0m \u001b[32m━━━━━━━━━━━━━━━━━━━━\u001b[0m\u001b[37m\u001b[0m \u001b[1m1s\u001b[0m 8ms/step - loss: 1.8176 - precision: 0.7118 - val_loss: 1.9390 - val_precision: 0.0000e+00\n",
      "Epoch 3/50\n",
      "\u001b[1m27/27\u001b[0m \u001b[32m━━━━━━━━━━━━━━━━━━━━\u001b[0m\u001b[37m\u001b[0m \u001b[1m0s\u001b[0m 2ms/step \n",
      "f1_score:0.0256\n",
      "\u001b[1m106/106\u001b[0m \u001b[32m━━━━━━━━━━━━━━━━━━━━\u001b[0m\u001b[37m\u001b[0m \u001b[1m1s\u001b[0m 9ms/step - loss: 1.6272 - precision: 0.7500 - val_loss: 1.8129 - val_precision: 0.9167\n",
      "Epoch 4/50\n",
      "\u001b[1m27/27\u001b[0m \u001b[32m━━━━━━━━━━━━━━━━━━━━\u001b[0m\u001b[37m\u001b[0m \u001b[1m0s\u001b[0m 2ms/step\n",
      "f1_score:0.0939\n",
      "\u001b[1m106/106\u001b[0m \u001b[32m━━━━━━━━━━━━━━━━━━━━\u001b[0m\u001b[37m\u001b[0m \u001b[1m1s\u001b[0m 9ms/step - loss: 1.4394 - precision: 0.8268 - val_loss: 1.5813 - val_precision: 0.8936\n",
      "Epoch 5/50\n",
      "\u001b[1m27/27\u001b[0m \u001b[32m━━━━━━━━━━━━━━━━━━━━\u001b[0m\u001b[37m\u001b[0m \u001b[1m0s\u001b[0m 2ms/step \n",
      "f1_score:0.219\n",
      "\u001b[1m106/106\u001b[0m \u001b[32m━━━━━━━━━━━━━━━━━━━━\u001b[0m\u001b[37m\u001b[0m \u001b[1m1s\u001b[0m 8ms/step - loss: 1.2627 - precision: 0.8023 - val_loss: 1.3481 - val_precision: 0.9459\n",
      "Epoch 6/50\n",
      "\u001b[1m27/27\u001b[0m \u001b[32m━━━━━━━━━━━━━━━━━━━━\u001b[0m\u001b[37m\u001b[0m \u001b[1m0s\u001b[0m 2ms/step \n",
      "f1_score:0.4715\n",
      "\u001b[1m106/106\u001b[0m \u001b[32m━━━━━━━━━━━━━━━━━━━━\u001b[0m\u001b[37m\u001b[0m \u001b[1m1s\u001b[0m 9ms/step - loss: 1.2020 - precision: 0.7912 - val_loss: 1.1870 - val_precision: 0.8806\n",
      "Epoch 7/50\n",
      "\u001b[1m27/27\u001b[0m \u001b[32m━━━━━━━━━━━━━━━━━━━━\u001b[0m\u001b[37m\u001b[0m \u001b[1m0s\u001b[0m 2ms/step \n",
      "f1_score:0.5745\n",
      "\u001b[1m106/106\u001b[0m \u001b[32m━━━━━━━━━━━━━━━━━━━━\u001b[0m\u001b[37m\u001b[0m \u001b[1m1s\u001b[0m 9ms/step - loss: 1.0848 - precision: 0.8067 - val_loss: 1.0826 - val_precision: 0.8322\n",
      "Epoch 8/50\n",
      "\u001b[1m27/27\u001b[0m \u001b[32m━━━━━━━━━━━━━━━━━━━━\u001b[0m\u001b[37m\u001b[0m \u001b[1m0s\u001b[0m 2ms/step \n",
      "f1_score:0.618\n",
      "\u001b[1m106/106\u001b[0m \u001b[32m━━━━━━━━━━━━━━━━━━━━\u001b[0m\u001b[37m\u001b[0m \u001b[1m1s\u001b[0m 8ms/step - loss: 1.0548 - precision: 0.8342 - val_loss: 1.0291 - val_precision: 0.8248\n",
      "Epoch 9/50\n",
      "\u001b[1m27/27\u001b[0m \u001b[32m━━━━━━━━━━━━━━━━━━━━\u001b[0m\u001b[37m\u001b[0m \u001b[1m0s\u001b[0m 2ms/step\n",
      "f1_score:0.6578\n",
      "\u001b[1m106/106\u001b[0m \u001b[32m━━━━━━━━━━━━━━━━━━━━\u001b[0m\u001b[37m\u001b[0m \u001b[1m1s\u001b[0m 9ms/step - loss: 0.9832 - precision: 0.8556 - val_loss: 0.9471 - val_precision: 0.8812\n",
      "Epoch 10/50\n",
      "\u001b[1m27/27\u001b[0m \u001b[32m━━━━━━━━━━━━━━━━━━━━\u001b[0m\u001b[37m\u001b[0m \u001b[1m0s\u001b[0m 2ms/step\n",
      "f1_score:0.6876\n",
      "\u001b[1m106/106\u001b[0m \u001b[32m━━━━━━━━━━━━━━━━━━━━\u001b[0m\u001b[37m\u001b[0m \u001b[1m1s\u001b[0m 10ms/step - loss: 0.8895 - precision: 0.8825 - val_loss: 0.8996 - val_precision: 0.9056\n",
      "Epoch 11/50\n",
      "\u001b[1m27/27\u001b[0m \u001b[32m━━━━━━━━━━━━━━━━━━━━\u001b[0m\u001b[37m\u001b[0m \u001b[1m0s\u001b[0m 2ms/step \n",
      "f1_score:0.6739\n",
      "\u001b[1m106/106\u001b[0m \u001b[32m━━━━━━━━━━━━━━━━━━━━\u001b[0m\u001b[37m\u001b[0m \u001b[1m1s\u001b[0m 8ms/step - loss: 0.8625 - precision: 0.8802 - val_loss: 0.9227 - val_precision: 0.8802\n",
      "Epoch 12/50\n",
      "\u001b[1m27/27\u001b[0m \u001b[32m━━━━━━━━━━━━━━━━━━━━\u001b[0m\u001b[37m\u001b[0m \u001b[1m0s\u001b[0m 2ms/step \n",
      "f1_score:0.6967\n",
      "\u001b[1m106/106\u001b[0m \u001b[32m━━━━━━━━━━━━━━━━━━━━\u001b[0m\u001b[37m\u001b[0m \u001b[1m1s\u001b[0m 9ms/step - loss: 0.8678 - precision: 0.8896 - val_loss: 0.8938 - val_precision: 0.9057\n",
      "Epoch 13/50\n",
      "\u001b[1m27/27\u001b[0m \u001b[32m━━━━━━━━━━━━━━━━━━━━\u001b[0m\u001b[37m\u001b[0m \u001b[1m0s\u001b[0m 2ms/step \n",
      "f1_score:0.6986\n",
      "\u001b[1m106/106\u001b[0m \u001b[32m━━━━━━━━━━━━━━━━━━━━\u001b[0m\u001b[37m\u001b[0m \u001b[1m1s\u001b[0m 8ms/step - loss: 0.8362 - precision: 0.8941 - val_loss: 0.8650 - val_precision: 0.8889\n",
      "Epoch 14/50\n",
      "\u001b[1m27/27\u001b[0m \u001b[32m━━━━━━━━━━━━━━━━━━━━\u001b[0m\u001b[37m\u001b[0m \u001b[1m0s\u001b[0m 2ms/step \n",
      "f1_score:0.7093\n",
      "\u001b[1m106/106\u001b[0m \u001b[32m━━━━━━━━━━━━━━━━━━━━\u001b[0m\u001b[37m\u001b[0m \u001b[1m1s\u001b[0m 8ms/step - loss: 0.8506 - precision: 0.8855 - val_loss: 0.8366 - val_precision: 0.9064\n",
      "Epoch 15/50\n",
      "\u001b[1m27/27\u001b[0m \u001b[32m━━━━━━━━━━━━━━━━━━━━\u001b[0m\u001b[37m\u001b[0m \u001b[1m0s\u001b[0m 2ms/step \n",
      "f1_score:0.7111\n",
      "\u001b[1m106/106\u001b[0m \u001b[32m━━━━━━━━━━━━━━━━━━━━\u001b[0m\u001b[37m\u001b[0m \u001b[1m1s\u001b[0m 8ms/step - loss: 0.7848 - precision: 0.9052 - val_loss: 0.8473 - val_precision: 0.9068\n",
      "Epoch 16/50\n",
      "\u001b[1m27/27\u001b[0m \u001b[32m━━━━━━━━━━━━━━━━━━━━\u001b[0m\u001b[37m\u001b[0m \u001b[1m0s\u001b[0m 2ms/step \n",
      "f1_score:0.7105\n",
      "\u001b[1m106/106\u001b[0m \u001b[32m━━━━━━━━━━━━━━━━━━━━\u001b[0m\u001b[37m\u001b[0m \u001b[1m1s\u001b[0m 8ms/step - loss: 0.7336 - precision: 0.9156 - val_loss: 0.8350 - val_precision: 0.8856\n",
      "Epoch 17/50\n",
      "\u001b[1m27/27\u001b[0m \u001b[32m━━━━━━━━━━━━━━━━━━━━\u001b[0m\u001b[37m\u001b[0m \u001b[1m0s\u001b[0m 2ms/step \n",
      "f1_score:0.7177\n",
      "\u001b[1m106/106\u001b[0m \u001b[32m━━━━━━━━━━━━━━━━━━━━\u001b[0m\u001b[37m\u001b[0m \u001b[1m1s\u001b[0m 8ms/step - loss: 0.7463 - precision: 0.9136 - val_loss: 0.8129 - val_precision: 0.9004\n",
      "Epoch 18/50\n",
      "\u001b[1m27/27\u001b[0m \u001b[32m━━━━━━━━━━━━━━━━━━━━\u001b[0m\u001b[37m\u001b[0m \u001b[1m0s\u001b[0m 2ms/step \n",
      "f1_score:0.726\n",
      "\u001b[1m106/106\u001b[0m \u001b[32m━━━━━━━━━━━━━━━━━━━━\u001b[0m\u001b[37m\u001b[0m \u001b[1m1s\u001b[0m 8ms/step - loss: 0.7521 - precision: 0.9166 - val_loss: 0.8056 - val_precision: 0.9156\n",
      "Epoch 19/50\n",
      "\u001b[1m27/27\u001b[0m \u001b[32m━━━━━━━━━━━━━━━━━━━━\u001b[0m\u001b[37m\u001b[0m \u001b[1m0s\u001b[0m 2ms/step \n",
      "f1_score:0.733\n",
      "\u001b[1m106/106\u001b[0m \u001b[32m━━━━━━━━━━━━━━━━━━━━\u001b[0m\u001b[37m\u001b[0m \u001b[1m1s\u001b[0m 8ms/step - loss: 0.7274 - precision: 0.9263 - val_loss: 0.7844 - val_precision: 0.9214\n",
      "Epoch 20/50\n",
      "\u001b[1m27/27\u001b[0m \u001b[32m━━━━━━━━━━━━━━━━━━━━\u001b[0m\u001b[37m\u001b[0m \u001b[1m0s\u001b[0m 2ms/step \n",
      "f1_score:0.7228\n",
      "\u001b[1m106/106\u001b[0m \u001b[32m━━━━━━━━━━━━━━━━━━━━\u001b[0m\u001b[37m\u001b[0m \u001b[1m1s\u001b[0m 8ms/step - loss: 0.7372 - precision: 0.9202 - val_loss: 0.8006 - val_precision: 0.9028\n",
      "Epoch 21/50\n",
      "\u001b[1m27/27\u001b[0m \u001b[32m━━━━━━━━━━━━━━━━━━━━\u001b[0m\u001b[37m\u001b[0m \u001b[1m0s\u001b[0m 2ms/step \n",
      "f1_score:0.7392\n",
      "\u001b[1m106/106\u001b[0m \u001b[32m━━━━━━━━━━━━━━━━━━━━\u001b[0m\u001b[37m\u001b[0m \u001b[1m1s\u001b[0m 8ms/step - loss: 0.7066 - precision: 0.9242 - val_loss: 0.7695 - val_precision: 0.9224\n",
      "Epoch 22/50\n",
      "\u001b[1m27/27\u001b[0m \u001b[32m━━━━━━━━━━━━━━━━━━━━\u001b[0m\u001b[37m\u001b[0m \u001b[1m0s\u001b[0m 2ms/step \n",
      "f1_score:0.7442\n",
      "\u001b[1m106/106\u001b[0m \u001b[32m━━━━━━━━━━━━━━━━━━━━\u001b[0m\u001b[37m\u001b[0m \u001b[1m1s\u001b[0m 8ms/step - loss: 0.7207 - precision: 0.9230 - val_loss: 0.7673 - val_precision: 0.9325\n",
      "Epoch 23/50\n",
      "\u001b[1m27/27\u001b[0m \u001b[32m━━━━━━━━━━━━━━━━━━━━\u001b[0m\u001b[37m\u001b[0m \u001b[1m0s\u001b[0m 2ms/step \n",
      "f1_score:0.7379\n",
      "\u001b[1m106/106\u001b[0m \u001b[32m━━━━━━━━━━━━━━━━━━━━\u001b[0m\u001b[37m\u001b[0m \u001b[1m1s\u001b[0m 9ms/step - loss: 0.7057 - precision: 0.9281 - val_loss: 0.7724 - val_precision: 0.9130\n",
      "Epoch 24/50\n",
      "\u001b[1m27/27\u001b[0m \u001b[32m━━━━━━━━━━━━━━━━━━━━\u001b[0m\u001b[37m\u001b[0m \u001b[1m0s\u001b[0m 2ms/step \n",
      "f1_score:0.7379\n",
      "\u001b[1m106/106\u001b[0m \u001b[32m━━━━━━━━━━━━━━━━━━━━\u001b[0m\u001b[37m\u001b[0m \u001b[1m1s\u001b[0m 8ms/step - loss: 0.6967 - precision: 0.9388 - val_loss: 0.7585 - val_precision: 0.9057\n",
      "Epoch 25/50\n",
      "\u001b[1m27/27\u001b[0m \u001b[32m━━━━━━━━━━━━━━━━━━━━\u001b[0m\u001b[37m\u001b[0m \u001b[1m0s\u001b[0m 2ms/step \n",
      "f1_score:0.7476\n",
      "\u001b[1m106/106\u001b[0m \u001b[32m━━━━━━━━━━━━━━━━━━━━\u001b[0m\u001b[37m\u001b[0m \u001b[1m1s\u001b[0m 9ms/step - loss: 0.6644 - precision: 0.9409 - val_loss: 0.7429 - val_precision: 0.9147\n",
      "Epoch 26/50\n",
      "\u001b[1m27/27\u001b[0m \u001b[32m━━━━━━━━━━━━━━━━━━━━\u001b[0m\u001b[37m\u001b[0m \u001b[1m0s\u001b[0m 2ms/step \n",
      "f1_score:0.7418\n",
      "\u001b[1m106/106\u001b[0m \u001b[32m━━━━━━━━━━━━━━━━━━━━\u001b[0m\u001b[37m\u001b[0m \u001b[1m1s\u001b[0m 8ms/step - loss: 0.6519 - precision: 0.9340 - val_loss: 0.7540 - val_precision: 0.9049\n",
      "Epoch 27/50\n",
      "\u001b[1m27/27\u001b[0m \u001b[32m━━━━━━━━━━━━━━━━━━━━\u001b[0m\u001b[37m\u001b[0m \u001b[1m0s\u001b[0m 2ms/step \n",
      "f1_score:0.7486\n",
      "\u001b[1m106/106\u001b[0m \u001b[32m━━━━━━━━━━━━━━━━━━━━\u001b[0m\u001b[37m\u001b[0m \u001b[1m1s\u001b[0m 8ms/step - loss: 0.6620 - precision: 0.9185 - val_loss: 0.7406 - val_precision: 0.9253\n",
      "Epoch 28/50\n",
      "\u001b[1m27/27\u001b[0m \u001b[32m━━━━━━━━━━━━━━━━━━━━\u001b[0m\u001b[37m\u001b[0m \u001b[1m0s\u001b[0m 2ms/step \n",
      "f1_score:0.753\n",
      "\u001b[1m106/106\u001b[0m \u001b[32m━━━━━━━━━━━━━━━━━━━━\u001b[0m\u001b[37m\u001b[0m \u001b[1m1s\u001b[0m 8ms/step - loss: 0.6563 - precision: 0.9297 - val_loss: 0.7281 - val_precision: 0.9260\n",
      "Epoch 29/50\n",
      "\u001b[1m27/27\u001b[0m \u001b[32m━━━━━━━━━━━━━━━━━━━━\u001b[0m\u001b[37m\u001b[0m \u001b[1m0s\u001b[0m 2ms/step \n",
      "f1_score:0.7521\n",
      "\u001b[1m106/106\u001b[0m \u001b[32m━━━━━━━━━━━━━━━━━━━━\u001b[0m\u001b[37m\u001b[0m \u001b[1m1s\u001b[0m 8ms/step - loss: 0.6203 - precision: 0.9450 - val_loss: 0.7274 - val_precision: 0.9259\n",
      "Epoch 30/50\n",
      "\u001b[1m27/27\u001b[0m \u001b[32m━━━━━━━━━━━━━━━━━━━━\u001b[0m\u001b[37m\u001b[0m \u001b[1m0s\u001b[0m 2ms/step \n",
      "f1_score:0.7447\n",
      "\u001b[1m106/106\u001b[0m \u001b[32m━━━━━━━━━━━━━━━━━━━━\u001b[0m\u001b[37m\u001b[0m \u001b[1m1s\u001b[0m 8ms/step - loss: 0.6596 - precision: 0.9394 - val_loss: 0.7390 - val_precision: 0.9187\n",
      "Epoch 31/50\n",
      "\u001b[1m27/27\u001b[0m \u001b[32m━━━━━━━━━━━━━━━━━━━━\u001b[0m\u001b[37m\u001b[0m \u001b[1m0s\u001b[0m 2ms/step \n",
      "f1_score:0.7563\n",
      "\u001b[1m106/106\u001b[0m \u001b[32m━━━━━━━━━━━━━━━━━━━━\u001b[0m\u001b[37m\u001b[0m \u001b[1m1s\u001b[0m 8ms/step - loss: 0.6284 - precision: 0.9309 - val_loss: 0.7213 - val_precision: 0.9310\n",
      "Epoch 32/50\n",
      "\u001b[1m27/27\u001b[0m \u001b[32m━━━━━━━━━━━━━━━━━━━━\u001b[0m\u001b[37m\u001b[0m \u001b[1m0s\u001b[0m 2ms/step \n",
      "f1_score:0.7601\n",
      "\u001b[1m106/106\u001b[0m \u001b[32m━━━━━━━━━━━━━━━━━━━━\u001b[0m\u001b[37m\u001b[0m \u001b[1m1s\u001b[0m 8ms/step - loss: 0.6191 - precision: 0.9496 - val_loss: 0.7159 - val_precision: 0.9226\n",
      "Epoch 33/50\n",
      "\u001b[1m27/27\u001b[0m \u001b[32m━━━━━━━━━━━━━━━━━━━━\u001b[0m\u001b[37m\u001b[0m \u001b[1m0s\u001b[0m 2ms/step \n",
      "f1_score:0.747\n",
      "\u001b[1m106/106\u001b[0m \u001b[32m━━━━━━━━━━━━━━━━━━━━\u001b[0m\u001b[37m\u001b[0m \u001b[1m1s\u001b[0m 8ms/step - loss: 0.6373 - precision: 0.9348 - val_loss: 0.7536 - val_precision: 0.9131\n",
      "Epoch 34/50\n",
      "\u001b[1m27/27\u001b[0m \u001b[32m━━━━━━━━━━━━━━━━━━━━\u001b[0m\u001b[37m\u001b[0m \u001b[1m0s\u001b[0m 2ms/step \n",
      "f1_score:0.758\n",
      "\u001b[1m106/106\u001b[0m \u001b[32m━━━━━━━━━━━━━━━━━━━━\u001b[0m\u001b[37m\u001b[0m \u001b[1m1s\u001b[0m 9ms/step - loss: 0.6265 - precision: 0.9386 - val_loss: 0.7130 - val_precision: 0.9313\n",
      "Epoch 35/50\n",
      "\u001b[1m27/27\u001b[0m \u001b[32m━━━━━━━━━━━━━━━━━━━━\u001b[0m\u001b[37m\u001b[0m \u001b[1m0s\u001b[0m 2ms/step \n",
      "f1_score:0.7601\n",
      "\u001b[1m106/106\u001b[0m \u001b[32m━━━━━━━━━━━━━━━━━━━━\u001b[0m\u001b[37m\u001b[0m \u001b[1m1s\u001b[0m 8ms/step - loss: 0.6395 - precision: 0.9379 - val_loss: 0.7057 - val_precision: 0.9226\n",
      "Epoch 36/50\n",
      "\u001b[1m27/27\u001b[0m \u001b[32m━━━━━━━━━━━━━━━━━━━━\u001b[0m\u001b[37m\u001b[0m \u001b[1m0s\u001b[0m 2ms/step \n",
      "f1_score:0.7561\n",
      "\u001b[1m106/106\u001b[0m \u001b[32m━━━━━━━━━━━━━━━━━━━━\u001b[0m\u001b[37m\u001b[0m \u001b[1m1s\u001b[0m 8ms/step - loss: 0.6055 - precision: 0.9427 - val_loss: 0.7436 - val_precision: 0.9280\n",
      "Epoch 37/50\n",
      "\u001b[1m27/27\u001b[0m \u001b[32m━━━━━━━━━━━━━━━━━━━━\u001b[0m\u001b[37m\u001b[0m \u001b[1m0s\u001b[0m 2ms/step \n",
      "f1_score:0.7622\n",
      "\u001b[1m106/106\u001b[0m \u001b[32m━━━━━━━━━━━━━━━━━━━━\u001b[0m\u001b[37m\u001b[0m \u001b[1m1s\u001b[0m 8ms/step - loss: 0.6287 - precision: 0.9290 - val_loss: 0.7058 - val_precision: 0.9364\n",
      "Epoch 38/50\n",
      "\u001b[1m27/27\u001b[0m \u001b[32m━━━━━━━━━━━━━━━━━━━━\u001b[0m\u001b[37m\u001b[0m \u001b[1m0s\u001b[0m 2ms/step \n",
      "f1_score:0.7652\n",
      "\u001b[1m106/106\u001b[0m \u001b[32m━━━━━━━━━━━━━━━━━━━━\u001b[0m\u001b[37m\u001b[0m \u001b[1m1s\u001b[0m 8ms/step - loss: 0.6001 - precision: 0.9439 - val_loss: 0.6827 - val_precision: 0.9353\n",
      "Epoch 39/50\n",
      "\u001b[1m27/27\u001b[0m \u001b[32m━━━━━━━━━━━━━━━━━━━━\u001b[0m\u001b[37m\u001b[0m \u001b[1m0s\u001b[0m 2ms/step \n",
      "f1_score:0.7471\n",
      "\u001b[1m106/106\u001b[0m \u001b[32m━━━━━━━━━━━━━━━━━━━━\u001b[0m\u001b[37m\u001b[0m \u001b[1m1s\u001b[0m 8ms/step - loss: 0.6103 - precision: 0.9483 - val_loss: 0.7356 - val_precision: 0.9059\n",
      "Epoch 40/50\n",
      "\u001b[1m27/27\u001b[0m \u001b[32m━━━━━━━━━━━━━━━━━━━━\u001b[0m\u001b[37m\u001b[0m \u001b[1m0s\u001b[0m 2ms/step \n",
      "f1_score:0.7552\n",
      "\u001b[1m106/106\u001b[0m \u001b[32m━━━━━━━━━━━━━━━━━━━━\u001b[0m\u001b[37m\u001b[0m \u001b[1m1s\u001b[0m 8ms/step - loss: 0.6000 - precision: 0.9357 - val_loss: 0.7260 - val_precision: 0.9278\n",
      "Epoch 41/50\n",
      "\u001b[1m27/27\u001b[0m \u001b[32m━━━━━━━━━━━━━━━━━━━━\u001b[0m\u001b[37m\u001b[0m \u001b[1m0s\u001b[0m 2ms/step \n",
      "f1_score:0.7672\n",
      "\u001b[1m106/106\u001b[0m \u001b[32m━━━━━━━━━━━━━━━━━━━━\u001b[0m\u001b[37m\u001b[0m \u001b[1m1s\u001b[0m 8ms/step - loss: 0.6095 - precision: 0.9376 - val_loss: 0.6807 - val_precision: 0.9340\n",
      "Epoch 42/50\n",
      "\u001b[1m27/27\u001b[0m \u001b[32m━━━━━━━━━━━━━━━━━━━━\u001b[0m\u001b[37m\u001b[0m \u001b[1m0s\u001b[0m 2ms/step \n",
      "f1_score:0.7657\n",
      "\u001b[1m106/106\u001b[0m \u001b[32m━━━━━━━━━━━━━━━━━━━━\u001b[0m\u001b[37m\u001b[0m \u001b[1m1s\u001b[0m 8ms/step - loss: 0.6104 - precision: 0.9488 - val_loss: 0.6752 - val_precision: 0.9369\n",
      "Epoch 43/50\n",
      "\u001b[1m27/27\u001b[0m \u001b[32m━━━━━━━━━━━━━━━━━━━━\u001b[0m\u001b[37m\u001b[0m \u001b[1m0s\u001b[0m 2ms/step \n",
      "f1_score:0.7719\n",
      "\u001b[1m106/106\u001b[0m \u001b[32m━━━━━━━━━━━━━━━━━━━━\u001b[0m\u001b[37m\u001b[0m \u001b[1m1s\u001b[0m 8ms/step - loss: 0.5900 - precision: 0.9540 - val_loss: 0.6972 - val_precision: 0.9407\n",
      "Epoch 44/50\n",
      "\u001b[1m27/27\u001b[0m \u001b[32m━━━━━━━━━━━━━━━━━━━━\u001b[0m\u001b[37m\u001b[0m \u001b[1m0s\u001b[0m 2ms/step \n",
      "f1_score:0.7697\n",
      "\u001b[1m106/106\u001b[0m \u001b[32m━━━━━━━━━━━━━━━━━━━━\u001b[0m\u001b[37m\u001b[0m \u001b[1m1s\u001b[0m 9ms/step - loss: 0.5967 - precision: 0.9390 - val_loss: 0.6720 - val_precision: 0.9389\n",
      "Epoch 45/50\n",
      "\u001b[1m27/27\u001b[0m \u001b[32m━━━━━━━━━━━━━━━━━━━━\u001b[0m\u001b[37m\u001b[0m \u001b[1m0s\u001b[0m 2ms/step \n",
      "f1_score:0.7607\n",
      "\u001b[1m106/106\u001b[0m \u001b[32m━━━━━━━━━━━━━━━━━━━━\u001b[0m\u001b[37m\u001b[0m \u001b[1m1s\u001b[0m 9ms/step - loss: 0.5808 - precision: 0.9490 - val_loss: 0.6924 - val_precision: 0.9197\n",
      "Epoch 46/50\n",
      "\u001b[1m27/27\u001b[0m \u001b[32m━━━━━━━━━━━━━━━━━━━━\u001b[0m\u001b[37m\u001b[0m \u001b[1m0s\u001b[0m 2ms/step \n",
      "f1_score:0.7679\n",
      "\u001b[1m106/106\u001b[0m \u001b[32m━━━━━━━━━━━━━━━━━━━━\u001b[0m\u001b[37m\u001b[0m \u001b[1m1s\u001b[0m 8ms/step - loss: 0.5647 - precision: 0.9491 - val_loss: 0.6833 - val_precision: 0.9387\n",
      "Epoch 47/50\n",
      "\u001b[1m27/27\u001b[0m \u001b[32m━━━━━━━━━━━━━━━━━━━━\u001b[0m\u001b[37m\u001b[0m \u001b[1m0s\u001b[0m 2ms/step \n",
      "f1_score:0.7745\n",
      "\u001b[1m106/106\u001b[0m \u001b[32m━━━━━━━━━━━━━━━━━━━━\u001b[0m\u001b[37m\u001b[0m \u001b[1m1s\u001b[0m 8ms/step - loss: 0.5744 - precision: 0.9444 - val_loss: 0.6714 - val_precision: 0.9410\n",
      "Epoch 48/50\n",
      "\u001b[1m27/27\u001b[0m \u001b[32m━━━━━━━━━━━━━━━━━━━━\u001b[0m\u001b[37m\u001b[0m \u001b[1m0s\u001b[0m 2ms/step \n",
      "f1_score:0.7693\n",
      "\u001b[1m106/106\u001b[0m \u001b[32m━━━━━━━━━━━━━━━━━━━━\u001b[0m\u001b[37m\u001b[0m \u001b[1m1s\u001b[0m 8ms/step - loss: 0.5571 - precision: 0.9414 - val_loss: 0.6835 - val_precision: 0.9404\n",
      "Epoch 49/50\n",
      "\u001b[1m27/27\u001b[0m \u001b[32m━━━━━━━━━━━━━━━━━━━━\u001b[0m\u001b[37m\u001b[0m \u001b[1m0s\u001b[0m 2ms/step \n",
      "f1_score:0.7717\n",
      "\u001b[1m106/106\u001b[0m \u001b[32m━━━━━━━━━━━━━━━━━━━━\u001b[0m\u001b[37m\u001b[0m \u001b[1m1s\u001b[0m 8ms/step - loss: 0.5713 - precision: 0.9561 - val_loss: 0.6785 - val_precision: 0.9257\n",
      "Epoch 50/50\n",
      "\u001b[1m27/27\u001b[0m \u001b[32m━━━━━━━━━━━━━━━━━━━━\u001b[0m\u001b[37m\u001b[0m \u001b[1m0s\u001b[0m 2ms/step \n",
      "f1_score:0.7639\n",
      "\u001b[1m106/106\u001b[0m \u001b[32m━━━━━━━━━━━━━━━━━━━━\u001b[0m\u001b[37m\u001b[0m \u001b[1m1s\u001b[0m 8ms/step - loss: 0.5780 - precision: 0.9405 - val_loss: 0.6679 - val_precision: 0.9291\n"
     ]
    }
   ],
   "source": [
    "## Training \n",
    "model.compile(loss='categorical_crossentropy', \n",
    "                  optimizer=tf.keras.optimizers.Adam(learning_rate=0.0001), \n",
    "                  metrics=[tf.keras.metrics.Precision()])\n",
    "history= model.fit(X_train, y_train,batch_size=32, epochs=50, validation_data=(X_test, y_test), callbacks= all)"
   ]
  },
  {
   "cell_type": "code",
   "execution_count": 38,
   "id": "ec3d69aa",
   "metadata": {
    "execution": {
     "iopub.execute_input": "2024-12-02T16:36:14.069782Z",
     "iopub.status.busy": "2024-12-02T16:36:14.069513Z",
     "iopub.status.idle": "2024-12-02T16:36:14.115884Z",
     "shell.execute_reply": "2024-12-02T16:36:14.115292Z"
    },
    "papermill": {
     "duration": 0.094116,
     "end_time": "2024-12-02T16:36:14.117721",
     "exception": false,
     "start_time": "2024-12-02T16:36:14.023605",
     "status": "completed"
    },
    "tags": []
   },
   "outputs": [],
   "source": [
    "# Sauvegarder le modèle\n",
    "model.save(\"Audio_model.h5\")"
   ]
  },
  {
   "cell_type": "code",
   "execution_count": 39,
   "id": "0d69deaf",
   "metadata": {
    "execution": {
     "iopub.execute_input": "2024-12-02T16:36:14.245771Z",
     "iopub.status.busy": "2024-12-02T16:36:14.245036Z",
     "iopub.status.idle": "2024-12-02T16:36:14.527649Z",
     "shell.execute_reply": "2024-12-02T16:36:14.526697Z"
    },
    "papermill": {
     "duration": 0.330255,
     "end_time": "2024-12-02T16:36:14.529320",
     "exception": false,
     "start_time": "2024-12-02T16:36:14.199065",
     "status": "completed"
    },
    "tags": []
   },
   "outputs": [
    {
     "data": {
      "image/png": "[encoded data removed]",
      "text/plain": [
       "<Figure size 640x480 with 1 Axes>"
      ]
     },
     "metadata": {},
     "output_type": "display_data"
    }
   ],
   "source": [
    "# lets plot the loss (both training and validation) vs epochs\n",
    "import matplotlib.pyplot as plt \n",
    "\n",
    "plt.plot(history.history['loss'])\n",
    "plt.plot(history.history['val_loss'])\n",
    "plt.title('train vs val loss for CNN')\n",
    "plt.ylabel('loss')\n",
    "plt.xlabel('epoch')\n",
    "plt.legend(['train', 'test'])\n",
    "plt.show()"
   ]
  },
  {
   "cell_type": "code",
   "execution_count": 40,
   "id": "216ef2d3",
   "metadata": {
    "execution": {
     "iopub.execute_input": "2024-12-02T16:36:14.623069Z",
     "iopub.status.busy": "2024-12-02T16:36:14.622785Z",
     "iopub.status.idle": "2024-12-02T16:36:14.753955Z",
     "shell.execute_reply": "2024-12-02T16:36:14.753002Z"
    },
    "papermill": {
     "duration": 0.179407,
     "end_time": "2024-12-02T16:36:14.755679",
     "exception": false,
     "start_time": "2024-12-02T16:36:14.576272",
     "status": "completed"
    },
    "tags": []
   },
   "outputs": [
    {
     "name": "stdout",
     "output_type": "stream",
     "text": [
      "\u001b[1m27/27\u001b[0m \u001b[32m━━━━━━━━━━━━━━━━━━━━\u001b[0m\u001b[37m\u001b[0m \u001b[1m0s\u001b[0m 2ms/step \n",
      "              precision    recall  f1-score   support\n",
      "\n",
      "           0       0.84      0.83      0.84       129\n",
      "           1       0.33      0.74      0.46        38\n",
      "           2       0.61      0.74      0.67       101\n",
      "           3       0.79      0.78      0.78       108\n",
      "           4       0.85      0.61      0.71       119\n",
      "           5       0.99      0.85      0.92       102\n",
      "           6       0.83      0.69      0.75       115\n",
      "           7       0.79      0.80      0.80       136\n",
      "\n",
      "    accuracy                           0.76       848\n",
      "   macro avg       0.75      0.76      0.74       848\n",
      "weighted avg       0.79      0.76      0.77       848\n",
      "\n"
     ]
    }
   ],
   "source": [
    "from sklearn.metrics import classification_report\n",
    "import numpy as np\n",
    "y_pred = model.predict(X_test)\n",
    "y_pred_labels = np.argmax(y_pred, axis=1)\n",
    "y_test_labels = np.argmax(y_test, axis=1)\n",
    "report = classification_report(y_test_labels, y_pred_labels)\n",
    "print(report)"
   ]
  },
  {
   "cell_type": "code",
   "execution_count": 41,
   "id": "5c3a1e87",
   "metadata": {
    "execution": {
     "iopub.execute_input": "2024-12-02T16:36:14.848862Z",
     "iopub.status.busy": "2024-12-02T16:36:14.848618Z",
     "iopub.status.idle": "2024-12-02T16:36:15.171452Z",
     "shell.execute_reply": "2024-12-02T16:36:15.170647Z"
    },
    "papermill": {
     "duration": 0.371046,
     "end_time": "2024-12-02T16:36:15.173026",
     "exception": false,
     "start_time": "2024-12-02T16:36:14.801980",
     "status": "completed"
    },
    "tags": []
   },
   "outputs": [
    {
     "name": "stdout",
     "output_type": "stream",
     "text": [
      "\u001b[1m1/1\u001b[0m \u001b[32m━━━━━━━━━━━━━━━━━━━━\u001b[0m\u001b[37m\u001b[0m \u001b[1m0s\u001b[0m 202ms/step\n",
      "L'émotion prédite est : surprised\n"
     ]
    }
   ],
   "source": [
    "#test sur un audio extistant\n",
    "audio_path = '/kaggle/input/audiotest/happy-huming-6202.mp3'\n",
    "data, sample_rate = librosa.load(audio_path)\n",
    "mel_feature = np.mean(librosa.feature.melspectrogram(y=data, sr=sample_rate).T, axis=0)\n",
    "mfcc_feature = np.mean(librosa.feature.mfcc(y=data, sr=sample_rate, n_mfcc=13).T, axis=0)\n",
    "\n",
    "# Combiner les deux types de caractéristiques\n",
    "features = np.hstack((mel_feature, mfcc_feature))\n",
    "\n",
    "# Mettre à l'échelle les caractéristiques\n",
    "features_scaled = scaler.transform([features])\n",
    "prediction = model.predict(features_scaled)\n",
    "predicted_class = encoder.categories_[0][np.argmax(prediction)]\n",
    "print(f\"L'émotion prédite est : {predicted_class}\")"
   ]
  }
 ],
 "metadata": {
  "kaggle": {
   "accelerator": "nvidiaTeslaT4",
   "dataSources": [
    {
     "datasetId": 107620,
     "sourceId": 256618,
     "sourceType": "datasetVersion"
    },
    {
     "datasetId": 316368,
     "sourceId": 639622,
     "sourceType": "datasetVersion"
    },
    {
     "datasetId": 6144864,
     "isSourceIdPinned": true,
     "sourceId": 9985712,
     "sourceType": "datasetVersion"
    }
   ],
   "dockerImageVersionId": 30786,
   "isGpuEnabled": true,
   "isInternetEnabled": true,
   "language": "python",
   "sourceType": "notebook"
  },
  "kernelspec": {
   "display_name": "Python 3",
   "language": "python",
   "name": "python3"
  },
  "language_info": {
   "codemirror_mode": {
    "name": "ipython",
    "version": 3
   },
   "file_extension": ".py",
   "mimetype": "text/x-python",
   "name": "python",
   "nbconvert_exporter": "python",
   "pygments_lexer": "ipython3",
   "version": "3.10.14"
  },
  "papermill": {
   "default_parameters": {},
   "duration": 255.890787,
   "end_time": "2024-12-02T16:36:17.576448",
   "environment_variables": {},
   "exception": null,
   "input_path": "__notebook__.ipynb",
   "output_path": "__notebook__.ipynb",
   "parameters": {},
   "start_time": "2024-12-02T16:32:01.685661",
   "version": "2.6.0"
  }
 },
 "nbformat": 4,
 "nbformat_minor": 5
}
