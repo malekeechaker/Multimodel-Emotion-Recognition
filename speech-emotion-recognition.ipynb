{
 "cells": [
  {
   "cell_type": "markdown",
   "id": "00859c80",
   "metadata": {
    "papermill": {
     "duration": 0.007839,
     "end_time": "2024-11-22T20:25:05.368261",
     "exception": false,
     "start_time": "2024-11-22T20:25:05.360422",
     "status": "completed"
    },
    "tags": []
   },
   "source": [
    "##                               Speech Emotion Recognition"
   ]
  },
  {
   "cell_type": "code",
   "execution_count": 1,
   "id": "30def535",
   "metadata": {
    "_cell_guid": "b1076dfc-b9ad-4769-8c92-a6c4dae69d19",
    "_uuid": "8f2839f25d086af736a60e9eeb907d3b93b6e0e5",
    "execution": {
     "iopub.execute_input": "2024-11-22T20:25:05.384887Z",
     "iopub.status.busy": "2024-11-22T20:25:05.384535Z",
     "iopub.status.idle": "2024-11-22T20:25:06.194244Z",
     "shell.execute_reply": "2024-11-22T20:25:06.193354Z"
    },
    "papermill": {
     "duration": 0.820018,
     "end_time": "2024-11-22T20:25:06.196274",
     "exception": false,
     "start_time": "2024-11-22T20:25:05.376256",
     "status": "completed"
    },
    "tags": []
   },
   "outputs": [],
   "source": [
    "import numpy as np \n",
    "import pandas as pd \n",
    "import os"
   ]
  },
  {
   "cell_type": "markdown",
   "id": "74c9d1df",
   "metadata": {
    "papermill": {
     "duration": 0.006706,
     "end_time": "2024-11-22T20:25:06.210315",
     "exception": false,
     "start_time": "2024-11-22T20:25:06.203609",
     "status": "completed"
    },
    "tags": []
   },
   "source": [
    "## RAVDESS Dataset\n",
    "* #### The Ryerson Audio-Visual Database of Emotional Speech and Song (RAVDESS) contains 7,356 files\n",
    "* #### The database contains 24 professional actors (12 female, 12 male), saying a statement  in 8 emotions which includes (neutral, calm, happy, sad, angry, fearful, surprise, and disgust), 2 times for each emotion (one normal, other strong)\n",
    "\n",
    "\n",
    "### RAVDESS file_name \n",
    "\n",
    "* ##### Modality (01 = full-AV, 02 = video-only, 03 = audio-only).\n",
    "* ##### Vocal channel (01 = speech, 02 = song).\n",
    "* ##### Emotion (01 = neutral, 02 = calm, 03 = happy, 04 = sad, 05 = angry, 06 = fearful, 07 = disgust, 08 = surprised).\n",
    "* ##### Emotional intensity (01 = normal, 02 = strong). NOTE: There is no strong intensity for the 'neutral' emotion.\n",
    "* ##### Statement (01 = \"Kids are talking by the door\", 02 = \"Dogs are sitting by the door\").\n",
    "* ##### Repetition (01 = 1st repetition, 02 = 2nd repetition).\n",
    "* ##### Actor (01 to 24. Odd numbered actors are male, even numbered actors are female)."
   ]
  },
  {
   "cell_type": "code",
   "execution_count": 2,
   "id": "341bab43",
   "metadata": {
    "execution": {
     "iopub.execute_input": "2024-11-22T20:25:06.225111Z",
     "iopub.status.busy": "2024-11-22T20:25:06.224767Z",
     "iopub.status.idle": "2024-11-22T20:25:06.228293Z",
     "shell.execute_reply": "2024-11-22T20:25:06.227649Z"
    },
    "papermill": {
     "duration": 0.012679,
     "end_time": "2024-11-22T20:25:06.229769",
     "exception": false,
     "start_time": "2024-11-22T20:25:06.217090",
     "status": "completed"
    },
    "tags": []
   },
   "outputs": [],
   "source": [
    "## path to RAVDESS data\n",
    "rav_path = '/kaggle/input/ravdess-emotional-speech-audio'"
   ]
  },
  {
   "cell_type": "code",
   "execution_count": 3,
   "id": "ef8ded17",
   "metadata": {
    "execution": {
     "iopub.execute_input": "2024-11-22T20:25:06.244435Z",
     "iopub.status.busy": "2024-11-22T20:25:06.244185Z",
     "iopub.status.idle": "2024-11-22T20:25:06.247861Z",
     "shell.execute_reply": "2024-11-22T20:25:06.247190Z"
    },
    "papermill": {
     "duration": 0.012799,
     "end_time": "2024-11-22T20:25:06.249406",
     "exception": false,
     "start_time": "2024-11-22T20:25:06.236607",
     "status": "completed"
    },
    "tags": []
   },
   "outputs": [],
   "source": [
    "#label map for RAVDESS dataset which maps numerical value to emotion\n",
    "label_map_ravdess = {\n",
    "    '01' : 'neutral', '02' : 'calm', '03' : 'happy', '04' : 'sad', '05' : 'angry', '06' : 'fearful', '07' : 'disguist', '08' : 'surprised'\n",
    "}"
   ]
  },
  {
   "cell_type": "code",
   "execution_count": 4,
   "id": "7dbbc68a",
   "metadata": {
    "execution": {
     "iopub.execute_input": "2024-11-22T20:25:06.264068Z",
     "iopub.status.busy": "2024-11-22T20:25:06.263826Z",
     "iopub.status.idle": "2024-11-22T20:25:06.416260Z",
     "shell.execute_reply": "2024-11-22T20:25:06.415651Z"
    },
    "papermill": {
     "duration": 0.161563,
     "end_time": "2024-11-22T20:25:06.417935",
     "exception": false,
     "start_time": "2024-11-22T20:25:06.256372",
     "status": "completed"
    },
    "tags": []
   },
   "outputs": [],
   "source": [
    "#store speech file paths and corresponding emotion for RAVDESS Dataset\n",
    "ravdess_file_paths = []\n",
    "ravdess_labels = []\n",
    "\n",
    "for actor in os.listdir(rav_path):\n",
    "    ## path for one actor\n",
    "    actor_path = os.path.join(rav_path, actor)\n",
    "    ## one actor contains 60 files\n",
    "    for file in os.listdir(actor_path):\n",
    "        if file.startswith('0'):\n",
    "            file_path = os.path.join(actor_path, file)\n",
    "            ## storing the file paths in our list\n",
    "            ravdess_file_paths.append(file_path) \n",
    "            emotion = file[6:8]  #emotion is at index [6:8])\n",
    "            ## storing emotion corresponding to that file\n",
    "            ravdess_labels.append(label_map_ravdess[emotion])"
   ]
  },
  {
   "cell_type": "code",
   "execution_count": 5,
   "id": "bdc9fb47",
   "metadata": {
    "execution": {
     "iopub.execute_input": "2024-11-22T20:25:06.437485Z",
     "iopub.status.busy": "2024-11-22T20:25:06.437219Z",
     "iopub.status.idle": "2024-11-22T20:25:06.441634Z",
     "shell.execute_reply": "2024-11-22T20:25:06.440772Z"
    },
    "papermill": {
     "duration": 0.013718,
     "end_time": "2024-11-22T20:25:06.443431",
     "exception": false,
     "start_time": "2024-11-22T20:25:06.429713",
     "status": "completed"
    },
    "tags": []
   },
   "outputs": [
    {
     "name": "stdout",
     "output_type": "stream",
     "text": [
      "Total file paths : 1440\n",
      "Total labels : 1440\n"
     ]
    }
   ],
   "source": [
    "## lets check the length of ravdess files\n",
    "print(f\"Total file paths : {len(ravdess_file_paths)}\")\n",
    "print(f\"Total labels : {len(ravdess_labels)}\")"
   ]
  },
  {
   "cell_type": "code",
   "execution_count": 6,
   "id": "94658de2",
   "metadata": {
    "execution": {
     "iopub.execute_input": "2024-11-22T20:25:06.458968Z",
     "iopub.status.busy": "2024-11-22T20:25:06.458700Z",
     "iopub.status.idle": "2024-11-22T20:25:06.467110Z",
     "shell.execute_reply": "2024-11-22T20:25:06.466354Z"
    },
    "papermill": {
     "duration": 0.018038,
     "end_time": "2024-11-22T20:25:06.468787",
     "exception": false,
     "start_time": "2024-11-22T20:25:06.450749",
     "status": "completed"
    },
    "tags": []
   },
   "outputs": [
    {
     "data": {
      "text/plain": [
       "1440"
      ]
     },
     "execution_count": 6,
     "metadata": {},
     "output_type": "execute_result"
    }
   ],
   "source": [
    "#pandas dataframe for RAVDESS data\n",
    "rav_data = pd.DataFrame({\n",
    "    'paths' : ravdess_file_paths,\n",
    "    'emotions' : ravdess_labels\n",
    "})\n",
    "len(rav_data)"
   ]
  },
  {
   "cell_type": "markdown",
   "id": "d1e2e183",
   "metadata": {
    "papermill": {
     "duration": 0.006886,
     "end_time": "2024-11-22T20:25:06.482800",
     "exception": false,
     "start_time": "2024-11-22T20:25:06.475914",
     "status": "completed"
    },
    "tags": []
   },
   "source": [
    "## TESS Dataset\n",
    "\n",
    "#### There are a set of 200 target words were spoken in the carrier phrase \"Say the word _' by two actresses (aged 26 and 64 years) and recordings were made of the set portraying each of seven emotions (anger, disgust, fear, happiness, pleasant surprise, sadness, and neutral). There are 2800 data points (audio files) in total.\n",
    "\n",
    "#### 200 words * 2 actresses * for 7 emotions = 2800 data points"
   ]
  },
  {
   "cell_type": "code",
   "execution_count": 7,
   "id": "6b725779",
   "metadata": {
    "execution": {
     "iopub.execute_input": "2024-11-22T20:25:06.497582Z",
     "iopub.status.busy": "2024-11-22T20:25:06.497330Z",
     "iopub.status.idle": "2024-11-22T20:25:06.500535Z",
     "shell.execute_reply": "2024-11-22T20:25:06.499875Z"
    },
    "papermill": {
     "duration": 0.012285,
     "end_time": "2024-11-22T20:25:06.502032",
     "exception": false,
     "start_time": "2024-11-22T20:25:06.489747",
     "status": "completed"
    },
    "tags": []
   },
   "outputs": [],
   "source": [
    "## path to TESS data\n",
    "tess_path = '/kaggle/input/toronto-emotional-speech-set-tess/TESS Toronto emotional speech set data'"
   ]
  },
  {
   "cell_type": "code",
   "execution_count": 8,
   "id": "bd88709e",
   "metadata": {
    "execution": {
     "iopub.execute_input": "2024-11-22T20:25:06.517004Z",
     "iopub.status.busy": "2024-11-22T20:25:06.516757Z",
     "iopub.status.idle": "2024-11-22T20:25:06.614136Z",
     "shell.execute_reply": "2024-11-22T20:25:06.613284Z"
    },
    "papermill": {
     "duration": 0.106853,
     "end_time": "2024-11-22T20:25:06.615817",
     "exception": false,
     "start_time": "2024-11-22T20:25:06.508964",
     "status": "completed"
    },
    "tags": []
   },
   "outputs": [],
   "source": [
    "tess_file_paths = []\n",
    "tess_labels = []\n",
    "\n",
    "for folder in os.listdir(tess_path):\n",
    "    folder_path = os.path.join(tess_path, folder)\n",
    "    label = folder[4:] ## folder = OAF_Fear (take from index 4 to last)\n",
    "    label = label.lower() ## converting the string to lower\n",
    "    \n",
    "    for file in os.listdir(folder_path):\n",
    "        file_path = os.path.join(folder_path, file)\n",
    "        ## storing this file path in list\n",
    "        tess_file_paths.append(file_path)\n",
    "        ## storing the corresponding emotion\n",
    "        tess_labels.append(label) "
   ]
  },
  {
   "cell_type": "code",
   "execution_count": 9,
   "id": "acfd8bb7",
   "metadata": {
    "execution": {
     "iopub.execute_input": "2024-11-22T20:25:06.630861Z",
     "iopub.status.busy": "2024-11-22T20:25:06.630622Z",
     "iopub.status.idle": "2024-11-22T20:25:06.634677Z",
     "shell.execute_reply": "2024-11-22T20:25:06.633866Z"
    },
    "papermill": {
     "duration": 0.01327,
     "end_time": "2024-11-22T20:25:06.636288",
     "exception": false,
     "start_time": "2024-11-22T20:25:06.623018",
     "status": "completed"
    },
    "tags": []
   },
   "outputs": [
    {
     "name": "stdout",
     "output_type": "stream",
     "text": [
      "Total file from TESS : 2800\n",
      "Total emotions from TESS : 2800\n"
     ]
    }
   ],
   "source": [
    "##  check the length of how many file collected from TESS dataset\n",
    "print(f\"Total file from TESS : {len(tess_file_paths)}\")\n",
    "print(f\"Total emotions from TESS : {len(tess_labels)}\")"
   ]
  },
  {
   "cell_type": "code",
   "execution_count": 10,
   "id": "08562610",
   "metadata": {
    "execution": {
     "iopub.execute_input": "2024-11-22T20:25:06.652403Z",
     "iopub.status.busy": "2024-11-22T20:25:06.652155Z",
     "iopub.status.idle": "2024-11-22T20:25:06.667637Z",
     "shell.execute_reply": "2024-11-22T20:25:06.666789Z"
    },
    "papermill": {
     "duration": 0.025695,
     "end_time": "2024-11-22T20:25:06.669197",
     "exception": false,
     "start_time": "2024-11-22T20:25:06.643502",
     "status": "completed"
    },
    "tags": []
   },
   "outputs": [
    {
     "data": {
      "text/html": [
       "<div>\n",
       "<style scoped>\n",
       "    .dataframe tbody tr th:only-of-type {\n",
       "        vertical-align: middle;\n",
       "    }\n",
       "\n",
       "    .dataframe tbody tr th {\n",
       "        vertical-align: top;\n",
       "    }\n",
       "\n",
       "    .dataframe thead th {\n",
       "        text-align: right;\n",
       "    }\n",
       "</style>\n",
       "<table border=\"1\" class=\"dataframe\">\n",
       "  <thead>\n",
       "    <tr style=\"text-align: right;\">\n",
       "      <th></th>\n",
       "      <th>paths</th>\n",
       "      <th>emotions</th>\n",
       "    </tr>\n",
       "  </thead>\n",
       "  <tbody>\n",
       "    <tr>\n",
       "      <th>0</th>\n",
       "      <td>/kaggle/input/toronto-emotional-speech-set-tes...</td>\n",
       "      <td>fear</td>\n",
       "    </tr>\n",
       "    <tr>\n",
       "      <th>1</th>\n",
       "      <td>/kaggle/input/toronto-emotional-speech-set-tes...</td>\n",
       "      <td>fear</td>\n",
       "    </tr>\n",
       "    <tr>\n",
       "      <th>2</th>\n",
       "      <td>/kaggle/input/toronto-emotional-speech-set-tes...</td>\n",
       "      <td>fear</td>\n",
       "    </tr>\n",
       "    <tr>\n",
       "      <th>3</th>\n",
       "      <td>/kaggle/input/toronto-emotional-speech-set-tes...</td>\n",
       "      <td>fear</td>\n",
       "    </tr>\n",
       "    <tr>\n",
       "      <th>4</th>\n",
       "      <td>/kaggle/input/toronto-emotional-speech-set-tes...</td>\n",
       "      <td>fear</td>\n",
       "    </tr>\n",
       "  </tbody>\n",
       "</table>\n",
       "</div>"
      ],
      "text/plain": [
       "                                               paths emotions\n",
       "0  /kaggle/input/toronto-emotional-speech-set-tes...     fear\n",
       "1  /kaggle/input/toronto-emotional-speech-set-tes...     fear\n",
       "2  /kaggle/input/toronto-emotional-speech-set-tes...     fear\n",
       "3  /kaggle/input/toronto-emotional-speech-set-tes...     fear\n",
       "4  /kaggle/input/toronto-emotional-speech-set-tes...     fear"
      ]
     },
     "execution_count": 10,
     "metadata": {},
     "output_type": "execute_result"
    }
   ],
   "source": [
    "#a pandas dataframe for tess data also\n",
    "tess_data = pd.DataFrame({\n",
    "    'paths' : tess_file_paths,\n",
    "    'emotions' : tess_labels\n",
    "})\n",
    "\n",
    "tess_data.head()"
   ]
  },
  {
   "cell_type": "markdown",
   "id": "74332283",
   "metadata": {
    "papermill": {
     "duration": 0.007167,
     "end_time": "2024-11-22T20:25:06.683830",
     "exception": false,
     "start_time": "2024-11-22T20:25:06.676663",
     "status": "completed"
    },
    "tags": []
   },
   "source": [
    "## Make same unique emotions in both dataset so we can combine them"
   ]
  },
  {
   "cell_type": "code",
   "execution_count": 11,
   "id": "6e9cf236",
   "metadata": {
    "execution": {
     "iopub.execute_input": "2024-11-22T20:25:06.699618Z",
     "iopub.status.busy": "2024-11-22T20:25:06.699141Z",
     "iopub.status.idle": "2024-11-22T20:25:06.708609Z",
     "shell.execute_reply": "2024-11-22T20:25:06.707824Z"
    },
    "papermill": {
     "duration": 0.01889,
     "end_time": "2024-11-22T20:25:06.710110",
     "exception": false,
     "start_time": "2024-11-22T20:25:06.691220",
     "status": "completed"
    },
    "tags": []
   },
   "outputs": [
    {
     "data": {
      "text/plain": [
       "array(['surprised', 'neutral', 'disguist', 'fearful', 'sad', 'calm',\n",
       "       'happy', 'angry'], dtype=object)"
      ]
     },
     "execution_count": 11,
     "metadata": {},
     "output_type": "execute_result"
    }
   ],
   "source": [
    "## unique emotions in REVDESS dataset\n",
    "rav_data['emotions'].unique()"
   ]
  },
  {
   "cell_type": "code",
   "execution_count": 12,
   "id": "4dfc4188",
   "metadata": {
    "execution": {
     "iopub.execute_input": "2024-11-22T20:25:06.725613Z",
     "iopub.status.busy": "2024-11-22T20:25:06.725356Z",
     "iopub.status.idle": "2024-11-22T20:25:06.730335Z",
     "shell.execute_reply": "2024-11-22T20:25:06.729710Z"
    },
    "papermill": {
     "duration": 0.014592,
     "end_time": "2024-11-22T20:25:06.731843",
     "exception": false,
     "start_time": "2024-11-22T20:25:06.717251",
     "status": "completed"
    },
    "tags": []
   },
   "outputs": [
    {
     "data": {
      "text/plain": [
       "array(['fear', 'angry', 'disgust', 'neutral', 'sad', 'pleasant_surprise',\n",
       "       'happy', 'pleasant_surprised'], dtype=object)"
      ]
     },
     "execution_count": 12,
     "metadata": {},
     "output_type": "execute_result"
    }
   ],
   "source": [
    "## unique emotions in TESS dataset\n",
    "tess_data['emotions'].unique()"
   ]
  },
  {
   "cell_type": "code",
   "execution_count": 13,
   "id": "67671c3d",
   "metadata": {
    "execution": {
     "iopub.execute_input": "2024-11-22T20:25:06.747201Z",
     "iopub.status.busy": "2024-11-22T20:25:06.746989Z",
     "iopub.status.idle": "2024-11-22T20:25:06.755004Z",
     "shell.execute_reply": "2024-11-22T20:25:06.754291Z"
    },
    "papermill": {
     "duration": 0.017365,
     "end_time": "2024-11-22T20:25:06.756464",
     "exception": false,
     "start_time": "2024-11-22T20:25:06.739099",
     "status": "completed"
    },
    "tags": []
   },
   "outputs": [
    {
     "data": {
      "text/plain": [
       "array(['fearful', 'angry', 'disguist', 'neutral', 'sad', 'surprised',\n",
       "       'happy'], dtype=object)"
      ]
     },
     "execution_count": 13,
     "metadata": {},
     "output_type": "execute_result"
    }
   ],
   "source": [
    "tess_data['emotions'] = tess_data['emotions'].replace({\n",
    "    'pleasant_surprise' : 'surprised',\n",
    "    'pleasant_surprised' : 'surprised',\n",
    "    'fear' : 'fearful',\n",
    "    'disgust' : 'disguist'\n",
    "})\n",
    "\n",
    "## now check unique emotions\n",
    "tess_data['emotions'].unique()"
   ]
  },
  {
   "cell_type": "markdown",
   "id": "02c32440",
   "metadata": {
    "papermill": {
     "duration": 0.007184,
     "end_time": "2024-11-22T20:25:06.770892",
     "exception": false,
     "start_time": "2024-11-22T20:25:06.763708",
     "status": "completed"
    },
    "tags": []
   },
   "source": [
    "## Combining both RAVDESS and TESS dataframes"
   ]
  },
  {
   "cell_type": "code",
   "execution_count": 14,
   "id": "d63424f8",
   "metadata": {
    "execution": {
     "iopub.execute_input": "2024-11-22T20:25:06.786975Z",
     "iopub.status.busy": "2024-11-22T20:25:06.786746Z",
     "iopub.status.idle": "2024-11-22T20:25:06.798634Z",
     "shell.execute_reply": "2024-11-22T20:25:06.797865Z"
    },
    "papermill": {
     "duration": 0.021563,
     "end_time": "2024-11-22T20:25:06.800195",
     "exception": false,
     "start_time": "2024-11-22T20:25:06.778632",
     "status": "completed"
    },
    "tags": []
   },
   "outputs": [
    {
     "data": {
      "text/html": [
       "<div>\n",
       "<style scoped>\n",
       "    .dataframe tbody tr th:only-of-type {\n",
       "        vertical-align: middle;\n",
       "    }\n",
       "\n",
       "    .dataframe tbody tr th {\n",
       "        vertical-align: top;\n",
       "    }\n",
       "\n",
       "    .dataframe thead th {\n",
       "        text-align: right;\n",
       "    }\n",
       "</style>\n",
       "<table border=\"1\" class=\"dataframe\">\n",
       "  <thead>\n",
       "    <tr style=\"text-align: right;\">\n",
       "      <th></th>\n",
       "      <th>paths</th>\n",
       "      <th>emotions</th>\n",
       "    </tr>\n",
       "  </thead>\n",
       "  <tbody>\n",
       "    <tr>\n",
       "      <th>0</th>\n",
       "      <td>/kaggle/input/ravdess-emotional-speech-audio/A...</td>\n",
       "      <td>surprised</td>\n",
       "    </tr>\n",
       "    <tr>\n",
       "      <th>1</th>\n",
       "      <td>/kaggle/input/ravdess-emotional-speech-audio/A...</td>\n",
       "      <td>neutral</td>\n",
       "    </tr>\n",
       "    <tr>\n",
       "      <th>2</th>\n",
       "      <td>/kaggle/input/ravdess-emotional-speech-audio/A...</td>\n",
       "      <td>disguist</td>\n",
       "    </tr>\n",
       "    <tr>\n",
       "      <th>3</th>\n",
       "      <td>/kaggle/input/ravdess-emotional-speech-audio/A...</td>\n",
       "      <td>disguist</td>\n",
       "    </tr>\n",
       "    <tr>\n",
       "      <th>4</th>\n",
       "      <td>/kaggle/input/ravdess-emotional-speech-audio/A...</td>\n",
       "      <td>neutral</td>\n",
       "    </tr>\n",
       "  </tbody>\n",
       "</table>\n",
       "</div>"
      ],
      "text/plain": [
       "                                               paths   emotions\n",
       "0  /kaggle/input/ravdess-emotional-speech-audio/A...  surprised\n",
       "1  /kaggle/input/ravdess-emotional-speech-audio/A...    neutral\n",
       "2  /kaggle/input/ravdess-emotional-speech-audio/A...   disguist\n",
       "3  /kaggle/input/ravdess-emotional-speech-audio/A...   disguist\n",
       "4  /kaggle/input/ravdess-emotional-speech-audio/A...    neutral"
      ]
     },
     "execution_count": 14,
     "metadata": {},
     "output_type": "execute_result"
    }
   ],
   "source": [
    "emotion_data = pd.concat([rav_data, tess_data], axis=0).reset_index(drop=True) ## reassigns the index so it’s sequential from 0, without adding an extra index column.\n",
    "emotion_data.head()"
   ]
  },
  {
   "cell_type": "code",
   "execution_count": 15,
   "id": "0092ecff",
   "metadata": {
    "execution": {
     "iopub.execute_input": "2024-11-22T20:25:06.816151Z",
     "iopub.status.busy": "2024-11-22T20:25:06.815940Z",
     "iopub.status.idle": "2024-11-22T20:25:06.819734Z",
     "shell.execute_reply": "2024-11-22T20:25:06.818960Z"
    },
    "papermill": {
     "duration": 0.013718,
     "end_time": "2024-11-22T20:25:06.821486",
     "exception": false,
     "start_time": "2024-11-22T20:25:06.807768",
     "status": "completed"
    },
    "tags": []
   },
   "outputs": [
    {
     "name": "stdout",
     "output_type": "stream",
     "text": [
      "Length of combined data : 4240\n"
     ]
    }
   ],
   "source": [
    "print(f\"Length of combined data : {emotion_data.shape[0]}\")"
   ]
  },
  {
   "cell_type": "code",
   "execution_count": 16,
   "id": "3fa60b04",
   "metadata": {
    "execution": {
     "iopub.execute_input": "2024-11-22T20:25:06.837684Z",
     "iopub.status.busy": "2024-11-22T20:25:06.837416Z",
     "iopub.status.idle": "2024-11-22T20:25:06.842242Z",
     "shell.execute_reply": "2024-11-22T20:25:06.841372Z"
    },
    "papermill": {
     "duration": 0.014944,
     "end_time": "2024-11-22T20:25:06.843911",
     "exception": false,
     "start_time": "2024-11-22T20:25:06.828967",
     "status": "completed"
    },
    "tags": []
   },
   "outputs": [
    {
     "name": "stdout",
     "output_type": "stream",
     "text": [
      "Number of unique emotions : 8\n",
      "['surprised' 'neutral' 'disguist' 'fearful' 'sad' 'calm' 'happy' 'angry']\n"
     ]
    }
   ],
   "source": [
    "unique_emotions = emotion_data['emotions'].unique()\n",
    "print(f\"Number of unique emotions : {len(unique_emotions)}\")\n",
    "print(unique_emotions)"
   ]
  },
  {
   "cell_type": "markdown",
   "id": "8bdd0d1d",
   "metadata": {
    "papermill": {
     "duration": 0.007339,
     "end_time": "2024-11-22T20:25:06.858851",
     "exception": false,
     "start_time": "2024-11-22T20:25:06.851512",
     "status": "completed"
    },
    "tags": []
   },
   "source": [
    "## Extracting features from audio file paths"
   ]
  },
  {
   "cell_type": "code",
   "execution_count": 17,
   "id": "cae8d19d",
   "metadata": {
    "execution": {
     "iopub.execute_input": "2024-11-22T20:25:06.875498Z",
     "iopub.status.busy": "2024-11-22T20:25:06.874804Z",
     "iopub.status.idle": "2024-11-22T20:25:06.888059Z",
     "shell.execute_reply": "2024-11-22T20:25:06.887264Z"
    },
    "papermill": {
     "duration": 0.023048,
     "end_time": "2024-11-22T20:25:06.889577",
     "exception": false,
     "start_time": "2024-11-22T20:25:06.866529",
     "status": "completed"
    },
    "tags": []
   },
   "outputs": [],
   "source": [
    "import librosa"
   ]
  },
  {
   "cell_type": "code",
   "execution_count": 18,
   "id": "5fca9e4a",
   "metadata": {
    "execution": {
     "iopub.execute_input": "2024-11-22T20:25:06.905759Z",
     "iopub.status.busy": "2024-11-22T20:25:06.905484Z",
     "iopub.status.idle": "2024-11-22T20:25:06.910327Z",
     "shell.execute_reply": "2024-11-22T20:25:06.909671Z"
    },
    "papermill": {
     "duration": 0.014885,
     "end_time": "2024-11-22T20:25:06.911990",
     "exception": false,
     "start_time": "2024-11-22T20:25:06.897105",
     "status": "completed"
    },
    "tags": []
   },
   "outputs": [
    {
     "data": {
      "text/plain": [
       "'/kaggle/input/ravdess-emotional-speech-audio/Actor_02/03-01-08-01-01-01-02.wav'"
      ]
     },
     "execution_count": 18,
     "metadata": {},
     "output_type": "execute_result"
    }
   ],
   "source": [
    "emotion_data.loc[0, 'paths']"
   ]
  },
  {
   "cell_type": "code",
   "execution_count": 19,
   "id": "34452aaa",
   "metadata": {
    "execution": {
     "iopub.execute_input": "2024-11-22T20:25:06.928189Z",
     "iopub.status.busy": "2024-11-22T20:25:06.927954Z",
     "iopub.status.idle": "2024-11-22T20:27:59.736304Z",
     "shell.execute_reply": "2024-11-22T20:27:59.734952Z"
    },
    "papermill": {
     "duration": 172.820891,
     "end_time": "2024-11-22T20:27:59.740503",
     "exception": false,
     "start_time": "2024-11-22T20:25:06.919612",
     "status": "completed"
    },
    "tags": []
   },
   "outputs": [],
   "source": [
    "#extract MEL and MFCC features \n",
    "mel_features = []\n",
    "mfcc_features = []\n",
    "\n",
    "for i in range(len(emotion_data)):\n",
    "    ## loading the audio file\n",
    "    data, sample_rate = librosa.load(emotion_data.loc[i, 'paths'])\n",
    "    ## extracting MEL features\n",
    "    mel_features.append(np.mean(librosa.feature.melspectrogram(y=data, sr=sample_rate).T, axis= 0))\n",
    "    ## extracting MFCC features\n",
    "    mfcc_features.append(np.mean(librosa.feature.mfcc(y=data, sr=sample_rate, n_mfcc= 13).T, axis=0))"
   ]
  },
  {
   "cell_type": "code",
   "execution_count": 20,
   "id": "7a608ef4",
   "metadata": {
    "execution": {
     "iopub.execute_input": "2024-11-22T20:27:59.791285Z",
     "iopub.status.busy": "2024-11-22T20:27:59.789975Z",
     "iopub.status.idle": "2024-11-22T20:27:59.812075Z",
     "shell.execute_reply": "2024-11-22T20:27:59.809287Z"
    },
    "papermill": {
     "duration": 0.051099,
     "end_time": "2024-11-22T20:27:59.815452",
     "exception": false,
     "start_time": "2024-11-22T20:27:59.764353",
     "status": "completed"
    },
    "tags": []
   },
   "outputs": [
    {
     "name": "stdout",
     "output_type": "stream",
     "text": [
      "Shape of MEL features : (4240, 128)\n",
      "Shape of MFCC features : (4240, 13)\n"
     ]
    }
   ],
   "source": [
    "#convert both mel_features and mfcc_features list to arrays\n",
    "mel_features_array = np.array(mel_features)\n",
    "mfcc_features_array = np.array(mfcc_features)\n",
    "\n",
    "\n",
    "print(f\"Shape of MEL features : {mel_features_array.shape}\")\n",
    "print(f\"Shape of MFCC features : {mfcc_features_array.shape}\")"
   ]
  },
  {
   "cell_type": "markdown",
   "id": "f15d3b37",
   "metadata": {
    "papermill": {
     "duration": 0.025071,
     "end_time": "2024-11-22T20:27:59.863776",
     "exception": false,
     "start_time": "2024-11-22T20:27:59.838705",
     "status": "completed"
    },
    "tags": []
   },
   "source": [
    "#### We can stack these horizontally so that total features can be 128 + 13 = 141 (mel + mfcc)"
   ]
  },
  {
   "cell_type": "code",
   "execution_count": 21,
   "id": "905ab700",
   "metadata": {
    "execution": {
     "iopub.execute_input": "2024-11-22T20:27:59.884403Z",
     "iopub.status.busy": "2024-11-22T20:27:59.884113Z",
     "iopub.status.idle": "2024-11-22T20:27:59.891065Z",
     "shell.execute_reply": "2024-11-22T20:27:59.890030Z"
    },
    "papermill": {
     "duration": 0.018502,
     "end_time": "2024-11-22T20:27:59.892811",
     "exception": false,
     "start_time": "2024-11-22T20:27:59.874309",
     "status": "completed"
    },
    "tags": []
   },
   "outputs": [
    {
     "name": "stdout",
     "output_type": "stream",
     "text": [
      "Shape of feature data : (4240, 141)\n"
     ]
    }
   ],
   "source": [
    "features = np.hstack((mel_features_array, mfcc_features_array))\n",
    "\n",
    "print(f\"Shape of feature data : {features.shape}\")"
   ]
  },
  {
   "cell_type": "code",
   "execution_count": 22,
   "id": "3a09abb7",
   "metadata": {
    "execution": {
     "iopub.execute_input": "2024-11-22T20:27:59.911922Z",
     "iopub.status.busy": "2024-11-22T20:27:59.911207Z",
     "iopub.status.idle": "2024-11-22T20:27:59.941405Z",
     "shell.execute_reply": "2024-11-22T20:27:59.940431Z"
    },
    "papermill": {
     "duration": 0.041576,
     "end_time": "2024-11-22T20:27:59.943229",
     "exception": false,
     "start_time": "2024-11-22T20:27:59.901653",
     "status": "completed"
    },
    "tags": []
   },
   "outputs": [
    {
     "data": {
      "text/html": [
       "<div>\n",
       "<style scoped>\n",
       "    .dataframe tbody tr th:only-of-type {\n",
       "        vertical-align: middle;\n",
       "    }\n",
       "\n",
       "    .dataframe tbody tr th {\n",
       "        vertical-align: top;\n",
       "    }\n",
       "\n",
       "    .dataframe thead th {\n",
       "        text-align: right;\n",
       "    }\n",
       "</style>\n",
       "<table border=\"1\" class=\"dataframe\">\n",
       "  <thead>\n",
       "    <tr style=\"text-align: right;\">\n",
       "      <th></th>\n",
       "      <th>paths</th>\n",
       "      <th>emotions</th>\n",
       "      <th>0</th>\n",
       "      <th>1</th>\n",
       "      <th>2</th>\n",
       "      <th>3</th>\n",
       "      <th>4</th>\n",
       "      <th>5</th>\n",
       "      <th>6</th>\n",
       "      <th>7</th>\n",
       "      <th>...</th>\n",
       "      <th>131</th>\n",
       "      <th>132</th>\n",
       "      <th>133</th>\n",
       "      <th>134</th>\n",
       "      <th>135</th>\n",
       "      <th>136</th>\n",
       "      <th>137</th>\n",
       "      <th>138</th>\n",
       "      <th>139</th>\n",
       "      <th>140</th>\n",
       "    </tr>\n",
       "  </thead>\n",
       "  <tbody>\n",
       "    <tr>\n",
       "      <th>0</th>\n",
       "      <td>/kaggle/input/ravdess-emotional-speech-audio/A...</td>\n",
       "      <td>surprised</td>\n",
       "      <td>0.005195</td>\n",
       "      <td>0.001722</td>\n",
       "      <td>0.000349</td>\n",
       "      <td>0.000140</td>\n",
       "      <td>0.000114</td>\n",
       "      <td>0.002602</td>\n",
       "      <td>0.024531</td>\n",
       "      <td>0.074840</td>\n",
       "      <td>...</td>\n",
       "      <td>10.058561</td>\n",
       "      <td>-7.268933</td>\n",
       "      <td>-7.338441</td>\n",
       "      <td>-3.074346</td>\n",
       "      <td>-5.954073</td>\n",
       "      <td>-3.085561</td>\n",
       "      <td>-3.633329</td>\n",
       "      <td>-4.091269</td>\n",
       "      <td>-4.767273</td>\n",
       "      <td>-3.258367</td>\n",
       "    </tr>\n",
       "    <tr>\n",
       "      <th>1</th>\n",
       "      <td>/kaggle/input/ravdess-emotional-speech-audio/A...</td>\n",
       "      <td>neutral</td>\n",
       "      <td>0.000012</td>\n",
       "      <td>0.000052</td>\n",
       "      <td>0.000112</td>\n",
       "      <td>0.000077</td>\n",
       "      <td>0.000056</td>\n",
       "      <td>0.000891</td>\n",
       "      <td>0.010599</td>\n",
       "      <td>0.067308</td>\n",
       "      <td>...</td>\n",
       "      <td>8.411754</td>\n",
       "      <td>-4.387535</td>\n",
       "      <td>-3.765707</td>\n",
       "      <td>-5.362752</td>\n",
       "      <td>-8.610383</td>\n",
       "      <td>-3.971551</td>\n",
       "      <td>-0.895974</td>\n",
       "      <td>-4.721406</td>\n",
       "      <td>-1.995389</td>\n",
       "      <td>-5.056729</td>\n",
       "    </tr>\n",
       "    <tr>\n",
       "      <th>2</th>\n",
       "      <td>/kaggle/input/ravdess-emotional-speech-audio/A...</td>\n",
       "      <td>disguist</td>\n",
       "      <td>0.000013</td>\n",
       "      <td>0.000043</td>\n",
       "      <td>0.000094</td>\n",
       "      <td>0.000146</td>\n",
       "      <td>0.000199</td>\n",
       "      <td>0.006029</td>\n",
       "      <td>0.018402</td>\n",
       "      <td>0.057368</td>\n",
       "      <td>...</td>\n",
       "      <td>5.837509</td>\n",
       "      <td>-11.664725</td>\n",
       "      <td>-2.112240</td>\n",
       "      <td>-5.376718</td>\n",
       "      <td>-11.543213</td>\n",
       "      <td>-5.600093</td>\n",
       "      <td>0.080801</td>\n",
       "      <td>-5.487411</td>\n",
       "      <td>-2.752090</td>\n",
       "      <td>-6.636899</td>\n",
       "    </tr>\n",
       "    <tr>\n",
       "      <th>3</th>\n",
       "      <td>/kaggle/input/ravdess-emotional-speech-audio/A...</td>\n",
       "      <td>disguist</td>\n",
       "      <td>0.000004</td>\n",
       "      <td>0.000011</td>\n",
       "      <td>0.000046</td>\n",
       "      <td>0.000119</td>\n",
       "      <td>0.000313</td>\n",
       "      <td>0.004024</td>\n",
       "      <td>0.025942</td>\n",
       "      <td>0.068099</td>\n",
       "      <td>...</td>\n",
       "      <td>9.040555</td>\n",
       "      <td>-9.703859</td>\n",
       "      <td>-0.132379</td>\n",
       "      <td>-8.262967</td>\n",
       "      <td>-13.345395</td>\n",
       "      <td>-6.544706</td>\n",
       "      <td>0.045263</td>\n",
       "      <td>-6.350311</td>\n",
       "      <td>-2.791579</td>\n",
       "      <td>-7.690273</td>\n",
       "    </tr>\n",
       "    <tr>\n",
       "      <th>4</th>\n",
       "      <td>/kaggle/input/ravdess-emotional-speech-audio/A...</td>\n",
       "      <td>neutral</td>\n",
       "      <td>0.000017</td>\n",
       "      <td>0.000077</td>\n",
       "      <td>0.000168</td>\n",
       "      <td>0.000099</td>\n",
       "      <td>0.000120</td>\n",
       "      <td>0.001180</td>\n",
       "      <td>0.013695</td>\n",
       "      <td>0.061049</td>\n",
       "      <td>...</td>\n",
       "      <td>4.765818</td>\n",
       "      <td>-4.809168</td>\n",
       "      <td>-3.219578</td>\n",
       "      <td>-5.721809</td>\n",
       "      <td>-9.393639</td>\n",
       "      <td>-5.245095</td>\n",
       "      <td>-1.987432</td>\n",
       "      <td>-5.037799</td>\n",
       "      <td>-2.868664</td>\n",
       "      <td>-6.420317</td>\n",
       "    </tr>\n",
       "  </tbody>\n",
       "</table>\n",
       "<p>5 rows × 143 columns</p>\n",
       "</div>"
      ],
      "text/plain": [
       "                                               paths   emotions         0  \\\n",
       "0  /kaggle/input/ravdess-emotional-speech-audio/A...  surprised  0.005195   \n",
       "1  /kaggle/input/ravdess-emotional-speech-audio/A...    neutral  0.000012   \n",
       "2  /kaggle/input/ravdess-emotional-speech-audio/A...   disguist  0.000013   \n",
       "3  /kaggle/input/ravdess-emotional-speech-audio/A...   disguist  0.000004   \n",
       "4  /kaggle/input/ravdess-emotional-speech-audio/A...    neutral  0.000017   \n",
       "\n",
       "          1         2         3         4         5         6         7  ...  \\\n",
       "0  0.001722  0.000349  0.000140  0.000114  0.002602  0.024531  0.074840  ...   \n",
       "1  0.000052  0.000112  0.000077  0.000056  0.000891  0.010599  0.067308  ...   \n",
       "2  0.000043  0.000094  0.000146  0.000199  0.006029  0.018402  0.057368  ...   \n",
       "3  0.000011  0.000046  0.000119  0.000313  0.004024  0.025942  0.068099  ...   \n",
       "4  0.000077  0.000168  0.000099  0.000120  0.001180  0.013695  0.061049  ...   \n",
       "\n",
       "         131        132       133       134        135       136       137  \\\n",
       "0  10.058561  -7.268933 -7.338441 -3.074346  -5.954073 -3.085561 -3.633329   \n",
       "1   8.411754  -4.387535 -3.765707 -5.362752  -8.610383 -3.971551 -0.895974   \n",
       "2   5.837509 -11.664725 -2.112240 -5.376718 -11.543213 -5.600093  0.080801   \n",
       "3   9.040555  -9.703859 -0.132379 -8.262967 -13.345395 -6.544706  0.045263   \n",
       "4   4.765818  -4.809168 -3.219578 -5.721809  -9.393639 -5.245095 -1.987432   \n",
       "\n",
       "        138       139       140  \n",
       "0 -4.091269 -4.767273 -3.258367  \n",
       "1 -4.721406 -1.995389 -5.056729  \n",
       "2 -5.487411 -2.752090 -6.636899  \n",
       "3 -6.350311 -2.791579 -7.690273  \n",
       "4 -5.037799 -2.868664 -6.420317  \n",
       "\n",
       "[5 rows x 143 columns]"
      ]
     },
     "execution_count": 22,
     "metadata": {},
     "output_type": "execute_result"
    }
   ],
   "source": [
    "#datagframe containing features and corresponding emotions\n",
    "df_features = pd.DataFrame(features)\n",
    "data = pd.concat([emotion_data, df_features], axis=1)\n",
    "data.head()"
   ]
  },
  {
   "cell_type": "code",
   "execution_count": 23,
   "id": "fa1af6b2",
   "metadata": {
    "execution": {
     "iopub.execute_input": "2024-11-22T20:27:59.962227Z",
     "iopub.status.busy": "2024-11-22T20:27:59.961949Z",
     "iopub.status.idle": "2024-11-22T20:27:59.986004Z",
     "shell.execute_reply": "2024-11-22T20:27:59.985084Z"
    },
    "papermill": {
     "duration": 0.035386,
     "end_time": "2024-11-22T20:27:59.987700",
     "exception": false,
     "start_time": "2024-11-22T20:27:59.952314",
     "status": "completed"
    },
    "tags": []
   },
   "outputs": [
    {
     "data": {
      "text/html": [
       "<div>\n",
       "<style scoped>\n",
       "    .dataframe tbody tr th:only-of-type {\n",
       "        vertical-align: middle;\n",
       "    }\n",
       "\n",
       "    .dataframe tbody tr th {\n",
       "        vertical-align: top;\n",
       "    }\n",
       "\n",
       "    .dataframe thead th {\n",
       "        text-align: right;\n",
       "    }\n",
       "</style>\n",
       "<table border=\"1\" class=\"dataframe\">\n",
       "  <thead>\n",
       "    <tr style=\"text-align: right;\">\n",
       "      <th></th>\n",
       "      <th>emotions</th>\n",
       "      <th>0</th>\n",
       "      <th>1</th>\n",
       "      <th>2</th>\n",
       "      <th>3</th>\n",
       "      <th>4</th>\n",
       "      <th>5</th>\n",
       "      <th>6</th>\n",
       "      <th>7</th>\n",
       "      <th>8</th>\n",
       "      <th>...</th>\n",
       "      <th>131</th>\n",
       "      <th>132</th>\n",
       "      <th>133</th>\n",
       "      <th>134</th>\n",
       "      <th>135</th>\n",
       "      <th>136</th>\n",
       "      <th>137</th>\n",
       "      <th>138</th>\n",
       "      <th>139</th>\n",
       "      <th>140</th>\n",
       "    </tr>\n",
       "  </thead>\n",
       "  <tbody>\n",
       "    <tr>\n",
       "      <th>0</th>\n",
       "      <td>surprised</td>\n",
       "      <td>0.005195</td>\n",
       "      <td>0.001722</td>\n",
       "      <td>0.000349</td>\n",
       "      <td>0.000140</td>\n",
       "      <td>0.000114</td>\n",
       "      <td>0.002602</td>\n",
       "      <td>0.024531</td>\n",
       "      <td>0.074840</td>\n",
       "      <td>0.096236</td>\n",
       "      <td>...</td>\n",
       "      <td>10.058561</td>\n",
       "      <td>-7.268933</td>\n",
       "      <td>-7.338441</td>\n",
       "      <td>-3.074346</td>\n",
       "      <td>-5.954073</td>\n",
       "      <td>-3.085561</td>\n",
       "      <td>-3.633329</td>\n",
       "      <td>-4.091269</td>\n",
       "      <td>-4.767273</td>\n",
       "      <td>-3.258367</td>\n",
       "    </tr>\n",
       "    <tr>\n",
       "      <th>1</th>\n",
       "      <td>neutral</td>\n",
       "      <td>0.000012</td>\n",
       "      <td>0.000052</td>\n",
       "      <td>0.000112</td>\n",
       "      <td>0.000077</td>\n",
       "      <td>0.000056</td>\n",
       "      <td>0.000891</td>\n",
       "      <td>0.010599</td>\n",
       "      <td>0.067308</td>\n",
       "      <td>0.132182</td>\n",
       "      <td>...</td>\n",
       "      <td>8.411754</td>\n",
       "      <td>-4.387535</td>\n",
       "      <td>-3.765707</td>\n",
       "      <td>-5.362752</td>\n",
       "      <td>-8.610383</td>\n",
       "      <td>-3.971551</td>\n",
       "      <td>-0.895974</td>\n",
       "      <td>-4.721406</td>\n",
       "      <td>-1.995389</td>\n",
       "      <td>-5.056729</td>\n",
       "    </tr>\n",
       "    <tr>\n",
       "      <th>2</th>\n",
       "      <td>disguist</td>\n",
       "      <td>0.000013</td>\n",
       "      <td>0.000043</td>\n",
       "      <td>0.000094</td>\n",
       "      <td>0.000146</td>\n",
       "      <td>0.000199</td>\n",
       "      <td>0.006029</td>\n",
       "      <td>0.018402</td>\n",
       "      <td>0.057368</td>\n",
       "      <td>0.154142</td>\n",
       "      <td>...</td>\n",
       "      <td>5.837509</td>\n",
       "      <td>-11.664725</td>\n",
       "      <td>-2.112240</td>\n",
       "      <td>-5.376718</td>\n",
       "      <td>-11.543213</td>\n",
       "      <td>-5.600093</td>\n",
       "      <td>0.080801</td>\n",
       "      <td>-5.487411</td>\n",
       "      <td>-2.752090</td>\n",
       "      <td>-6.636899</td>\n",
       "    </tr>\n",
       "    <tr>\n",
       "      <th>3</th>\n",
       "      <td>disguist</td>\n",
       "      <td>0.000004</td>\n",
       "      <td>0.000011</td>\n",
       "      <td>0.000046</td>\n",
       "      <td>0.000119</td>\n",
       "      <td>0.000313</td>\n",
       "      <td>0.004024</td>\n",
       "      <td>0.025942</td>\n",
       "      <td>0.068099</td>\n",
       "      <td>0.053077</td>\n",
       "      <td>...</td>\n",
       "      <td>9.040555</td>\n",
       "      <td>-9.703859</td>\n",
       "      <td>-0.132379</td>\n",
       "      <td>-8.262967</td>\n",
       "      <td>-13.345395</td>\n",
       "      <td>-6.544706</td>\n",
       "      <td>0.045263</td>\n",
       "      <td>-6.350311</td>\n",
       "      <td>-2.791579</td>\n",
       "      <td>-7.690273</td>\n",
       "    </tr>\n",
       "    <tr>\n",
       "      <th>4</th>\n",
       "      <td>neutral</td>\n",
       "      <td>0.000017</td>\n",
       "      <td>0.000077</td>\n",
       "      <td>0.000168</td>\n",
       "      <td>0.000099</td>\n",
       "      <td>0.000120</td>\n",
       "      <td>0.001180</td>\n",
       "      <td>0.013695</td>\n",
       "      <td>0.061049</td>\n",
       "      <td>0.191830</td>\n",
       "      <td>...</td>\n",
       "      <td>4.765818</td>\n",
       "      <td>-4.809168</td>\n",
       "      <td>-3.219578</td>\n",
       "      <td>-5.721809</td>\n",
       "      <td>-9.393639</td>\n",
       "      <td>-5.245095</td>\n",
       "      <td>-1.987432</td>\n",
       "      <td>-5.037799</td>\n",
       "      <td>-2.868664</td>\n",
       "      <td>-6.420317</td>\n",
       "    </tr>\n",
       "  </tbody>\n",
       "</table>\n",
       "<p>5 rows × 142 columns</p>\n",
       "</div>"
      ],
      "text/plain": [
       "    emotions         0         1         2         3         4         5  \\\n",
       "0  surprised  0.005195  0.001722  0.000349  0.000140  0.000114  0.002602   \n",
       "1    neutral  0.000012  0.000052  0.000112  0.000077  0.000056  0.000891   \n",
       "2   disguist  0.000013  0.000043  0.000094  0.000146  0.000199  0.006029   \n",
       "3   disguist  0.000004  0.000011  0.000046  0.000119  0.000313  0.004024   \n",
       "4    neutral  0.000017  0.000077  0.000168  0.000099  0.000120  0.001180   \n",
       "\n",
       "          6         7         8  ...        131        132       133  \\\n",
       "0  0.024531  0.074840  0.096236  ...  10.058561  -7.268933 -7.338441   \n",
       "1  0.010599  0.067308  0.132182  ...   8.411754  -4.387535 -3.765707   \n",
       "2  0.018402  0.057368  0.154142  ...   5.837509 -11.664725 -2.112240   \n",
       "3  0.025942  0.068099  0.053077  ...   9.040555  -9.703859 -0.132379   \n",
       "4  0.013695  0.061049  0.191830  ...   4.765818  -4.809168 -3.219578   \n",
       "\n",
       "        134        135       136       137       138       139       140  \n",
       "0 -3.074346  -5.954073 -3.085561 -3.633329 -4.091269 -4.767273 -3.258367  \n",
       "1 -5.362752  -8.610383 -3.971551 -0.895974 -4.721406 -1.995389 -5.056729  \n",
       "2 -5.376718 -11.543213 -5.600093  0.080801 -5.487411 -2.752090 -6.636899  \n",
       "3 -8.262967 -13.345395 -6.544706  0.045263 -6.350311 -2.791579 -7.690273  \n",
       "4 -5.721809  -9.393639 -5.245095 -1.987432 -5.037799 -2.868664 -6.420317  \n",
       "\n",
       "[5 rows x 142 columns]"
      ]
     },
     "execution_count": 23,
     "metadata": {},
     "output_type": "execute_result"
    }
   ],
   "source": [
    "data_new = data.drop(columns=['paths'])\n",
    "data_new.head()"
   ]
  },
  {
   "cell_type": "markdown",
   "id": "084e9f83",
   "metadata": {
    "papermill": {
     "duration": 0.008578,
     "end_time": "2024-11-22T20:28:00.005252",
     "exception": false,
     "start_time": "2024-11-22T20:27:59.996674",
     "status": "completed"
    },
    "tags": []
   },
   "source": [
    "#### Now, for feeding it to ML model we have to separate features and emotions\n",
    "#### As emotions would act as predictions"
   ]
  },
  {
   "cell_type": "code",
   "execution_count": 24,
   "id": "cb285ad8",
   "metadata": {
    "execution": {
     "iopub.execute_input": "2024-11-22T20:28:00.024085Z",
     "iopub.status.busy": "2024-11-22T20:28:00.023807Z",
     "iopub.status.idle": "2024-11-22T20:28:00.030348Z",
     "shell.execute_reply": "2024-11-22T20:28:00.029401Z"
    },
    "papermill": {
     "duration": 0.018057,
     "end_time": "2024-11-22T20:28:00.032132",
     "exception": false,
     "start_time": "2024-11-22T20:28:00.014075",
     "status": "completed"
    },
    "tags": []
   },
   "outputs": [],
   "source": [
    "X = data_new.drop(columns=['emotions'])\n",
    "y = data_new['emotions'].to_numpy()"
   ]
  },
  {
   "cell_type": "code",
   "execution_count": 25,
   "id": "730988bd",
   "metadata": {
    "execution": {
     "iopub.execute_input": "2024-11-22T20:28:00.049769Z",
     "iopub.status.busy": "2024-11-22T20:28:00.049520Z",
     "iopub.status.idle": "2024-11-22T20:28:00.143949Z",
     "shell.execute_reply": "2024-11-22T20:28:00.143151Z"
    },
    "papermill": {
     "duration": 0.10471,
     "end_time": "2024-11-22T20:28:00.145490",
     "exception": false,
     "start_time": "2024-11-22T20:28:00.040780",
     "status": "completed"
    },
    "tags": []
   },
   "outputs": [
    {
     "data": {
      "text/plain": [
       "array(['x0_angry', 'x0_calm', 'x0_disguist', 'x0_fearful', 'x0_happy',\n",
       "       'x0_neutral', 'x0_sad', 'x0_surprised'], dtype=object)"
      ]
     },
     "execution_count": 25,
     "metadata": {},
     "output_type": "execute_result"
    }
   ],
   "source": [
    "from sklearn.preprocessing import OneHotEncoder\n",
    "encoder = OneHotEncoder()\n",
    "y_encoded = encoder.fit_transform(y.reshape(-1, 1))\n",
    "\n",
    "encoder.get_feature_names_out()"
   ]
  },
  {
   "cell_type": "code",
   "execution_count": 26,
   "id": "79c4c95e",
   "metadata": {
    "execution": {
     "iopub.execute_input": "2024-11-22T20:28:00.163654Z",
     "iopub.status.busy": "2024-11-22T20:28:00.163367Z",
     "iopub.status.idle": "2024-11-22T20:28:00.167236Z",
     "shell.execute_reply": "2024-11-22T20:28:00.166500Z"
    },
    "papermill": {
     "duration": 0.014643,
     "end_time": "2024-11-22T20:28:00.168863",
     "exception": false,
     "start_time": "2024-11-22T20:28:00.154220",
     "status": "completed"
    },
    "tags": []
   },
   "outputs": [
    {
     "name": "stdout",
     "output_type": "stream",
     "text": [
      "Shape of y_encoded : (4240, 8)\n"
     ]
    }
   ],
   "source": [
    "print(f\"Shape of y_encoded : {y_encoded.shape}\")"
   ]
  },
  {
   "cell_type": "code",
   "execution_count": 27,
   "id": "1f982aa3",
   "metadata": {
    "execution": {
     "iopub.execute_input": "2024-11-22T20:28:00.186702Z",
     "iopub.status.busy": "2024-11-22T20:28:00.186458Z",
     "iopub.status.idle": "2024-11-22T20:28:00.193783Z",
     "shell.execute_reply": "2024-11-22T20:28:00.193041Z"
    },
    "papermill": {
     "duration": 0.018038,
     "end_time": "2024-11-22T20:28:00.195227",
     "exception": false,
     "start_time": "2024-11-22T20:28:00.177189",
     "status": "completed"
    },
    "tags": []
   },
   "outputs": [
    {
     "data": {
      "text/plain": [
       "array([[0., 0., 0., ..., 0., 0., 1.],\n",
       "       [0., 0., 0., ..., 1., 0., 0.],\n",
       "       [0., 0., 1., ..., 0., 0., 0.],\n",
       "       ...,\n",
       "       [0., 0., 0., ..., 0., 0., 1.],\n",
       "       [0., 0., 0., ..., 0., 0., 1.],\n",
       "       [0., 0., 0., ..., 0., 0., 1.]])"
      ]
     },
     "execution_count": 27,
     "metadata": {},
     "output_type": "execute_result"
    }
   ],
   "source": [
    "y_encoded = y_encoded.toarray()\n",
    "y_encoded"
   ]
  },
  {
   "cell_type": "code",
   "execution_count": 28,
   "id": "694bdd1a",
   "metadata": {
    "execution": {
     "iopub.execute_input": "2024-11-22T20:28:00.212935Z",
     "iopub.status.busy": "2024-11-22T20:28:00.212683Z",
     "iopub.status.idle": "2024-11-22T20:28:00.311802Z",
     "shell.execute_reply": "2024-11-22T20:28:00.310790Z"
    },
    "papermill": {
     "duration": 0.110071,
     "end_time": "2024-11-22T20:28:00.313769",
     "exception": false,
     "start_time": "2024-11-22T20:28:00.203698",
     "status": "completed"
    },
    "tags": []
   },
   "outputs": [
    {
     "name": "stdout",
     "output_type": "stream",
     "text": [
      "Shape of X_train : (3392, 141)\n",
      "Shape of X_test : (848, 141)\n",
      "Shape of y_train : (3392, 8)\n",
      "Shape of y_test : (848, 8)\n"
     ]
    }
   ],
   "source": [
    "from sklearn.model_selection import train_test_split\n",
    "\n",
    "X_train, X_test, y_train, y_test = train_test_split(X, y_encoded, test_size=0.2, shuffle=True, random_state=42)\n",
    "\n",
    "print(f\"Shape of X_train : {X_train.shape}\")\n",
    "print(f\"Shape of X_test : {X_test.shape}\")\n",
    "print(f\"Shape of y_train : {y_train.shape}\")\n",
    "print(f\"Shape of y_test : {y_test.shape}\")"
   ]
  },
  {
   "cell_type": "code",
   "execution_count": 29,
   "id": "bd294313",
   "metadata": {
    "execution": {
     "iopub.execute_input": "2024-11-22T20:28:00.332744Z",
     "iopub.status.busy": "2024-11-22T20:28:00.332464Z",
     "iopub.status.idle": "2024-11-22T20:28:00.354336Z",
     "shell.execute_reply": "2024-11-22T20:28:00.353520Z"
    },
    "papermill": {
     "duration": 0.033356,
     "end_time": "2024-11-22T20:28:00.356156",
     "exception": false,
     "start_time": "2024-11-22T20:28:00.322800",
     "status": "completed"
    },
    "tags": []
   },
   "outputs": [
    {
     "data": {
      "text/html": [
       "<div>\n",
       "<style scoped>\n",
       "    .dataframe tbody tr th:only-of-type {\n",
       "        vertical-align: middle;\n",
       "    }\n",
       "\n",
       "    .dataframe tbody tr th {\n",
       "        vertical-align: top;\n",
       "    }\n",
       "\n",
       "    .dataframe thead th {\n",
       "        text-align: right;\n",
       "    }\n",
       "</style>\n",
       "<table border=\"1\" class=\"dataframe\">\n",
       "  <thead>\n",
       "    <tr style=\"text-align: right;\">\n",
       "      <th></th>\n",
       "      <th>0</th>\n",
       "      <th>1</th>\n",
       "      <th>2</th>\n",
       "      <th>3</th>\n",
       "      <th>4</th>\n",
       "      <th>5</th>\n",
       "      <th>6</th>\n",
       "      <th>7</th>\n",
       "      <th>8</th>\n",
       "      <th>9</th>\n",
       "      <th>...</th>\n",
       "      <th>131</th>\n",
       "      <th>132</th>\n",
       "      <th>133</th>\n",
       "      <th>134</th>\n",
       "      <th>135</th>\n",
       "      <th>136</th>\n",
       "      <th>137</th>\n",
       "      <th>138</th>\n",
       "      <th>139</th>\n",
       "      <th>140</th>\n",
       "    </tr>\n",
       "  </thead>\n",
       "  <tbody>\n",
       "    <tr>\n",
       "      <th>1427</th>\n",
       "      <td>0.000477</td>\n",
       "      <td>0.000044</td>\n",
       "      <td>0.004665</td>\n",
       "      <td>0.024159</td>\n",
       "      <td>0.021388</td>\n",
       "      <td>0.008630</td>\n",
       "      <td>0.023961</td>\n",
       "      <td>0.005441</td>\n",
       "      <td>0.010706</td>\n",
       "      <td>0.005339</td>\n",
       "      <td>...</td>\n",
       "      <td>22.399147</td>\n",
       "      <td>17.403778</td>\n",
       "      <td>-4.005924</td>\n",
       "      <td>-13.416574</td>\n",
       "      <td>-7.935941</td>\n",
       "      <td>7.146039</td>\n",
       "      <td>-4.218075</td>\n",
       "      <td>1.594327</td>\n",
       "      <td>0.627097</td>\n",
       "      <td>2.622564</td>\n",
       "    </tr>\n",
       "    <tr>\n",
       "      <th>3257</th>\n",
       "      <td>0.041055</td>\n",
       "      <td>0.000658</td>\n",
       "      <td>0.000055</td>\n",
       "      <td>0.000051</td>\n",
       "      <td>0.001651</td>\n",
       "      <td>0.019429</td>\n",
       "      <td>0.154886</td>\n",
       "      <td>0.116694</td>\n",
       "      <td>0.097880</td>\n",
       "      <td>0.124080</td>\n",
       "      <td>...</td>\n",
       "      <td>-8.534401</td>\n",
       "      <td>7.052462</td>\n",
       "      <td>10.264686</td>\n",
       "      <td>-18.241957</td>\n",
       "      <td>4.046032</td>\n",
       "      <td>-14.957953</td>\n",
       "      <td>1.719909</td>\n",
       "      <td>-5.297116</td>\n",
       "      <td>1.754093</td>\n",
       "      <td>-0.986070</td>\n",
       "    </tr>\n",
       "    <tr>\n",
       "      <th>3822</th>\n",
       "      <td>0.035912</td>\n",
       "      <td>0.001445</td>\n",
       "      <td>0.000192</td>\n",
       "      <td>0.000129</td>\n",
       "      <td>0.000226</td>\n",
       "      <td>0.013092</td>\n",
       "      <td>0.274857</td>\n",
       "      <td>0.333861</td>\n",
       "      <td>0.551955</td>\n",
       "      <td>1.003425</td>\n",
       "      <td>...</td>\n",
       "      <td>3.085566</td>\n",
       "      <td>1.707361</td>\n",
       "      <td>0.220964</td>\n",
       "      <td>-11.446941</td>\n",
       "      <td>-4.849497</td>\n",
       "      <td>-15.008427</td>\n",
       "      <td>-11.435095</td>\n",
       "      <td>-8.067347</td>\n",
       "      <td>-8.944011</td>\n",
       "      <td>-1.053881</td>\n",
       "    </tr>\n",
       "    <tr>\n",
       "      <th>1263</th>\n",
       "      <td>0.000873</td>\n",
       "      <td>0.000086</td>\n",
       "      <td>0.000436</td>\n",
       "      <td>0.008179</td>\n",
       "      <td>0.021549</td>\n",
       "      <td>0.040736</td>\n",
       "      <td>0.039015</td>\n",
       "      <td>0.008291</td>\n",
       "      <td>0.025101</td>\n",
       "      <td>0.028890</td>\n",
       "      <td>...</td>\n",
       "      <td>10.538507</td>\n",
       "      <td>8.028277</td>\n",
       "      <td>1.636345</td>\n",
       "      <td>-5.952413</td>\n",
       "      <td>-0.600712</td>\n",
       "      <td>-3.345659</td>\n",
       "      <td>0.310072</td>\n",
       "      <td>0.891620</td>\n",
       "      <td>-4.472423</td>\n",
       "      <td>2.409884</td>\n",
       "    </tr>\n",
       "    <tr>\n",
       "      <th>3575</th>\n",
       "      <td>0.007460</td>\n",
       "      <td>0.002344</td>\n",
       "      <td>0.001176</td>\n",
       "      <td>0.000981</td>\n",
       "      <td>0.000790</td>\n",
       "      <td>0.002062</td>\n",
       "      <td>0.685336</td>\n",
       "      <td>3.319035</td>\n",
       "      <td>6.274683</td>\n",
       "      <td>6.737397</td>\n",
       "      <td>...</td>\n",
       "      <td>16.429619</td>\n",
       "      <td>-6.271396</td>\n",
       "      <td>-7.463733</td>\n",
       "      <td>-5.786900</td>\n",
       "      <td>-17.136341</td>\n",
       "      <td>0.247275</td>\n",
       "      <td>-7.508964</td>\n",
       "      <td>-8.238815</td>\n",
       "      <td>6.657563</td>\n",
       "      <td>-11.812051</td>\n",
       "    </tr>\n",
       "    <tr>\n",
       "      <th>...</th>\n",
       "      <td>...</td>\n",
       "      <td>...</td>\n",
       "      <td>...</td>\n",
       "      <td>...</td>\n",
       "      <td>...</td>\n",
       "      <td>...</td>\n",
       "      <td>...</td>\n",
       "      <td>...</td>\n",
       "      <td>...</td>\n",
       "      <td>...</td>\n",
       "      <td>...</td>\n",
       "      <td>...</td>\n",
       "      <td>...</td>\n",
       "      <td>...</td>\n",
       "      <td>...</td>\n",
       "      <td>...</td>\n",
       "      <td>...</td>\n",
       "      <td>...</td>\n",
       "      <td>...</td>\n",
       "      <td>...</td>\n",
       "      <td>...</td>\n",
       "    </tr>\n",
       "    <tr>\n",
       "      <th>3444</th>\n",
       "      <td>0.018454</td>\n",
       "      <td>0.007390</td>\n",
       "      <td>0.002466</td>\n",
       "      <td>0.001227</td>\n",
       "      <td>0.001267</td>\n",
       "      <td>0.001247</td>\n",
       "      <td>0.140441</td>\n",
       "      <td>1.419141</td>\n",
       "      <td>2.444397</td>\n",
       "      <td>3.543794</td>\n",
       "      <td>...</td>\n",
       "      <td>26.676523</td>\n",
       "      <td>-14.344609</td>\n",
       "      <td>-2.549176</td>\n",
       "      <td>-9.640591</td>\n",
       "      <td>-12.479765</td>\n",
       "      <td>-3.705331</td>\n",
       "      <td>-4.927750</td>\n",
       "      <td>-8.373680</td>\n",
       "      <td>9.921844</td>\n",
       "      <td>-8.899537</td>\n",
       "    </tr>\n",
       "    <tr>\n",
       "      <th>466</th>\n",
       "      <td>0.000320</td>\n",
       "      <td>0.000055</td>\n",
       "      <td>0.000057</td>\n",
       "      <td>0.000050</td>\n",
       "      <td>0.000057</td>\n",
       "      <td>0.000232</td>\n",
       "      <td>0.002579</td>\n",
       "      <td>0.029195</td>\n",
       "      <td>0.092044</td>\n",
       "      <td>0.100649</td>\n",
       "      <td>...</td>\n",
       "      <td>2.842844</td>\n",
       "      <td>-8.916679</td>\n",
       "      <td>-9.610417</td>\n",
       "      <td>-9.263019</td>\n",
       "      <td>-22.260597</td>\n",
       "      <td>-13.259587</td>\n",
       "      <td>-3.681677</td>\n",
       "      <td>-13.249468</td>\n",
       "      <td>-6.624545</td>\n",
       "      <td>-6.387934</td>\n",
       "    </tr>\n",
       "    <tr>\n",
       "      <th>3092</th>\n",
       "      <td>0.010795</td>\n",
       "      <td>0.006551</td>\n",
       "      <td>0.006132</td>\n",
       "      <td>0.004359</td>\n",
       "      <td>0.002215</td>\n",
       "      <td>0.003065</td>\n",
       "      <td>1.733146</td>\n",
       "      <td>5.309069</td>\n",
       "      <td>0.224217</td>\n",
       "      <td>0.007761</td>\n",
       "      <td>...</td>\n",
       "      <td>37.678020</td>\n",
       "      <td>3.023889</td>\n",
       "      <td>-12.274909</td>\n",
       "      <td>-2.329121</td>\n",
       "      <td>-7.868658</td>\n",
       "      <td>-6.709959</td>\n",
       "      <td>1.913627</td>\n",
       "      <td>-14.466289</td>\n",
       "      <td>11.212331</td>\n",
       "      <td>-6.403859</td>\n",
       "    </tr>\n",
       "    <tr>\n",
       "      <th>3772</th>\n",
       "      <td>0.022035</td>\n",
       "      <td>0.000965</td>\n",
       "      <td>0.000121</td>\n",
       "      <td>0.000120</td>\n",
       "      <td>0.005990</td>\n",
       "      <td>0.046404</td>\n",
       "      <td>0.047387</td>\n",
       "      <td>0.069906</td>\n",
       "      <td>0.132136</td>\n",
       "      <td>0.334868</td>\n",
       "      <td>...</td>\n",
       "      <td>2.526695</td>\n",
       "      <td>2.199967</td>\n",
       "      <td>-1.486991</td>\n",
       "      <td>-13.531513</td>\n",
       "      <td>0.045614</td>\n",
       "      <td>-9.092286</td>\n",
       "      <td>-4.763992</td>\n",
       "      <td>-13.261426</td>\n",
       "      <td>-5.332277</td>\n",
       "      <td>-3.667791</td>\n",
       "    </tr>\n",
       "    <tr>\n",
       "      <th>860</th>\n",
       "      <td>0.000014</td>\n",
       "      <td>0.000010</td>\n",
       "      <td>0.000008</td>\n",
       "      <td>0.000006</td>\n",
       "      <td>0.000047</td>\n",
       "      <td>0.003525</td>\n",
       "      <td>0.040753</td>\n",
       "      <td>0.200917</td>\n",
       "      <td>0.223883</td>\n",
       "      <td>0.100317</td>\n",
       "      <td>...</td>\n",
       "      <td>-1.916719</td>\n",
       "      <td>-0.056081</td>\n",
       "      <td>-9.594347</td>\n",
       "      <td>-13.766116</td>\n",
       "      <td>-14.641969</td>\n",
       "      <td>-12.781682</td>\n",
       "      <td>0.525407</td>\n",
       "      <td>-5.595084</td>\n",
       "      <td>-8.726809</td>\n",
       "      <td>-0.748298</td>\n",
       "    </tr>\n",
       "  </tbody>\n",
       "</table>\n",
       "<p>3392 rows × 141 columns</p>\n",
       "</div>"
      ],
      "text/plain": [
       "           0         1         2         3         4         5         6    \\\n",
       "1427  0.000477  0.000044  0.004665  0.024159  0.021388  0.008630  0.023961   \n",
       "3257  0.041055  0.000658  0.000055  0.000051  0.001651  0.019429  0.154886   \n",
       "3822  0.035912  0.001445  0.000192  0.000129  0.000226  0.013092  0.274857   \n",
       "1263  0.000873  0.000086  0.000436  0.008179  0.021549  0.040736  0.039015   \n",
       "3575  0.007460  0.002344  0.001176  0.000981  0.000790  0.002062  0.685336   \n",
       "...        ...       ...       ...       ...       ...       ...       ...   \n",
       "3444  0.018454  0.007390  0.002466  0.001227  0.001267  0.001247  0.140441   \n",
       "466   0.000320  0.000055  0.000057  0.000050  0.000057  0.000232  0.002579   \n",
       "3092  0.010795  0.006551  0.006132  0.004359  0.002215  0.003065  1.733146   \n",
       "3772  0.022035  0.000965  0.000121  0.000120  0.005990  0.046404  0.047387   \n",
       "860   0.000014  0.000010  0.000008  0.000006  0.000047  0.003525  0.040753   \n",
       "\n",
       "           7         8         9    ...        131        132        133  \\\n",
       "1427  0.005441  0.010706  0.005339  ...  22.399147  17.403778  -4.005924   \n",
       "3257  0.116694  0.097880  0.124080  ...  -8.534401   7.052462  10.264686   \n",
       "3822  0.333861  0.551955  1.003425  ...   3.085566   1.707361   0.220964   \n",
       "1263  0.008291  0.025101  0.028890  ...  10.538507   8.028277   1.636345   \n",
       "3575  3.319035  6.274683  6.737397  ...  16.429619  -6.271396  -7.463733   \n",
       "...        ...       ...       ...  ...        ...        ...        ...   \n",
       "3444  1.419141  2.444397  3.543794  ...  26.676523 -14.344609  -2.549176   \n",
       "466   0.029195  0.092044  0.100649  ...   2.842844  -8.916679  -9.610417   \n",
       "3092  5.309069  0.224217  0.007761  ...  37.678020   3.023889 -12.274909   \n",
       "3772  0.069906  0.132136  0.334868  ...   2.526695   2.199967  -1.486991   \n",
       "860   0.200917  0.223883  0.100317  ...  -1.916719  -0.056081  -9.594347   \n",
       "\n",
       "            134        135        136        137        138        139  \\\n",
       "1427 -13.416574  -7.935941   7.146039  -4.218075   1.594327   0.627097   \n",
       "3257 -18.241957   4.046032 -14.957953   1.719909  -5.297116   1.754093   \n",
       "3822 -11.446941  -4.849497 -15.008427 -11.435095  -8.067347  -8.944011   \n",
       "1263  -5.952413  -0.600712  -3.345659   0.310072   0.891620  -4.472423   \n",
       "3575  -5.786900 -17.136341   0.247275  -7.508964  -8.238815   6.657563   \n",
       "...         ...        ...        ...        ...        ...        ...   \n",
       "3444  -9.640591 -12.479765  -3.705331  -4.927750  -8.373680   9.921844   \n",
       "466   -9.263019 -22.260597 -13.259587  -3.681677 -13.249468  -6.624545   \n",
       "3092  -2.329121  -7.868658  -6.709959   1.913627 -14.466289  11.212331   \n",
       "3772 -13.531513   0.045614  -9.092286  -4.763992 -13.261426  -5.332277   \n",
       "860  -13.766116 -14.641969 -12.781682   0.525407  -5.595084  -8.726809   \n",
       "\n",
       "            140  \n",
       "1427   2.622564  \n",
       "3257  -0.986070  \n",
       "3822  -1.053881  \n",
       "1263   2.409884  \n",
       "3575 -11.812051  \n",
       "...         ...  \n",
       "3444  -8.899537  \n",
       "466   -6.387934  \n",
       "3092  -6.403859  \n",
       "3772  -3.667791  \n",
       "860   -0.748298  \n",
       "\n",
       "[3392 rows x 141 columns]"
      ]
     },
     "execution_count": 29,
     "metadata": {},
     "output_type": "execute_result"
    }
   ],
   "source": [
    "X_train"
   ]
  },
  {
   "cell_type": "markdown",
   "id": "31a99079",
   "metadata": {
    "papermill": {
     "duration": 0.009277,
     "end_time": "2024-11-22T20:28:00.374538",
     "exception": false,
     "start_time": "2024-11-22T20:28:00.365261",
     "status": "completed"
    },
    "tags": []
   },
   "source": [
    "##### Ooops features are not scaled, lets do it"
   ]
  },
  {
   "cell_type": "code",
   "execution_count": 30,
   "id": "8e2a45d5",
   "metadata": {
    "execution": {
     "iopub.execute_input": "2024-11-22T20:28:00.394031Z",
     "iopub.status.busy": "2024-11-22T20:28:00.393779Z",
     "iopub.status.idle": "2024-11-22T20:28:00.410042Z",
     "shell.execute_reply": "2024-11-22T20:28:00.409109Z"
    },
    "papermill": {
     "duration": 0.02784,
     "end_time": "2024-11-22T20:28:00.411738",
     "exception": false,
     "start_time": "2024-11-22T20:28:00.383898",
     "status": "completed"
    },
    "tags": []
   },
   "outputs": [
    {
     "name": "stdout",
     "output_type": "stream",
     "text": [
      "(3392, 141)\n",
      "(848, 141)\n"
     ]
    }
   ],
   "source": [
    "## scaling features\n",
    "from sklearn.preprocessing import MinMaxScaler\n",
    "\n",
    "scaler = MinMaxScaler()\n",
    "\n",
    "X_train = scaler.fit_transform(X_train)\n",
    "X_test = scaler.transform(X_test)\n",
    "\n",
    "print(X_train.shape)\n",
    "print(X_test.shape)"
   ]
  },
  {
   "cell_type": "markdown",
   "id": "05e7000b",
   "metadata": {
    "papermill": {
     "duration": 0.008611,
     "end_time": "2024-11-22T20:28:00.429225",
     "exception": false,
     "start_time": "2024-11-22T20:28:00.420614",
     "status": "completed"
    },
    "tags": []
   },
   "source": [
    "## Model Building"
   ]
  },
  {
   "cell_type": "code",
   "execution_count": 31,
   "id": "2c326ca7",
   "metadata": {
    "execution": {
     "iopub.execute_input": "2024-11-22T20:28:00.448100Z",
     "iopub.status.busy": "2024-11-22T20:28:00.447858Z",
     "iopub.status.idle": "2024-11-22T20:28:13.134259Z",
     "shell.execute_reply": "2024-11-22T20:28:13.133578Z"
    },
    "papermill": {
     "duration": 12.698121,
     "end_time": "2024-11-22T20:28:13.136422",
     "exception": false,
     "start_time": "2024-11-22T20:28:00.438301",
     "status": "completed"
    },
    "tags": []
   },
   "outputs": [],
   "source": [
    "import tensorflow as tf\n",
    "import tensorflow.keras \n",
    "from tensorflow.keras.models import Sequential\n",
    "from tensorflow.keras.layers import Conv1D, MaxPooling1D, Dropout, BatchNormalization, Flatten, Dense, LSTM"
   ]
  },
  {
   "cell_type": "code",
   "execution_count": 32,
   "id": "5b0e7830",
   "metadata": {
    "execution": {
     "iopub.execute_input": "2024-11-22T20:28:13.157989Z",
     "iopub.status.busy": "2024-11-22T20:28:13.157425Z",
     "iopub.status.idle": "2024-11-22T20:28:14.808228Z",
     "shell.execute_reply": "2024-11-22T20:28:14.807558Z"
    },
    "papermill": {
     "duration": 1.663713,
     "end_time": "2024-11-22T20:28:14.810608",
     "exception": false,
     "start_time": "2024-11-22T20:28:13.146895",
     "status": "completed"
    },
    "tags": []
   },
   "outputs": [
    {
     "name": "stderr",
     "output_type": "stream",
     "text": [
      "/opt/conda/lib/python3.10/site-packages/keras/src/layers/convolutional/base_conv.py:107: UserWarning: Do not pass an `input_shape`/`input_dim` argument to a layer. When using Sequential models, prefer using an `Input(shape)` object as the first layer in the model instead.\n",
      "  super().__init__(activity_regularizer=activity_regularizer, **kwargs)\n"
     ]
    }
   ],
   "source": [
    "## Model architecture\n",
    "model= Sequential([\n",
    "    Conv1D(64, kernel_size=(8), activation='relu', input_shape=(X_train.shape[1], 1)),\n",
    "    Conv1D(128, kernel_size=(8), activation='relu'),\n",
    "    MaxPooling1D(pool_size=(4)),\n",
    "    Dropout(0.2),\n",
    "\n",
    "    Conv1D(128, kernel_size=(8), activation='relu'),\n",
    "    MaxPooling1D(pool_size=(4)),\n",
    "    Dropout(0.2),\n",
    "    BatchNormalization(),\n",
    "    \n",
    "    LSTM(128, return_sequences=False),  # Capture des relations temporelles\n",
    "    Dropout(0.2),\n",
    "\n",
    "    # Fully connected layers\n",
    "    Dense(256, activation='relu'),\n",
    "    Dropout(0.2),\n",
    "    Dense(8, activation='softmax')  # 8 émotions possibles\n",
    "    \n",
    "])"
   ]
  },
  {
   "cell_type": "code",
   "execution_count": 33,
   "id": "33d06677",
   "metadata": {
    "execution": {
     "iopub.execute_input": "2024-11-22T20:28:14.830279Z",
     "iopub.status.busy": "2024-11-22T20:28:14.829996Z",
     "iopub.status.idle": "2024-11-22T20:28:14.852143Z",
     "shell.execute_reply": "2024-11-22T20:28:14.850985Z"
    },
    "papermill": {
     "duration": 0.033797,
     "end_time": "2024-11-22T20:28:14.853892",
     "exception": false,
     "start_time": "2024-11-22T20:28:14.820095",
     "status": "completed"
    },
    "tags": []
   },
   "outputs": [
    {
     "data": {
      "text/html": [
       "<pre style=\"white-space:pre;overflow-x:auto;line-height:normal;font-family:Menlo,'DejaVu Sans Mono',consolas,'Courier New',monospace\"><span style=\"font-weight: bold\">Model: \"sequential\"</span>\n",
       "</pre>\n"
      ],
      "text/plain": [
       "\u001b[1mModel: \"sequential\"\u001b[0m\n"
      ]
     },
     "metadata": {},
     "output_type": "display_data"
    },
    {
     "data": {
      "text/html": [
       "<pre style=\"white-space:pre;overflow-x:auto;line-height:normal;font-family:Menlo,'DejaVu Sans Mono',consolas,'Courier New',monospace\">┏━━━━━━━━━━━━━━━━━━━━━━━━━━━━━━━━━┳━━━━━━━━━━━━━━━━━━━━━━━━┳━━━━━━━━━━━━━━━┓\n",
       "┃<span style=\"font-weight: bold\"> Layer (type)                    </span>┃<span style=\"font-weight: bold\"> Output Shape           </span>┃<span style=\"font-weight: bold\">       Param # </span>┃\n",
       "┡━━━━━━━━━━━━━━━━━━━━━━━━━━━━━━━━━╇━━━━━━━━━━━━━━━━━━━━━━━━╇━━━━━━━━━━━━━━━┩\n",
       "│ conv1d (<span style=\"color: #0087ff; text-decoration-color: #0087ff\">Conv1D</span>)                 │ (<span style=\"color: #00d7ff; text-decoration-color: #00d7ff\">None</span>, <span style=\"color: #00af00; text-decoration-color: #00af00\">134</span>, <span style=\"color: #00af00; text-decoration-color: #00af00\">64</span>)        │           <span style=\"color: #00af00; text-decoration-color: #00af00\">576</span> │\n",
       "├─────────────────────────────────┼────────────────────────┼───────────────┤\n",
       "│ conv1d_1 (<span style=\"color: #0087ff; text-decoration-color: #0087ff\">Conv1D</span>)               │ (<span style=\"color: #00d7ff; text-decoration-color: #00d7ff\">None</span>, <span style=\"color: #00af00; text-decoration-color: #00af00\">127</span>, <span style=\"color: #00af00; text-decoration-color: #00af00\">128</span>)       │        <span style=\"color: #00af00; text-decoration-color: #00af00\">65,664</span> │\n",
       "├─────────────────────────────────┼────────────────────────┼───────────────┤\n",
       "│ max_pooling1d (<span style=\"color: #0087ff; text-decoration-color: #0087ff\">MaxPooling1D</span>)    │ (<span style=\"color: #00d7ff; text-decoration-color: #00d7ff\">None</span>, <span style=\"color: #00af00; text-decoration-color: #00af00\">31</span>, <span style=\"color: #00af00; text-decoration-color: #00af00\">128</span>)        │             <span style=\"color: #00af00; text-decoration-color: #00af00\">0</span> │\n",
       "├─────────────────────────────────┼────────────────────────┼───────────────┤\n",
       "│ dropout (<span style=\"color: #0087ff; text-decoration-color: #0087ff\">Dropout</span>)               │ (<span style=\"color: #00d7ff; text-decoration-color: #00d7ff\">None</span>, <span style=\"color: #00af00; text-decoration-color: #00af00\">31</span>, <span style=\"color: #00af00; text-decoration-color: #00af00\">128</span>)        │             <span style=\"color: #00af00; text-decoration-color: #00af00\">0</span> │\n",
       "├─────────────────────────────────┼────────────────────────┼───────────────┤\n",
       "│ conv1d_2 (<span style=\"color: #0087ff; text-decoration-color: #0087ff\">Conv1D</span>)               │ (<span style=\"color: #00d7ff; text-decoration-color: #00d7ff\">None</span>, <span style=\"color: #00af00; text-decoration-color: #00af00\">24</span>, <span style=\"color: #00af00; text-decoration-color: #00af00\">128</span>)        │       <span style=\"color: #00af00; text-decoration-color: #00af00\">131,200</span> │\n",
       "├─────────────────────────────────┼────────────────────────┼───────────────┤\n",
       "│ max_pooling1d_1 (<span style=\"color: #0087ff; text-decoration-color: #0087ff\">MaxPooling1D</span>)  │ (<span style=\"color: #00d7ff; text-decoration-color: #00d7ff\">None</span>, <span style=\"color: #00af00; text-decoration-color: #00af00\">6</span>, <span style=\"color: #00af00; text-decoration-color: #00af00\">128</span>)         │             <span style=\"color: #00af00; text-decoration-color: #00af00\">0</span> │\n",
       "├─────────────────────────────────┼────────────────────────┼───────────────┤\n",
       "│ dropout_1 (<span style=\"color: #0087ff; text-decoration-color: #0087ff\">Dropout</span>)             │ (<span style=\"color: #00d7ff; text-decoration-color: #00d7ff\">None</span>, <span style=\"color: #00af00; text-decoration-color: #00af00\">6</span>, <span style=\"color: #00af00; text-decoration-color: #00af00\">128</span>)         │             <span style=\"color: #00af00; text-decoration-color: #00af00\">0</span> │\n",
       "├─────────────────────────────────┼────────────────────────┼───────────────┤\n",
       "│ batch_normalization             │ (<span style=\"color: #00d7ff; text-decoration-color: #00d7ff\">None</span>, <span style=\"color: #00af00; text-decoration-color: #00af00\">6</span>, <span style=\"color: #00af00; text-decoration-color: #00af00\">128</span>)         │           <span style=\"color: #00af00; text-decoration-color: #00af00\">512</span> │\n",
       "│ (<span style=\"color: #0087ff; text-decoration-color: #0087ff\">BatchNormalization</span>)            │                        │               │\n",
       "├─────────────────────────────────┼────────────────────────┼───────────────┤\n",
       "│ lstm (<span style=\"color: #0087ff; text-decoration-color: #0087ff\">LSTM</span>)                     │ (<span style=\"color: #00d7ff; text-decoration-color: #00d7ff\">None</span>, <span style=\"color: #00af00; text-decoration-color: #00af00\">128</span>)            │       <span style=\"color: #00af00; text-decoration-color: #00af00\">131,584</span> │\n",
       "├─────────────────────────────────┼────────────────────────┼───────────────┤\n",
       "│ dropout_2 (<span style=\"color: #0087ff; text-decoration-color: #0087ff\">Dropout</span>)             │ (<span style=\"color: #00d7ff; text-decoration-color: #00d7ff\">None</span>, <span style=\"color: #00af00; text-decoration-color: #00af00\">128</span>)            │             <span style=\"color: #00af00; text-decoration-color: #00af00\">0</span> │\n",
       "├─────────────────────────────────┼────────────────────────┼───────────────┤\n",
       "│ dense (<span style=\"color: #0087ff; text-decoration-color: #0087ff\">Dense</span>)                   │ (<span style=\"color: #00d7ff; text-decoration-color: #00d7ff\">None</span>, <span style=\"color: #00af00; text-decoration-color: #00af00\">256</span>)            │        <span style=\"color: #00af00; text-decoration-color: #00af00\">33,024</span> │\n",
       "├─────────────────────────────────┼────────────────────────┼───────────────┤\n",
       "│ dropout_3 (<span style=\"color: #0087ff; text-decoration-color: #0087ff\">Dropout</span>)             │ (<span style=\"color: #00d7ff; text-decoration-color: #00d7ff\">None</span>, <span style=\"color: #00af00; text-decoration-color: #00af00\">256</span>)            │             <span style=\"color: #00af00; text-decoration-color: #00af00\">0</span> │\n",
       "├─────────────────────────────────┼────────────────────────┼───────────────┤\n",
       "│ dense_1 (<span style=\"color: #0087ff; text-decoration-color: #0087ff\">Dense</span>)                 │ (<span style=\"color: #00d7ff; text-decoration-color: #00d7ff\">None</span>, <span style=\"color: #00af00; text-decoration-color: #00af00\">8</span>)              │         <span style=\"color: #00af00; text-decoration-color: #00af00\">2,056</span> │\n",
       "└─────────────────────────────────┴────────────────────────┴───────────────┘\n",
       "</pre>\n"
      ],
      "text/plain": [
       "┏━━━━━━━━━━━━━━━━━━━━━━━━━━━━━━━━━┳━━━━━━━━━━━━━━━━━━━━━━━━┳━━━━━━━━━━━━━━━┓\n",
       "┃\u001b[1m \u001b[0m\u001b[1mLayer (type)                   \u001b[0m\u001b[1m \u001b[0m┃\u001b[1m \u001b[0m\u001b[1mOutput Shape          \u001b[0m\u001b[1m \u001b[0m┃\u001b[1m \u001b[0m\u001b[1m      Param #\u001b[0m\u001b[1m \u001b[0m┃\n",
       "┡━━━━━━━━━━━━━━━━━━━━━━━━━━━━━━━━━╇━━━━━━━━━━━━━━━━━━━━━━━━╇━━━━━━━━━━━━━━━┩\n",
       "│ conv1d (\u001b[38;5;33mConv1D\u001b[0m)                 │ (\u001b[38;5;45mNone\u001b[0m, \u001b[38;5;34m134\u001b[0m, \u001b[38;5;34m64\u001b[0m)        │           \u001b[38;5;34m576\u001b[0m │\n",
       "├─────────────────────────────────┼────────────────────────┼───────────────┤\n",
       "│ conv1d_1 (\u001b[38;5;33mConv1D\u001b[0m)               │ (\u001b[38;5;45mNone\u001b[0m, \u001b[38;5;34m127\u001b[0m, \u001b[38;5;34m128\u001b[0m)       │        \u001b[38;5;34m65,664\u001b[0m │\n",
       "├─────────────────────────────────┼────────────────────────┼───────────────┤\n",
       "│ max_pooling1d (\u001b[38;5;33mMaxPooling1D\u001b[0m)    │ (\u001b[38;5;45mNone\u001b[0m, \u001b[38;5;34m31\u001b[0m, \u001b[38;5;34m128\u001b[0m)        │             \u001b[38;5;34m0\u001b[0m │\n",
       "├─────────────────────────────────┼────────────────────────┼───────────────┤\n",
       "│ dropout (\u001b[38;5;33mDropout\u001b[0m)               │ (\u001b[38;5;45mNone\u001b[0m, \u001b[38;5;34m31\u001b[0m, \u001b[38;5;34m128\u001b[0m)        │             \u001b[38;5;34m0\u001b[0m │\n",
       "├─────────────────────────────────┼────────────────────────┼───────────────┤\n",
       "│ conv1d_2 (\u001b[38;5;33mConv1D\u001b[0m)               │ (\u001b[38;5;45mNone\u001b[0m, \u001b[38;5;34m24\u001b[0m, \u001b[38;5;34m128\u001b[0m)        │       \u001b[38;5;34m131,200\u001b[0m │\n",
       "├─────────────────────────────────┼────────────────────────┼───────────────┤\n",
       "│ max_pooling1d_1 (\u001b[38;5;33mMaxPooling1D\u001b[0m)  │ (\u001b[38;5;45mNone\u001b[0m, \u001b[38;5;34m6\u001b[0m, \u001b[38;5;34m128\u001b[0m)         │             \u001b[38;5;34m0\u001b[0m │\n",
       "├─────────────────────────────────┼────────────────────────┼───────────────┤\n",
       "│ dropout_1 (\u001b[38;5;33mDropout\u001b[0m)             │ (\u001b[38;5;45mNone\u001b[0m, \u001b[38;5;34m6\u001b[0m, \u001b[38;5;34m128\u001b[0m)         │             \u001b[38;5;34m0\u001b[0m │\n",
       "├─────────────────────────────────┼────────────────────────┼───────────────┤\n",
       "│ batch_normalization             │ (\u001b[38;5;45mNone\u001b[0m, \u001b[38;5;34m6\u001b[0m, \u001b[38;5;34m128\u001b[0m)         │           \u001b[38;5;34m512\u001b[0m │\n",
       "│ (\u001b[38;5;33mBatchNormalization\u001b[0m)            │                        │               │\n",
       "├─────────────────────────────────┼────────────────────────┼───────────────┤\n",
       "│ lstm (\u001b[38;5;33mLSTM\u001b[0m)                     │ (\u001b[38;5;45mNone\u001b[0m, \u001b[38;5;34m128\u001b[0m)            │       \u001b[38;5;34m131,584\u001b[0m │\n",
       "├─────────────────────────────────┼────────────────────────┼───────────────┤\n",
       "│ dropout_2 (\u001b[38;5;33mDropout\u001b[0m)             │ (\u001b[38;5;45mNone\u001b[0m, \u001b[38;5;34m128\u001b[0m)            │             \u001b[38;5;34m0\u001b[0m │\n",
       "├─────────────────────────────────┼────────────────────────┼───────────────┤\n",
       "│ dense (\u001b[38;5;33mDense\u001b[0m)                   │ (\u001b[38;5;45mNone\u001b[0m, \u001b[38;5;34m256\u001b[0m)            │        \u001b[38;5;34m33,024\u001b[0m │\n",
       "├─────────────────────────────────┼────────────────────────┼───────────────┤\n",
       "│ dropout_3 (\u001b[38;5;33mDropout\u001b[0m)             │ (\u001b[38;5;45mNone\u001b[0m, \u001b[38;5;34m256\u001b[0m)            │             \u001b[38;5;34m0\u001b[0m │\n",
       "├─────────────────────────────────┼────────────────────────┼───────────────┤\n",
       "│ dense_1 (\u001b[38;5;33mDense\u001b[0m)                 │ (\u001b[38;5;45mNone\u001b[0m, \u001b[38;5;34m8\u001b[0m)              │         \u001b[38;5;34m2,056\u001b[0m │\n",
       "└─────────────────────────────────┴────────────────────────┴───────────────┘\n"
      ]
     },
     "metadata": {},
     "output_type": "display_data"
    },
    {
     "data": {
      "text/html": [
       "<pre style=\"white-space:pre;overflow-x:auto;line-height:normal;font-family:Menlo,'DejaVu Sans Mono',consolas,'Courier New',monospace\"><span style=\"font-weight: bold\"> Total params: </span><span style=\"color: #00af00; text-decoration-color: #00af00\">364,616</span> (1.39 MB)\n",
       "</pre>\n"
      ],
      "text/plain": [
       "\u001b[1m Total params: \u001b[0m\u001b[38;5;34m364,616\u001b[0m (1.39 MB)\n"
      ]
     },
     "metadata": {},
     "output_type": "display_data"
    },
    {
     "data": {
      "text/html": [
       "<pre style=\"white-space:pre;overflow-x:auto;line-height:normal;font-family:Menlo,'DejaVu Sans Mono',consolas,'Courier New',monospace\"><span style=\"font-weight: bold\"> Trainable params: </span><span style=\"color: #00af00; text-decoration-color: #00af00\">364,360</span> (1.39 MB)\n",
       "</pre>\n"
      ],
      "text/plain": [
       "\u001b[1m Trainable params: \u001b[0m\u001b[38;5;34m364,360\u001b[0m (1.39 MB)\n"
      ]
     },
     "metadata": {},
     "output_type": "display_data"
    },
    {
     "data": {
      "text/html": [
       "<pre style=\"white-space:pre;overflow-x:auto;line-height:normal;font-family:Menlo,'DejaVu Sans Mono',consolas,'Courier New',monospace\"><span style=\"font-weight: bold\"> Non-trainable params: </span><span style=\"color: #00af00; text-decoration-color: #00af00\">256</span> (1.00 KB)\n",
       "</pre>\n"
      ],
      "text/plain": [
       "\u001b[1m Non-trainable params: \u001b[0m\u001b[38;5;34m256\u001b[0m (1.00 KB)\n"
      ]
     },
     "metadata": {},
     "output_type": "display_data"
    }
   ],
   "source": [
    "model.summary()"
   ]
  },
  {
   "cell_type": "code",
   "execution_count": 34,
   "id": "e2fd1859",
   "metadata": {
    "execution": {
     "iopub.execute_input": "2024-11-22T20:28:14.876118Z",
     "iopub.status.busy": "2024-11-22T20:28:14.875840Z",
     "iopub.status.idle": "2024-11-22T20:28:14.884786Z",
     "shell.execute_reply": "2024-11-22T20:28:14.884084Z"
    },
    "papermill": {
     "duration": 0.021973,
     "end_time": "2024-11-22T20:28:14.886560",
     "exception": false,
     "start_time": "2024-11-22T20:28:14.864587",
     "status": "completed"
    },
    "tags": []
   },
   "outputs": [],
   "source": [
    "# Callbacks\n",
    "import h5py\n",
    "from tensorflow.keras.callbacks import EarlyStopping\n",
    "from tensorflow.keras.callbacks import Callback\n",
    "from sklearn.metrics import f1_score\n",
    "\n",
    "class F1(Callback):\n",
    "    def __init__(self,x_train, y_train,x_test, y_test):\n",
    "        self.x = x_train\n",
    "        self.y = y_train\n",
    "        self.x_val = x_test\n",
    "        self.y_val = y_test\n",
    "\n",
    "      #def on_train_begin(self, logs={}):\n",
    "        #self.val_f1s = []\n",
    "\n",
    "\n",
    "    def on_epoch_end(self, epoch, logs={}):\n",
    "\n",
    "        val_predict = (np.asarray(self.model.predict(self.x_val))).round()\n",
    "        val_targ = self.y_val\n",
    "\n",
    "        _val_f1 = round(f1_score(val_targ, val_predict, average= 'micro'), 4)\n",
    "\n",
    "        #self.val_f1s.append(_val_f1)\n",
    "\n",
    "        print('f1_score:{}'.format(_val_f1))\n",
    "\n",
    "F1 = F1(X_train, y_train,X_test, y_test)\n",
    "\n",
    "#es = EarlyStopping(monitor= 'val_precision', patience= 3)\n",
    "from tensorflow.keras.callbacks import ModelCheckpoint\n",
    "mc = ModelCheckpoint('best_model.h5.keras', monitor= 'f1_score')"
   ]
  },
  {
   "cell_type": "code",
   "execution_count": 35,
   "id": "fbf7e55a",
   "metadata": {
    "execution": {
     "iopub.execute_input": "2024-11-22T20:28:14.907293Z",
     "iopub.status.busy": "2024-11-22T20:28:14.907038Z",
     "iopub.status.idle": "2024-11-22T20:28:14.910526Z",
     "shell.execute_reply": "2024-11-22T20:28:14.909869Z"
    },
    "papermill": {
     "duration": 0.015364,
     "end_time": "2024-11-22T20:28:14.912111",
     "exception": false,
     "start_time": "2024-11-22T20:28:14.896747",
     "status": "completed"
    },
    "tags": []
   },
   "outputs": [],
   "source": [
    "all= [F1,mc]"
   ]
  },
  {
   "cell_type": "code",
   "execution_count": 36,
   "id": "b7a6f3b5",
   "metadata": {
    "execution": {
     "iopub.execute_input": "2024-11-22T20:28:14.932612Z",
     "iopub.status.busy": "2024-11-22T20:28:14.931873Z",
     "iopub.status.idle": "2024-11-22T20:29:08.341683Z",
     "shell.execute_reply": "2024-11-22T20:29:08.340827Z"
    },
    "papermill": {
     "duration": 53.422148,
     "end_time": "2024-11-22T20:29:08.343713",
     "exception": false,
     "start_time": "2024-11-22T20:28:14.921565",
     "status": "completed"
    },
    "tags": []
   },
   "outputs": [
    {
     "name": "stdout",
     "output_type": "stream",
     "text": [
      "Epoch 1/50\n",
      "\u001b[1m27/27\u001b[0m \u001b[32m━━━━━━━━━━━━━━━━━━━━\u001b[0m\u001b[37m\u001b[0m \u001b[1m0s\u001b[0m 7ms/step\n",
      "f1_score:0.0\n",
      "\u001b[1m106/106\u001b[0m \u001b[32m━━━━━━━━━━━━━━━━━━━━\u001b[0m\u001b[37m\u001b[0m \u001b[1m9s\u001b[0m 16ms/step - loss: 2.0227 - precision: 0.1644 - val_loss: 2.0331 - val_precision: 0.0000e+00\n",
      "Epoch 2/50\n",
      "\u001b[1m27/27\u001b[0m \u001b[32m━━━━━━━━━━━━━━━━━━━━\u001b[0m\u001b[37m\u001b[0m \u001b[1m0s\u001b[0m 2ms/step \n",
      "f1_score:0.0\n",
      "\u001b[1m106/106\u001b[0m \u001b[32m━━━━━━━━━━━━━━━━━━━━\u001b[0m\u001b[37m\u001b[0m \u001b[1m1s\u001b[0m 8ms/step - loss: 1.8244 - precision: 0.7146 - val_loss: 1.9627 - val_precision: 0.0000e+00\n",
      "Epoch 3/50\n",
      "\u001b[1m27/27\u001b[0m \u001b[32m━━━━━━━━━━━━━━━━━━━━\u001b[0m\u001b[37m\u001b[0m \u001b[1m0s\u001b[0m 2ms/step\n",
      "f1_score:0.0094\n",
      "\u001b[1m106/106\u001b[0m \u001b[32m━━━━━━━━━━━━━━━━━━━━\u001b[0m\u001b[37m\u001b[0m \u001b[1m1s\u001b[0m 9ms/step - loss: 1.6160 - precision: 0.8069 - val_loss: 1.8264 - val_precision: 0.8000\n",
      "Epoch 4/50\n",
      "\u001b[1m27/27\u001b[0m \u001b[32m━━━━━━━━━━━━━━━━━━━━\u001b[0m\u001b[37m\u001b[0m \u001b[1m0s\u001b[0m 2ms/step \n",
      "f1_score:0.0745\n",
      "\u001b[1m106/106\u001b[0m \u001b[32m━━━━━━━━━━━━━━━━━━━━\u001b[0m\u001b[37m\u001b[0m \u001b[1m1s\u001b[0m 9ms/step - loss: 1.4185 - precision: 0.7585 - val_loss: 1.6254 - val_precision: 0.8684\n",
      "Epoch 5/50\n",
      "\u001b[1m27/27\u001b[0m \u001b[32m━━━━━━━━━━━━━━━━━━━━\u001b[0m\u001b[37m\u001b[0m \u001b[1m0s\u001b[0m 2ms/step \n",
      "f1_score:0.222\n",
      "\u001b[1m106/106\u001b[0m \u001b[32m━━━━━━━━━━━━━━━━━━━━\u001b[0m\u001b[37m\u001b[0m \u001b[1m1s\u001b[0m 8ms/step - loss: 1.2746 - precision: 0.7847 - val_loss: 1.4471 - val_precision: 0.9224\n",
      "Epoch 6/50\n",
      "\u001b[1m27/27\u001b[0m \u001b[32m━━━━━━━━━━━━━━━━━━━━\u001b[0m\u001b[37m\u001b[0m \u001b[1m0s\u001b[0m 2ms/step \n",
      "f1_score:0.4237\n",
      "\u001b[1m106/106\u001b[0m \u001b[32m━━━━━━━━━━━━━━━━━━━━\u001b[0m\u001b[37m\u001b[0m \u001b[1m1s\u001b[0m 8ms/step - loss: 1.1688 - precision: 0.7924 - val_loss: 1.2259 - val_precision: 0.8872\n",
      "Epoch 7/50\n",
      "\u001b[1m27/27\u001b[0m \u001b[32m━━━━━━━━━━━━━━━━━━━━\u001b[0m\u001b[37m\u001b[0m \u001b[1m0s\u001b[0m 2ms/step \n",
      "f1_score:0.541\n",
      "\u001b[1m106/106\u001b[0m \u001b[32m━━━━━━━━━━━━━━━━━━━━\u001b[0m\u001b[37m\u001b[0m \u001b[1m1s\u001b[0m 9ms/step - loss: 1.0966 - precision: 0.8013 - val_loss: 1.1183 - val_precision: 0.8313\n",
      "Epoch 8/50\n",
      "\u001b[1m27/27\u001b[0m \u001b[32m━━━━━━━━━━━━━━━━━━━━\u001b[0m\u001b[37m\u001b[0m \u001b[1m0s\u001b[0m 2ms/step \n",
      "f1_score:0.6041\n",
      "\u001b[1m106/106\u001b[0m \u001b[32m━━━━━━━━━━━━━━━━━━━━\u001b[0m\u001b[37m\u001b[0m \u001b[1m1s\u001b[0m 9ms/step - loss: 1.0326 - precision: 0.8048 - val_loss: 1.0381 - val_precision: 0.8436\n",
      "Epoch 9/50\n",
      "\u001b[1m27/27\u001b[0m \u001b[32m━━━━━━━━━━━━━━━━━━━━\u001b[0m\u001b[37m\u001b[0m \u001b[1m0s\u001b[0m 2ms/step \n",
      "f1_score:0.6365\n",
      "\u001b[1m106/106\u001b[0m \u001b[32m━━━━━━━━━━━━━━━━━━━━\u001b[0m\u001b[37m\u001b[0m \u001b[1m1s\u001b[0m 9ms/step - loss: 1.0081 - precision: 0.8149 - val_loss: 0.9882 - val_precision: 0.8352\n",
      "Epoch 10/50\n",
      "\u001b[1m27/27\u001b[0m \u001b[32m━━━━━━━━━━━━━━━━━━━━\u001b[0m\u001b[37m\u001b[0m \u001b[1m0s\u001b[0m 2ms/step \n",
      "f1_score:0.6194\n",
      "\u001b[1m106/106\u001b[0m \u001b[32m━━━━━━━━━━━━━━━━━━━━\u001b[0m\u001b[37m\u001b[0m \u001b[1m1s\u001b[0m 8ms/step - loss: 0.9565 - precision: 0.8402 - val_loss: 0.9850 - val_precision: 0.8138\n",
      "Epoch 11/50\n",
      "\u001b[1m27/27\u001b[0m \u001b[32m━━━━━━━━━━━━━━━━━━━━\u001b[0m\u001b[37m\u001b[0m \u001b[1m0s\u001b[0m 2ms/step \n",
      "f1_score:0.6657\n",
      "\u001b[1m106/106\u001b[0m \u001b[32m━━━━━━━━━━━━━━━━━━━━\u001b[0m\u001b[37m\u001b[0m \u001b[1m1s\u001b[0m 8ms/step - loss: 0.9086 - precision: 0.8637 - val_loss: 0.9533 - val_precision: 0.8644\n",
      "Epoch 12/50\n",
      "\u001b[1m27/27\u001b[0m \u001b[32m━━━━━━━━━━━━━━━━━━━━\u001b[0m\u001b[37m\u001b[0m \u001b[1m0s\u001b[0m 2ms/step \n",
      "f1_score:0.7107\n",
      "\u001b[1m106/106\u001b[0m \u001b[32m━━━━━━━━━━━━━━━━━━━━\u001b[0m\u001b[37m\u001b[0m \u001b[1m1s\u001b[0m 8ms/step - loss: 0.8686 - precision: 0.8764 - val_loss: 0.8885 - val_precision: 0.8945\n",
      "Epoch 13/50\n",
      "\u001b[1m27/27\u001b[0m \u001b[32m━━━━━━━━━━━━━━━━━━━━\u001b[0m\u001b[37m\u001b[0m \u001b[1m0s\u001b[0m 2ms/step \n",
      "f1_score:0.6796\n",
      "\u001b[1m106/106\u001b[0m \u001b[32m━━━━━━━━━━━━━━━━━━━━\u001b[0m\u001b[37m\u001b[0m \u001b[1m1s\u001b[0m 8ms/step - loss: 0.8691 - precision: 0.8770 - val_loss: 0.9349 - val_precision: 0.8695\n",
      "Epoch 14/50\n",
      "\u001b[1m27/27\u001b[0m \u001b[32m━━━━━━━━━━━━━━━━━━━━\u001b[0m\u001b[37m\u001b[0m \u001b[1m0s\u001b[0m 2ms/step \n",
      "f1_score:0.7138\n",
      "\u001b[1m106/106\u001b[0m \u001b[32m━━━━━━━━━━━━━━━━━━━━\u001b[0m\u001b[37m\u001b[0m \u001b[1m1s\u001b[0m 8ms/step - loss: 0.8513 - precision: 0.8814 - val_loss: 0.8609 - val_precision: 0.9042\n",
      "Epoch 15/50\n",
      "\u001b[1m27/27\u001b[0m \u001b[32m━━━━━━━━━━━━━━━━━━━━\u001b[0m\u001b[37m\u001b[0m \u001b[1m0s\u001b[0m 2ms/step \n",
      "f1_score:0.6984\n",
      "\u001b[1m106/106\u001b[0m \u001b[32m━━━━━━━━━━━━━━━━━━━━\u001b[0m\u001b[37m\u001b[0m \u001b[1m1s\u001b[0m 8ms/step - loss: 0.7978 - precision: 0.8934 - val_loss: 0.8910 - val_precision: 0.8770\n",
      "Epoch 16/50\n",
      "\u001b[1m27/27\u001b[0m \u001b[32m━━━━━━━━━━━━━━━━━━━━\u001b[0m\u001b[37m\u001b[0m \u001b[1m0s\u001b[0m 2ms/step \n",
      "f1_score:0.7207\n",
      "\u001b[1m106/106\u001b[0m \u001b[32m━━━━━━━━━━━━━━━━━━━━\u001b[0m\u001b[37m\u001b[0m \u001b[1m1s\u001b[0m 8ms/step - loss: 0.7796 - precision: 0.9009 - val_loss: 0.8394 - val_precision: 0.8965\n",
      "Epoch 17/50\n",
      "\u001b[1m27/27\u001b[0m \u001b[32m━━━━━━━━━━━━━━━━━━━━\u001b[0m\u001b[37m\u001b[0m \u001b[1m0s\u001b[0m 2ms/step \n",
      "f1_score:0.7159\n",
      "\u001b[1m106/106\u001b[0m \u001b[32m━━━━━━━━━━━━━━━━━━━━\u001b[0m\u001b[37m\u001b[0m \u001b[1m1s\u001b[0m 8ms/step - loss: 0.7818 - precision: 0.9053 - val_loss: 0.8495 - val_precision: 0.8868\n",
      "Epoch 18/50\n",
      "\u001b[1m27/27\u001b[0m \u001b[32m━━━━━━━━━━━━━━━━━━━━\u001b[0m\u001b[37m\u001b[0m \u001b[1m0s\u001b[0m 2ms/step \n",
      "f1_score:0.7194\n",
      "\u001b[1m106/106\u001b[0m \u001b[32m━━━━━━━━━━━━━━━━━━━━\u001b[0m\u001b[37m\u001b[0m \u001b[1m1s\u001b[0m 9ms/step - loss: 0.7524 - precision: 0.9204 - val_loss: 0.8139 - val_precision: 0.8977\n",
      "Epoch 19/50\n",
      "\u001b[1m27/27\u001b[0m \u001b[32m━━━━━━━━━━━━━━━━━━━━\u001b[0m\u001b[37m\u001b[0m \u001b[1m0s\u001b[0m 2ms/step \n",
      "f1_score:0.738\n",
      "\u001b[1m106/106\u001b[0m \u001b[32m━━━━━━━━━━━━━━━━━━━━\u001b[0m\u001b[37m\u001b[0m \u001b[1m1s\u001b[0m 8ms/step - loss: 0.7375 - precision: 0.9147 - val_loss: 0.7863 - val_precision: 0.9161\n",
      "Epoch 20/50\n",
      "\u001b[1m27/27\u001b[0m \u001b[32m━━━━━━━━━━━━━━━━━━━━\u001b[0m\u001b[37m\u001b[0m \u001b[1m0s\u001b[0m 2ms/step \n",
      "f1_score:0.7363\n",
      "\u001b[1m106/106\u001b[0m \u001b[32m━━━━━━━━━━━━━━━━━━━━\u001b[0m\u001b[37m\u001b[0m \u001b[1m1s\u001b[0m 8ms/step - loss: 0.7185 - precision: 0.9247 - val_loss: 0.7989 - val_precision: 0.9083\n",
      "Epoch 21/50\n",
      "\u001b[1m27/27\u001b[0m \u001b[32m━━━━━━━━━━━━━━━━━━━━\u001b[0m\u001b[37m\u001b[0m \u001b[1m0s\u001b[0m 2ms/step \n",
      "f1_score:0.727\n",
      "\u001b[1m106/106\u001b[0m \u001b[32m━━━━━━━━━━━━━━━━━━━━\u001b[0m\u001b[37m\u001b[0m \u001b[1m1s\u001b[0m 8ms/step - loss: 0.7365 - precision: 0.9127 - val_loss: 0.7859 - val_precision: 0.9189\n",
      "Epoch 22/50\n",
      "\u001b[1m27/27\u001b[0m \u001b[32m━━━━━━━━━━━━━━━━━━━━\u001b[0m\u001b[37m\u001b[0m \u001b[1m0s\u001b[0m 2ms/step \n",
      "f1_score:0.743\n",
      "\u001b[1m106/106\u001b[0m \u001b[32m━━━━━━━━━━━━━━━━━━━━\u001b[0m\u001b[37m\u001b[0m \u001b[1m1s\u001b[0m 8ms/step - loss: 0.7040 - precision: 0.9292 - val_loss: 0.7646 - val_precision: 0.9184\n",
      "Epoch 23/50\n",
      "\u001b[1m27/27\u001b[0m \u001b[32m━━━━━━━━━━━━━━━━━━━━\u001b[0m\u001b[37m\u001b[0m \u001b[1m0s\u001b[0m 2ms/step \n",
      "f1_score:0.7437\n",
      "\u001b[1m106/106\u001b[0m \u001b[32m━━━━━━━━━━━━━━━━━━━━\u001b[0m\u001b[37m\u001b[0m \u001b[1m1s\u001b[0m 8ms/step - loss: 0.6730 - precision: 0.9214 - val_loss: 0.7602 - val_precision: 0.9231\n",
      "Epoch 24/50\n",
      "\u001b[1m27/27\u001b[0m \u001b[32m━━━━━━━━━━━━━━━━━━━━\u001b[0m\u001b[37m\u001b[0m \u001b[1m0s\u001b[0m 2ms/step \n",
      "f1_score:0.7422\n",
      "\u001b[1m106/106\u001b[0m \u001b[32m━━━━━━━━━━━━━━━━━━━━\u001b[0m\u001b[37m\u001b[0m \u001b[1m1s\u001b[0m 8ms/step - loss: 0.6815 - precision: 0.9359 - val_loss: 0.7686 - val_precision: 0.9291\n",
      "Epoch 25/50\n",
      "\u001b[1m27/27\u001b[0m \u001b[32m━━━━━━━━━━━━━━━━━━━━\u001b[0m\u001b[37m\u001b[0m \u001b[1m0s\u001b[0m 2ms/step \n",
      "f1_score:0.7514\n",
      "\u001b[1m106/106\u001b[0m \u001b[32m━━━━━━━━━━━━━━━━━━━━\u001b[0m\u001b[37m\u001b[0m \u001b[1m1s\u001b[0m 8ms/step - loss: 0.6908 - precision: 0.9204 - val_loss: 0.7564 - val_precision: 0.9288\n",
      "Epoch 26/50\n",
      "\u001b[1m27/27\u001b[0m \u001b[32m━━━━━━━━━━━━━━━━━━━━\u001b[0m\u001b[37m\u001b[0m \u001b[1m0s\u001b[0m 2ms/step \n",
      "f1_score:0.7435\n",
      "\u001b[1m106/106\u001b[0m \u001b[32m━━━━━━━━━━━━━━━━━━━━\u001b[0m\u001b[37m\u001b[0m \u001b[1m1s\u001b[0m 8ms/step - loss: 0.6887 - precision: 0.9182 - val_loss: 0.7513 - val_precision: 0.9200\n",
      "Epoch 27/50\n",
      "\u001b[1m27/27\u001b[0m \u001b[32m━━━━━━━━━━━━━━━━━━━━\u001b[0m\u001b[37m\u001b[0m \u001b[1m0s\u001b[0m 2ms/step \n",
      "f1_score:0.7421\n",
      "\u001b[1m106/106\u001b[0m \u001b[32m━━━━━━━━━━━━━━━━━━━━\u001b[0m\u001b[37m\u001b[0m \u001b[1m1s\u001b[0m 8ms/step - loss: 0.6533 - precision: 0.9206 - val_loss: 0.7673 - val_precision: 0.9108\n",
      "Epoch 28/50\n",
      "\u001b[1m27/27\u001b[0m \u001b[32m━━━━━━━━━━━━━━━━━━━━\u001b[0m\u001b[37m\u001b[0m \u001b[1m0s\u001b[0m 2ms/step \n",
      "f1_score:0.7532\n",
      "\u001b[1m106/106\u001b[0m \u001b[32m━━━━━━━━━━━━━━━━━━━━\u001b[0m\u001b[37m\u001b[0m \u001b[1m1s\u001b[0m 8ms/step - loss: 0.6485 - precision: 0.9245 - val_loss: 0.7401 - val_precision: 0.9291\n",
      "Epoch 29/50\n",
      "\u001b[1m27/27\u001b[0m \u001b[32m━━━━━━━━━━━━━━━━━━━━\u001b[0m\u001b[37m\u001b[0m \u001b[1m0s\u001b[0m 2ms/step \n",
      "f1_score:0.7486\n",
      "\u001b[1m106/106\u001b[0m \u001b[32m━━━━━━━━━━━━━━━━━━━━\u001b[0m\u001b[37m\u001b[0m \u001b[1m1s\u001b[0m 9ms/step - loss: 0.6517 - precision: 0.9360 - val_loss: 0.7618 - val_precision: 0.9105\n",
      "Epoch 30/50\n",
      "\u001b[1m27/27\u001b[0m \u001b[32m━━━━━━━━━━━━━━━━━━━━\u001b[0m\u001b[37m\u001b[0m \u001b[1m0s\u001b[0m 2ms/step \n",
      "f1_score:0.758\n",
      "\u001b[1m106/106\u001b[0m \u001b[32m━━━━━━━━━━━━━━━━━━━━\u001b[0m\u001b[37m\u001b[0m \u001b[1m1s\u001b[0m 9ms/step - loss: 0.6351 - precision: 0.9322 - val_loss: 0.7506 - val_precision: 0.9313\n",
      "Epoch 31/50\n",
      "\u001b[1m27/27\u001b[0m \u001b[32m━━━━━━━━━━━━━━━━━━━━\u001b[0m\u001b[37m\u001b[0m \u001b[1m0s\u001b[0m 2ms/step \n",
      "f1_score:0.7607\n",
      "\u001b[1m106/106\u001b[0m \u001b[32m━━━━━━━━━━━━━━━━━━━━\u001b[0m\u001b[37m\u001b[0m \u001b[1m1s\u001b[0m 9ms/step - loss: 0.6287 - precision: 0.9365 - val_loss: 0.7328 - val_precision: 0.9393\n",
      "Epoch 32/50\n",
      "\u001b[1m27/27\u001b[0m \u001b[32m━━━━━━━━━━━━━━━━━━━━\u001b[0m\u001b[37m\u001b[0m \u001b[1m0s\u001b[0m 2ms/step \n",
      "f1_score:0.7523\n",
      "\u001b[1m106/106\u001b[0m \u001b[32m━━━━━━━━━━━━━━━━━━━━\u001b[0m\u001b[37m\u001b[0m \u001b[1m1s\u001b[0m 8ms/step - loss: 0.6676 - precision: 0.9251 - val_loss: 0.7291 - val_precision: 0.9289\n",
      "Epoch 33/50\n",
      "\u001b[1m27/27\u001b[0m \u001b[32m━━━━━━━━━━━━━━━━━━━━\u001b[0m\u001b[37m\u001b[0m \u001b[1m0s\u001b[0m 2ms/step \n",
      "f1_score:0.7387\n",
      "\u001b[1m106/106\u001b[0m \u001b[32m━━━━━━━━━━━━━━━━━━━━\u001b[0m\u001b[37m\u001b[0m \u001b[1m1s\u001b[0m 9ms/step - loss: 0.6442 - precision: 0.9369 - val_loss: 0.7696 - val_precision: 0.9208\n",
      "Epoch 34/50\n",
      "\u001b[1m27/27\u001b[0m \u001b[32m━━━━━━━━━━━━━━━━━━━━\u001b[0m\u001b[37m\u001b[0m \u001b[1m0s\u001b[0m 2ms/step \n",
      "f1_score:0.7587\n",
      "\u001b[1m106/106\u001b[0m \u001b[32m━━━━━━━━━━━━━━━━━━━━\u001b[0m\u001b[37m\u001b[0m \u001b[1m1s\u001b[0m 8ms/step - loss: 0.6368 - precision: 0.9270 - val_loss: 0.7106 - val_precision: 0.9283\n",
      "Epoch 35/50\n",
      "\u001b[1m27/27\u001b[0m \u001b[32m━━━━━━━━━━━━━━━━━━━━\u001b[0m\u001b[37m\u001b[0m \u001b[1m0s\u001b[0m 2ms/step \n",
      "f1_score:0.751\n",
      "\u001b[1m106/106\u001b[0m \u001b[32m━━━━━━━━━━━━━━━━━━━━\u001b[0m\u001b[37m\u001b[0m \u001b[1m1s\u001b[0m 8ms/step - loss: 0.6348 - precision: 0.9501 - val_loss: 0.7479 - val_precision: 0.9227\n",
      "Epoch 36/50\n",
      "\u001b[1m27/27\u001b[0m \u001b[32m━━━━━━━━━━━━━━━━━━━━\u001b[0m\u001b[37m\u001b[0m \u001b[1m0s\u001b[0m 2ms/step \n",
      "f1_score:0.7516\n",
      "\u001b[1m106/106\u001b[0m \u001b[32m━━━━━━━━━━━━━━━━━━━━\u001b[0m\u001b[37m\u001b[0m \u001b[1m1s\u001b[0m 8ms/step - loss: 0.6012 - precision: 0.9464 - val_loss: 0.7547 - val_precision: 0.9168\n",
      "Epoch 37/50\n",
      "\u001b[1m27/27\u001b[0m \u001b[32m━━━━━━━━━━━━━━━━━━━━\u001b[0m\u001b[37m\u001b[0m \u001b[1m0s\u001b[0m 2ms/step\n",
      "f1_score:0.7655\n",
      "\u001b[1m106/106\u001b[0m \u001b[32m━━━━━━━━━━━━━━━━━━━━\u001b[0m\u001b[37m\u001b[0m \u001b[1m1s\u001b[0m 9ms/step - loss: 0.6232 - precision: 0.9369 - val_loss: 0.7115 - val_precision: 0.9338\n",
      "Epoch 38/50\n",
      "\u001b[1m27/27\u001b[0m \u001b[32m━━━━━━━━━━━━━━━━━━━━\u001b[0m\u001b[37m\u001b[0m \u001b[1m0s\u001b[0m 2ms/step \n",
      "f1_score:0.7601\n",
      "\u001b[1m106/106\u001b[0m \u001b[32m━━━━━━━━━━━━━━━━━━━━\u001b[0m\u001b[37m\u001b[0m \u001b[1m1s\u001b[0m 9ms/step - loss: 0.6269 - precision: 0.9342 - val_loss: 0.7545 - val_precision: 0.9226\n",
      "Epoch 39/50\n",
      "\u001b[1m27/27\u001b[0m \u001b[32m━━━━━━━━━━━━━━━━━━━━\u001b[0m\u001b[37m\u001b[0m \u001b[1m0s\u001b[0m 2ms/step \n",
      "f1_score:0.7616\n",
      "\u001b[1m106/106\u001b[0m \u001b[32m━━━━━━━━━━━━━━━━━━━━\u001b[0m\u001b[37m\u001b[0m \u001b[1m1s\u001b[0m 9ms/step - loss: 0.6221 - precision: 0.9373 - val_loss: 0.7096 - val_precision: 0.9272\n",
      "Epoch 40/50\n",
      "\u001b[1m27/27\u001b[0m \u001b[32m━━━━━━━━━━━━━━━━━━━━\u001b[0m\u001b[37m\u001b[0m \u001b[1m0s\u001b[0m 2ms/step \n",
      "f1_score:0.7633\n",
      "\u001b[1m106/106\u001b[0m \u001b[32m━━━━━━━━━━━━━━━━━━━━\u001b[0m\u001b[37m\u001b[0m \u001b[1m1s\u001b[0m 9ms/step - loss: 0.6102 - precision: 0.9425 - val_loss: 0.7103 - val_precision: 0.9397\n",
      "Epoch 41/50\n",
      "\u001b[1m27/27\u001b[0m \u001b[32m━━━━━━━━━━━━━━━━━━━━\u001b[0m\u001b[37m\u001b[0m \u001b[1m0s\u001b[0m 2ms/step \n",
      "f1_score:0.7563\n",
      "\u001b[1m106/106\u001b[0m \u001b[32m━━━━━━━━━━━━━━━━━━━━\u001b[0m\u001b[37m\u001b[0m \u001b[1m1s\u001b[0m 8ms/step - loss: 0.6312 - precision: 0.9389 - val_loss: 0.7113 - val_precision: 0.9235\n",
      "Epoch 42/50\n",
      "\u001b[1m27/27\u001b[0m \u001b[32m━━━━━━━━━━━━━━━━━━━━\u001b[0m\u001b[37m\u001b[0m \u001b[1m0s\u001b[0m 2ms/step \n",
      "f1_score:0.7587\n",
      "\u001b[1m106/106\u001b[0m \u001b[32m━━━━━━━━━━━━━━━━━━━━\u001b[0m\u001b[37m\u001b[0m \u001b[1m1s\u001b[0m 8ms/step - loss: 0.5779 - precision: 0.9435 - val_loss: 0.7468 - val_precision: 0.9209\n",
      "Epoch 43/50\n",
      "\u001b[1m27/27\u001b[0m \u001b[32m━━━━━━━━━━━━━━━━━━━━\u001b[0m\u001b[37m\u001b[0m \u001b[1m0s\u001b[0m 2ms/step \n",
      "f1_score:0.7677\n",
      "\u001b[1m106/106\u001b[0m \u001b[32m━━━━━━━━━━━━━━━━━━━━\u001b[0m\u001b[37m\u001b[0m \u001b[1m1s\u001b[0m 8ms/step - loss: 0.6015 - precision: 0.9428 - val_loss: 0.6965 - val_precision: 0.9356\n",
      "Epoch 44/50\n",
      "\u001b[1m27/27\u001b[0m \u001b[32m━━━━━━━━━━━━━━━━━━━━\u001b[0m\u001b[37m\u001b[0m \u001b[1m0s\u001b[0m 2ms/step \n",
      "f1_score:0.7589\n",
      "\u001b[1m106/106\u001b[0m \u001b[32m━━━━━━━━━━━━━━━━━━━━\u001b[0m\u001b[37m\u001b[0m \u001b[1m1s\u001b[0m 8ms/step - loss: 0.6109 - precision: 0.9389 - val_loss: 0.7118 - val_precision: 0.9239\n",
      "Epoch 45/50\n",
      "\u001b[1m27/27\u001b[0m \u001b[32m━━━━━━━━━━━━━━━━━━━━\u001b[0m\u001b[37m\u001b[0m \u001b[1m0s\u001b[0m 2ms/step \n",
      "f1_score:0.7569\n",
      "\u001b[1m106/106\u001b[0m \u001b[32m━━━━━━━━━━━━━━━━━━━━\u001b[0m\u001b[37m\u001b[0m \u001b[1m1s\u001b[0m 9ms/step - loss: 0.5832 - precision: 0.9359 - val_loss: 0.7112 - val_precision: 0.9206\n",
      "Epoch 46/50\n",
      "\u001b[1m27/27\u001b[0m \u001b[32m━━━━━━━━━━━━━━━━━━━━\u001b[0m\u001b[37m\u001b[0m \u001b[1m0s\u001b[0m 2ms/step \n",
      "f1_score:0.7693\n",
      "\u001b[1m106/106\u001b[0m \u001b[32m━━━━━━━━━━━━━━━━━━━━\u001b[0m\u001b[37m\u001b[0m \u001b[1m1s\u001b[0m 8ms/step - loss: 0.5925 - precision: 0.9508 - val_loss: 0.6859 - val_precision: 0.9404\n",
      "Epoch 47/50\n",
      "\u001b[1m27/27\u001b[0m \u001b[32m━━━━━━━━━━━━━━━━━━━━\u001b[0m\u001b[37m\u001b[0m \u001b[1m0s\u001b[0m 2ms/step \n",
      "f1_score:0.7632\n",
      "\u001b[1m106/106\u001b[0m \u001b[32m━━━━━━━━━━━━━━━━━━━━\u001b[0m\u001b[37m\u001b[0m \u001b[1m1s\u001b[0m 8ms/step - loss: 0.6031 - precision: 0.9431 - val_loss: 0.7054 - val_precision: 0.9320\n",
      "Epoch 48/50\n",
      "\u001b[1m27/27\u001b[0m \u001b[32m━━━━━━━━━━━━━━━━━━━━\u001b[0m\u001b[37m\u001b[0m \u001b[1m0s\u001b[0m 2ms/step \n",
      "f1_score:0.7662\n",
      "\u001b[1m106/106\u001b[0m \u001b[32m━━━━━━━━━━━━━━━━━━━━\u001b[0m\u001b[37m\u001b[0m \u001b[1m1s\u001b[0m 8ms/step - loss: 0.5658 - precision: 0.9356 - val_loss: 0.7227 - val_precision: 0.9385\n",
      "Epoch 49/50\n",
      "\u001b[1m27/27\u001b[0m \u001b[32m━━━━━━━━━━━━━━━━━━━━\u001b[0m\u001b[37m\u001b[0m \u001b[1m0s\u001b[0m 2ms/step \n",
      "f1_score:0.7674\n",
      "\u001b[1m106/106\u001b[0m \u001b[32m━━━━━━━━━━━━━━━━━━━━\u001b[0m\u001b[37m\u001b[0m \u001b[1m1s\u001b[0m 8ms/step - loss: 0.5911 - precision: 0.9435 - val_loss: 0.7044 - val_precision: 0.9371\n",
      "Epoch 50/50\n",
      "\u001b[1m27/27\u001b[0m \u001b[32m━━━━━━━━━━━━━━━━━━━━\u001b[0m\u001b[37m\u001b[0m \u001b[1m0s\u001b[0m 2ms/step \n",
      "f1_score:0.7682\n",
      "\u001b[1m106/106\u001b[0m \u001b[32m━━━━━━━━━━━━━━━━━━━━\u001b[0m\u001b[37m\u001b[0m \u001b[1m1s\u001b[0m 8ms/step - loss: 0.5895 - precision: 0.9420 - val_loss: 0.6775 - val_precision: 0.9418\n"
     ]
    }
   ],
   "source": [
    "## Training \n",
    "model.compile(loss='categorical_crossentropy', \n",
    "                  optimizer=tf.keras.optimizers.Adam(learning_rate=0.0001), \n",
    "                  metrics=[tf.keras.metrics.Precision()])\n",
    "history= model.fit(X_train, y_train,batch_size=32, epochs=50, validation_data=(X_test, y_test), callbacks= all)"
   ]
  },
  {
   "cell_type": "code",
   "execution_count": 37,
   "id": "c5502ba9",
   "metadata": {
    "execution": {
     "iopub.execute_input": "2024-11-22T20:29:08.479094Z",
     "iopub.status.busy": "2024-11-22T20:29:08.478763Z",
     "iopub.status.idle": "2024-11-22T20:29:08.783336Z",
     "shell.execute_reply": "2024-11-22T20:29:08.782228Z"
    },
    "papermill": {
     "duration": 0.355573,
     "end_time": "2024-11-22T20:29:08.785319",
     "exception": false,
     "start_time": "2024-11-22T20:29:08.429746",
     "status": "completed"
    },
    "tags": []
   },
   "outputs": [
    {
     "data": {
      "image/png": "[encoded data removed]",
      "text/plain": [
       "<Figure size 640x480 with 1 Axes>"
      ]
     },
     "metadata": {},
     "output_type": "display_data"
    }
   ],
   "source": [
    "# lets plot the loss (both training and validation) vs epochs\n",
    "import matplotlib.pyplot as plt \n",
    "\n",
    "plt.plot(history.history['loss'])\n",
    "plt.plot(history.history['val_loss'])\n",
    "plt.title('train vs val loss for CNN')\n",
    "plt.ylabel('loss')\n",
    "plt.xlabel('epoch')\n",
    "plt.legend(['train', 'test'])\n",
    "plt.show()"
   ]
  },
  {
   "cell_type": "code",
   "execution_count": 38,
   "id": "390d92c9",
   "metadata": {
    "execution": {
     "iopub.execute_input": "2024-11-22T20:29:08.890908Z",
     "iopub.status.busy": "2024-11-22T20:29:08.890150Z",
     "iopub.status.idle": "2024-11-22T20:29:09.030550Z",
     "shell.execute_reply": "2024-11-22T20:29:09.029492Z"
    },
    "papermill": {
     "duration": 0.195034,
     "end_time": "2024-11-22T20:29:09.032280",
     "exception": false,
     "start_time": "2024-11-22T20:29:08.837246",
     "status": "completed"
    },
    "tags": []
   },
   "outputs": [
    {
     "name": "stdout",
     "output_type": "stream",
     "text": [
      "\u001b[1m27/27\u001b[0m \u001b[32m━━━━━━━━━━━━━━━━━━━━\u001b[0m\u001b[37m\u001b[0m \u001b[1m0s\u001b[0m 2ms/step\n",
      "              precision    recall  f1-score   support\n",
      "\n",
      "           0       0.90      0.81      0.85       129\n",
      "           1       0.31      0.68      0.42        38\n",
      "           2       0.79      0.62      0.70       101\n",
      "           3       0.87      0.74      0.80       108\n",
      "           4       0.81      0.63      0.71       119\n",
      "           5       1.00      0.84      0.91       102\n",
      "           6       1.00      0.64      0.78       115\n",
      "           7       0.56      0.92      0.70       136\n",
      "\n",
      "    accuracy                           0.75       848\n",
      "   macro avg       0.78      0.74      0.73       848\n",
      "weighted avg       0.81      0.75      0.76       848\n",
      "\n"
     ]
    }
   ],
   "source": [
    "from sklearn.metrics import classification_report\n",
    "import numpy as np\n",
    "y_pred = model.predict(X_test)\n",
    "y_pred_labels = np.argmax(y_pred, axis=1)\n",
    "y_test_labels = np.argmax(y_test, axis=1)\n",
    "report = classification_report(y_test_labels, y_pred_labels)\n",
    "print(report)"
   ]
  },
  {
   "cell_type": "code",
   "execution_count": 39,
   "id": "63dbe5f5",
   "metadata": {
    "execution": {
     "iopub.execute_input": "2024-11-22T20:29:09.128177Z",
     "iopub.status.busy": "2024-11-22T20:29:09.127172Z",
     "iopub.status.idle": "2024-11-22T20:29:09.180798Z",
     "shell.execute_reply": "2024-11-22T20:29:09.179616Z"
    },
    "papermill": {
     "duration": 0.103889,
     "end_time": "2024-11-22T20:29:09.183837",
     "exception": false,
     "start_time": "2024-11-22T20:29:09.079948",
     "status": "completed"
    },
    "tags": []
   },
   "outputs": [],
   "source": [
    "audio_path = '/kaggle/input/audiotest/happy-huming-6202.mp3'\n",
    "data, sample_rate = librosa.load(audio_path)\n",
    "mel_feature = np.mean(librosa.feature.melspectrogram(y=data, sr=sample_rate).T, axis=0)\n",
    "mfcc_feature = np.mean(librosa.feature.mfcc(y=data, sr=sample_rate, n_mfcc=13).T, axis=0)\n",
    "\n",
    "# Combiner les deux types de caractéristiques\n",
    "features = np.hstack((mel_feature, mfcc_feature))\n",
    "\n",
    "# Mettre à l'échelle les caractéristiques\n",
    "features_scaled = scaler.transform([features])\n"
   ]
  },
  {
   "cell_type": "code",
   "execution_count": 40,
   "id": "71b74f7d",
   "metadata": {
    "execution": {
     "iopub.execute_input": "2024-11-22T20:29:09.367243Z",
     "iopub.status.busy": "2024-11-22T20:29:09.366939Z",
     "iopub.status.idle": "2024-11-22T20:29:09.596846Z",
     "shell.execute_reply": "2024-11-22T20:29:09.595938Z"
    },
    "papermill": {
     "duration": 0.280836,
     "end_time": "2024-11-22T20:29:09.598395",
     "exception": false,
     "start_time": "2024-11-22T20:29:09.317559",
     "status": "completed"
    },
    "tags": []
   },
   "outputs": [
    {
     "name": "stdout",
     "output_type": "stream",
     "text": [
      "\u001b[1m1/1\u001b[0m \u001b[32m━━━━━━━━━━━━━━━━━━━━\u001b[0m\u001b[37m\u001b[0m \u001b[1m0s\u001b[0m 187ms/step\n",
      "L'émotion prédite est : surprised\n"
     ]
    }
   ],
   "source": [
    "prediction = model.predict(features_scaled)\n",
    "predicted_class = encoder.categories_[0][np.argmax(prediction)]\n",
    "print(f\"L'émotion prédite est : {predicted_class}\")"
   ]
  }
 ],
 "metadata": {
  "kaggle": {
   "accelerator": "nvidiaTeslaT4",
   "dataSources": [
    {
     "datasetId": 107620,
     "sourceId": 256618,
     "sourceType": "datasetVersion"
    },
    {
     "datasetId": 316368,
     "sourceId": 639622,
     "sourceType": "datasetVersion"
    },
    {
     "datasetId": 6144864,
     "isSourceIdPinned": true,
     "sourceId": 9985712,
     "sourceType": "datasetVersion"
    }
   ],
   "dockerImageVersionId": 30786,
   "isGpuEnabled": true,
   "isInternetEnabled": true,
   "language": "python",
   "sourceType": "notebook"
  },
  "kernelspec": {
   "display_name": "Python 3",
   "language": "python",
   "name": "python3"
  },
  "language_info": {
   "codemirror_mode": {
    "name": "ipython",
    "version": 3
   },
   "file_extension": ".py",
   "mimetype": "text/x-python",
   "name": "python",
   "nbconvert_exporter": "python",
   "pygments_lexer": "ipython3",
   "version": "3.10.14"
  },
  "papermill": {
   "default_parameters": {},
   "duration": 249.98211,
   "end_time": "2024-11-22T20:29:12.501278",
   "environment_variables": {},
   "exception": null,
   "input_path": "__notebook__.ipynb",
   "output_path": "__notebook__.ipynb",
   "parameters": {},
   "start_time": "2024-11-22T20:25:02.519168",
   "version": "2.6.0"
  }
 },
 "nbformat": 4,
 "nbformat_minor": 5
}
