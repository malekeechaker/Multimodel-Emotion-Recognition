{
 "cells": [
  {
   "cell_type": "code",
   "execution_count": 1,
   "id": "8b2d5f4d",
   "metadata": {
    "_cell_guid": "b1076dfc-b9ad-4769-8c92-a6c4dae69d19",
    "_uuid": "8f2839f25d086af736a60e9eeb907d3b93b6e0e5",
    "execution": {
     "iopub.execute_input": "2024-10-30T19:14:22.964508Z",
     "iopub.status.busy": "2024-10-30T19:14:22.964184Z",
     "iopub.status.idle": "2024-10-30T19:14:23.877235Z",
     "shell.execute_reply": "2024-10-30T19:14:23.876330Z"
    },
    "papermill": {
     "duration": 0.919182,
     "end_time": "2024-10-30T19:14:23.879166",
     "exception": false,
     "start_time": "2024-10-30T19:14:22.959984",
     "status": "completed"
    },
    "tags": []
   },
   "outputs": [
    {
     "name": "stdout",
     "output_type": "stream",
     "text": [
      "/kaggle/input/balance-fer2013-data-image/__results__.html\n",
      "/kaggle/input/balance-fer2013-data-image/balanced_emotions_dataset.csv\n",
      "/kaggle/input/balance-fer2013-data-image/__notebook__.ipynb\n",
      "/kaggle/input/balance-fer2013-data-image/__output__.json\n",
      "/kaggle/input/balance-fer2013-data-image/custom.css\n",
      "/kaggle/input/balance-fer2013-data-image/__results___files/__results___8_0.png\n",
      "/kaggle/input/balance-fer2013-data-image/__results___files/__results___11_0.png\n",
      "/kaggle/input/balance-fer2013-data-image/__results___files/__results___22_0.png\n"
     ]
    }
   ],
   "source": [
    "# This Python 3 environment comes with many helpful analytics libraries installed\n",
    "# It is defined by the kaggle/python Docker image: https://github.com/kaggle/docker-python\n",
    "# For example, here's several helpful packages to load\n",
    "\n",
    "import numpy as np # linear algebra\n",
    "import pandas as pd # data processing, CSV file I/O (e.g. pd.read_csv)\n",
    "\n",
    "# Input data files are available in the read-only \"../input/\" directory\n",
    "# For example, running this (by clicking run or pressing Shift+Enter) will list all files under the input directory\n",
    "\n",
    "import os\n",
    "for dirname, _, filenames in os.walk('/kaggle/input'):\n",
    "    for filename in filenames:\n",
    "        print(os.path.join(dirname, filename))\n",
    "\n",
    "# You can write up to 20GB to the current directory (/kaggle/working/) that gets preserved as output when you create a version using \"Save & Run All\" \n",
    "# You can also write temporary files to /kaggle/temp/, but they won't be saved outside of the current session"
   ]
  },
  {
   "cell_type": "code",
   "execution_count": 2,
   "id": "29b652d7",
   "metadata": {
    "execution": {
     "iopub.execute_input": "2024-10-30T19:14:23.886357Z",
     "iopub.status.busy": "2024-10-30T19:14:23.885737Z",
     "iopub.status.idle": "2024-10-30T19:14:38.270062Z",
     "shell.execute_reply": "2024-10-30T19:14:38.269203Z"
    },
    "papermill": {
     "duration": 14.390336,
     "end_time": "2024-10-30T19:14:38.272185",
     "exception": false,
     "start_time": "2024-10-30T19:14:23.881849",
     "status": "completed"
    },
    "tags": []
   },
   "outputs": [
    {
     "name": "stderr",
     "output_type": "stream",
     "text": [
      "WARNING: Logging before InitGoogle() is written to STDERR\n",
      "E0000 00:00:1730315670.982793      77 common_lib.cc:798] Could not set metric server port: INVALID_ARGUMENT: Could not find SliceBuilder port 8471 in any of the 0 ports provided in `tpu_process_addresses`=\"local\"\n",
      "=== Source Location Trace: === \n",
      "learning/45eac/tfrc/runtime/common_lib.cc:479\n",
      "D1030 19:14:30.990904663      77 config.cc:196]                        gRPC EXPERIMENT call_status_override_on_cancellation   OFF (default:OFF)\n",
      "D1030 19:14:30.990918200      77 config.cc:196]                        gRPC EXPERIMENT call_v3                                OFF (default:OFF)\n",
      "D1030 19:14:30.990921298      77 config.cc:196]                        gRPC EXPERIMENT canary_client_privacy                  ON  (default:ON)\n",
      "D1030 19:14:30.990923683      77 config.cc:196]                        gRPC EXPERIMENT capture_base_context                   ON  (default:ON)\n",
      "D1030 19:14:30.990926162      77 config.cc:196]                        gRPC EXPERIMENT client_idleness                        ON  (default:ON)\n",
      "D1030 19:14:30.990928485      77 config.cc:196]                        gRPC EXPERIMENT client_privacy                         ON  (default:ON)\n",
      "D1030 19:14:30.990930804      77 config.cc:196]                        gRPC EXPERIMENT dapper_request_wire_size               OFF (default:OFF)\n",
      "D1030 19:14:30.990933019      77 config.cc:196]                        gRPC EXPERIMENT empty_experiment                       OFF (default:OFF)\n",
      "D1030 19:14:30.990935216      77 config.cc:196]                        gRPC EXPERIMENT event_engine_client                    OFF (default:OFF)\n",
      "D1030 19:14:30.990937406      77 config.cc:196]                        gRPC EXPERIMENT event_engine_dns                       ON  (default:ON)\n",
      "D1030 19:14:30.990939654      77 config.cc:196]                        gRPC EXPERIMENT event_engine_listener                  ON  (default:ON)\n",
      "D1030 19:14:30.990941951      77 config.cc:196]                        gRPC EXPERIMENT free_large_allocator                   OFF (default:OFF)\n",
      "D1030 19:14:30.990944183      77 config.cc:196]                        gRPC EXPERIMENT google_no_envelope_resolver            OFF (default:OFF)\n",
      "D1030 19:14:30.990946372      77 config.cc:196]                        gRPC EXPERIMENT http2_stats_fix                        OFF (default:OFF)\n",
      "D1030 19:14:30.990948528      77 config.cc:196]                        gRPC EXPERIMENT keepalive_fix                          OFF (default:OFF)\n",
      "D1030 19:14:30.990950759      77 config.cc:196]                        gRPC EXPERIMENT keepalive_server_fix                   ON  (default:ON)\n",
      "D1030 19:14:30.990953111      77 config.cc:196]                        gRPC EXPERIMENT loas_do_not_prefer_rekey_next_protocol OFF (default:OFF)\n",
      "D1030 19:14:30.990955376      77 config.cc:196]                        gRPC EXPERIMENT loas_prod_to_cloud_prefer_pfs_ciphers  OFF (default:OFF)\n",
      "D1030 19:14:30.990957617      77 config.cc:196]                        gRPC EXPERIMENT monitoring_experiment                  ON  (default:ON)\n",
      "D1030 19:14:30.990959867      77 config.cc:196]                        gRPC EXPERIMENT multiping                              OFF (default:OFF)\n",
      "D1030 19:14:30.990962085      77 config.cc:196]                        gRPC EXPERIMENT peer_state_based_framing               OFF (default:OFF)\n",
      "D1030 19:14:30.990964311      77 config.cc:196]                        gRPC EXPERIMENT pending_queue_cap                      ON  (default:ON)\n",
      "D1030 19:14:30.990966611      77 config.cc:196]                        gRPC EXPERIMENT pick_first_happy_eyeballs              ON  (default:ON)\n",
      "D1030 19:14:30.990968859      77 config.cc:196]                        gRPC EXPERIMENT promise_based_client_call              OFF (default:OFF)\n",
      "D1030 19:14:30.990971009      77 config.cc:196]                        gRPC EXPERIMENT promise_based_inproc_transport         OFF (default:OFF)\n",
      "D1030 19:14:30.990973166      77 config.cc:196]                        gRPC EXPERIMENT promise_based_server_call              OFF (default:OFF)\n",
      "D1030 19:14:30.990975420      77 config.cc:196]                        gRPC EXPERIMENT registered_method_lookup_in_transport  ON  (default:ON)\n",
      "D1030 19:14:30.990977658      77 config.cc:196]                        gRPC EXPERIMENT rfc_max_concurrent_streams             ON  (default:ON)\n",
      "D1030 19:14:30.990980009      77 config.cc:196]                        gRPC EXPERIMENT round_robin_delegate_to_pick_first     ON  (default:ON)\n",
      "D1030 19:14:30.990983336      77 config.cc:196]                        gRPC EXPERIMENT rstpit                                 OFF (default:OFF)\n",
      "D1030 19:14:30.990985726      77 config.cc:196]                        gRPC EXPERIMENT schedule_cancellation_over_write       OFF (default:OFF)\n",
      "D1030 19:14:30.990988059      77 config.cc:196]                        gRPC EXPERIMENT server_privacy                         ON  (default:ON)\n",
      "D1030 19:14:30.990990447      77 config.cc:196]                        gRPC EXPERIMENT tcp_frame_size_tuning                  OFF (default:OFF)\n",
      "D1030 19:14:30.990992680      77 config.cc:196]                        gRPC EXPERIMENT tcp_rcv_lowat                          OFF (default:OFF)\n",
      "D1030 19:14:30.990994860      77 config.cc:196]                        gRPC EXPERIMENT trace_record_callops                   OFF (default:OFF)\n",
      "D1030 19:14:30.990997217      77 config.cc:196]                        gRPC EXPERIMENT unconstrained_max_quota_buffer_size    OFF (default:OFF)\n",
      "D1030 19:14:30.990999342      77 config.cc:196]                        gRPC EXPERIMENT v3_backend_metric_filter               OFF (default:OFF)\n",
      "D1030 19:14:30.991001519      77 config.cc:196]                        gRPC EXPERIMENT v3_channel_idle_filters                ON  (default:ON)\n",
      "D1030 19:14:30.991003776      77 config.cc:196]                        gRPC EXPERIMENT v3_compression_filter                  ON  (default:ON)\n",
      "D1030 19:14:30.991005998      77 config.cc:196]                        gRPC EXPERIMENT v3_server_auth_filter                  OFF (default:OFF)\n",
      "D1030 19:14:30.991008194      77 config.cc:196]                        gRPC EXPERIMENT work_serializer_clears_time_cache      OFF (default:OFF)\n",
      "D1030 19:14:30.991010334      77 config.cc:196]                        gRPC EXPERIMENT work_serializer_dispatch               OFF (default:OFF)\n",
      "D1030 19:14:30.991012543      77 config.cc:196]                        gRPC EXPERIMENT write_size_cap                         ON  (default:ON)\n",
      "D1030 19:14:30.991014801      77 config.cc:196]                        gRPC EXPERIMENT write_size_policy                      ON  (default:ON)\n",
      "D1030 19:14:30.991017069      77 config.cc:196]                        gRPC EXPERIMENT wrr_delegate_to_pick_first             ON  (default:ON)\n",
      "I1030 19:14:30.991185381      77 ev_epoll1_linux.cc:123]               grpc epoll fd: 57\n",
      "D1030 19:14:30.991197211      77 ev_posix.cc:113]                      Using polling engine: epoll1\n",
      "D1030 19:14:31.003285598      77 lb_policy_registry.cc:46]             registering LB policy factory for \"priority_experimental\"\n",
      "D1030 19:14:31.003296790      77 lb_policy_registry.cc:46]             registering LB policy factory for \"outlier_detection_experimental\"\n",
      "D1030 19:14:31.003305429      77 lb_policy_registry.cc:46]             registering LB policy factory for \"weighted_target_experimental\"\n",
      "D1030 19:14:31.003308966      77 lb_policy_registry.cc:46]             registering LB policy factory for \"pick_first\"\n",
      "D1030 19:14:31.003312312      77 lb_policy_registry.cc:46]             registering LB policy factory for \"round_robin\"\n",
      "D1030 19:14:31.003315450      77 lb_policy_registry.cc:46]             registering LB policy factory for \"weighted_round_robin\"\n",
      "D1030 19:14:31.003343013      77 lb_policy_registry.cc:46]             registering LB policy factory for \"grpclb\"\n",
      "D1030 19:14:31.003363087      77 dns_resolver_plugin.cc:43]            Using EventEngine dns resolver\n",
      "D1030 19:14:31.003381398      77 lb_policy_registry.cc:46]             registering LB policy factory for \"rls_experimental\"\n",
      "D1030 19:14:31.003407201      77 lb_policy_registry.cc:46]             registering LB policy factory for \"xds_cluster_manager_experimental\"\n",
      "D1030 19:14:31.003415522      77 lb_policy_registry.cc:46]             registering LB policy factory for \"xds_cluster_impl_experimental\"\n",
      "D1030 19:14:31.003419133      77 lb_policy_registry.cc:46]             registering LB policy factory for \"cds_experimental\"\n",
      "D1030 19:14:31.003443198      77 lb_policy_registry.cc:46]             registering LB policy factory for \"xds_override_host_experimental\"\n",
      "D1030 19:14:31.003447487      77 lb_policy_registry.cc:46]             registering LB policy factory for \"xds_wrr_locality_experimental\"\n",
      "D1030 19:14:31.003450963      77 lb_policy_registry.cc:46]             registering LB policy factory for \"ring_hash_experimental\"\n",
      "D1030 19:14:31.003454792      77 certificate_provider_registry.cc:33]  registering certificate provider factory for \"file_watcher\"\n",
      "D1030 19:14:31.003487316      77 channel_init.cc:157]                  Filter server-auth not registered, but is referenced in the after clause of grpc-server-authz when building channel stack SERVER_CHANNEL\n",
      "I1030 19:14:31.005253398      77 ev_epoll1_linux.cc:359]               grpc epoll fd: 59\n",
      "I1030 19:14:31.006352533      77 tcp_socket_utils.cc:689]              Disabling AF_INET6 sockets because ::1 is not available.\n",
      "I1030 19:14:31.010571921     175 socket_utils_common_posix.cc:452]     Disabling AF_INET6 sockets because ::1 is not available.\n",
      "I1030 19:14:31.010628742     175 socket_utils_common_posix.cc:379]     TCP_USER_TIMEOUT is available. TCP_USER_TIMEOUT will be used thereafter\n",
      "E1030 19:14:31.017052724     168 oauth2_credentials.cc:238]            oauth_fetch: UNKNOWN:C-ares status is not ARES_SUCCESS qtype=A name=metadata.google.internal. is_balancer=0: Domain name not found {created_time:\"2024-10-30T19:14:31.017039427+00:00\", grpc_status:2}\n"
     ]
    }
   ],
   "source": [
    "import numpy as np\n",
    "import pandas as pd\n",
    "import cv2  # For image processing\n",
    "from tensorflow.keras.preprocessing.image import ImageDataGenerator"
   ]
  },
  {
   "cell_type": "code",
   "execution_count": 3,
   "id": "dc7dfcaa",
   "metadata": {
    "execution": {
     "iopub.execute_input": "2024-10-30T19:14:38.279443Z",
     "iopub.status.busy": "2024-10-30T19:14:38.279008Z",
     "iopub.status.idle": "2024-10-30T19:14:43.294594Z",
     "shell.execute_reply": "2024-10-30T19:14:43.293743Z"
    },
    "papermill": {
     "duration": 5.021154,
     "end_time": "2024-10-30T19:14:43.296362",
     "exception": false,
     "start_time": "2024-10-30T19:14:38.275208",
     "status": "completed"
    },
    "tags": []
   },
   "outputs": [
    {
     "data": {
      "text/html": [
       "<div>\n",
       "<style scoped>\n",
       "    .dataframe tbody tr th:only-of-type {\n",
       "        vertical-align: middle;\n",
       "    }\n",
       "\n",
       "    .dataframe tbody tr th {\n",
       "        vertical-align: top;\n",
       "    }\n",
       "\n",
       "    .dataframe thead th {\n",
       "        text-align: right;\n",
       "    }\n",
       "</style>\n",
       "<table border=\"1\" class=\"dataframe\">\n",
       "  <thead>\n",
       "    <tr style=\"text-align: right;\">\n",
       "      <th></th>\n",
       "      <th>emotion</th>\n",
       "      <th>pixels</th>\n",
       "      <th>Usage</th>\n",
       "      <th>emotion_text</th>\n",
       "    </tr>\n",
       "  </thead>\n",
       "  <tbody>\n",
       "    <tr>\n",
       "      <th>0</th>\n",
       "      <td>0</td>\n",
       "      <td>143 144 145 145 146 145 151 149 142 135 128 13...</td>\n",
       "      <td>Training</td>\n",
       "      <td>anger</td>\n",
       "    </tr>\n",
       "    <tr>\n",
       "      <th>1</th>\n",
       "      <td>0</td>\n",
       "      <td>182 167 154 146 134 84 30 10 3 17 27 10 7 11 6...</td>\n",
       "      <td>Training</td>\n",
       "      <td>anger</td>\n",
       "    </tr>\n",
       "    <tr>\n",
       "      <th>2</th>\n",
       "      <td>0</td>\n",
       "      <td>207 208 208 209 208 214 176 139 116 66 124 135...</td>\n",
       "      <td>Training</td>\n",
       "      <td>anger</td>\n",
       "    </tr>\n",
       "    <tr>\n",
       "      <th>3</th>\n",
       "      <td>0</td>\n",
       "      <td>193 193 196 203 216 229 233 243 189 114 87 95 ...</td>\n",
       "      <td>Training</td>\n",
       "      <td>anger</td>\n",
       "    </tr>\n",
       "    <tr>\n",
       "      <th>4</th>\n",
       "      <td>0</td>\n",
       "      <td>168 195 207 208 209 207 208 204 207 207 208 20...</td>\n",
       "      <td>Training</td>\n",
       "      <td>anger</td>\n",
       "    </tr>\n",
       "  </tbody>\n",
       "</table>\n",
       "</div>"
      ],
      "text/plain": [
       "   emotion                                             pixels     Usage  \\\n",
       "0        0  143 144 145 145 146 145 151 149 142 135 128 13...  Training   \n",
       "1        0  182 167 154 146 134 84 30 10 3 17 27 10 7 11 6...  Training   \n",
       "2        0  207 208 208 209 208 214 176 139 116 66 124 135...  Training   \n",
       "3        0  193 193 196 203 216 229 233 243 189 114 87 95 ...  Training   \n",
       "4        0  168 195 207 208 209 207 208 204 207 207 208 20...  Training   \n",
       "\n",
       "  emotion_text  \n",
       "0        anger  \n",
       "1        anger  \n",
       "2        anger  \n",
       "3        anger  \n",
       "4        anger  "
      ]
     },
     "execution_count": 3,
     "metadata": {},
     "output_type": "execute_result"
    }
   ],
   "source": [
    "data = pd.read_csv(\"/kaggle/input/balance-fer2013-data-image/balanced_emotions_dataset.csv\")\n",
    "data.head()"
   ]
  },
  {
   "cell_type": "code",
   "execution_count": 4,
   "id": "a313a0e2",
   "metadata": {
    "execution": {
     "iopub.execute_input": "2024-10-30T19:14:43.303936Z",
     "iopub.status.busy": "2024-10-30T19:14:43.303651Z",
     "iopub.status.idle": "2024-10-30T19:14:43.308541Z",
     "shell.execute_reply": "2024-10-30T19:14:43.307868Z"
    },
    "papermill": {
     "duration": 0.010555,
     "end_time": "2024-10-30T19:14:43.310221",
     "exception": false,
     "start_time": "2024-10-30T19:14:43.299666",
     "status": "completed"
    },
    "tags": []
   },
   "outputs": [
    {
     "data": {
      "text/plain": [
       "(28000, 4)"
      ]
     },
     "execution_count": 4,
     "metadata": {},
     "output_type": "execute_result"
    }
   ],
   "source": [
    "data.shape"
   ]
  },
  {
   "cell_type": "code",
   "execution_count": 5,
   "id": "8683b94e",
   "metadata": {
    "execution": {
     "iopub.execute_input": "2024-10-30T19:14:43.317613Z",
     "iopub.status.busy": "2024-10-30T19:14:43.317052Z",
     "iopub.status.idle": "2024-10-30T19:14:43.321722Z",
     "shell.execute_reply": "2024-10-30T19:14:43.320837Z"
    },
    "papermill": {
     "duration": 0.010574,
     "end_time": "2024-10-30T19:14:43.323543",
     "exception": false,
     "start_time": "2024-10-30T19:14:43.312969",
     "status": "completed"
    },
    "tags": []
   },
   "outputs": [
    {
     "name": "stdout",
     "output_type": "stream",
     "text": [
      "Length of pixel data: 2304\n"
     ]
    }
   ],
   "source": [
    "print(f\"Length of pixel data: {len(data.pixels[0].split())}\")"
   ]
  },
  {
   "cell_type": "code",
   "execution_count": 6,
   "id": "2614a7ba",
   "metadata": {
    "execution": {
     "iopub.execute_input": "2024-10-30T19:14:43.330774Z",
     "iopub.status.busy": "2024-10-30T19:14:43.330535Z",
     "iopub.status.idle": "2024-10-30T19:14:43.334553Z",
     "shell.execute_reply": "2024-10-30T19:14:43.333838Z"
    },
    "papermill": {
     "duration": 0.00955,
     "end_time": "2024-10-30T19:14:43.336232",
     "exception": false,
     "start_time": "2024-10-30T19:14:43.326682",
     "status": "completed"
    },
    "tags": []
   },
   "outputs": [],
   "source": [
    "def preprocess_pixels(img_array):\n",
    "    # Ensure the input is already a NumPy array, so no need to split or convert again\n",
    "    img_array = img_array.reshape(48, 48)  # Reshape to 48x48\n",
    "    img_array = np.expand_dims(img_array, -1)  # Add channel dimension for grayscale\n",
    "    img_array = np.repeat(img_array, 3, axis=-1)  # Convert to 3 channels for Xception\n",
    "    img_array = cv2.resize(img_array, (299, 299)) / 255.0  # Resize to 299x299 and normalize\n",
    "    return img_array\n"
   ]
  },
  {
   "cell_type": "code",
   "execution_count": 7,
   "id": "af417500",
   "metadata": {
    "execution": {
     "iopub.execute_input": "2024-10-30T19:14:43.343311Z",
     "iopub.status.busy": "2024-10-30T19:14:43.342884Z",
     "iopub.status.idle": "2024-10-30T19:14:43.346885Z",
     "shell.execute_reply": "2024-10-30T19:14:43.346201Z"
    },
    "papermill": {
     "duration": 0.009473,
     "end_time": "2024-10-30T19:14:43.348542",
     "exception": false,
     "start_time": "2024-10-30T19:14:43.339069",
     "status": "completed"
    },
    "tags": []
   },
   "outputs": [],
   "source": [
    "# Process data in chunks\n",
    "def preprocess_chunk(chunk):\n",
    "    chunk['pixels'] = chunk['pixels'].apply(lambda x: np.array(x.split(), dtype='float32'))\n",
    "    chunk['image'] = chunk['pixels'].apply(preprocess_pixels)  # Pass the array directly to preprocess_pixels\n",
    "    return chunk"
   ]
  },
  {
   "cell_type": "code",
   "execution_count": 8,
   "id": "770da3db",
   "metadata": {
    "execution": {
     "iopub.execute_input": "2024-10-30T19:14:43.355672Z",
     "iopub.status.busy": "2024-10-30T19:14:43.355069Z",
     "iopub.status.idle": "2024-10-30T19:14:45.943665Z",
     "shell.execute_reply": "2024-10-30T19:14:45.942788Z"
    },
    "papermill": {
     "duration": 2.594719,
     "end_time": "2024-10-30T19:14:45.946028",
     "exception": false,
     "start_time": "2024-10-30T19:14:43.351309",
     "status": "completed"
    },
    "tags": []
   },
   "outputs": [],
   "source": [
    "# Load data in chunks\n",
    "chunk_size = 1000\n",
    "chunks = []\n",
    "for chunk in pd.read_csv(\"/kaggle/input/balance-fer2013-data-image/balanced_emotions_dataset.csv\",chunksize=chunk_size):\n",
    "    chunks.append(chunk)"
   ]
  },
  {
   "cell_type": "code",
   "execution_count": 9,
   "id": "edd13bad",
   "metadata": {
    "execution": {
     "iopub.execute_input": "2024-10-30T19:14:45.953835Z",
     "iopub.status.busy": "2024-10-30T19:14:45.953148Z",
     "iopub.status.idle": "2024-10-30T19:15:23.623245Z",
     "shell.execute_reply": "2024-10-30T19:15:23.622302Z"
    },
    "papermill": {
     "duration": 37.676558,
     "end_time": "2024-10-30T19:15:23.625662",
     "exception": false,
     "start_time": "2024-10-30T19:14:45.949104",
     "status": "completed"
    },
    "tags": []
   },
   "outputs": [],
   "source": [
    "# Apply preprocessing to each chunk\n",
    "processed_chunks = []\n",
    "for chunk in chunks:\n",
    "    processed_chunk = preprocess_chunk(chunk)\n",
    "    processed_chunks.append(processed_chunk)\n",
    "      \n",
    "final_data = pd.concat(processed_chunks, ignore_index=True)"
   ]
  },
  {
   "cell_type": "code",
   "execution_count": 10,
   "id": "7c8efd2b",
   "metadata": {
    "execution": {
     "iopub.execute_input": "2024-10-30T19:15:23.633745Z",
     "iopub.status.busy": "2024-10-30T19:15:23.633428Z",
     "iopub.status.idle": "2024-10-30T19:15:42.543220Z",
     "shell.execute_reply": "2024-10-30T19:15:42.542458Z"
    },
    "papermill": {
     "duration": 18.915982,
     "end_time": "2024-10-30T19:15:42.544985",
     "exception": false,
     "start_time": "2024-10-30T19:15:23.629003",
     "status": "completed"
    },
    "tags": []
   },
   "outputs": [
    {
     "data": {
      "text/html": [
       "<div>\n",
       "<style scoped>\n",
       "    .dataframe tbody tr th:only-of-type {\n",
       "        vertical-align: middle;\n",
       "    }\n",
       "\n",
       "    .dataframe tbody tr th {\n",
       "        vertical-align: top;\n",
       "    }\n",
       "\n",
       "    .dataframe thead th {\n",
       "        text-align: right;\n",
       "    }\n",
       "</style>\n",
       "<table border=\"1\" class=\"dataframe\">\n",
       "  <thead>\n",
       "    <tr style=\"text-align: right;\">\n",
       "      <th></th>\n",
       "      <th>emotion</th>\n",
       "      <th>pixels</th>\n",
       "      <th>Usage</th>\n",
       "      <th>emotion_text</th>\n",
       "      <th>image</th>\n",
       "    </tr>\n",
       "  </thead>\n",
       "  <tbody>\n",
       "    <tr>\n",
       "      <th>0</th>\n",
       "      <td>0</td>\n",
       "      <td>[143.0, 144.0, 145.0, 145.0, 146.0, 145.0, 151...</td>\n",
       "      <td>Training</td>\n",
       "      <td>anger</td>\n",
       "      <td>[[[0.56078434, 0.56078434, 0.56078434], [0.560...</td>\n",
       "    </tr>\n",
       "    <tr>\n",
       "      <th>1</th>\n",
       "      <td>0</td>\n",
       "      <td>[182.0, 167.0, 154.0, 146.0, 134.0, 84.0, 30.0...</td>\n",
       "      <td>Training</td>\n",
       "      <td>anger</td>\n",
       "      <td>[[[0.7137255, 0.7137255, 0.7137255], [0.713725...</td>\n",
       "    </tr>\n",
       "    <tr>\n",
       "      <th>2</th>\n",
       "      <td>0</td>\n",
       "      <td>[207.0, 208.0, 208.0, 209.0, 208.0, 214.0, 176...</td>\n",
       "      <td>Training</td>\n",
       "      <td>anger</td>\n",
       "      <td>[[[0.8117647, 0.8117647, 0.8117647], [0.811764...</td>\n",
       "    </tr>\n",
       "    <tr>\n",
       "      <th>3</th>\n",
       "      <td>0</td>\n",
       "      <td>[193.0, 193.0, 196.0, 203.0, 216.0, 229.0, 233...</td>\n",
       "      <td>Training</td>\n",
       "      <td>anger</td>\n",
       "      <td>[[[0.75686276, 0.75686276, 0.75686276], [0.756...</td>\n",
       "    </tr>\n",
       "    <tr>\n",
       "      <th>4</th>\n",
       "      <td>0</td>\n",
       "      <td>[168.0, 195.0, 207.0, 208.0, 209.0, 207.0, 208...</td>\n",
       "      <td>Training</td>\n",
       "      <td>anger</td>\n",
       "      <td>[[[0.65882355, 0.65882355, 0.65882355], [0.658...</td>\n",
       "    </tr>\n",
       "    <tr>\n",
       "      <th>...</th>\n",
       "      <td>...</td>\n",
       "      <td>...</td>\n",
       "      <td>...</td>\n",
       "      <td>...</td>\n",
       "      <td>...</td>\n",
       "    </tr>\n",
       "    <tr>\n",
       "      <th>27995</th>\n",
       "      <td>1</td>\n",
       "      <td>[48.0, 34.0, 21.0, 18.0, 16.0, 21.0, 26.0, 36....</td>\n",
       "      <td>PrivateTest</td>\n",
       "      <td>disgust</td>\n",
       "      <td>[[[0.1882353, 0.1882353, 0.1882353], [0.188235...</td>\n",
       "    </tr>\n",
       "    <tr>\n",
       "      <th>27996</th>\n",
       "      <td>1</td>\n",
       "      <td>[98.0, 103.0, 107.0, 105.0, 100.0, 103.0, 108....</td>\n",
       "      <td>PrivateTest</td>\n",
       "      <td>disgust</td>\n",
       "      <td>[[[0.38431373, 0.38431373, 0.38431373], [0.384...</td>\n",
       "    </tr>\n",
       "    <tr>\n",
       "      <th>27997</th>\n",
       "      <td>1</td>\n",
       "      <td>[247.0, 247.0, 247.0, 246.0, 252.0, 224.0, 150...</td>\n",
       "      <td>PrivateTest</td>\n",
       "      <td>disgust</td>\n",
       "      <td>[[[0.96862745, 0.96862745, 0.96862745], [0.968...</td>\n",
       "    </tr>\n",
       "    <tr>\n",
       "      <th>27998</th>\n",
       "      <td>1</td>\n",
       "      <td>[186.0, 146.0, 50.0, 42.0, 43.0, 35.0, 48.0, 9...</td>\n",
       "      <td>PrivateTest</td>\n",
       "      <td>disgust</td>\n",
       "      <td>[[[0.7294118, 0.7294118, 0.7294118], [0.729411...</td>\n",
       "    </tr>\n",
       "    <tr>\n",
       "      <th>27999</th>\n",
       "      <td>1</td>\n",
       "      <td>[58.0, 83.0, 97.0, 101.0, 104.0, 105.0, 107.0,...</td>\n",
       "      <td>PrivateTest</td>\n",
       "      <td>disgust</td>\n",
       "      <td>[[[0.22745098, 0.22745098, 0.22745098], [0.227...</td>\n",
       "    </tr>\n",
       "  </tbody>\n",
       "</table>\n",
       "<p>28000 rows × 5 columns</p>\n",
       "</div>"
      ],
      "text/plain": [
       "       emotion                                             pixels  \\\n",
       "0            0  [143.0, 144.0, 145.0, 145.0, 146.0, 145.0, 151...   \n",
       "1            0  [182.0, 167.0, 154.0, 146.0, 134.0, 84.0, 30.0...   \n",
       "2            0  [207.0, 208.0, 208.0, 209.0, 208.0, 214.0, 176...   \n",
       "3            0  [193.0, 193.0, 196.0, 203.0, 216.0, 229.0, 233...   \n",
       "4            0  [168.0, 195.0, 207.0, 208.0, 209.0, 207.0, 208...   \n",
       "...        ...                                                ...   \n",
       "27995        1  [48.0, 34.0, 21.0, 18.0, 16.0, 21.0, 26.0, 36....   \n",
       "27996        1  [98.0, 103.0, 107.0, 105.0, 100.0, 103.0, 108....   \n",
       "27997        1  [247.0, 247.0, 247.0, 246.0, 252.0, 224.0, 150...   \n",
       "27998        1  [186.0, 146.0, 50.0, 42.0, 43.0, 35.0, 48.0, 9...   \n",
       "27999        1  [58.0, 83.0, 97.0, 101.0, 104.0, 105.0, 107.0,...   \n",
       "\n",
       "             Usage emotion_text  \\\n",
       "0         Training        anger   \n",
       "1         Training        anger   \n",
       "2         Training        anger   \n",
       "3         Training        anger   \n",
       "4         Training        anger   \n",
       "...            ...          ...   \n",
       "27995  PrivateTest      disgust   \n",
       "27996  PrivateTest      disgust   \n",
       "27997  PrivateTest      disgust   \n",
       "27998  PrivateTest      disgust   \n",
       "27999  PrivateTest      disgust   \n",
       "\n",
       "                                                   image  \n",
       "0      [[[0.56078434, 0.56078434, 0.56078434], [0.560...  \n",
       "1      [[[0.7137255, 0.7137255, 0.7137255], [0.713725...  \n",
       "2      [[[0.8117647, 0.8117647, 0.8117647], [0.811764...  \n",
       "3      [[[0.75686276, 0.75686276, 0.75686276], [0.756...  \n",
       "4      [[[0.65882355, 0.65882355, 0.65882355], [0.658...  \n",
       "...                                                  ...  \n",
       "27995  [[[0.1882353, 0.1882353, 0.1882353], [0.188235...  \n",
       "27996  [[[0.38431373, 0.38431373, 0.38431373], [0.384...  \n",
       "27997  [[[0.96862745, 0.96862745, 0.96862745], [0.968...  \n",
       "27998  [[[0.7294118, 0.7294118, 0.7294118], [0.729411...  \n",
       "27999  [[[0.22745098, 0.22745098, 0.22745098], [0.227...  \n",
       "\n",
       "[28000 rows x 5 columns]"
      ]
     },
     "execution_count": 10,
     "metadata": {},
     "output_type": "execute_result"
    }
   ],
   "source": [
    "final_data"
   ]
  },
  {
   "cell_type": "code",
   "execution_count": 11,
   "id": "55c7c138",
   "metadata": {
    "execution": {
     "iopub.execute_input": "2024-10-30T19:15:42.553032Z",
     "iopub.status.busy": "2024-10-30T19:15:42.552767Z",
     "iopub.status.idle": "2024-10-30T19:16:04.575946Z",
     "shell.execute_reply": "2024-10-30T19:16:04.575068Z"
    },
    "papermill": {
     "duration": 22.02988,
     "end_time": "2024-10-30T19:16:04.578115",
     "exception": false,
     "start_time": "2024-10-30T19:15:42.548235",
     "status": "completed"
    },
    "tags": []
   },
   "outputs": [],
   "source": [
    "# Save preprocessed data\n",
    "final_data.to_csv(\"/kaggle/working/preprocessed_train_dataset.csv\", index=False)"
   ]
  },
  {
   "cell_type": "code",
   "execution_count": null,
   "id": "776e0789",
   "metadata": {
    "papermill": {
     "duration": 0.003264,
     "end_time": "2024-10-30T19:16:04.584824",
     "exception": false,
     "start_time": "2024-10-30T19:16:04.581560",
     "status": "completed"
    },
    "tags": []
   },
   "outputs": [],
   "source": []
  }
 ],
 "metadata": {
  "kaggle": {
   "accelerator": "tpu1vmV38",
   "dataSources": [
    {
     "sourceId": 204352617,
     "sourceType": "kernelVersion"
    }
   ],
   "dockerImageVersionId": 30788,
   "isGpuEnabled": false,
   "isInternetEnabled": true,
   "language": "python",
   "sourceType": "notebook"
  },
  "kernelspec": {
   "display_name": "Python 3",
   "language": "python",
   "name": "python3"
  },
  "language_info": {
   "codemirror_mode": {
    "name": "ipython",
    "version": 3
   },
   "file_extension": ".py",
   "mimetype": "text/x-python",
   "name": "python",
   "nbconvert_exporter": "python",
   "pygments_lexer": "ipython3",
   "version": "3.10.15"
  },
  "papermill": {
   "default_parameters": {},
   "duration": 107.723781,
   "end_time": "2024-10-30T19:16:09.144291",
   "environment_variables": {},
   "exception": null,
   "input_path": "__notebook__.ipynb",
   "output_path": "__notebook__.ipynb",
   "parameters": {},
   "start_time": "2024-10-30T19:14:21.420510",
   "version": "2.6.0"
  }
 },
 "nbformat": 4,
 "nbformat_minor": 5
}
