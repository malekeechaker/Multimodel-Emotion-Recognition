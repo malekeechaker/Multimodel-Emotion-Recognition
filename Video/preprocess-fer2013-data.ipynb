{
 "cells": [
  {
   "cell_type": "code",
   "execution_count": 1,
   "id": "833cef13",
   "metadata": {
    "_cell_guid": "b1076dfc-b9ad-4769-8c92-a6c4dae69d19",
    "_uuid": "8f2839f25d086af736a60e9eeb907d3b93b6e0e5",
    "execution": {
     "iopub.execute_input": "2024-11-08T17:50:53.660735Z",
     "iopub.status.busy": "2024-11-08T17:50:53.660189Z",
     "iopub.status.idle": "2024-11-08T17:50:54.601990Z",
     "shell.execute_reply": "2024-11-08T17:50:54.601291Z"
    },
    "papermill": {
     "duration": 0.950664,
     "end_time": "2024-11-08T17:50:54.603903",
     "exception": false,
     "start_time": "2024-11-08T17:50:53.653239",
     "status": "completed"
    },
    "tags": []
   },
   "outputs": [
    {
     "name": "stdout",
     "output_type": "stream",
     "text": [
      "/kaggle/input/balance-fer2013-data-image/__results__.html\n",
      "/kaggle/input/balance-fer2013-data-image/balanced_emotions_dataset.csv\n",
      "/kaggle/input/balance-fer2013-data-image/__notebook__.ipynb\n",
      "/kaggle/input/balance-fer2013-data-image/__output__.json\n",
      "/kaggle/input/balance-fer2013-data-image/custom.css\n",
      "/kaggle/input/balance-fer2013-data-image/__results___files/__results___8_0.png\n",
      "/kaggle/input/balance-fer2013-data-image/__results___files/__results___11_0.png\n",
      "/kaggle/input/balance-fer2013-data-image/__results___files/__results___22_0.png\n"
     ]
    }
   ],
   "source": [
    "# This Python 3 environment comes with many helpful analytics libraries installed\n",
    "# It is defined by the kaggle/python Docker image: https://github.com/kaggle/docker-python\n",
    "# For example, here's several helpful packages to load\n",
    "\n",
    "import numpy as np # linear algebra\n",
    "import pandas as pd # data processing, CSV file I/O (e.g. pd.read_csv)\n",
    "\n",
    "# Input data files are available in the read-only \"../input/\" directory\n",
    "# For example, running this (by clicking run or pressing Shift+Enter) will list all files under the input directory\n",
    "\n",
    "import os\n",
    "for dirname, _, filenames in os.walk('/kaggle/input'):\n",
    "    for filename in filenames:\n",
    "        print(os.path.join(dirname, filename))\n",
    "\n",
    "# You can write up to 20GB to the current directory (/kaggle/working/) that gets preserved as output when you create a version using \"Save & Run All\" \n",
    "# You can also write temporary files to /kaggle/temp/, but they won't be saved outside of the current session"
   ]
  },
  {
   "cell_type": "code",
   "execution_count": 2,
   "id": "efd50ee4",
   "metadata": {
    "execution": {
     "iopub.execute_input": "2024-11-08T17:50:54.615309Z",
     "iopub.status.busy": "2024-11-08T17:50:54.614850Z",
     "iopub.status.idle": "2024-11-08T17:50:54.618332Z",
     "shell.execute_reply": "2024-11-08T17:50:54.617702Z"
    },
    "papermill": {
     "duration": 0.010766,
     "end_time": "2024-11-08T17:50:54.619893",
     "exception": false,
     "start_time": "2024-11-08T17:50:54.609127",
     "status": "completed"
    },
    "tags": []
   },
   "outputs": [],
   "source": [
    "import os\n",
    "os.environ['TF_CPP_MIN_LOG_LEVEL'] = '3'  # Suppresses all warnings (only errors will be shown)"
   ]
  },
  {
   "cell_type": "code",
   "execution_count": 3,
   "id": "307f689e",
   "metadata": {
    "execution": {
     "iopub.execute_input": "2024-11-08T17:50:54.630721Z",
     "iopub.status.busy": "2024-11-08T17:50:54.630087Z",
     "iopub.status.idle": "2024-11-08T17:51:10.428044Z",
     "shell.execute_reply": "2024-11-08T17:51:10.427143Z"
    },
    "papermill": {
     "duration": 15.806135,
     "end_time": "2024-11-08T17:51:10.430415",
     "exception": false,
     "start_time": "2024-11-08T17:50:54.624280",
     "status": "completed"
    },
    "tags": []
   },
   "outputs": [
    {
     "name": "stderr",
     "output_type": "stream",
     "text": [
      "WARNING: Logging before InitGoogle() is written to STDERR\n",
      "E0000 00:00:1731088262.349440      77 common_lib.cc:798] Could not set metric server port: INVALID_ARGUMENT: Could not find SliceBuilder port 8471 in any of the 0 ports provided in `tpu_process_addresses`=\"local\"\n",
      "=== Source Location Trace: ===\n",
      "learning/45eac/tfrc/runtime/common_lib.cc:479\n",
      "D1108 17:51:02.357546800      77 config.cc:196]                        gRPC EXPERIMENT call_status_override_on_cancellation   OFF (default:OFF)\n",
      "D1108 17:51:02.357563993      77 config.cc:196]                        gRPC EXPERIMENT call_v3                                OFF (default:OFF)\n",
      "D1108 17:51:02.357567660      77 config.cc:196]                        gRPC EXPERIMENT canary_client_privacy                  ON  (default:ON)\n",
      "D1108 17:51:02.357570382      77 config.cc:196]                        gRPC EXPERIMENT capture_base_context                   ON  (default:ON)\n",
      "D1108 17:51:02.357573211      77 config.cc:196]                        gRPC EXPERIMENT client_idleness                        ON  (default:ON)\n",
      "D1108 17:51:02.357576013      77 config.cc:196]                        gRPC EXPERIMENT client_privacy                         ON  (default:ON)\n",
      "D1108 17:51:02.357578762      77 config.cc:196]                        gRPC EXPERIMENT dapper_request_wire_size               OFF (default:OFF)\n",
      "D1108 17:51:02.357581440      77 config.cc:196]                        gRPC EXPERIMENT empty_experiment                       OFF (default:OFF)\n",
      "D1108 17:51:02.357584005      77 config.cc:196]                        gRPC EXPERIMENT event_engine_client                    OFF (default:OFF)\n",
      "D1108 17:51:02.357586614      77 config.cc:196]                        gRPC EXPERIMENT event_engine_dns                       ON  (default:ON)\n",
      "D1108 17:51:02.357589260      77 config.cc:196]                        gRPC EXPERIMENT event_engine_listener                  ON  (default:ON)\n",
      "D1108 17:51:02.357591887      77 config.cc:196]                        gRPC EXPERIMENT free_large_allocator                   OFF (default:OFF)\n",
      "D1108 17:51:02.357594454      77 config.cc:196]                        gRPC EXPERIMENT google_no_envelope_resolver            OFF (default:OFF)\n",
      "D1108 17:51:02.357597019      77 config.cc:196]                        gRPC EXPERIMENT http2_stats_fix                        OFF (default:OFF)\n",
      "D1108 17:51:02.357599603      77 config.cc:196]                        gRPC EXPERIMENT keepalive_fix                          OFF (default:OFF)\n",
      "D1108 17:51:02.357602217      77 config.cc:196]                        gRPC EXPERIMENT keepalive_server_fix                   ON  (default:ON)\n",
      "D1108 17:51:02.357604996      77 config.cc:196]                        gRPC EXPERIMENT loas_do_not_prefer_rekey_next_protocol OFF (default:OFF)\n",
      "D1108 17:51:02.357607630      77 config.cc:196]                        gRPC EXPERIMENT loas_prod_to_cloud_prefer_pfs_ciphers  OFF (default:OFF)\n",
      "D1108 17:51:02.357610234      77 config.cc:196]                        gRPC EXPERIMENT monitoring_experiment                  ON  (default:ON)\n",
      "D1108 17:51:02.357612851      77 config.cc:196]                        gRPC EXPERIMENT multiping                              OFF (default:OFF)\n",
      "D1108 17:51:02.357615443      77 config.cc:196]                        gRPC EXPERIMENT peer_state_based_framing               OFF (default:OFF)\n",
      "D1108 17:51:02.357618035      77 config.cc:196]                        gRPC EXPERIMENT pending_queue_cap                      ON  (default:ON)\n",
      "D1108 17:51:02.357620690      77 config.cc:196]                        gRPC EXPERIMENT pick_first_happy_eyeballs              ON  (default:ON)\n",
      "D1108 17:51:02.357623300      77 config.cc:196]                        gRPC EXPERIMENT promise_based_client_call              OFF (default:OFF)\n",
      "D1108 17:51:02.357625805      77 config.cc:196]                        gRPC EXPERIMENT promise_based_inproc_transport         OFF (default:OFF)\n",
      "D1108 17:51:02.357628342      77 config.cc:196]                        gRPC EXPERIMENT promise_based_server_call              OFF (default:OFF)\n",
      "D1108 17:51:02.357630971      77 config.cc:196]                        gRPC EXPERIMENT registered_method_lookup_in_transport  ON  (default:ON)\n",
      "D1108 17:51:02.357633591      77 config.cc:196]                        gRPC EXPERIMENT rfc_max_concurrent_streams             ON  (default:ON)\n",
      "D1108 17:51:02.357636312      77 config.cc:196]                        gRPC EXPERIMENT round_robin_delegate_to_pick_first     ON  (default:ON)\n",
      "D1108 17:51:02.357640289      77 config.cc:196]                        gRPC EXPERIMENT rstpit                                 OFF (default:OFF)\n",
      "D1108 17:51:02.357643024      77 config.cc:196]                        gRPC EXPERIMENT schedule_cancellation_over_write       OFF (default:OFF)\n",
      "D1108 17:51:02.357645745      77 config.cc:196]                        gRPC EXPERIMENT server_privacy                         ON  (default:ON)\n",
      "D1108 17:51:02.357648700      77 config.cc:196]                        gRPC EXPERIMENT tcp_frame_size_tuning                  OFF (default:OFF)\n",
      "D1108 17:51:02.357651377      77 config.cc:196]                        gRPC EXPERIMENT tcp_rcv_lowat                          OFF (default:OFF)\n",
      "D1108 17:51:02.357653940      77 config.cc:196]                        gRPC EXPERIMENT trace_record_callops                   OFF (default:OFF)\n",
      "D1108 17:51:02.357672388      77 config.cc:196]                        gRPC EXPERIMENT unconstrained_max_quota_buffer_size    OFF (default:OFF)\n",
      "D1108 17:51:02.357675109      77 config.cc:196]                        gRPC EXPERIMENT v3_backend_metric_filter               OFF (default:OFF)\n",
      "D1108 17:51:02.357677708      77 config.cc:196]                        gRPC EXPERIMENT v3_channel_idle_filters                ON  (default:ON)\n",
      "D1108 17:51:02.357680738      77 config.cc:196]                        gRPC EXPERIMENT v3_compression_filter                  ON  (default:ON)\n",
      "D1108 17:51:02.357683474      77 config.cc:196]                        gRPC EXPERIMENT v3_server_auth_filter                  OFF (default:OFF)\n",
      "D1108 17:51:02.357686323      77 config.cc:196]                        gRPC EXPERIMENT work_serializer_clears_time_cache      OFF (default:OFF)\n",
      "D1108 17:51:02.357689009      77 config.cc:196]                        gRPC EXPERIMENT work_serializer_dispatch               OFF (default:OFF)\n",
      "D1108 17:51:02.357691753      77 config.cc:196]                        gRPC EXPERIMENT write_size_cap                         ON  (default:ON)\n",
      "D1108 17:51:02.357694410      77 config.cc:196]                        gRPC EXPERIMENT write_size_policy                      ON  (default:ON)\n",
      "D1108 17:51:02.357697077      77 config.cc:196]                        gRPC EXPERIMENT wrr_delegate_to_pick_first             ON  (default:ON)\n",
      "I1108 17:51:02.357889467      77 ev_epoll1_linux.cc:123]               grpc epoll fd: 57\n",
      "D1108 17:51:02.357903105      77 ev_posix.cc:113]                      Using polling engine: epoll1\n",
      "D1108 17:51:02.370544335      77 lb_policy_registry.cc:46]             registering LB policy factory for \"priority_experimental\"\n",
      "D1108 17:51:02.370554401      77 lb_policy_registry.cc:46]             registering LB policy factory for \"outlier_detection_experimental\"\n",
      "D1108 17:51:02.370562185      77 lb_policy_registry.cc:46]             registering LB policy factory for \"weighted_target_experimental\"\n",
      "D1108 17:51:02.370565387      77 lb_policy_registry.cc:46]             registering LB policy factory for \"pick_first\"\n",
      "D1108 17:51:02.370568444      77 lb_policy_registry.cc:46]             registering LB policy factory for \"round_robin\"\n",
      "D1108 17:51:02.370571716      77 lb_policy_registry.cc:46]             registering LB policy factory for \"weighted_round_robin\"\n",
      "D1108 17:51:02.370594884      77 lb_policy_registry.cc:46]             registering LB policy factory for \"grpclb\"\n",
      "D1108 17:51:02.370608919      77 dns_resolver_plugin.cc:43]            Using EventEngine dns resolver\n",
      "D1108 17:51:02.370625034      77 lb_policy_registry.cc:46]             registering LB policy factory for \"rls_experimental\"\n",
      "D1108 17:51:02.370647129      77 lb_policy_registry.cc:46]             registering LB policy factory for \"xds_cluster_manager_experimental\"\n",
      "D1108 17:51:02.370653920      77 lb_policy_registry.cc:46]             registering LB policy factory for \"xds_cluster_impl_experimental\"\n",
      "D1108 17:51:02.370669162      77 lb_policy_registry.cc:46]             registering LB policy factory for \"cds_experimental\"\n",
      "D1108 17:51:02.370673390      77 lb_policy_registry.cc:46]             registering LB policy factory for \"xds_override_host_experimental\"\n",
      "D1108 17:51:02.370676689      77 lb_policy_registry.cc:46]             registering LB policy factory for \"xds_wrr_locality_experimental\"\n",
      "D1108 17:51:02.370679592      77 lb_policy_registry.cc:46]             registering LB policy factory for \"ring_hash_experimental\"\n",
      "D1108 17:51:02.370682755      77 certificate_provider_registry.cc:33]  registering certificate provider factory for \"file_watcher\"\n",
      "D1108 17:51:02.370710419      77 channel_init.cc:157]                  Filter server-auth not registered, but is referenced in the after clause of grpc-server-authz when building channel stack SERVER_CHANNEL\n",
      "I1108 17:51:02.372501799      77 ev_epoll1_linux.cc:359]               grpc epoll fd: 59\n",
      "I1108 17:51:02.373615815      77 tcp_socket_utils.cc:689]              Disabling AF_INET6 sockets because ::1 is not available.\n",
      "I1108 17:51:02.377224922     175 socket_utils_common_posix.cc:452]     Disabling AF_INET6 sockets because ::1 is not available.\n",
      "I1108 17:51:02.377279083     175 socket_utils_common_posix.cc:379]     TCP_USER_TIMEOUT is available. TCP_USER_TIMEOUT will be used thereafter\n",
      "E1108 17:51:02.382654014      77 oauth2_credentials.cc:238]            oauth_fetch: UNKNOWN:C-ares status is not ARES_SUCCESS qtype=A name=metadata.google.internal. is_balancer=0: Domain name not found {grpc_status:2, created_time:\"2024-11-08T17:51:02.382640759+00:00\"}\n"
     ]
    }
   ],
   "source": [
    "import numpy as np\n",
    "import pandas as pd\n",
    "import cv2  # For image processing\n",
    "from tensorflow.keras.preprocessing.image import ImageDataGenerator"
   ]
  },
  {
   "cell_type": "markdown",
   "id": "136fbcd0",
   "metadata": {
    "papermill": {
     "duration": 0.005166,
     "end_time": "2024-11-08T17:51:10.440601",
     "exception": false,
     "start_time": "2024-11-08T17:51:10.435435",
     "status": "completed"
    },
    "tags": []
   },
   "source": [
    "# Load Data"
   ]
  },
  {
   "cell_type": "code",
   "execution_count": 4,
   "id": "e6406268",
   "metadata": {
    "execution": {
     "iopub.execute_input": "2024-11-08T17:51:10.451990Z",
     "iopub.status.busy": "2024-11-08T17:51:10.451452Z",
     "iopub.status.idle": "2024-11-08T17:51:15.878184Z",
     "shell.execute_reply": "2024-11-08T17:51:15.877400Z"
    },
    "papermill": {
     "duration": 5.434991,
     "end_time": "2024-11-08T17:51:15.880164",
     "exception": false,
     "start_time": "2024-11-08T17:51:10.445173",
     "status": "completed"
    },
    "tags": []
   },
   "outputs": [
    {
     "data": {
      "text/html": [
       "<div>\n",
       "<style scoped>\n",
       "    .dataframe tbody tr th:only-of-type {\n",
       "        vertical-align: middle;\n",
       "    }\n",
       "\n",
       "    .dataframe tbody tr th {\n",
       "        vertical-align: top;\n",
       "    }\n",
       "\n",
       "    .dataframe thead th {\n",
       "        text-align: right;\n",
       "    }\n",
       "</style>\n",
       "<table border=\"1\" class=\"dataframe\">\n",
       "  <thead>\n",
       "    <tr style=\"text-align: right;\">\n",
       "      <th></th>\n",
       "      <th>emotion</th>\n",
       "      <th>pixels</th>\n",
       "      <th>Usage</th>\n",
       "      <th>emotion_text</th>\n",
       "    </tr>\n",
       "  </thead>\n",
       "  <tbody>\n",
       "    <tr>\n",
       "      <th>0</th>\n",
       "      <td>0</td>\n",
       "      <td>143 144 145 145 146 145 151 149 142 135 128 13...</td>\n",
       "      <td>Training</td>\n",
       "      <td>anger</td>\n",
       "    </tr>\n",
       "    <tr>\n",
       "      <th>1</th>\n",
       "      <td>0</td>\n",
       "      <td>182 167 154 146 134 84 30 10 3 17 27 10 7 11 6...</td>\n",
       "      <td>Training</td>\n",
       "      <td>anger</td>\n",
       "    </tr>\n",
       "    <tr>\n",
       "      <th>2</th>\n",
       "      <td>0</td>\n",
       "      <td>207 208 208 209 208 214 176 139 116 66 124 135...</td>\n",
       "      <td>Training</td>\n",
       "      <td>anger</td>\n",
       "    </tr>\n",
       "    <tr>\n",
       "      <th>3</th>\n",
       "      <td>0</td>\n",
       "      <td>193 193 196 203 216 229 233 243 189 114 87 95 ...</td>\n",
       "      <td>Training</td>\n",
       "      <td>anger</td>\n",
       "    </tr>\n",
       "    <tr>\n",
       "      <th>4</th>\n",
       "      <td>0</td>\n",
       "      <td>168 195 207 208 209 207 208 204 207 207 208 20...</td>\n",
       "      <td>Training</td>\n",
       "      <td>anger</td>\n",
       "    </tr>\n",
       "  </tbody>\n",
       "</table>\n",
       "</div>"
      ],
      "text/plain": [
       "   emotion                                             pixels     Usage  \\\n",
       "0        0  143 144 145 145 146 145 151 149 142 135 128 13...  Training   \n",
       "1        0  182 167 154 146 134 84 30 10 3 17 27 10 7 11 6...  Training   \n",
       "2        0  207 208 208 209 208 214 176 139 116 66 124 135...  Training   \n",
       "3        0  193 193 196 203 216 229 233 243 189 114 87 95 ...  Training   \n",
       "4        0  168 195 207 208 209 207 208 204 207 207 208 20...  Training   \n",
       "\n",
       "  emotion_text  \n",
       "0        anger  \n",
       "1        anger  \n",
       "2        anger  \n",
       "3        anger  \n",
       "4        anger  "
      ]
     },
     "execution_count": 4,
     "metadata": {},
     "output_type": "execute_result"
    }
   ],
   "source": [
    "data = pd.read_csv(\"/kaggle/input/balance-fer2013-data-image/balanced_emotions_dataset.csv\")\n",
    "data.head()"
   ]
  },
  {
   "cell_type": "code",
   "execution_count": 5,
   "id": "5ec05a51",
   "metadata": {
    "execution": {
     "iopub.execute_input": "2024-11-08T17:51:15.892239Z",
     "iopub.status.busy": "2024-11-08T17:51:15.891984Z",
     "iopub.status.idle": "2024-11-08T17:51:15.896187Z",
     "shell.execute_reply": "2024-11-08T17:51:15.895598Z"
    },
    "papermill": {
     "duration": 0.012434,
     "end_time": "2024-11-08T17:51:15.897853",
     "exception": false,
     "start_time": "2024-11-08T17:51:15.885419",
     "status": "completed"
    },
    "tags": []
   },
   "outputs": [
    {
     "data": {
      "text/plain": [
       "(28000, 4)"
      ]
     },
     "execution_count": 5,
     "metadata": {},
     "output_type": "execute_result"
    }
   ],
   "source": [
    "data.shape"
   ]
  },
  {
   "cell_type": "code",
   "execution_count": 6,
   "id": "250dd176",
   "metadata": {
    "execution": {
     "iopub.execute_input": "2024-11-08T17:51:15.909068Z",
     "iopub.status.busy": "2024-11-08T17:51:15.908796Z",
     "iopub.status.idle": "2024-11-08T17:51:15.913437Z",
     "shell.execute_reply": "2024-11-08T17:51:15.912715Z"
    },
    "papermill": {
     "duration": 0.012235,
     "end_time": "2024-11-08T17:51:15.915200",
     "exception": false,
     "start_time": "2024-11-08T17:51:15.902965",
     "status": "completed"
    },
    "tags": []
   },
   "outputs": [
    {
     "name": "stdout",
     "output_type": "stream",
     "text": [
      "Length of pixel data: 2304\n"
     ]
    }
   ],
   "source": [
    "print(f\"Length of pixel data: {len(data.pixels[0].split())}\")"
   ]
  },
  {
   "cell_type": "markdown",
   "id": "9e3eaa6d",
   "metadata": {
    "papermill": {
     "duration": 0.005068,
     "end_time": "2024-11-08T17:51:15.925764",
     "exception": false,
     "start_time": "2024-11-08T17:51:15.920696",
     "status": "completed"
    },
    "tags": []
   },
   "source": [
    "# Preproccess in chunks\n",
    "because of the limited ressources"
   ]
  },
  {
   "cell_type": "code",
   "execution_count": 7,
   "id": "1edd14b0",
   "metadata": {
    "execution": {
     "iopub.execute_input": "2024-11-08T17:51:15.937784Z",
     "iopub.status.busy": "2024-11-08T17:51:15.937341Z",
     "iopub.status.idle": "2024-11-08T17:51:15.942384Z",
     "shell.execute_reply": "2024-11-08T17:51:15.941775Z"
    },
    "papermill": {
     "duration": 0.013056,
     "end_time": "2024-11-08T17:51:15.943991",
     "exception": false,
     "start_time": "2024-11-08T17:51:15.930935",
     "status": "completed"
    },
    "tags": []
   },
   "outputs": [],
   "source": [
    "def preprocess_pixels(img_array):\n",
    "    # Ensure the input is already a NumPy array, so no need to split or convert again\n",
    "    img_array = img_array.reshape(48, 48)  # Reshape to 48x48\n",
    "    img_array = np.expand_dims(img_array, -1)  # Add channel dimension for grayscale\n",
    "    img_array = np.repeat(img_array, 3, axis=-1)  # Convert to 3 channels for Xception\n",
    "    img_array = cv2.resize(img_array, (299, 299)) / 255.0  # Resize to 299x299 and normalize\n",
    "    return img_array\n"
   ]
  },
  {
   "cell_type": "code",
   "execution_count": 8,
   "id": "871e93f9",
   "metadata": {
    "execution": {
     "iopub.execute_input": "2024-11-08T17:51:15.955448Z",
     "iopub.status.busy": "2024-11-08T17:51:15.955205Z",
     "iopub.status.idle": "2024-11-08T17:51:15.959289Z",
     "shell.execute_reply": "2024-11-08T17:51:15.958569Z"
    },
    "papermill": {
     "duration": 0.01153,
     "end_time": "2024-11-08T17:51:15.960775",
     "exception": false,
     "start_time": "2024-11-08T17:51:15.949245",
     "status": "completed"
    },
    "tags": []
   },
   "outputs": [],
   "source": [
    "# Process data in chunks\n",
    "def preprocess_chunk(chunk):\n",
    "    chunk['pixels'] = chunk['pixels'].apply(lambda x: np.array(x.split(), dtype='float32'))\n",
    "    chunk['image'] = chunk['pixels'].apply(preprocess_pixels)  # Pass the array directly to preprocess_pixels\n",
    "    return chunk"
   ]
  },
  {
   "cell_type": "code",
   "execution_count": 9,
   "id": "6e709655",
   "metadata": {
    "execution": {
     "iopub.execute_input": "2024-11-08T17:51:15.971854Z",
     "iopub.status.busy": "2024-11-08T17:51:15.971576Z",
     "iopub.status.idle": "2024-11-08T17:51:18.636844Z",
     "shell.execute_reply": "2024-11-08T17:51:18.636084Z"
    },
    "papermill": {
     "duration": 2.67388,
     "end_time": "2024-11-08T17:51:18.639405",
     "exception": false,
     "start_time": "2024-11-08T17:51:15.965525",
     "status": "completed"
    },
    "tags": []
   },
   "outputs": [],
   "source": [
    "# Load data in chunks\n",
    "chunk_size = 1000\n",
    "chunks = []\n",
    "for chunk in pd.read_csv(\"/kaggle/input/balance-fer2013-data-image/balanced_emotions_dataset.csv\",chunksize=chunk_size):\n",
    "    chunks.append(chunk)"
   ]
  },
  {
   "cell_type": "code",
   "execution_count": 10,
   "id": "6d187b2b",
   "metadata": {
    "execution": {
     "iopub.execute_input": "2024-11-08T17:51:18.652247Z",
     "iopub.status.busy": "2024-11-08T17:51:18.651333Z",
     "iopub.status.idle": "2024-11-08T17:51:56.301435Z",
     "shell.execute_reply": "2024-11-08T17:51:56.300390Z"
    },
    "papermill": {
     "duration": 37.659314,
     "end_time": "2024-11-08T17:51:56.304153",
     "exception": false,
     "start_time": "2024-11-08T17:51:18.644839",
     "status": "completed"
    },
    "tags": []
   },
   "outputs": [],
   "source": [
    "# Apply preprocessing to each chunk\n",
    "processed_chunks = []\n",
    "for chunk in chunks:\n",
    "    processed_chunk = preprocess_chunk(chunk)\n",
    "    processed_chunks.append(processed_chunk)\n",
    "      \n",
    "final_data = pd.concat(processed_chunks, ignore_index=True)"
   ]
  },
  {
   "cell_type": "code",
   "execution_count": 11,
   "id": "82c04ff4",
   "metadata": {
    "execution": {
     "iopub.execute_input": "2024-11-08T17:51:56.316715Z",
     "iopub.status.busy": "2024-11-08T17:51:56.316013Z",
     "iopub.status.idle": "2024-11-08T17:52:15.086365Z",
     "shell.execute_reply": "2024-11-08T17:52:15.085706Z"
    },
    "papermill": {
     "duration": 18.778437,
     "end_time": "2024-11-08T17:52:15.088154",
     "exception": false,
     "start_time": "2024-11-08T17:51:56.309717",
     "status": "completed"
    },
    "tags": []
   },
   "outputs": [
    {
     "data": {
      "text/html": [
       "<div>\n",
       "<style scoped>\n",
       "    .dataframe tbody tr th:only-of-type {\n",
       "        vertical-align: middle;\n",
       "    }\n",
       "\n",
       "    .dataframe tbody tr th {\n",
       "        vertical-align: top;\n",
       "    }\n",
       "\n",
       "    .dataframe thead th {\n",
       "        text-align: right;\n",
       "    }\n",
       "</style>\n",
       "<table border=\"1\" class=\"dataframe\">\n",
       "  <thead>\n",
       "    <tr style=\"text-align: right;\">\n",
       "      <th></th>\n",
       "      <th>emotion</th>\n",
       "      <th>pixels</th>\n",
       "      <th>Usage</th>\n",
       "      <th>emotion_text</th>\n",
       "      <th>image</th>\n",
       "    </tr>\n",
       "  </thead>\n",
       "  <tbody>\n",
       "    <tr>\n",
       "      <th>0</th>\n",
       "      <td>0</td>\n",
       "      <td>[143.0, 144.0, 145.0, 145.0, 146.0, 145.0, 151...</td>\n",
       "      <td>Training</td>\n",
       "      <td>anger</td>\n",
       "      <td>[[[0.56078434, 0.56078434, 0.56078434], [0.560...</td>\n",
       "    </tr>\n",
       "    <tr>\n",
       "      <th>1</th>\n",
       "      <td>0</td>\n",
       "      <td>[182.0, 167.0, 154.0, 146.0, 134.0, 84.0, 30.0...</td>\n",
       "      <td>Training</td>\n",
       "      <td>anger</td>\n",
       "      <td>[[[0.7137255, 0.7137255, 0.7137255], [0.713725...</td>\n",
       "    </tr>\n",
       "    <tr>\n",
       "      <th>2</th>\n",
       "      <td>0</td>\n",
       "      <td>[207.0, 208.0, 208.0, 209.0, 208.0, 214.0, 176...</td>\n",
       "      <td>Training</td>\n",
       "      <td>anger</td>\n",
       "      <td>[[[0.8117647, 0.8117647, 0.8117647], [0.811764...</td>\n",
       "    </tr>\n",
       "    <tr>\n",
       "      <th>3</th>\n",
       "      <td>0</td>\n",
       "      <td>[193.0, 193.0, 196.0, 203.0, 216.0, 229.0, 233...</td>\n",
       "      <td>Training</td>\n",
       "      <td>anger</td>\n",
       "      <td>[[[0.75686276, 0.75686276, 0.75686276], [0.756...</td>\n",
       "    </tr>\n",
       "    <tr>\n",
       "      <th>4</th>\n",
       "      <td>0</td>\n",
       "      <td>[168.0, 195.0, 207.0, 208.0, 209.0, 207.0, 208...</td>\n",
       "      <td>Training</td>\n",
       "      <td>anger</td>\n",
       "      <td>[[[0.65882355, 0.65882355, 0.65882355], [0.658...</td>\n",
       "    </tr>\n",
       "    <tr>\n",
       "      <th>...</th>\n",
       "      <td>...</td>\n",
       "      <td>...</td>\n",
       "      <td>...</td>\n",
       "      <td>...</td>\n",
       "      <td>...</td>\n",
       "    </tr>\n",
       "    <tr>\n",
       "      <th>27995</th>\n",
       "      <td>1</td>\n",
       "      <td>[48.0, 34.0, 21.0, 18.0, 16.0, 21.0, 26.0, 36....</td>\n",
       "      <td>PrivateTest</td>\n",
       "      <td>disgust</td>\n",
       "      <td>[[[0.1882353, 0.1882353, 0.1882353], [0.188235...</td>\n",
       "    </tr>\n",
       "    <tr>\n",
       "      <th>27996</th>\n",
       "      <td>1</td>\n",
       "      <td>[98.0, 103.0, 107.0, 105.0, 100.0, 103.0, 108....</td>\n",
       "      <td>PrivateTest</td>\n",
       "      <td>disgust</td>\n",
       "      <td>[[[0.38431373, 0.38431373, 0.38431373], [0.384...</td>\n",
       "    </tr>\n",
       "    <tr>\n",
       "      <th>27997</th>\n",
       "      <td>1</td>\n",
       "      <td>[247.0, 247.0, 247.0, 246.0, 252.0, 224.0, 150...</td>\n",
       "      <td>PrivateTest</td>\n",
       "      <td>disgust</td>\n",
       "      <td>[[[0.96862745, 0.96862745, 0.96862745], [0.968...</td>\n",
       "    </tr>\n",
       "    <tr>\n",
       "      <th>27998</th>\n",
       "      <td>1</td>\n",
       "      <td>[186.0, 146.0, 50.0, 42.0, 43.0, 35.0, 48.0, 9...</td>\n",
       "      <td>PrivateTest</td>\n",
       "      <td>disgust</td>\n",
       "      <td>[[[0.7294118, 0.7294118, 0.7294118], [0.729411...</td>\n",
       "    </tr>\n",
       "    <tr>\n",
       "      <th>27999</th>\n",
       "      <td>1</td>\n",
       "      <td>[58.0, 83.0, 97.0, 101.0, 104.0, 105.0, 107.0,...</td>\n",
       "      <td>PrivateTest</td>\n",
       "      <td>disgust</td>\n",
       "      <td>[[[0.22745098, 0.22745098, 0.22745098], [0.227...</td>\n",
       "    </tr>\n",
       "  </tbody>\n",
       "</table>\n",
       "<p>28000 rows × 5 columns</p>\n",
       "</div>"
      ],
      "text/plain": [
       "       emotion                                             pixels  \\\n",
       "0            0  [143.0, 144.0, 145.0, 145.0, 146.0, 145.0, 151...   \n",
       "1            0  [182.0, 167.0, 154.0, 146.0, 134.0, 84.0, 30.0...   \n",
       "2            0  [207.0, 208.0, 208.0, 209.0, 208.0, 214.0, 176...   \n",
       "3            0  [193.0, 193.0, 196.0, 203.0, 216.0, 229.0, 233...   \n",
       "4            0  [168.0, 195.0, 207.0, 208.0, 209.0, 207.0, 208...   \n",
       "...        ...                                                ...   \n",
       "27995        1  [48.0, 34.0, 21.0, 18.0, 16.0, 21.0, 26.0, 36....   \n",
       "27996        1  [98.0, 103.0, 107.0, 105.0, 100.0, 103.0, 108....   \n",
       "27997        1  [247.0, 247.0, 247.0, 246.0, 252.0, 224.0, 150...   \n",
       "27998        1  [186.0, 146.0, 50.0, 42.0, 43.0, 35.0, 48.0, 9...   \n",
       "27999        1  [58.0, 83.0, 97.0, 101.0, 104.0, 105.0, 107.0,...   \n",
       "\n",
       "             Usage emotion_text  \\\n",
       "0         Training        anger   \n",
       "1         Training        anger   \n",
       "2         Training        anger   \n",
       "3         Training        anger   \n",
       "4         Training        anger   \n",
       "...            ...          ...   \n",
       "27995  PrivateTest      disgust   \n",
       "27996  PrivateTest      disgust   \n",
       "27997  PrivateTest      disgust   \n",
       "27998  PrivateTest      disgust   \n",
       "27999  PrivateTest      disgust   \n",
       "\n",
       "                                                   image  \n",
       "0      [[[0.56078434, 0.56078434, 0.56078434], [0.560...  \n",
       "1      [[[0.7137255, 0.7137255, 0.7137255], [0.713725...  \n",
       "2      [[[0.8117647, 0.8117647, 0.8117647], [0.811764...  \n",
       "3      [[[0.75686276, 0.75686276, 0.75686276], [0.756...  \n",
       "4      [[[0.65882355, 0.65882355, 0.65882355], [0.658...  \n",
       "...                                                  ...  \n",
       "27995  [[[0.1882353, 0.1882353, 0.1882353], [0.188235...  \n",
       "27996  [[[0.38431373, 0.38431373, 0.38431373], [0.384...  \n",
       "27997  [[[0.96862745, 0.96862745, 0.96862745], [0.968...  \n",
       "27998  [[[0.7294118, 0.7294118, 0.7294118], [0.729411...  \n",
       "27999  [[[0.22745098, 0.22745098, 0.22745098], [0.227...  \n",
       "\n",
       "[28000 rows x 5 columns]"
      ]
     },
     "execution_count": 11,
     "metadata": {},
     "output_type": "execute_result"
    }
   ],
   "source": [
    "final_data"
   ]
  },
  {
   "cell_type": "markdown",
   "id": "deb4a580",
   "metadata": {
    "papermill": {
     "duration": 0.005352,
     "end_time": "2024-11-08T17:52:15.099574",
     "exception": false,
     "start_time": "2024-11-08T17:52:15.094222",
     "status": "completed"
    },
    "tags": []
   },
   "source": [
    "# Verify the preproccesed data"
   ]
  },
  {
   "cell_type": "code",
   "execution_count": 12,
   "id": "70136d0e",
   "metadata": {
    "execution": {
     "iopub.execute_input": "2024-11-08T17:52:15.111578Z",
     "iopub.status.busy": "2024-11-08T17:52:15.111310Z",
     "iopub.status.idle": "2024-11-08T17:52:15.116251Z",
     "shell.execute_reply": "2024-11-08T17:52:15.115674Z"
    },
    "papermill": {
     "duration": 0.012861,
     "end_time": "2024-11-08T17:52:15.117790",
     "exception": false,
     "start_time": "2024-11-08T17:52:15.104929",
     "status": "completed"
    },
    "tags": []
   },
   "outputs": [
    {
     "data": {
      "text/plain": [
       "(299, 299, 3)"
      ]
     },
     "execution_count": 12,
     "metadata": {},
     "output_type": "execute_result"
    }
   ],
   "source": [
    "final_data['image'][0].shape"
   ]
  },
  {
   "cell_type": "code",
   "execution_count": 13,
   "id": "d6b90682",
   "metadata": {
    "execution": {
     "iopub.execute_input": "2024-11-08T17:52:15.129571Z",
     "iopub.status.busy": "2024-11-08T17:52:15.129320Z",
     "iopub.status.idle": "2024-11-08T17:52:15.133912Z",
     "shell.execute_reply": "2024-11-08T17:52:15.133300Z"
    },
    "papermill": {
     "duration": 0.012565,
     "end_time": "2024-11-08T17:52:15.135521",
     "exception": false,
     "start_time": "2024-11-08T17:52:15.122956",
     "status": "completed"
    },
    "tags": []
   },
   "outputs": [
    {
     "data": {
      "text/plain": [
       "0.073392905"
      ]
     },
     "execution_count": 13,
     "metadata": {},
     "output_type": "execute_result"
    }
   ],
   "source": [
    "final_data['image'][0].min()"
   ]
  },
  {
   "cell_type": "code",
   "execution_count": 14,
   "id": "ff097f50",
   "metadata": {
    "execution": {
     "iopub.execute_input": "2024-11-08T17:52:15.147553Z",
     "iopub.status.busy": "2024-11-08T17:52:15.147312Z",
     "iopub.status.idle": "2024-11-08T17:52:15.151691Z",
     "shell.execute_reply": "2024-11-08T17:52:15.151098Z"
    },
    "papermill": {
     "duration": 0.012583,
     "end_time": "2024-11-08T17:52:15.153309",
     "exception": false,
     "start_time": "2024-11-08T17:52:15.140726",
     "status": "completed"
    },
    "tags": []
   },
   "outputs": [
    {
     "data": {
      "text/plain": [
       "1.0"
      ]
     },
     "execution_count": 14,
     "metadata": {},
     "output_type": "execute_result"
    }
   ],
   "source": [
    "final_data['image'][0].max()"
   ]
  },
  {
   "cell_type": "markdown",
   "id": "b47083d2",
   "metadata": {
    "papermill": {
     "duration": 0.005449,
     "end_time": "2024-11-08T17:52:15.164336",
     "exception": false,
     "start_time": "2024-11-08T17:52:15.158887",
     "status": "completed"
    },
    "tags": []
   },
   "source": [
    "# Drop useless columns before saving"
   ]
  },
  {
   "cell_type": "code",
   "execution_count": 15,
   "id": "499fb057",
   "metadata": {
    "execution": {
     "iopub.execute_input": "2024-11-08T17:52:15.176567Z",
     "iopub.status.busy": "2024-11-08T17:52:15.176333Z",
     "iopub.status.idle": "2024-11-08T17:52:15.180928Z",
     "shell.execute_reply": "2024-11-08T17:52:15.180347Z"
    },
    "papermill": {
     "duration": 0.012579,
     "end_time": "2024-11-08T17:52:15.182376",
     "exception": false,
     "start_time": "2024-11-08T17:52:15.169797",
     "status": "completed"
    },
    "tags": []
   },
   "outputs": [],
   "source": [
    "final_data = final_data.drop(columns=['pixels', 'Usage'])"
   ]
  },
  {
   "cell_type": "code",
   "execution_count": 16,
   "id": "65b6ea8a",
   "metadata": {
    "execution": {
     "iopub.execute_input": "2024-11-08T17:52:15.194457Z",
     "iopub.status.busy": "2024-11-08T17:52:15.194194Z",
     "iopub.status.idle": "2024-11-08T17:52:24.617466Z",
     "shell.execute_reply": "2024-11-08T17:52:24.616232Z"
    },
    "papermill": {
     "duration": 9.43175,
     "end_time": "2024-11-08T17:52:24.619699",
     "exception": false,
     "start_time": "2024-11-08T17:52:15.187949",
     "status": "completed"
    },
    "tags": []
   },
   "outputs": [
    {
     "data": {
      "text/html": [
       "<div>\n",
       "<style scoped>\n",
       "    .dataframe tbody tr th:only-of-type {\n",
       "        vertical-align: middle;\n",
       "    }\n",
       "\n",
       "    .dataframe tbody tr th {\n",
       "        vertical-align: top;\n",
       "    }\n",
       "\n",
       "    .dataframe thead th {\n",
       "        text-align: right;\n",
       "    }\n",
       "</style>\n",
       "<table border=\"1\" class=\"dataframe\">\n",
       "  <thead>\n",
       "    <tr style=\"text-align: right;\">\n",
       "      <th></th>\n",
       "      <th>emotion</th>\n",
       "      <th>emotion_text</th>\n",
       "      <th>image</th>\n",
       "    </tr>\n",
       "  </thead>\n",
       "  <tbody>\n",
       "    <tr>\n",
       "      <th>0</th>\n",
       "      <td>0</td>\n",
       "      <td>anger</td>\n",
       "      <td>[[[0.56078434, 0.56078434, 0.56078434], [0.560...</td>\n",
       "    </tr>\n",
       "    <tr>\n",
       "      <th>1</th>\n",
       "      <td>0</td>\n",
       "      <td>anger</td>\n",
       "      <td>[[[0.7137255, 0.7137255, 0.7137255], [0.713725...</td>\n",
       "    </tr>\n",
       "    <tr>\n",
       "      <th>2</th>\n",
       "      <td>0</td>\n",
       "      <td>anger</td>\n",
       "      <td>[[[0.8117647, 0.8117647, 0.8117647], [0.811764...</td>\n",
       "    </tr>\n",
       "    <tr>\n",
       "      <th>3</th>\n",
       "      <td>0</td>\n",
       "      <td>anger</td>\n",
       "      <td>[[[0.75686276, 0.75686276, 0.75686276], [0.756...</td>\n",
       "    </tr>\n",
       "    <tr>\n",
       "      <th>4</th>\n",
       "      <td>0</td>\n",
       "      <td>anger</td>\n",
       "      <td>[[[0.65882355, 0.65882355, 0.65882355], [0.658...</td>\n",
       "    </tr>\n",
       "  </tbody>\n",
       "</table>\n",
       "</div>"
      ],
      "text/plain": [
       "   emotion emotion_text                                              image\n",
       "0        0        anger  [[[0.56078434, 0.56078434, 0.56078434], [0.560...\n",
       "1        0        anger  [[[0.7137255, 0.7137255, 0.7137255], [0.713725...\n",
       "2        0        anger  [[[0.8117647, 0.8117647, 0.8117647], [0.811764...\n",
       "3        0        anger  [[[0.75686276, 0.75686276, 0.75686276], [0.756...\n",
       "4        0        anger  [[[0.65882355, 0.65882355, 0.65882355], [0.658..."
      ]
     },
     "execution_count": 16,
     "metadata": {},
     "output_type": "execute_result"
    }
   ],
   "source": [
    "final_data.head()"
   ]
  },
  {
   "cell_type": "code",
   "execution_count": 17,
   "id": "82c554c6",
   "metadata": {
    "execution": {
     "iopub.execute_input": "2024-11-08T17:52:24.633580Z",
     "iopub.status.busy": "2024-11-08T17:52:24.633282Z",
     "iopub.status.idle": "2024-11-08T17:52:31.939245Z",
     "shell.execute_reply": "2024-11-08T17:52:31.938371Z"
    },
    "papermill": {
     "duration": 7.315137,
     "end_time": "2024-11-08T17:52:31.941136",
     "exception": false,
     "start_time": "2024-11-08T17:52:24.625999",
     "status": "completed"
    },
    "tags": []
   },
   "outputs": [
    {
     "name": "stdout",
     "output_type": "stream",
     "text": [
      "Collecting tables\r\n"
     ]
    },
    {
     "name": "stdout",
     "output_type": "stream",
     "text": [
      "  Downloading tables-3.10.1-cp310-cp310-manylinux_2_17_x86_64.manylinux2014_x86_64.whl (7.6 MB)\r\n",
      "\u001b[?25l     \u001b[90m━━━━━━━━━━━━━━━━━━━━━━━━━━━━━━━━━━━━━━━━\u001b[0m \u001b[32m0.0/7.6 MB\u001b[0m \u001b[31m?\u001b[0m eta \u001b[36m-:--:--\u001b[0m"
     ]
    },
    {
     "name": "stdout",
     "output_type": "stream",
     "text": [
      "\r",
      "\u001b[2K     \u001b[91m━\u001b[0m\u001b[90m╺\u001b[0m\u001b[90m━━━━━━━━━━━━━━━━━━━━━━━━━━━━━━━━━━━━━━\u001b[0m \u001b[32m0.2/7.6 MB\u001b[0m \u001b[31m7.0 MB/s\u001b[0m eta \u001b[36m0:00:02\u001b[0m"
     ]
    },
    {
     "name": "stdout",
     "output_type": "stream",
     "text": [
      "\r",
      "\u001b[2K     \u001b[91m━━━━━━━━\u001b[0m\u001b[91m╸\u001b[0m\u001b[90m━━━━━━━━━━━━━━━━━━━━━━━━━━━━━━━\u001b[0m \u001b[32m1.7/7.6 MB\u001b[0m \u001b[31m24.2 MB/s\u001b[0m eta \u001b[36m0:00:01\u001b[0m\r",
      "\u001b[2K     \u001b[91m━━━━━━━━━━━━━━━━━━━━━━━━━━━\u001b[0m\u001b[91m╸\u001b[0m\u001b[90m━━━━━━━━━━━━\u001b[0m \u001b[32m5.2/7.6 MB\u001b[0m \u001b[31m56.4 MB/s\u001b[0m eta \u001b[36m0:00:01\u001b[0m"
     ]
    },
    {
     "name": "stdout",
     "output_type": "stream",
     "text": [
      "\r",
      "\u001b[2K     \u001b[91m━━━━━━━━━━━━━━━━━━━━━━━━━━━\u001b[0m\u001b[91m╸\u001b[0m\u001b[90m━━━━━━━━━━━━\u001b[0m \u001b[32m5.2/7.6 MB\u001b[0m \u001b[31m56.4 MB/s\u001b[0m eta \u001b[36m0:00:01\u001b[0m"
     ]
    },
    {
     "name": "stdout",
     "output_type": "stream",
     "text": [
      "\r",
      "\u001b[2K     \u001b[91m━━━━━━━━━━━━━━━━━━━━━━━━━━━━━━━━━━━━━━━\u001b[0m\u001b[91m╸\u001b[0m \u001b[32m7.6/7.6 MB\u001b[0m \u001b[31m44.2 MB/s\u001b[0m eta \u001b[36m0:00:01\u001b[0m"
     ]
    },
    {
     "name": "stdout",
     "output_type": "stream",
     "text": [
      "\r",
      "\u001b[2K     \u001b[91m━━━━━━━━━━━━━━━━━━━━━━━━━━━━━━━━━━━━━━━\u001b[0m\u001b[91m╸\u001b[0m \u001b[32m7.6/7.6 MB\u001b[0m \u001b[31m44.2 MB/s\u001b[0m eta \u001b[36m0:00:01\u001b[0m\r",
      "\u001b[2K     \u001b[91m━━━━━━━━━━━━━━━━━━━━━━━━━━━━━━━━━━━━━━━\u001b[0m\u001b[91m╸\u001b[0m \u001b[32m7.6/7.6 MB\u001b[0m \u001b[31m44.2 MB/s\u001b[0m eta \u001b[36m0:00:01\u001b[0m"
     ]
    },
    {
     "name": "stdout",
     "output_type": "stream",
     "text": [
      "\r",
      "\u001b[2K     \u001b[90m━━━━━━━━━━━━━━━━━━━━━━━━━━━━━━━━━━━━━━━━\u001b[0m \u001b[32m7.6/7.6 MB\u001b[0m \u001b[31m27.3 MB/s\u001b[0m eta \u001b[36m0:00:00\u001b[0m\r\n",
      "\u001b[?25h"
     ]
    },
    {
     "name": "stdout",
     "output_type": "stream",
     "text": [
      "Requirement already satisfied: numpy>=1.20.0 in /usr/local/lib/python3.10/site-packages (from tables) (1.26.4)\r\n"
     ]
    },
    {
     "name": "stdout",
     "output_type": "stream",
     "text": [
      "Collecting numexpr>=2.6.2\r\n",
      "  Downloading numexpr-2.10.1-cp310-cp310-manylinux_2_27_x86_64.manylinux_2_28_x86_64.whl (405 kB)\r\n",
      "\u001b[?25l     \u001b[90m━━━━━━━━━━━━━━━━━━━━━━━━━━━━━━━━━━━━━━━━\u001b[0m \u001b[32m0.0/405.0 kB\u001b[0m \u001b[31m?\u001b[0m eta \u001b[36m-:--:--\u001b[0m"
     ]
    },
    {
     "name": "stdout",
     "output_type": "stream",
     "text": [
      "\r",
      "\u001b[2K     \u001b[90m━━━━━━━━━━━━━━━━━━━━━━━━━━━━━━━━━━━━━━\u001b[0m \u001b[32m405.0/405.0 kB\u001b[0m \u001b[31m27.6 MB/s\u001b[0m eta \u001b[36m0:00:00\u001b[0m\r\n",
      "\u001b[?25h"
     ]
    },
    {
     "name": "stdout",
     "output_type": "stream",
     "text": [
      "Collecting blosc2>=2.3.0\r\n",
      "  Downloading blosc2-2.7.1-cp310-cp310-manylinux_2_17_x86_64.manylinux2014_x86_64.whl (4.4 MB)\r\n",
      "\u001b[?25l     \u001b[90m━━━━━━━━━━━━━━━━━━━━━━━━━━━━━━━━━━━━━━━━\u001b[0m \u001b[32m0.0/4.4 MB\u001b[0m \u001b[31m?\u001b[0m eta \u001b[36m-:--:--\u001b[0m"
     ]
    },
    {
     "name": "stdout",
     "output_type": "stream",
     "text": [
      "\r",
      "\u001b[2K     \u001b[91m━━━━━━━━━━━━━━━━━━━━━━━━━━━━━━━━━━━━━━━\u001b[0m\u001b[91m╸\u001b[0m \u001b[32m4.4/4.4 MB\u001b[0m \u001b[31m169.3 MB/s\u001b[0m eta \u001b[36m0:00:01\u001b[0m\r",
      "\u001b[2K     \u001b[90m━━━━━━━━━━━━━━━━━━━━━━━━━━━━━━━━━━━━━━━━\u001b[0m \u001b[32m4.4/4.4 MB\u001b[0m \u001b[31m74.9 MB/s\u001b[0m eta \u001b[36m0:00:00\u001b[0m\r\n",
      "\u001b[?25h"
     ]
    },
    {
     "name": "stdout",
     "output_type": "stream",
     "text": [
      "Collecting py-cpuinfo\r\n",
      "  Downloading py_cpuinfo-9.0.0-py3-none-any.whl (22 kB)\r\n"
     ]
    },
    {
     "name": "stdout",
     "output_type": "stream",
     "text": [
      "Requirement already satisfied: packaging in /usr/local/lib/python3.10/site-packages (from tables) (24.1)\r\n",
      "Requirement already satisfied: typing-extensions>=4.4.0 in /usr/local/lib/python3.10/site-packages (from tables) (4.12.2)\r\n"
     ]
    },
    {
     "name": "stdout",
     "output_type": "stream",
     "text": [
      "Collecting ndindex>=1.4\r\n",
      "  Downloading ndindex-1.9.2-cp310-cp310-manylinux_2_17_x86_64.manylinux2014_x86_64.whl (475 kB)\r\n",
      "\u001b[?25l     \u001b[90m━━━━━━━━━━━━━━━━━━━━━━━━━━━━━━━━━━━━━━━━\u001b[0m \u001b[32m0.0/475.5 kB\u001b[0m \u001b[31m?\u001b[0m eta \u001b[36m-:--:--\u001b[0m\r",
      "\u001b[2K     \u001b[90m━━━━━━━━━━━━━━━━━━━━━━━━━━━━━━━━━━━━━━\u001b[0m \u001b[32m475.5/475.5 kB\u001b[0m \u001b[31m36.2 MB/s\u001b[0m eta \u001b[36m0:00:00\u001b[0m\r\n",
      "\u001b[?25hRequirement already satisfied: msgpack in /usr/local/lib/python3.10/site-packages (from blosc2>=2.3.0->tables) (1.1.0)\r\n"
     ]
    },
    {
     "name": "stdout",
     "output_type": "stream",
     "text": [
      "Installing collected packages: py-cpuinfo, numexpr, ndindex, blosc2, tables\r\n"
     ]
    },
    {
     "name": "stdout",
     "output_type": "stream",
     "text": [
      "Successfully installed blosc2-2.7.1 ndindex-1.9.2 numexpr-2.10.1 py-cpuinfo-9.0.0 tables-3.10.1\r\n",
      "\u001b[33mWARNING: Running pip as the 'root' user can result in broken permissions and conflicting behaviour with the system package manager. It is recommended to use a virtual environment instead: https://pip.pypa.io/warnings/venv\u001b[0m\u001b[33m\r\n",
      "\u001b[0m"
     ]
    },
    {
     "name": "stdout",
     "output_type": "stream",
     "text": [
      "\r\n",
      "\u001b[1m[\u001b[0m\u001b[34;49mnotice\u001b[0m\u001b[1;39;49m]\u001b[0m\u001b[39;49m A new release of pip is available: \u001b[0m\u001b[31;49m23.0.1\u001b[0m\u001b[39;49m -> \u001b[0m\u001b[32;49m24.3.1\u001b[0m\r\n",
      "\u001b[1m[\u001b[0m\u001b[34;49mnotice\u001b[0m\u001b[1;39;49m]\u001b[0m\u001b[39;49m To update, run: \u001b[0m\u001b[32;49mpip install --upgrade pip\u001b[0m\r\n"
     ]
    }
   ],
   "source": [
    "!pip install tables"
   ]
  },
  {
   "cell_type": "markdown",
   "id": "f8e3f9ef",
   "metadata": {
    "papermill": {
     "duration": 0.006465,
     "end_time": "2024-11-08T17:52:31.954796",
     "exception": false,
     "start_time": "2024-11-08T17:52:31.948331",
     "status": "completed"
    },
    "tags": []
   },
   "source": [
    "# Use .npz to save 3D data and .h5 for the labels"
   ]
  },
  {
   "cell_type": "code",
   "execution_count": 18,
   "id": "d0547131",
   "metadata": {
    "execution": {
     "iopub.execute_input": "2024-11-08T17:52:31.970235Z",
     "iopub.status.busy": "2024-11-08T17:52:31.969954Z",
     "iopub.status.idle": "2024-11-08T18:02:17.858647Z",
     "shell.execute_reply": "2024-11-08T18:02:17.857723Z"
    },
    "papermill": {
     "duration": 585.899685,
     "end_time": "2024-11-08T18:02:17.861269",
     "exception": false,
     "start_time": "2024-11-08T17:52:31.961584",
     "status": "completed"
    },
    "tags": []
   },
   "outputs": [],
   "source": [
    "np.savez_compressed('images_data.npz', images=final_data['image'].values)"
   ]
  },
  {
   "cell_type": "code",
   "execution_count": 19,
   "id": "096d740e",
   "metadata": {
    "execution": {
     "iopub.execute_input": "2024-11-08T18:02:17.876625Z",
     "iopub.status.busy": "2024-11-08T18:02:17.876335Z",
     "iopub.status.idle": "2024-11-08T18:02:18.224511Z",
     "shell.execute_reply": "2024-11-08T18:02:18.223826Z"
    },
    "papermill": {
     "duration": 0.358549,
     "end_time": "2024-11-08T18:02:18.226858",
     "exception": false,
     "start_time": "2024-11-08T18:02:17.868309",
     "status": "completed"
    },
    "tags": []
   },
   "outputs": [],
   "source": [
    "# Remove the 'image' column before saving the DataFrame\n",
    "final_data_no_image = final_data.drop(columns=['image'])\n",
    "\n",
    "# Now save the rest of the data (emotion, usage, etc.)\n",
    "final_data_no_image.to_hdf('structured_data.h5', key='df', mode='w')"
   ]
  },
  {
   "cell_type": "markdown",
   "id": "a7cbfc37",
   "metadata": {
    "papermill": {
     "duration": 0.00695,
     "end_time": "2024-11-08T18:02:18.241125",
     "exception": false,
     "start_time": "2024-11-08T18:02:18.234175",
     "status": "completed"
    },
    "tags": []
   },
   "source": [
    "# Load and Verify the shape"
   ]
  },
  {
   "cell_type": "code",
   "execution_count": 20,
   "id": "58d2d59a",
   "metadata": {
    "execution": {
     "iopub.execute_input": "2024-11-08T18:02:18.256045Z",
     "iopub.status.busy": "2024-11-08T18:02:18.255537Z",
     "iopub.status.idle": "2024-11-08T18:04:09.202034Z",
     "shell.execute_reply": "2024-11-08T18:04:09.201146Z"
    },
    "papermill": {
     "duration": 110.95711,
     "end_time": "2024-11-08T18:04:09.204568",
     "exception": false,
     "start_time": "2024-11-08T18:02:18.247458",
     "status": "completed"
    },
    "tags": []
   },
   "outputs": [],
   "source": [
    "import numpy as np\n",
    "\n",
    "# Load the images from the compressed .npz file\n",
    "data = np.load('/kaggle/working/images_data.npz',allow_pickle=True)\n",
    "images = data['images']\n"
   ]
  },
  {
   "cell_type": "code",
   "execution_count": 21,
   "id": "971f5271",
   "metadata": {
    "execution": {
     "iopub.execute_input": "2024-11-08T18:04:09.219917Z",
     "iopub.status.busy": "2024-11-08T18:04:09.219583Z",
     "iopub.status.idle": "2024-11-08T18:04:09.224593Z",
     "shell.execute_reply": "2024-11-08T18:04:09.224018Z"
    },
    "papermill": {
     "duration": 0.014291,
     "end_time": "2024-11-08T18:04:09.226179",
     "exception": false,
     "start_time": "2024-11-08T18:04:09.211888",
     "status": "completed"
    },
    "tags": []
   },
   "outputs": [
    {
     "data": {
      "text/plain": [
       "(299, 299, 3)"
      ]
     },
     "execution_count": 21,
     "metadata": {},
     "output_type": "execute_result"
    }
   ],
   "source": [
    "images[0].shape"
   ]
  },
  {
   "cell_type": "code",
   "execution_count": 22,
   "id": "e621e338",
   "metadata": {
    "execution": {
     "iopub.execute_input": "2024-11-08T18:04:09.240819Z",
     "iopub.status.busy": "2024-11-08T18:04:09.240521Z",
     "iopub.status.idle": "2024-11-08T18:04:09.255215Z",
     "shell.execute_reply": "2024-11-08T18:04:09.254570Z"
    },
    "papermill": {
     "duration": 0.023717,
     "end_time": "2024-11-08T18:04:09.256761",
     "exception": false,
     "start_time": "2024-11-08T18:04:09.233044",
     "status": "completed"
    },
    "tags": []
   },
   "outputs": [],
   "source": [
    "structured_data = pd.read_hdf('structured_data.h5', 'df')\n",
    "labels = structured_data['emotion'].values"
   ]
  },
  {
   "cell_type": "code",
   "execution_count": 23,
   "id": "ba5b0fcd",
   "metadata": {
    "execution": {
     "iopub.execute_input": "2024-11-08T18:04:09.271902Z",
     "iopub.status.busy": "2024-11-08T18:04:09.271672Z",
     "iopub.status.idle": "2024-11-08T18:04:10.391696Z",
     "shell.execute_reply": "2024-11-08T18:04:10.391067Z"
    },
    "papermill": {
     "duration": 1.130018,
     "end_time": "2024-11-08T18:04:10.393741",
     "exception": false,
     "start_time": "2024-11-08T18:04:09.263723",
     "status": "completed"
    },
    "tags": []
   },
   "outputs": [
    {
     "name": "stdout",
     "output_type": "stream",
     "text": [
      "Training data shape: (22400,)\n",
      "Validation data shape: (5600,)\n"
     ]
    }
   ],
   "source": [
    "from sklearn.model_selection import train_test_split\n",
    "\n",
    "# Split data into train and validation sets\n",
    "X_train, X_val, y_train, y_val = train_test_split(images, labels, test_size=0.2, random_state=42, stratify=labels)\n",
    "\n",
    "# Check the split\n",
    "print(\"Training data shape:\", X_train.shape)\n",
    "print(\"Validation data shape:\", X_val.shape)"
   ]
  }
 ],
 "metadata": {
  "kaggle": {
   "accelerator": "tpu1vmV38",
   "dataSources": [
    {
     "sourceId": 204352617,
     "sourceType": "kernelVersion"
    }
   ],
   "dockerImageVersionId": 30787,
   "isGpuEnabled": false,
   "isInternetEnabled": true,
   "language": "python",
   "sourceType": "notebook"
  },
  "kernelspec": {
   "display_name": "Python 3",
   "language": "python",
   "name": "python3"
  },
  "language_info": {
   "codemirror_mode": {
    "name": "ipython",
    "version": 3
   },
   "file_extension": ".py",
   "mimetype": "text/x-python",
   "name": "python",
   "nbconvert_exporter": "python",
   "pygments_lexer": "ipython3",
   "version": "3.10.15"
  },
  "papermill": {
   "default_parameters": {},
   "duration": 806.149159,
   "end_time": "2024-11-08T18:04:18.148606",
   "environment_variables": {},
   "exception": null,
   "input_path": "__notebook__.ipynb",
   "output_path": "__notebook__.ipynb",
   "parameters": {},
   "start_time": "2024-11-08T17:50:51.999447",
   "version": "2.6.0"
  }
 },
 "nbformat": 4,
 "nbformat_minor": 5
}
