{
 "cells": [
  {
   "cell_type": "code",
   "execution_count": 1,
   "id": "dce36650",
   "metadata": {
    "_cell_guid": "b1076dfc-b9ad-4769-8c92-a6c4dae69d19",
    "_uuid": "8f2839f25d086af736a60e9eeb907d3b93b6e0e5",
    "execution": {
     "iopub.execute_input": "2024-11-01T17:24:17.598761Z",
     "iopub.status.busy": "2024-11-01T17:24:17.598336Z",
     "iopub.status.idle": "2024-11-01T17:24:18.517535Z",
     "shell.execute_reply": "2024-11-01T17:24:18.516470Z"
    },
    "papermill": {
     "duration": 0.927693,
     "end_time": "2024-11-01T17:24:18.519926",
     "exception": false,
     "start_time": "2024-11-01T17:24:17.592233",
     "status": "completed"
    },
    "tags": []
   },
   "outputs": [
    {
     "name": "stdout",
     "output_type": "stream",
     "text": [
      "/kaggle/input/balance-fer2013-data-image/__results__.html\n",
      "/kaggle/input/balance-fer2013-data-image/balanced_emotions_dataset.csv\n",
      "/kaggle/input/balance-fer2013-data-image/__notebook__.ipynb\n",
      "/kaggle/input/balance-fer2013-data-image/__output__.json\n",
      "/kaggle/input/balance-fer2013-data-image/custom.css\n",
      "/kaggle/input/balance-fer2013-data-image/__results___files/__results___8_0.png\n",
      "/kaggle/input/balance-fer2013-data-image/__results___files/__results___11_0.png\n",
      "/kaggle/input/balance-fer2013-data-image/__results___files/__results___22_0.png\n"
     ]
    }
   ],
   "source": [
    "# This Python 3 environment comes with many helpful analytics libraries installed\n",
    "# It is defined by the kaggle/python Docker image: https://github.com/kaggle/docker-python\n",
    "# For example, here's several helpful packages to load\n",
    "\n",
    "import numpy as np # linear algebra\n",
    "import pandas as pd # data processing, CSV file I/O (e.g. pd.read_csv)\n",
    "\n",
    "# Input data files are available in the read-only \"../input/\" directory\n",
    "# For example, running this (by clicking run or pressing Shift+Enter) will list all files under the input directory\n",
    "\n",
    "import os\n",
    "for dirname, _, filenames in os.walk('/kaggle/input'):\n",
    "    for filename in filenames:\n",
    "        print(os.path.join(dirname, filename))\n",
    "\n",
    "# You can write up to 20GB to the current directory (/kaggle/working/) that gets preserved as output when you create a version using \"Save & Run All\" \n",
    "# You can also write temporary files to /kaggle/temp/, but they won't be saved outside of the current session"
   ]
  },
  {
   "cell_type": "code",
   "execution_count": 2,
   "id": "0e2ecde5",
   "metadata": {
    "execution": {
     "iopub.execute_input": "2024-11-01T17:24:18.530967Z",
     "iopub.status.busy": "2024-11-01T17:24:18.529651Z",
     "iopub.status.idle": "2024-11-01T17:24:32.743377Z",
     "shell.execute_reply": "2024-11-01T17:24:32.742184Z"
    },
    "papermill": {
     "duration": 14.221801,
     "end_time": "2024-11-01T17:24:32.745995",
     "exception": false,
     "start_time": "2024-11-01T17:24:18.524194",
     "status": "completed"
    },
    "tags": []
   },
   "outputs": [],
   "source": [
    "import numpy as np\n",
    "import pandas as pd\n",
    "import cv2  # For image processing\n",
    "from tensorflow.keras.preprocessing.image import ImageDataGenerator"
   ]
  },
  {
   "cell_type": "code",
   "execution_count": 3,
   "id": "6387b534",
   "metadata": {
    "execution": {
     "iopub.execute_input": "2024-11-01T17:24:32.756609Z",
     "iopub.status.busy": "2024-11-01T17:24:32.755930Z",
     "iopub.status.idle": "2024-11-01T17:24:38.385662Z",
     "shell.execute_reply": "2024-11-01T17:24:38.384339Z"
    },
    "papermill": {
     "duration": 5.638048,
     "end_time": "2024-11-01T17:24:38.388226",
     "exception": false,
     "start_time": "2024-11-01T17:24:32.750178",
     "status": "completed"
    },
    "tags": []
   },
   "outputs": [
    {
     "data": {
      "text/html": [
       "<div>\n",
       "<style scoped>\n",
       "    .dataframe tbody tr th:only-of-type {\n",
       "        vertical-align: middle;\n",
       "    }\n",
       "\n",
       "    .dataframe tbody tr th {\n",
       "        vertical-align: top;\n",
       "    }\n",
       "\n",
       "    .dataframe thead th {\n",
       "        text-align: right;\n",
       "    }\n",
       "</style>\n",
       "<table border=\"1\" class=\"dataframe\">\n",
       "  <thead>\n",
       "    <tr style=\"text-align: right;\">\n",
       "      <th></th>\n",
       "      <th>emotion</th>\n",
       "      <th>pixels</th>\n",
       "      <th>Usage</th>\n",
       "      <th>emotion_text</th>\n",
       "    </tr>\n",
       "  </thead>\n",
       "  <tbody>\n",
       "    <tr>\n",
       "      <th>0</th>\n",
       "      <td>0</td>\n",
       "      <td>143 144 145 145 146 145 151 149 142 135 128 13...</td>\n",
       "      <td>Training</td>\n",
       "      <td>anger</td>\n",
       "    </tr>\n",
       "    <tr>\n",
       "      <th>1</th>\n",
       "      <td>0</td>\n",
       "      <td>182 167 154 146 134 84 30 10 3 17 27 10 7 11 6...</td>\n",
       "      <td>Training</td>\n",
       "      <td>anger</td>\n",
       "    </tr>\n",
       "    <tr>\n",
       "      <th>2</th>\n",
       "      <td>0</td>\n",
       "      <td>207 208 208 209 208 214 176 139 116 66 124 135...</td>\n",
       "      <td>Training</td>\n",
       "      <td>anger</td>\n",
       "    </tr>\n",
       "    <tr>\n",
       "      <th>3</th>\n",
       "      <td>0</td>\n",
       "      <td>193 193 196 203 216 229 233 243 189 114 87 95 ...</td>\n",
       "      <td>Training</td>\n",
       "      <td>anger</td>\n",
       "    </tr>\n",
       "    <tr>\n",
       "      <th>4</th>\n",
       "      <td>0</td>\n",
       "      <td>168 195 207 208 209 207 208 204 207 207 208 20...</td>\n",
       "      <td>Training</td>\n",
       "      <td>anger</td>\n",
       "    </tr>\n",
       "  </tbody>\n",
       "</table>\n",
       "</div>"
      ],
      "text/plain": [
       "   emotion                                             pixels     Usage  \\\n",
       "0        0  143 144 145 145 146 145 151 149 142 135 128 13...  Training   \n",
       "1        0  182 167 154 146 134 84 30 10 3 17 27 10 7 11 6...  Training   \n",
       "2        0  207 208 208 209 208 214 176 139 116 66 124 135...  Training   \n",
       "3        0  193 193 196 203 216 229 233 243 189 114 87 95 ...  Training   \n",
       "4        0  168 195 207 208 209 207 208 204 207 207 208 20...  Training   \n",
       "\n",
       "  emotion_text  \n",
       "0        anger  \n",
       "1        anger  \n",
       "2        anger  \n",
       "3        anger  \n",
       "4        anger  "
      ]
     },
     "execution_count": 3,
     "metadata": {},
     "output_type": "execute_result"
    }
   ],
   "source": [
    "data = pd.read_csv(\"/kaggle/input/balance-fer2013-data-image/balanced_emotions_dataset.csv\")\n",
    "data.head()"
   ]
  },
  {
   "cell_type": "code",
   "execution_count": 4,
   "id": "fa4ea430",
   "metadata": {
    "execution": {
     "iopub.execute_input": "2024-11-01T17:24:38.399245Z",
     "iopub.status.busy": "2024-11-01T17:24:38.398819Z",
     "iopub.status.idle": "2024-11-01T17:24:38.405715Z",
     "shell.execute_reply": "2024-11-01T17:24:38.404579Z"
    },
    "papermill": {
     "duration": 0.015106,
     "end_time": "2024-11-01T17:24:38.407810",
     "exception": false,
     "start_time": "2024-11-01T17:24:38.392704",
     "status": "completed"
    },
    "tags": []
   },
   "outputs": [
    {
     "data": {
      "text/plain": [
       "(28000, 4)"
      ]
     },
     "execution_count": 4,
     "metadata": {},
     "output_type": "execute_result"
    }
   ],
   "source": [
    "data.shape"
   ]
  },
  {
   "cell_type": "code",
   "execution_count": 5,
   "id": "1f3b7b17",
   "metadata": {
    "execution": {
     "iopub.execute_input": "2024-11-01T17:24:38.417868Z",
     "iopub.status.busy": "2024-11-01T17:24:38.417506Z",
     "iopub.status.idle": "2024-11-01T17:24:38.423409Z",
     "shell.execute_reply": "2024-11-01T17:24:38.422135Z"
    },
    "papermill": {
     "duration": 0.01385,
     "end_time": "2024-11-01T17:24:38.425880",
     "exception": false,
     "start_time": "2024-11-01T17:24:38.412030",
     "status": "completed"
    },
    "tags": []
   },
   "outputs": [
    {
     "name": "stdout",
     "output_type": "stream",
     "text": [
      "Length of pixel data: 2304\n"
     ]
    }
   ],
   "source": [
    "print(f\"Length of pixel data: {len(data.pixels[0].split())}\")"
   ]
  },
  {
   "cell_type": "code",
   "execution_count": 6,
   "id": "c7645892",
   "metadata": {
    "execution": {
     "iopub.execute_input": "2024-11-01T17:24:38.436059Z",
     "iopub.status.busy": "2024-11-01T17:24:38.435698Z",
     "iopub.status.idle": "2024-11-01T17:24:38.441785Z",
     "shell.execute_reply": "2024-11-01T17:24:38.440656Z"
    },
    "papermill": {
     "duration": 0.013647,
     "end_time": "2024-11-01T17:24:38.443935",
     "exception": false,
     "start_time": "2024-11-01T17:24:38.430288",
     "status": "completed"
    },
    "tags": []
   },
   "outputs": [],
   "source": [
    "def preprocess_pixels(img_array):\n",
    "    # Ensure the input is already a NumPy array, so no need to split or convert again\n",
    "    img_array = img_array.reshape(48, 48)  # Reshape to 48x48\n",
    "    img_array = np.expand_dims(img_array, -1)  # Add channel dimension for grayscale\n",
    "    img_array = np.repeat(img_array, 3, axis=-1)  # Convert to 3 channels for Xception\n",
    "    img_array = cv2.resize(img_array, (299, 299)) / 255.0  # Resize to 299x299 and normalize\n",
    "    return img_array\n"
   ]
  },
  {
   "cell_type": "code",
   "execution_count": 7,
   "id": "cdf80ab3",
   "metadata": {
    "execution": {
     "iopub.execute_input": "2024-11-01T17:24:38.456018Z",
     "iopub.status.busy": "2024-11-01T17:24:38.454919Z",
     "iopub.status.idle": "2024-11-01T17:24:38.461013Z",
     "shell.execute_reply": "2024-11-01T17:24:38.459930Z"
    },
    "papermill": {
     "duration": 0.01478,
     "end_time": "2024-11-01T17:24:38.463306",
     "exception": false,
     "start_time": "2024-11-01T17:24:38.448526",
     "status": "completed"
    },
    "tags": []
   },
   "outputs": [],
   "source": [
    "# Process data in chunks\n",
    "def preprocess_chunk(chunk):\n",
    "    chunk['pixels'] = chunk['pixels'].apply(lambda x: np.array(x.split(), dtype='float32'))\n",
    "    chunk['image'] = chunk['pixels'].apply(preprocess_pixels)  # Pass the array directly to preprocess_pixels\n",
    "    return chunk"
   ]
  },
  {
   "cell_type": "code",
   "execution_count": 8,
   "id": "b8c382e5",
   "metadata": {
    "execution": {
     "iopub.execute_input": "2024-11-01T17:24:38.473739Z",
     "iopub.status.busy": "2024-11-01T17:24:38.473334Z",
     "iopub.status.idle": "2024-11-01T17:24:41.413227Z",
     "shell.execute_reply": "2024-11-01T17:24:41.411963Z"
    },
    "papermill": {
     "duration": 2.948254,
     "end_time": "2024-11-01T17:24:41.415931",
     "exception": false,
     "start_time": "2024-11-01T17:24:38.467677",
     "status": "completed"
    },
    "tags": []
   },
   "outputs": [],
   "source": [
    "# Load data in chunks\n",
    "chunk_size = 1000\n",
    "chunks = []\n",
    "for chunk in pd.read_csv(\"/kaggle/input/balance-fer2013-data-image/balanced_emotions_dataset.csv\",chunksize=chunk_size):\n",
    "    chunks.append(chunk)"
   ]
  },
  {
   "cell_type": "code",
   "execution_count": 9,
   "id": "d91e8fad",
   "metadata": {
    "execution": {
     "iopub.execute_input": "2024-11-01T17:24:41.426578Z",
     "iopub.status.busy": "2024-11-01T17:24:41.426182Z",
     "iopub.status.idle": "2024-11-01T17:25:14.035448Z",
     "shell.execute_reply": "2024-11-01T17:25:14.033830Z"
    },
    "papermill": {
     "duration": 32.618373,
     "end_time": "2024-11-01T17:25:14.038693",
     "exception": false,
     "start_time": "2024-11-01T17:24:41.420320",
     "status": "completed"
    },
    "tags": []
   },
   "outputs": [],
   "source": [
    "# Apply preprocessing to each chunk\n",
    "processed_chunks = []\n",
    "for chunk in chunks:\n",
    "    processed_chunk = preprocess_chunk(chunk)\n",
    "    processed_chunks.append(processed_chunk)\n",
    "      \n",
    "final_data = pd.concat(processed_chunks, ignore_index=True)"
   ]
  },
  {
   "cell_type": "code",
   "execution_count": 10,
   "id": "a65fb1f3",
   "metadata": {
    "execution": {
     "iopub.execute_input": "2024-11-01T17:25:14.052826Z",
     "iopub.status.busy": "2024-11-01T17:25:14.052420Z",
     "iopub.status.idle": "2024-11-01T17:25:40.377575Z",
     "shell.execute_reply": "2024-11-01T17:25:40.375949Z"
    },
    "papermill": {
     "duration": 26.333189,
     "end_time": "2024-11-01T17:25:40.379934",
     "exception": false,
     "start_time": "2024-11-01T17:25:14.046745",
     "status": "completed"
    },
    "tags": []
   },
   "outputs": [
    {
     "data": {
      "text/html": [
       "<div>\n",
       "<style scoped>\n",
       "    .dataframe tbody tr th:only-of-type {\n",
       "        vertical-align: middle;\n",
       "    }\n",
       "\n",
       "    .dataframe tbody tr th {\n",
       "        vertical-align: top;\n",
       "    }\n",
       "\n",
       "    .dataframe thead th {\n",
       "        text-align: right;\n",
       "    }\n",
       "</style>\n",
       "<table border=\"1\" class=\"dataframe\">\n",
       "  <thead>\n",
       "    <tr style=\"text-align: right;\">\n",
       "      <th></th>\n",
       "      <th>emotion</th>\n",
       "      <th>pixels</th>\n",
       "      <th>Usage</th>\n",
       "      <th>emotion_text</th>\n",
       "      <th>image</th>\n",
       "    </tr>\n",
       "  </thead>\n",
       "  <tbody>\n",
       "    <tr>\n",
       "      <th>0</th>\n",
       "      <td>0</td>\n",
       "      <td>[143.0, 144.0, 145.0, 145.0, 146.0, 145.0, 151...</td>\n",
       "      <td>Training</td>\n",
       "      <td>anger</td>\n",
       "      <td>[[[0.56078434, 0.56078434, 0.56078434], [0.560...</td>\n",
       "    </tr>\n",
       "    <tr>\n",
       "      <th>1</th>\n",
       "      <td>0</td>\n",
       "      <td>[182.0, 167.0, 154.0, 146.0, 134.0, 84.0, 30.0...</td>\n",
       "      <td>Training</td>\n",
       "      <td>anger</td>\n",
       "      <td>[[[0.7137255, 0.7137255, 0.7137255], [0.713725...</td>\n",
       "    </tr>\n",
       "    <tr>\n",
       "      <th>2</th>\n",
       "      <td>0</td>\n",
       "      <td>[207.0, 208.0, 208.0, 209.0, 208.0, 214.0, 176...</td>\n",
       "      <td>Training</td>\n",
       "      <td>anger</td>\n",
       "      <td>[[[0.8117647, 0.8117647, 0.8117647], [0.811764...</td>\n",
       "    </tr>\n",
       "    <tr>\n",
       "      <th>3</th>\n",
       "      <td>0</td>\n",
       "      <td>[193.0, 193.0, 196.0, 203.0, 216.0, 229.0, 233...</td>\n",
       "      <td>Training</td>\n",
       "      <td>anger</td>\n",
       "      <td>[[[0.75686276, 0.75686276, 0.75686276], [0.756...</td>\n",
       "    </tr>\n",
       "    <tr>\n",
       "      <th>4</th>\n",
       "      <td>0</td>\n",
       "      <td>[168.0, 195.0, 207.0, 208.0, 209.0, 207.0, 208...</td>\n",
       "      <td>Training</td>\n",
       "      <td>anger</td>\n",
       "      <td>[[[0.65882355, 0.65882355, 0.65882355], [0.658...</td>\n",
       "    </tr>\n",
       "    <tr>\n",
       "      <th>...</th>\n",
       "      <td>...</td>\n",
       "      <td>...</td>\n",
       "      <td>...</td>\n",
       "      <td>...</td>\n",
       "      <td>...</td>\n",
       "    </tr>\n",
       "    <tr>\n",
       "      <th>27995</th>\n",
       "      <td>1</td>\n",
       "      <td>[48.0, 34.0, 21.0, 18.0, 16.0, 21.0, 26.0, 36....</td>\n",
       "      <td>PrivateTest</td>\n",
       "      <td>disgust</td>\n",
       "      <td>[[[0.1882353, 0.1882353, 0.1882353], [0.188235...</td>\n",
       "    </tr>\n",
       "    <tr>\n",
       "      <th>27996</th>\n",
       "      <td>1</td>\n",
       "      <td>[98.0, 103.0, 107.0, 105.0, 100.0, 103.0, 108....</td>\n",
       "      <td>PrivateTest</td>\n",
       "      <td>disgust</td>\n",
       "      <td>[[[0.38431373, 0.38431373, 0.38431373], [0.384...</td>\n",
       "    </tr>\n",
       "    <tr>\n",
       "      <th>27997</th>\n",
       "      <td>1</td>\n",
       "      <td>[247.0, 247.0, 247.0, 246.0, 252.0, 224.0, 150...</td>\n",
       "      <td>PrivateTest</td>\n",
       "      <td>disgust</td>\n",
       "      <td>[[[0.96862745, 0.96862745, 0.96862745], [0.968...</td>\n",
       "    </tr>\n",
       "    <tr>\n",
       "      <th>27998</th>\n",
       "      <td>1</td>\n",
       "      <td>[186.0, 146.0, 50.0, 42.0, 43.0, 35.0, 48.0, 9...</td>\n",
       "      <td>PrivateTest</td>\n",
       "      <td>disgust</td>\n",
       "      <td>[[[0.7294118, 0.7294118, 0.7294118], [0.729411...</td>\n",
       "    </tr>\n",
       "    <tr>\n",
       "      <th>27999</th>\n",
       "      <td>1</td>\n",
       "      <td>[58.0, 83.0, 97.0, 101.0, 104.0, 105.0, 107.0,...</td>\n",
       "      <td>PrivateTest</td>\n",
       "      <td>disgust</td>\n",
       "      <td>[[[0.22745098, 0.22745098, 0.22745098], [0.227...</td>\n",
       "    </tr>\n",
       "  </tbody>\n",
       "</table>\n",
       "<p>28000 rows × 5 columns</p>\n",
       "</div>"
      ],
      "text/plain": [
       "       emotion                                             pixels  \\\n",
       "0            0  [143.0, 144.0, 145.0, 145.0, 146.0, 145.0, 151...   \n",
       "1            0  [182.0, 167.0, 154.0, 146.0, 134.0, 84.0, 30.0...   \n",
       "2            0  [207.0, 208.0, 208.0, 209.0, 208.0, 214.0, 176...   \n",
       "3            0  [193.0, 193.0, 196.0, 203.0, 216.0, 229.0, 233...   \n",
       "4            0  [168.0, 195.0, 207.0, 208.0, 209.0, 207.0, 208...   \n",
       "...        ...                                                ...   \n",
       "27995        1  [48.0, 34.0, 21.0, 18.0, 16.0, 21.0, 26.0, 36....   \n",
       "27996        1  [98.0, 103.0, 107.0, 105.0, 100.0, 103.0, 108....   \n",
       "27997        1  [247.0, 247.0, 247.0, 246.0, 252.0, 224.0, 150...   \n",
       "27998        1  [186.0, 146.0, 50.0, 42.0, 43.0, 35.0, 48.0, 9...   \n",
       "27999        1  [58.0, 83.0, 97.0, 101.0, 104.0, 105.0, 107.0,...   \n",
       "\n",
       "             Usage emotion_text  \\\n",
       "0         Training        anger   \n",
       "1         Training        anger   \n",
       "2         Training        anger   \n",
       "3         Training        anger   \n",
       "4         Training        anger   \n",
       "...            ...          ...   \n",
       "27995  PrivateTest      disgust   \n",
       "27996  PrivateTest      disgust   \n",
       "27997  PrivateTest      disgust   \n",
       "27998  PrivateTest      disgust   \n",
       "27999  PrivateTest      disgust   \n",
       "\n",
       "                                                   image  \n",
       "0      [[[0.56078434, 0.56078434, 0.56078434], [0.560...  \n",
       "1      [[[0.7137255, 0.7137255, 0.7137255], [0.713725...  \n",
       "2      [[[0.8117647, 0.8117647, 0.8117647], [0.811764...  \n",
       "3      [[[0.75686276, 0.75686276, 0.75686276], [0.756...  \n",
       "4      [[[0.65882355, 0.65882355, 0.65882355], [0.658...  \n",
       "...                                                  ...  \n",
       "27995  [[[0.1882353, 0.1882353, 0.1882353], [0.188235...  \n",
       "27996  [[[0.38431373, 0.38431373, 0.38431373], [0.384...  \n",
       "27997  [[[0.96862745, 0.96862745, 0.96862745], [0.968...  \n",
       "27998  [[[0.7294118, 0.7294118, 0.7294118], [0.729411...  \n",
       "27999  [[[0.22745098, 0.22745098, 0.22745098], [0.227...  \n",
       "\n",
       "[28000 rows x 5 columns]"
      ]
     },
     "execution_count": 10,
     "metadata": {},
     "output_type": "execute_result"
    }
   ],
   "source": [
    "final_data"
   ]
  },
  {
   "cell_type": "code",
   "execution_count": 11,
   "id": "24c87096",
   "metadata": {
    "execution": {
     "iopub.execute_input": "2024-11-01T17:25:40.391953Z",
     "iopub.status.busy": "2024-11-01T17:25:40.391577Z",
     "iopub.status.idle": "2024-11-01T17:25:40.399019Z",
     "shell.execute_reply": "2024-11-01T17:25:40.397867Z"
    },
    "papermill": {
     "duration": 0.016527,
     "end_time": "2024-11-01T17:25:40.402258",
     "exception": false,
     "start_time": "2024-11-01T17:25:40.385731",
     "status": "completed"
    },
    "tags": []
   },
   "outputs": [
    {
     "data": {
      "text/plain": [
       "numpy.ndarray"
      ]
     },
     "execution_count": 11,
     "metadata": {},
     "output_type": "execute_result"
    }
   ],
   "source": [
    "type(final_data['image'][0])"
   ]
  },
  {
   "cell_type": "code",
   "execution_count": 12,
   "id": "e364da8e",
   "metadata": {
    "execution": {
     "iopub.execute_input": "2024-11-01T17:25:40.413364Z",
     "iopub.status.busy": "2024-11-01T17:25:40.412933Z",
     "iopub.status.idle": "2024-11-01T17:25:40.419825Z",
     "shell.execute_reply": "2024-11-01T17:25:40.418711Z"
    },
    "papermill": {
     "duration": 0.015003,
     "end_time": "2024-11-01T17:25:40.421994",
     "exception": false,
     "start_time": "2024-11-01T17:25:40.406991",
     "status": "completed"
    },
    "tags": []
   },
   "outputs": [
    {
     "data": {
      "text/plain": [
       "3"
      ]
     },
     "execution_count": 12,
     "metadata": {},
     "output_type": "execute_result"
    }
   ],
   "source": [
    "len(final_data['image'][0][0][0])"
   ]
  },
  {
   "cell_type": "code",
   "execution_count": 13,
   "id": "a9685309",
   "metadata": {
    "execution": {
     "iopub.execute_input": "2024-11-01T17:25:40.433151Z",
     "iopub.status.busy": "2024-11-01T17:25:40.432742Z",
     "iopub.status.idle": "2024-11-01T17:26:08.333136Z",
     "shell.execute_reply": "2024-11-01T17:26:08.331998Z"
    },
    "papermill": {
     "duration": 27.909123,
     "end_time": "2024-11-01T17:26:08.335916",
     "exception": false,
     "start_time": "2024-11-01T17:25:40.426793",
     "status": "completed"
    },
    "tags": []
   },
   "outputs": [],
   "source": [
    "# Enregistrer les données en Parquet\n",
    "final_data.to_csv(\"/kaggle/working/preprocessed_train_dataset.csv\", index=False)\n"
   ]
  }
 ],
 "metadata": {
  "kaggle": {
   "accelerator": "none",
   "dataSources": [
    {
     "sourceId": 204352617,
     "sourceType": "kernelVersion"
    }
   ],
   "dockerImageVersionId": 30787,
   "isGpuEnabled": false,
   "isInternetEnabled": true,
   "language": "python",
   "sourceType": "notebook"
  },
  "kernelspec": {
   "display_name": "Python 3",
   "language": "python",
   "name": "python3"
  },
  "language_info": {
   "codemirror_mode": {
    "name": "ipython",
    "version": 3
   },
   "file_extension": ".py",
   "mimetype": "text/x-python",
   "name": "python",
   "nbconvert_exporter": "python",
   "pygments_lexer": "ipython3",
   "version": "3.10.14"
  },
  "papermill": {
   "default_parameters": {},
   "duration": 117.513638,
   "end_time": "2024-11-01T17:26:12.413618",
   "environment_variables": {},
   "exception": null,
   "input_path": "__notebook__.ipynb",
   "output_path": "__notebook__.ipynb",
   "parameters": {},
   "start_time": "2024-11-01T17:24:14.899980",
   "version": "2.6.0"
  }
 },
 "nbformat": 4,
 "nbformat_minor": 5
}
