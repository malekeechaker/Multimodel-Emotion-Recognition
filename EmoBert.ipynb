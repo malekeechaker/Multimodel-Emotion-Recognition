{
 "cells": [
  {
   "cell_type": "markdown",
   "id": "1ca8a9d7",
   "metadata": {
    "papermill": {
     "duration": 0.010895,
     "end_time": "2024-11-18T21:02:15.221821",
     "exception": false,
     "start_time": "2024-11-18T21:02:15.210926",
     "status": "completed"
    },
    "tags": []
   },
   "source": [
    "## Importing all the necessary libraries"
   ]
  },
  {
   "cell_type": "code",
   "execution_count": 1,
   "id": "e2aa0fa7",
   "metadata": {
    "_cell_guid": "b1076dfc-b9ad-4769-8c92-a6c4dae69d19",
    "_uuid": "8f2839f25d086af736a60e9eeb907d3b93b6e0e5",
    "execution": {
     "iopub.execute_input": "2024-11-18T21:02:15.244988Z",
     "iopub.status.busy": "2024-11-18T21:02:15.243745Z",
     "iopub.status.idle": "2024-11-18T21:02:15.263802Z",
     "shell.execute_reply": "2024-11-18T21:02:15.262685Z"
    },
    "papermill": {
     "duration": 0.03514,
     "end_time": "2024-11-18T21:02:15.266399",
     "exception": false,
     "start_time": "2024-11-18T21:02:15.231259",
     "status": "completed"
    },
    "tags": []
   },
   "outputs": [
    {
     "name": "stdout",
     "output_type": "stream",
     "text": [
      "/kaggle/input/emotions-dataset-for-nlp/val.txt\n",
      "/kaggle/input/emotions-dataset-for-nlp/test.txt\n",
      "/kaggle/input/emotions-dataset-for-nlp/train.txt\n"
     ]
    }
   ],
   "source": [
    "# This Python 3 environment comes with many helpful analytics libraries installed\n",
    "# It is defined by the kaggle/python Docker image: https://github.com/kaggle/docker-python\n",
    "# For example, here's several helpful packages to load\n",
    "\n",
    "import numpy as np # linear algebra\n",
    "import pandas as pd # df processing, CSV file I/O (e.g. pd.read_csv)\n",
    "\n",
    "# Input df files are available in the read-only \"../input/\" directory\n",
    "# For example, running this (by clicking run or pressing Shift+Enter) will list all files under the input directory\n",
    "\n",
    "import os\n",
    "for dirname, _, filenames in os.walk('/kaggle/input'):\n",
    "    for filename in filenames:\n",
    "        print(os.path.join(dirname, filename))\n",
    "\n",
    "# You can write up to 20GB to the current directory (/kaggle/working/) that gets preserved as output when you create a version using \"Save & Run All\" \n",
    "# You can also write temporary files to /kaggle/temp/, but they won't be saved outside of the current session"
   ]
  },
  {
   "cell_type": "code",
   "execution_count": 2,
   "id": "c0f00c02",
   "metadata": {
    "execution": {
     "iopub.execute_input": "2024-11-18T21:02:15.285731Z",
     "iopub.status.busy": "2024-11-18T21:02:15.285343Z",
     "iopub.status.idle": "2024-11-18T21:02:16.934580Z",
     "shell.execute_reply": "2024-11-18T21:02:16.933319Z"
    },
    "papermill": {
     "duration": 1.661858,
     "end_time": "2024-11-18T21:02:16.937178",
     "exception": false,
     "start_time": "2024-11-18T21:02:15.275320",
     "status": "completed"
    },
    "tags": []
   },
   "outputs": [
    {
     "name": "stdout",
     "output_type": "stream",
     "text": [
      "--2024-11-18 21:02:16--  https://raw.githubusercontent.com/yogawicaksana/helper_prabowo/main/helper_prabowo_ml.py\r\n",
      "Resolving raw.githubusercontent.com (raw.githubusercontent.com)... 185.199.108.133, 185.199.110.133, 185.199.109.133, ...\r\n",
      "Connecting to raw.githubusercontent.com (raw.githubusercontent.com)|185.199.108.133|:443... connected.\r\n",
      "HTTP request sent, awaiting response... 200 OK\r\n",
      "Length: 13881 (14K) [text/plain]\r\n",
      "Saving to: ‘helper_prabowo_ml.py’\r\n",
      "\r\n",
      "helper_prabowo_ml.p 100%[===================>]  13.56K  --.-KB/s    in 0.003s  \r\n",
      "\r\n",
      "2024-11-18 21:02:16 (5.00 MB/s) - ‘helper_prabowo_ml.py’ saved [13881/13881]\r\n",
      "\r\n"
     ]
    }
   ],
   "source": [
    "!wget https://raw.githubusercontent.com/yogawicaksana/helper_prabowo/main/helper_prabowo_ml.py"
   ]
  },
  {
   "cell_type": "code",
   "execution_count": 3,
   "id": "9a6ad9e0",
   "metadata": {
    "execution": {
     "iopub.execute_input": "2024-11-18T21:02:16.957938Z",
     "iopub.status.busy": "2024-11-18T21:02:16.957485Z",
     "iopub.status.idle": "2024-11-18T21:02:28.431503Z",
     "shell.execute_reply": "2024-11-18T21:02:28.430218Z"
    },
    "papermill": {
     "duration": 11.487565,
     "end_time": "2024-11-18T21:02:28.434194",
     "exception": false,
     "start_time": "2024-11-18T21:02:16.946629",
     "status": "completed"
    },
    "tags": []
   },
   "outputs": [
    {
     "name": "stdout",
     "output_type": "stream",
     "text": [
      "Requirement already satisfied: transformers in /opt/conda/lib/python3.7/site-packages (4.20.1)\r\n",
      "Requirement already satisfied: filelock in /opt/conda/lib/python3.7/site-packages (from transformers) (3.7.1)\r\n",
      "Requirement already satisfied: requests in /opt/conda/lib/python3.7/site-packages (from transformers) (2.28.1)\r\n",
      "Requirement already satisfied: packaging>=20.0 in /opt/conda/lib/python3.7/site-packages (from transformers) (21.3)\r\n",
      "Requirement already satisfied: tokenizers!=0.11.3,<0.13,>=0.11.1 in /opt/conda/lib/python3.7/site-packages (from transformers) (0.12.1)\r\n",
      "Requirement already satisfied: tqdm>=4.27 in /opt/conda/lib/python3.7/site-packages (from transformers) (4.64.0)\r\n",
      "Requirement already satisfied: huggingface-hub<1.0,>=0.1.0 in /opt/conda/lib/python3.7/site-packages (from transformers) (0.10.1)\r\n",
      "Requirement already satisfied: pyyaml>=5.1 in /opt/conda/lib/python3.7/site-packages (from transformers) (6.0)\r\n",
      "Requirement already satisfied: regex!=2019.12.17 in /opt/conda/lib/python3.7/site-packages (from transformers) (2021.11.10)\r\n",
      "Requirement already satisfied: importlib-metadata in /opt/conda/lib/python3.7/site-packages (from transformers) (4.13.0)\r\n",
      "Requirement already satisfied: numpy>=1.17 in /opt/conda/lib/python3.7/site-packages (from transformers) (1.21.6)\r\n",
      "Requirement already satisfied: typing-extensions>=3.7.4.3 in /opt/conda/lib/python3.7/site-packages (from huggingface-hub<1.0,>=0.1.0->transformers) (4.4.0)\r\n",
      "Requirement already satisfied: pyparsing!=3.0.5,>=2.0.2 in /opt/conda/lib/python3.7/site-packages (from packaging>=20.0->transformers) (3.0.9)\r\n",
      "Requirement already satisfied: zipp>=0.5 in /opt/conda/lib/python3.7/site-packages (from importlib-metadata->transformers) (3.8.0)\r\n",
      "Requirement already satisfied: charset-normalizer<3,>=2 in /opt/conda/lib/python3.7/site-packages (from requests->transformers) (2.1.0)\r\n",
      "Requirement already satisfied: idna<4,>=2.5 in /opt/conda/lib/python3.7/site-packages (from requests->transformers) (3.3)\r\n",
      "Requirement already satisfied: certifi>=2017.4.17 in /opt/conda/lib/python3.7/site-packages (from requests->transformers) (2022.9.24)\r\n",
      "Requirement already satisfied: urllib3<1.27,>=1.21.1 in /opt/conda/lib/python3.7/site-packages (from requests->transformers) (1.26.12)\r\n",
      "\u001b[33mWARNING: Running pip as the 'root' user can result in broken permissions and conflicting behaviour with the system package manager. It is recommended to use a virtual environment instead: https://pip.pypa.io/warnings/venv\u001b[0m\u001b[33m\r\n",
      "\u001b[0m"
     ]
    }
   ],
   "source": [
    "!pip install transformers"
   ]
  },
  {
   "cell_type": "code",
   "execution_count": 4,
   "id": "abfd8f0d",
   "metadata": {
    "execution": {
     "iopub.execute_input": "2024-11-18T21:02:28.455716Z",
     "iopub.status.busy": "2024-11-18T21:02:28.455288Z",
     "iopub.status.idle": "2024-11-18T21:02:39.022461Z",
     "shell.execute_reply": "2024-11-18T21:02:39.021314Z"
    },
    "papermill": {
     "duration": 10.58109,
     "end_time": "2024-11-18T21:02:39.025089",
     "exception": false,
     "start_time": "2024-11-18T21:02:28.443999",
     "status": "completed"
    },
    "tags": []
   },
   "outputs": [
    {
     "name": "stderr",
     "output_type": "stream",
     "text": [
      "[nltk_data] Downloading package stopwords to /usr/share/nltk_data...\n",
      "[nltk_data]   Package stopwords is already up-to-date!\n"
     ]
    }
   ],
   "source": [
    "from helper_prabowo_ml import clean_html, remove_links, non_ascii, lower, email_address, removeStopWords, punct, remove_, remove_special_characters, remove_digits\n",
    "import matplotlib.pyplot as plt\n",
    "import seaborn as sns\n",
    "import warnings, re\n",
    "warnings.filterwarnings(\"ignore\")\n",
    "from sklearn.model_selection import train_test_split\n",
    "from transformers import AutoTokenizer, TFBertModel\n",
    "from tensorflow.keras.utils import to_categorical\n",
    "import tensorflow as tf\n",
    "from tensorflow.keras.layers import Dense, Input, GlobalMaxPool1D, Dropout\n",
    "from tensorflow.keras.models import Model\n",
    "from tensorflow.keras.initializers import TruncatedNormal\n",
    "from tensorflow.keras.optimizers import Adam\n",
    "from tensorflow.keras.losses import CategoricalCrossentropy\n",
    "from tensorflow.keras.metrics import CategoricalAccuracy\n",
    "from sklearn.metrics import classification_report\n",
    "from tensorflow.keras.utils import plot_model"
   ]
  },
  {
   "cell_type": "markdown",
   "id": "6e33e4a7",
   "metadata": {
    "papermill": {
     "duration": 0.009581,
     "end_time": "2024-11-18T21:02:39.044474",
     "exception": false,
     "start_time": "2024-11-18T21:02:39.034893",
     "status": "completed"
    },
    "tags": []
   },
   "source": [
    "## Loading the train, validation and test datasets"
   ]
  },
  {
   "cell_type": "code",
   "execution_count": 5,
   "id": "e9ca178b",
   "metadata": {
    "execution": {
     "iopub.execute_input": "2024-11-18T21:02:39.066897Z",
     "iopub.status.busy": "2024-11-18T21:02:39.066138Z",
     "iopub.status.idle": "2024-11-18T21:02:39.165964Z",
     "shell.execute_reply": "2024-11-18T21:02:39.164959Z"
    },
    "papermill": {
     "duration": 0.11379,
     "end_time": "2024-11-18T21:02:39.168678",
     "exception": false,
     "start_time": "2024-11-18T21:02:39.054888",
     "status": "completed"
    },
    "tags": []
   },
   "outputs": [],
   "source": [
    "train = pd.read_csv(\"/kaggle/input/emotions-dataset-for-nlp/train.txt\",names=['Input','Sentiment'],sep=';',encoding='utf-8')\n",
    "val = pd.read_csv(\"/kaggle/input/emotions-dataset-for-nlp/val.txt\",names=['Input','Sentiment'],sep=';',encoding='utf-8')\n",
    "test = pd.read_csv(\"/kaggle/input/emotions-dataset-for-nlp/test.txt\",names=['Input','Sentiment'],sep=';',encoding='utf-8')"
   ]
  },
  {
   "cell_type": "markdown",
   "id": "f38151ea",
   "metadata": {
    "papermill": {
     "duration": 0.009492,
     "end_time": "2024-11-18T21:02:39.188105",
     "exception": false,
     "start_time": "2024-11-18T21:02:39.178613",
     "status": "completed"
    },
    "tags": []
   },
   "source": [
    "## Combining the train, validation and test datasets into a single dataframe"
   ]
  },
  {
   "cell_type": "code",
   "execution_count": 6,
   "id": "b62406df",
   "metadata": {
    "execution": {
     "iopub.execute_input": "2024-11-18T21:02:39.209457Z",
     "iopub.status.busy": "2024-11-18T21:02:39.209078Z",
     "iopub.status.idle": "2024-11-18T21:02:39.234904Z",
     "shell.execute_reply": "2024-11-18T21:02:39.233780Z"
    },
    "papermill": {
     "duration": 0.039191,
     "end_time": "2024-11-18T21:02:39.237410",
     "exception": false,
     "start_time": "2024-11-18T21:02:39.198219",
     "status": "completed"
    },
    "tags": []
   },
   "outputs": [
    {
     "data": {
      "text/html": [
       "<div>\n",
       "<style scoped>\n",
       "    .dataframe tbody tr th:only-of-type {\n",
       "        vertical-align: middle;\n",
       "    }\n",
       "\n",
       "    .dataframe tbody tr th {\n",
       "        vertical-align: top;\n",
       "    }\n",
       "\n",
       "    .dataframe thead th {\n",
       "        text-align: right;\n",
       "    }\n",
       "</style>\n",
       "<table border=\"1\" class=\"dataframe\">\n",
       "  <thead>\n",
       "    <tr style=\"text-align: right;\">\n",
       "      <th></th>\n",
       "      <th>index</th>\n",
       "      <th>Input</th>\n",
       "      <th>Sentiment</th>\n",
       "    </tr>\n",
       "  </thead>\n",
       "  <tbody>\n",
       "    <tr>\n",
       "      <th>0</th>\n",
       "      <td>11938</td>\n",
       "      <td>i had to cut the lines to make it fit making i...</td>\n",
       "      <td>fear</td>\n",
       "    </tr>\n",
       "    <tr>\n",
       "      <th>1</th>\n",
       "      <td>12792</td>\n",
       "      <td>i began to feel sympathetic for khezef but i w...</td>\n",
       "      <td>love</td>\n",
       "    </tr>\n",
       "    <tr>\n",
       "      <th>2</th>\n",
       "      <td>7235</td>\n",
       "      <td>i can feel accepted</td>\n",
       "      <td>joy</td>\n",
       "    </tr>\n",
       "    <tr>\n",
       "      <th>3</th>\n",
       "      <td>11638</td>\n",
       "      <td>i feel carefree and young and amazing</td>\n",
       "      <td>joy</td>\n",
       "    </tr>\n",
       "    <tr>\n",
       "      <th>4</th>\n",
       "      <td>768</td>\n",
       "      <td>im feeling lousy i may dismiss a gorgeous day ...</td>\n",
       "      <td>sadness</td>\n",
       "    </tr>\n",
       "  </tbody>\n",
       "</table>\n",
       "</div>"
      ],
      "text/plain": [
       "   index                                              Input Sentiment\n",
       "0  11938  i had to cut the lines to make it fit making i...      fear\n",
       "1  12792  i began to feel sympathetic for khezef but i w...      love\n",
       "2   7235                                i can feel accepted       joy\n",
       "3  11638              i feel carefree and young and amazing       joy\n",
       "4    768  im feeling lousy i may dismiss a gorgeous day ...   sadness"
      ]
     },
     "execution_count": 6,
     "metadata": {},
     "output_type": "execute_result"
    }
   ],
   "source": [
    "df = pd.concat([train,val,test],axis=0)\n",
    "df = df.sample(frac=0.1)\n",
    "df = df.reset_index()\n",
    "df.head()"
   ]
  },
  {
   "cell_type": "code",
   "execution_count": 7,
   "id": "9e3bf37c",
   "metadata": {
    "execution": {
     "iopub.execute_input": "2024-11-18T21:02:39.259266Z",
     "iopub.status.busy": "2024-11-18T21:02:39.258858Z",
     "iopub.status.idle": "2024-11-18T21:02:39.268035Z",
     "shell.execute_reply": "2024-11-18T21:02:39.266822Z"
    },
    "papermill": {
     "duration": 0.022863,
     "end_time": "2024-11-18T21:02:39.270340",
     "exception": false,
     "start_time": "2024-11-18T21:02:39.247477",
     "status": "completed"
    },
    "tags": []
   },
   "outputs": [],
   "source": [
    "df.drop('index',axis=1,inplace=True)"
   ]
  },
  {
   "cell_type": "code",
   "execution_count": 8,
   "id": "fd50d32c",
   "metadata": {
    "execution": {
     "iopub.execute_input": "2024-11-18T21:02:39.291853Z",
     "iopub.status.busy": "2024-11-18T21:02:39.291409Z",
     "iopub.status.idle": "2024-11-18T21:02:39.298306Z",
     "shell.execute_reply": "2024-11-18T21:02:39.297236Z"
    },
    "papermill": {
     "duration": 0.020141,
     "end_time": "2024-11-18T21:02:39.300394",
     "exception": false,
     "start_time": "2024-11-18T21:02:39.280253",
     "status": "completed"
    },
    "tags": []
   },
   "outputs": [
    {
     "data": {
      "text/plain": [
       "(2000, 2)"
      ]
     },
     "execution_count": 8,
     "metadata": {},
     "output_type": "execute_result"
    }
   ],
   "source": [
    "df.shape"
   ]
  },
  {
   "cell_type": "markdown",
   "id": "56eb47ac",
   "metadata": {
    "papermill": {
     "duration": 0.009626,
     "end_time": "2024-11-18T21:02:39.320139",
     "exception": false,
     "start_time": "2024-11-18T21:02:39.310513",
     "status": "completed"
    },
    "tags": []
   },
   "source": [
    "## Text Preprocessing"
   ]
  },
  {
   "cell_type": "code",
   "execution_count": 9,
   "id": "b47bc40e",
   "metadata": {
    "execution": {
     "iopub.execute_input": "2024-11-18T21:02:39.342250Z",
     "iopub.status.busy": "2024-11-18T21:02:39.341424Z",
     "iopub.status.idle": "2024-11-18T21:02:39.349818Z",
     "shell.execute_reply": "2024-11-18T21:02:39.348673Z"
    },
    "papermill": {
     "duration": 0.021921,
     "end_time": "2024-11-18T21:02:39.352086",
     "exception": false,
     "start_time": "2024-11-18T21:02:39.330165",
     "status": "completed"
    },
    "tags": []
   },
   "outputs": [],
   "source": [
    "def preprocess_data(data,col):\n",
    "    data[col] = data[col].apply(func=clean_html)\n",
    "    data[col] = data[col].apply(func=remove_digits)\n",
    "    data[col] = data[col].apply(func=remove_)\n",
    "    data[col] = data[col].apply(func=removeStopWords)\n",
    "    data[col] = data[col].apply(func=remove_links)\n",
    "    data[col] = data[col].apply(func=remove_special_characters)\n",
    "    data[col] = data[col].apply(func=non_ascii)\n",
    "    data[col] = data[col].apply(func=email_address)\n",
    "    data[col] = data[col].apply(func=punct)\n",
    "    data[col] = data[col].apply(func=lower)\n",
    "    return data"
   ]
  },
  {
   "cell_type": "code",
   "execution_count": 10,
   "id": "3b4ff4a7",
   "metadata": {
    "execution": {
     "iopub.execute_input": "2024-11-18T21:02:39.373897Z",
     "iopub.status.busy": "2024-11-18T21:02:39.373490Z",
     "iopub.status.idle": "2024-11-18T21:02:39.720410Z",
     "shell.execute_reply": "2024-11-18T21:02:39.719348Z"
    },
    "papermill": {
     "duration": 0.360612,
     "end_time": "2024-11-18T21:02:39.722750",
     "exception": false,
     "start_time": "2024-11-18T21:02:39.362138",
     "status": "completed"
    },
    "tags": []
   },
   "outputs": [
    {
     "data": {
      "text/html": [
       "<div>\n",
       "<style scoped>\n",
       "    .dataframe tbody tr th:only-of-type {\n",
       "        vertical-align: middle;\n",
       "    }\n",
       "\n",
       "    .dataframe tbody tr th {\n",
       "        vertical-align: top;\n",
       "    }\n",
       "\n",
       "    .dataframe thead th {\n",
       "        text-align: right;\n",
       "    }\n",
       "</style>\n",
       "<table border=\"1\" class=\"dataframe\">\n",
       "  <thead>\n",
       "    <tr style=\"text-align: right;\">\n",
       "      <th></th>\n",
       "      <th>Input</th>\n",
       "      <th>Sentiment</th>\n",
       "    </tr>\n",
       "  </thead>\n",
       "  <tbody>\n",
       "    <tr>\n",
       "      <th>0</th>\n",
       "      <td>cut lines make fit making sound bit rushed let...</td>\n",
       "      <td>fear</td>\n",
       "    </tr>\n",
       "    <tr>\n",
       "      <th>1</th>\n",
       "      <td>began feel sympathetic khezef sure right</td>\n",
       "      <td>love</td>\n",
       "    </tr>\n",
       "    <tr>\n",
       "      <th>2</th>\n",
       "      <td>feel accepted</td>\n",
       "      <td>joy</td>\n",
       "    </tr>\n",
       "    <tr>\n",
       "      <th>3</th>\n",
       "      <td>feel carefree young amazing</td>\n",
       "      <td>joy</td>\n",
       "    </tr>\n",
       "    <tr>\n",
       "      <th>4</th>\n",
       "      <td>m feeling lousy may dismiss gorgeous day im fe...</td>\n",
       "      <td>sadness</td>\n",
       "    </tr>\n",
       "  </tbody>\n",
       "</table>\n",
       "</div>"
      ],
      "text/plain": [
       "                                               Input Sentiment\n",
       "0  cut lines make fit making sound bit rushed let...      fear\n",
       "1           began feel sympathetic khezef sure right      love\n",
       "2                                      feel accepted       joy\n",
       "3                        feel carefree young amazing       joy\n",
       "4  m feeling lousy may dismiss gorgeous day im fe...   sadness"
      ]
     },
     "execution_count": 10,
     "metadata": {},
     "output_type": "execute_result"
    }
   ],
   "source": [
    "preprocessed_df = preprocess_data(df,'Input')\n",
    "preprocessed_df.head()"
   ]
  },
  {
   "cell_type": "code",
   "execution_count": 11,
   "id": "4d12c190",
   "metadata": {
    "execution": {
     "iopub.execute_input": "2024-11-18T21:02:39.746148Z",
     "iopub.status.busy": "2024-11-18T21:02:39.745201Z",
     "iopub.status.idle": "2024-11-18T21:02:39.752733Z",
     "shell.execute_reply": "2024-11-18T21:02:39.751508Z"
    },
    "papermill": {
     "duration": 0.021093,
     "end_time": "2024-11-18T21:02:39.755040",
     "exception": false,
     "start_time": "2024-11-18T21:02:39.733947",
     "status": "completed"
    },
    "tags": []
   },
   "outputs": [],
   "source": [
    "preprocessed_df['num_words'] = preprocessed_df.Input.apply(len)"
   ]
  },
  {
   "cell_type": "code",
   "execution_count": 12,
   "id": "b8f8d8e7",
   "metadata": {
    "execution": {
     "iopub.execute_input": "2024-11-18T21:02:39.777075Z",
     "iopub.status.busy": "2024-11-18T21:02:39.776655Z",
     "iopub.status.idle": "2024-11-18T21:02:39.787421Z",
     "shell.execute_reply": "2024-11-18T21:02:39.786299Z"
    },
    "papermill": {
     "duration": 0.024271,
     "end_time": "2024-11-18T21:02:39.789578",
     "exception": false,
     "start_time": "2024-11-18T21:02:39.765307",
     "status": "completed"
    },
    "tags": []
   },
   "outputs": [
    {
     "data": {
      "text/html": [
       "<div>\n",
       "<style scoped>\n",
       "    .dataframe tbody tr th:only-of-type {\n",
       "        vertical-align: middle;\n",
       "    }\n",
       "\n",
       "    .dataframe tbody tr th {\n",
       "        vertical-align: top;\n",
       "    }\n",
       "\n",
       "    .dataframe thead th {\n",
       "        text-align: right;\n",
       "    }\n",
       "</style>\n",
       "<table border=\"1\" class=\"dataframe\">\n",
       "  <thead>\n",
       "    <tr style=\"text-align: right;\">\n",
       "      <th></th>\n",
       "      <th>Input</th>\n",
       "      <th>Sentiment</th>\n",
       "      <th>num_words</th>\n",
       "    </tr>\n",
       "  </thead>\n",
       "  <tbody>\n",
       "    <tr>\n",
       "      <th>0</th>\n",
       "      <td>cut lines make fit making sound bit rushed let...</td>\n",
       "      <td>fear</td>\n",
       "      <td>124</td>\n",
       "    </tr>\n",
       "    <tr>\n",
       "      <th>1</th>\n",
       "      <td>began feel sympathetic khezef sure right</td>\n",
       "      <td>love</td>\n",
       "      <td>40</td>\n",
       "    </tr>\n",
       "    <tr>\n",
       "      <th>2</th>\n",
       "      <td>feel accepted</td>\n",
       "      <td>joy</td>\n",
       "      <td>13</td>\n",
       "    </tr>\n",
       "    <tr>\n",
       "      <th>3</th>\n",
       "      <td>feel carefree young amazing</td>\n",
       "      <td>joy</td>\n",
       "      <td>27</td>\n",
       "    </tr>\n",
       "    <tr>\n",
       "      <th>4</th>\n",
       "      <td>m feeling lousy may dismiss gorgeous day im fe...</td>\n",
       "      <td>sadness</td>\n",
       "      <td>97</td>\n",
       "    </tr>\n",
       "  </tbody>\n",
       "</table>\n",
       "</div>"
      ],
      "text/plain": [
       "                                               Input Sentiment  num_words\n",
       "0  cut lines make fit making sound bit rushed let...      fear        124\n",
       "1           began feel sympathetic khezef sure right      love         40\n",
       "2                                      feel accepted       joy         13\n",
       "3                        feel carefree young amazing       joy         27\n",
       "4  m feeling lousy may dismiss gorgeous day im fe...   sadness         97"
      ]
     },
     "execution_count": 12,
     "metadata": {},
     "output_type": "execute_result"
    }
   ],
   "source": [
    "preprocessed_df.head()"
   ]
  },
  {
   "cell_type": "code",
   "execution_count": 13,
   "id": "a94bea79",
   "metadata": {
    "execution": {
     "iopub.execute_input": "2024-11-18T21:02:39.811543Z",
     "iopub.status.busy": "2024-11-18T21:02:39.811154Z",
     "iopub.status.idle": "2024-11-18T21:02:39.816817Z",
     "shell.execute_reply": "2024-11-18T21:02:39.815538Z"
    },
    "papermill": {
     "duration": 0.01922,
     "end_time": "2024-11-18T21:02:39.819106",
     "exception": false,
     "start_time": "2024-11-18T21:02:39.799886",
     "status": "completed"
    },
    "tags": []
   },
   "outputs": [],
   "source": [
    "encoded_labels = {'anger': 0, 'fear': 1, 'joy': 2, 'love': 3, 'sadness': 4, 'surprise': 5} "
   ]
  },
  {
   "cell_type": "markdown",
   "id": "0724b122",
   "metadata": {
    "papermill": {
     "duration": 0.009713,
     "end_time": "2024-11-18T21:02:39.838924",
     "exception": false,
     "start_time": "2024-11-18T21:02:39.829211",
     "status": "completed"
    },
    "tags": []
   },
   "source": [
    "## Train-Test Split"
   ]
  },
  {
   "cell_type": "code",
   "execution_count": 14,
   "id": "21166947",
   "metadata": {
    "execution": {
     "iopub.execute_input": "2024-11-18T21:02:39.861389Z",
     "iopub.status.busy": "2024-11-18T21:02:39.860200Z",
     "iopub.status.idle": "2024-11-18T21:02:39.872894Z",
     "shell.execute_reply": "2024-11-18T21:02:39.871736Z"
    },
    "papermill": {
     "duration": 0.026468,
     "end_time": "2024-11-18T21:02:39.875498",
     "exception": false,
     "start_time": "2024-11-18T21:02:39.849030",
     "status": "completed"
    },
    "tags": []
   },
   "outputs": [],
   "source": [
    "train_data, test_data = train_test_split(preprocessed_df,test_size=0.3,random_state=101,shuffle=True,stratify=preprocessed_df.Sentiment)"
   ]
  },
  {
   "cell_type": "markdown",
   "id": "633ea54e",
   "metadata": {
    "papermill": {
     "duration": 0.010038,
     "end_time": "2024-11-18T21:02:39.896836",
     "exception": false,
     "start_time": "2024-11-18T21:02:39.886798",
     "status": "completed"
    },
    "tags": []
   },
   "source": [
    "## Loading the Tokenizer class and pretrained BERT model"
   ]
  },
  {
   "cell_type": "code",
   "execution_count": 15,
   "id": "c638af97",
   "metadata": {
    "execution": {
     "iopub.execute_input": "2024-11-18T21:02:39.919209Z",
     "iopub.status.busy": "2024-11-18T21:02:39.918388Z",
     "iopub.status.idle": "2024-11-18T21:03:00.225620Z",
     "shell.execute_reply": "2024-11-18T21:03:00.224510Z"
    },
    "papermill": {
     "duration": 20.320971,
     "end_time": "2024-11-18T21:03:00.227960",
     "exception": false,
     "start_time": "2024-11-18T21:02:39.906989",
     "status": "completed"
    },
    "tags": []
   },
   "outputs": [
    {
     "data": {
      "application/vnd.jupyter.widget-view+json": {
       "model_id": "43a728ebf5184a6c9c0d712d67d33fb9",
       "version_major": 2,
       "version_minor": 0
      },
      "text/plain": [
       "Downloading:   0%|          | 0.00/48.0 [00:00<?, ?B/s]"
      ]
     },
     "metadata": {},
     "output_type": "display_data"
    },
    {
     "data": {
      "application/vnd.jupyter.widget-view+json": {
       "model_id": "4df794fc40dd4d5c8a2a25e9a3c67019",
       "version_major": 2,
       "version_minor": 0
      },
      "text/plain": [
       "Downloading:   0%|          | 0.00/570 [00:00<?, ?B/s]"
      ]
     },
     "metadata": {},
     "output_type": "display_data"
    },
    {
     "data": {
      "application/vnd.jupyter.widget-view+json": {
       "model_id": "382ddc589a0f4e609e2c2b90ce746195",
       "version_major": 2,
       "version_minor": 0
      },
      "text/plain": [
       "Downloading:   0%|          | 0.00/226k [00:00<?, ?B/s]"
      ]
     },
     "metadata": {},
     "output_type": "display_data"
    },
    {
     "data": {
      "application/vnd.jupyter.widget-view+json": {
       "model_id": "4a78dd5822b3474dace379c3d1030495",
       "version_major": 2,
       "version_minor": 0
      },
      "text/plain": [
       "Downloading:   0%|          | 0.00/455k [00:00<?, ?B/s]"
      ]
     },
     "metadata": {},
     "output_type": "display_data"
    },
    {
     "data": {
      "application/vnd.jupyter.widget-view+json": {
       "model_id": "a1d1567336d24c9ebc2d699f43726c5d",
       "version_major": 2,
       "version_minor": 0
      },
      "text/plain": [
       "Downloading:   0%|          | 0.00/511M [00:00<?, ?B/s]"
      ]
     },
     "metadata": {},
     "output_type": "display_data"
    },
    {
     "name": "stderr",
     "output_type": "stream",
     "text": [
      "Some layers from the model checkpoint at bert-base-uncased were not used when initializing TFBertModel: ['mlm___cls', 'nsp___cls']\n",
      "- This IS expected if you are initializing TFBertModel from the checkpoint of a model trained on another task or with another architecture (e.g. initializing a BertForSequenceClassification model from a BertForPreTraining model).\n",
      "- This IS NOT expected if you are initializing TFBertModel from the checkpoint of a model that you expect to be exactly identical (initializing a BertForSequenceClassification model from a BertForSequenceClassification model).\n",
      "All the layers of TFBertModel were initialized from the model checkpoint at bert-base-uncased.\n",
      "If your task is similar to the task the model of the checkpoint was trained on, you can already use TFBertModel for predictions without further training.\n"
     ]
    }
   ],
   "source": [
    "tokenizer = AutoTokenizer.from_pretrained(\"bert-base-uncased\")\n",
    "bert_model = TFBertModel.from_pretrained(\"bert-base-uncased\")"
   ]
  },
  {
   "cell_type": "code",
   "execution_count": 16,
   "id": "6c9721f9",
   "metadata": {
    "execution": {
     "iopub.execute_input": "2024-11-18T21:03:00.251774Z",
     "iopub.status.busy": "2024-11-18T21:03:00.251390Z",
     "iopub.status.idle": "2024-11-18T21:03:00.744130Z",
     "shell.execute_reply": "2024-11-18T21:03:00.742989Z"
    },
    "papermill": {
     "duration": 0.507357,
     "end_time": "2024-11-18T21:03:00.746663",
     "exception": false,
     "start_time": "2024-11-18T21:03:00.239306",
     "status": "completed"
    },
    "tags": []
   },
   "outputs": [
    {
     "data": {
      "text/plain": [
       "<seaborn.axisgrid.FacetGrid at 0x7abcc4173fd0>"
      ]
     },
     "execution_count": 16,
     "metadata": {},
     "output_type": "execute_result"
    },
    {
     "data": {
      "image/png": "[encoded data removed]",
      "text/plain": [
       "<Figure size 864x576 with 1 Axes>"
      ]
     },
     "metadata": {
      "needs_background": "light"
     },
     "output_type": "display_data"
    }
   ],
   "source": [
    "sns.displot(preprocessed_df.num_words,height=8,aspect=1.5)"
   ]
  },
  {
   "cell_type": "code",
   "execution_count": 17,
   "id": "93b1a17f",
   "metadata": {
    "execution": {
     "iopub.execute_input": "2024-11-18T21:03:00.771907Z",
     "iopub.status.busy": "2024-11-18T21:03:00.771133Z",
     "iopub.status.idle": "2024-11-18T21:03:00.777635Z",
     "shell.execute_reply": "2024-11-18T21:03:00.776744Z"
    },
    "papermill": {
     "duration": 0.021969,
     "end_time": "2024-11-18T21:03:00.779952",
     "exception": false,
     "start_time": "2024-11-18T21:03:00.757983",
     "status": "completed"
    },
    "tags": []
   },
   "outputs": [],
   "source": [
    "max_len = 40"
   ]
  },
  {
   "cell_type": "markdown",
   "id": "392efe0f",
   "metadata": {
    "papermill": {
     "duration": 0.011839,
     "end_time": "2024-11-18T21:03:00.802977",
     "exception": false,
     "start_time": "2024-11-18T21:03:00.791138",
     "status": "completed"
    },
    "tags": []
   },
   "source": [
    "## Text Tokenization"
   ]
  },
  {
   "cell_type": "code",
   "execution_count": 18,
   "id": "62b416d0",
   "metadata": {
    "execution": {
     "iopub.execute_input": "2024-11-18T21:03:00.827615Z",
     "iopub.status.busy": "2024-11-18T21:03:00.827244Z",
     "iopub.status.idle": "2024-11-18T21:03:00.843844Z",
     "shell.execute_reply": "2024-11-18T21:03:00.842768Z"
    },
    "papermill": {
     "duration": 0.031976,
     "end_time": "2024-11-18T21:03:00.846135",
     "exception": false,
     "start_time": "2024-11-18T21:03:00.814159",
     "status": "completed"
    },
    "tags": []
   },
   "outputs": [
    {
     "data": {
      "text/plain": [
       "{'input_ids': <tf.Tensor: shape=(1, 40), dtype=int32, numpy=\n",
       "array([[  101,  2061,  5980,  1010,  2129,  2055,  2893,  2070,  4157,\n",
       "         2005,  3892, 13360, 11057, 11057, 11057, 11382,  7959,  2818,\n",
       "         1029,   102,     0,     0,     0,     0,     0,     0,     0,\n",
       "            0,     0,     0,     0,     0,     0,     0,     0,     0,\n",
       "            0,     0,     0,     0]], dtype=int32)>, 'attention_mask': <tf.Tensor: shape=(1, 40), dtype=int32, numpy=\n",
       "array([[1, 1, 1, 1, 1, 1, 1, 1, 1, 1, 1, 1, 1, 1, 1, 1, 1, 1, 1, 1, 0, 0,\n",
       "        0, 0, 0, 0, 0, 0, 0, 0, 0, 0, 0, 0, 0, 0, 0, 0, 0, 0]],\n",
       "      dtype=int32)>}"
      ]
     },
     "execution_count": 18,
     "metadata": {},
     "output_type": "execute_result"
    }
   ],
   "source": [
    "tokenizer(text='So Dick , how about getting some coffee for tonight aaaaaaaaa kifech ?',\n",
    "                   add_special_tokens=True,\n",
    "                   return_tensors='tf',\n",
    "                   max_length=max_len,\n",
    "                   padding='max_length',\n",
    "                   truncation=True,\n",
    "                   return_token_type_ids=False,\n",
    "                   return_attention_mask=True,\n",
    "                   verbose=True\n",
    "                   )"
   ]
  },
  {
   "cell_type": "code",
   "execution_count": 19,
   "id": "6deb9566",
   "metadata": {
    "execution": {
     "iopub.execute_input": "2024-11-18T21:03:00.870525Z",
     "iopub.status.busy": "2024-11-18T21:03:00.870143Z",
     "iopub.status.idle": "2024-11-18T21:03:01.004912Z",
     "shell.execute_reply": "2024-11-18T21:03:01.003867Z"
    },
    "papermill": {
     "duration": 0.150129,
     "end_time": "2024-11-18T21:03:01.007676",
     "exception": false,
     "start_time": "2024-11-18T21:03:00.857547",
     "status": "completed"
    },
    "tags": []
   },
   "outputs": [],
   "source": [
    "X_train = tokenizer(text=train_data.Input.tolist(),\n",
    "                   add_special_tokens=True,\n",
    "                   return_tensors='tf',\n",
    "                   max_length=max_len,\n",
    "                   padding='max_length',\n",
    "                   truncation=True,\n",
    "                   return_token_type_ids=False,\n",
    "                   return_attention_mask=True,\n",
    "                   verbose=True\n",
    "                   )\n",
    "\n",
    "X_test = tokenizer(text=test_data.Input.tolist(),\n",
    "                   add_special_tokens=True,\n",
    "                   return_tensors='tf',\n",
    "                   max_length=max_len,\n",
    "                   padding='max_length',\n",
    "                   truncation=True,\n",
    "                   return_token_type_ids=False,\n",
    "                   return_attention_mask=True,\n",
    "                   verbose=True\n",
    "                  )"
   ]
  },
  {
   "cell_type": "markdown",
   "id": "d3de02c8",
   "metadata": {
    "papermill": {
     "duration": 0.011148,
     "end_time": "2024-11-18T21:03:01.030339",
     "exception": false,
     "start_time": "2024-11-18T21:03:01.019191",
     "status": "completed"
    },
    "tags": []
   },
   "source": [
    "## Defining the model architecture"
   ]
  },
  {
   "cell_type": "code",
   "execution_count": 20,
   "id": "bdf81efa",
   "metadata": {
    "execution": {
     "iopub.execute_input": "2024-11-18T21:03:01.055050Z",
     "iopub.status.busy": "2024-11-18T21:03:01.054633Z",
     "iopub.status.idle": "2024-11-18T21:03:01.065745Z",
     "shell.execute_reply": "2024-11-18T21:03:01.064667Z"
    },
    "papermill": {
     "duration": 0.026501,
     "end_time": "2024-11-18T21:03:01.068286",
     "exception": false,
     "start_time": "2024-11-18T21:03:01.041785",
     "status": "completed"
    },
    "tags": []
   },
   "outputs": [],
   "source": [
    "input_ids = Input(shape=(max_len,),name='input_ids',dtype=tf.int32)\n",
    "attention_mask = Input(shape=(max_len,),name='attention_mask',dtype=tf.int32)"
   ]
  },
  {
   "cell_type": "code",
   "execution_count": 21,
   "id": "96e8c915",
   "metadata": {
    "execution": {
     "iopub.execute_input": "2024-11-18T21:03:01.092796Z",
     "iopub.status.busy": "2024-11-18T21:03:01.092409Z",
     "iopub.status.idle": "2024-11-18T21:03:07.822492Z",
     "shell.execute_reply": "2024-11-18T21:03:07.821402Z"
    },
    "papermill": {
     "duration": 6.745377,
     "end_time": "2024-11-18T21:03:07.825125",
     "exception": false,
     "start_time": "2024-11-18T21:03:01.079748",
     "status": "completed"
    },
    "tags": []
   },
   "outputs": [],
   "source": [
    "embeddings = bert_model(input_ids,attention_mask=attention_mask)[0] # 0: final hidden state, 1: pooling output\n",
    "output = GlobalMaxPool1D()(embeddings)\n",
    "output = Dense(units=128,activation='relu')(output)\n",
    "output = Dropout(0.1)(output)\n",
    "output = Dense(units=64,activation='relu')(output)\n",
    "output = Dense(units=32,activation='relu')(output)\n",
    "y = Dense(units=6,activation='softmax')(output)\n",
    "\n",
    "model = Model(inputs=[input_ids,attention_mask],outputs=y)\n",
    "model.layers[2].trainable = True"
   ]
  },
  {
   "cell_type": "markdown",
   "id": "aafef491",
   "metadata": {
    "papermill": {
     "duration": 0.010913,
     "end_time": "2024-11-18T21:03:07.847341",
     "exception": false,
     "start_time": "2024-11-18T21:03:07.836428",
     "status": "completed"
    },
    "tags": []
   },
   "source": [
    "## Compiling the model"
   ]
  },
  {
   "cell_type": "code",
   "execution_count": 22,
   "id": "cd60441e",
   "metadata": {
    "execution": {
     "iopub.execute_input": "2024-11-18T21:03:07.871676Z",
     "iopub.status.busy": "2024-11-18T21:03:07.871052Z",
     "iopub.status.idle": "2024-11-18T21:03:07.892443Z",
     "shell.execute_reply": "2024-11-18T21:03:07.891532Z"
    },
    "papermill": {
     "duration": 0.036204,
     "end_time": "2024-11-18T21:03:07.894793",
     "exception": false,
     "start_time": "2024-11-18T21:03:07.858589",
     "status": "completed"
    },
    "tags": []
   },
   "outputs": [],
   "source": [
    "model.compile(loss=CategoricalCrossentropy(from_logits=True),\n",
    "              optimizer=Adam(learning_rate=5e-5,epsilon=1e-8,decay=0.01,clipnorm=1.0),\n",
    "              metrics=CategoricalAccuracy('balanced_accuracy'))"
   ]
  },
  {
   "cell_type": "markdown",
   "id": "9f966381",
   "metadata": {
    "papermill": {
     "duration": 0.011112,
     "end_time": "2024-11-18T21:03:07.917765",
     "exception": false,
     "start_time": "2024-11-18T21:03:07.906653",
     "status": "completed"
    },
    "tags": []
   },
   "source": [
    "## Encoding the emotion labels"
   ]
  },
  {
   "cell_type": "code",
   "execution_count": 23,
   "id": "03c1a0e0",
   "metadata": {
    "execution": {
     "iopub.execute_input": "2024-11-18T21:03:07.941779Z",
     "iopub.status.busy": "2024-11-18T21:03:07.941391Z",
     "iopub.status.idle": "2024-11-18T21:03:07.949850Z",
     "shell.execute_reply": "2024-11-18T21:03:07.948714Z"
    },
    "papermill": {
     "duration": 0.023323,
     "end_time": "2024-11-18T21:03:07.952271",
     "exception": false,
     "start_time": "2024-11-18T21:03:07.928948",
     "status": "completed"
    },
    "tags": []
   },
   "outputs": [],
   "source": [
    "train_data['Label'] = train_data.Sentiment.map(encoded_labels)\n",
    "test_data['Label'] = test_data.Sentiment.map(encoded_labels)"
   ]
  },
  {
   "cell_type": "code",
   "execution_count": 24,
   "id": "2ef63bab",
   "metadata": {
    "execution": {
     "iopub.execute_input": "2024-11-18T21:03:07.976795Z",
     "iopub.status.busy": "2024-11-18T21:03:07.975907Z",
     "iopub.status.idle": "2024-11-18T21:03:07.990969Z",
     "shell.execute_reply": "2024-11-18T21:03:07.990065Z"
    },
    "papermill": {
     "duration": 0.029831,
     "end_time": "2024-11-18T21:03:07.993230",
     "exception": false,
     "start_time": "2024-11-18T21:03:07.963399",
     "status": "completed"
    },
    "tags": []
   },
   "outputs": [
    {
     "data": {
      "text/html": [
       "<div>\n",
       "<style scoped>\n",
       "    .dataframe tbody tr th:only-of-type {\n",
       "        vertical-align: middle;\n",
       "    }\n",
       "\n",
       "    .dataframe tbody tr th {\n",
       "        vertical-align: top;\n",
       "    }\n",
       "\n",
       "    .dataframe thead th {\n",
       "        text-align: right;\n",
       "    }\n",
       "</style>\n",
       "<table border=\"1\" class=\"dataframe\">\n",
       "  <thead>\n",
       "    <tr style=\"text-align: right;\">\n",
       "      <th></th>\n",
       "      <th>Input</th>\n",
       "      <th>Sentiment</th>\n",
       "      <th>num_words</th>\n",
       "      <th>Label</th>\n",
       "    </tr>\n",
       "  </thead>\n",
       "  <tbody>\n",
       "    <tr>\n",
       "      <th>1701</th>\n",
       "      <td>started feeling amazing</td>\n",
       "      <td>joy</td>\n",
       "      <td>23</td>\n",
       "      <td>2</td>\n",
       "    </tr>\n",
       "    <tr>\n",
       "      <th>775</th>\n",
       "      <td>feel respected work though</td>\n",
       "      <td>joy</td>\n",
       "      <td>26</td>\n",
       "      <td>2</td>\n",
       "    </tr>\n",
       "    <tr>\n",
       "      <th>293</th>\n",
       "      <td>feel repressed enough sorts repressive measure...</td>\n",
       "      <td>sadness</td>\n",
       "      <td>117</td>\n",
       "      <td>4</td>\n",
       "    </tr>\n",
       "    <tr>\n",
       "      <th>133</th>\n",
       "      <td>feel guilt inaction spend much time helping su...</td>\n",
       "      <td>joy</td>\n",
       "      <td>61</td>\n",
       "      <td>2</td>\n",
       "    </tr>\n",
       "    <tr>\n",
       "      <th>243</th>\n",
       "      <td>m trying intuitive often makes feel sort confu...</td>\n",
       "      <td>fear</td>\n",
       "      <td>58</td>\n",
       "      <td>1</td>\n",
       "    </tr>\n",
       "  </tbody>\n",
       "</table>\n",
       "</div>"
      ],
      "text/plain": [
       "                                                  Input Sentiment  num_words  \\\n",
       "1701                            started feeling amazing       joy         23   \n",
       "775                          feel respected work though       joy         26   \n",
       "293   feel repressed enough sorts repressive measure...   sadness        117   \n",
       "133   feel guilt inaction spend much time helping su...       joy         61   \n",
       "243   m trying intuitive often makes feel sort confu...      fear         58   \n",
       "\n",
       "      Label  \n",
       "1701      2  \n",
       "775       2  \n",
       "293       4  \n",
       "133       2  \n",
       "243       1  "
      ]
     },
     "execution_count": 24,
     "metadata": {},
     "output_type": "execute_result"
    }
   ],
   "source": [
    "train_data.head()"
   ]
  },
  {
   "cell_type": "code",
   "execution_count": 25,
   "id": "a8e414d8",
   "metadata": {
    "execution": {
     "iopub.execute_input": "2024-11-18T21:03:08.018444Z",
     "iopub.status.busy": "2024-11-18T21:03:08.018055Z",
     "iopub.status.idle": "2024-11-18T21:03:08.032378Z",
     "shell.execute_reply": "2024-11-18T21:03:08.031431Z"
    },
    "papermill": {
     "duration": 0.029463,
     "end_time": "2024-11-18T21:03:08.034789",
     "exception": false,
     "start_time": "2024-11-18T21:03:08.005326",
     "status": "completed"
    },
    "tags": []
   },
   "outputs": [
    {
     "data": {
      "text/html": [
       "<div>\n",
       "<style scoped>\n",
       "    .dataframe tbody tr th:only-of-type {\n",
       "        vertical-align: middle;\n",
       "    }\n",
       "\n",
       "    .dataframe tbody tr th {\n",
       "        vertical-align: top;\n",
       "    }\n",
       "\n",
       "    .dataframe thead th {\n",
       "        text-align: right;\n",
       "    }\n",
       "</style>\n",
       "<table border=\"1\" class=\"dataframe\">\n",
       "  <thead>\n",
       "    <tr style=\"text-align: right;\">\n",
       "      <th></th>\n",
       "      <th>Input</th>\n",
       "      <th>Sentiment</th>\n",
       "      <th>num_words</th>\n",
       "      <th>Label</th>\n",
       "    </tr>\n",
       "  </thead>\n",
       "  <tbody>\n",
       "    <tr>\n",
       "      <th>1485</th>\n",
       "      <td>really feel happen lifetime still working publ...</td>\n",
       "      <td>love</td>\n",
       "      <td>86</td>\n",
       "      <td>3</td>\n",
       "    </tr>\n",
       "    <tr>\n",
       "      <th>514</th>\n",
       "      <td>feel particularly delighted</td>\n",
       "      <td>joy</td>\n",
       "      <td>27</td>\n",
       "      <td>2</td>\n",
       "    </tr>\n",
       "    <tr>\n",
       "      <th>22</th>\n",
       "      <td>m attracted feel knows hes weird weirdo figure...</td>\n",
       "      <td>surprise</td>\n",
       "      <td>63</td>\n",
       "      <td>5</td>\n",
       "    </tr>\n",
       "    <tr>\n",
       "      <th>1710</th>\n",
       "      <td>feeling pretty low despite wettest summer rec</td>\n",
       "      <td>sadness</td>\n",
       "      <td>45</td>\n",
       "      <td>4</td>\n",
       "    </tr>\n",
       "    <tr>\n",
       "      <th>112</th>\n",
       "      <td>sit deck soak warmth sun sometimes feels ok wo...</td>\n",
       "      <td>joy</td>\n",
       "      <td>76</td>\n",
       "      <td>2</td>\n",
       "    </tr>\n",
       "  </tbody>\n",
       "</table>\n",
       "</div>"
      ],
      "text/plain": [
       "                                                  Input Sentiment  num_words  \\\n",
       "1485  really feel happen lifetime still working publ...      love         86   \n",
       "514                         feel particularly delighted       joy         27   \n",
       "22    m attracted feel knows hes weird weirdo figure...  surprise         63   \n",
       "1710      feeling pretty low despite wettest summer rec   sadness         45   \n",
       "112   sit deck soak warmth sun sometimes feels ok wo...       joy         76   \n",
       "\n",
       "      Label  \n",
       "1485      3  \n",
       "514       2  \n",
       "22        5  \n",
       "1710      4  \n",
       "112       2  "
      ]
     },
     "execution_count": 25,
     "metadata": {},
     "output_type": "execute_result"
    }
   ],
   "source": [
    "test_data.head()"
   ]
  },
  {
   "cell_type": "markdown",
   "id": "406881b5",
   "metadata": {
    "papermill": {
     "duration": 0.011768,
     "end_time": "2024-11-18T21:03:08.059399",
     "exception": false,
     "start_time": "2024-11-18T21:03:08.047631",
     "status": "completed"
    },
    "tags": []
   },
   "source": [
    "## Generating the model summary and plot"
   ]
  },
  {
   "cell_type": "code",
   "execution_count": 26,
   "id": "cabbda7a",
   "metadata": {
    "execution": {
     "iopub.execute_input": "2024-11-18T21:03:08.084960Z",
     "iopub.status.busy": "2024-11-18T21:03:08.084569Z",
     "iopub.status.idle": "2024-11-18T21:03:08.102840Z",
     "shell.execute_reply": "2024-11-18T21:03:08.101563Z"
    },
    "papermill": {
     "duration": 0.033988,
     "end_time": "2024-11-18T21:03:08.105584",
     "exception": false,
     "start_time": "2024-11-18T21:03:08.071596",
     "status": "completed"
    },
    "tags": []
   },
   "outputs": [
    {
     "name": "stdout",
     "output_type": "stream",
     "text": [
      "Model: \"model\"\n",
      "__________________________________________________________________________________________________\n",
      "Layer (type)                    Output Shape         Param #     Connected to                     \n",
      "==================================================================================================\n",
      "input_ids (InputLayer)          [(None, 40)]         0                                            \n",
      "__________________________________________________________________________________________________\n",
      "attention_mask (InputLayer)     [(None, 40)]         0                                            \n",
      "__________________________________________________________________________________________________\n",
      "tf_bert_model (TFBertModel)     TFBaseModelOutputWit 109482240   input_ids[0][0]                  \n",
      "                                                                 attention_mask[0][0]             \n",
      "__________________________________________________________________________________________________\n",
      "global_max_pooling1d (GlobalMax (None, 768)          0           tf_bert_model[0][0]              \n",
      "__________________________________________________________________________________________________\n",
      "dense (Dense)                   (None, 128)          98432       global_max_pooling1d[0][0]       \n",
      "__________________________________________________________________________________________________\n",
      "dropout_37 (Dropout)            (None, 128)          0           dense[0][0]                      \n",
      "__________________________________________________________________________________________________\n",
      "dense_1 (Dense)                 (None, 64)           8256        dropout_37[0][0]                 \n",
      "__________________________________________________________________________________________________\n",
      "dense_2 (Dense)                 (None, 32)           2080        dense_1[0][0]                    \n",
      "__________________________________________________________________________________________________\n",
      "dense_3 (Dense)                 (None, 6)            198         dense_2[0][0]                    \n",
      "==================================================================================================\n",
      "Total params: 109,591,206\n",
      "Trainable params: 109,591,206\n",
      "Non-trainable params: 0\n",
      "__________________________________________________________________________________________________\n"
     ]
    }
   ],
   "source": [
    "model.summary()"
   ]
  },
  {
   "cell_type": "code",
   "execution_count": 27,
   "id": "de63e186",
   "metadata": {
    "execution": {
     "iopub.execute_input": "2024-11-18T21:03:08.131529Z",
     "iopub.status.busy": "2024-11-18T21:03:08.130631Z",
     "iopub.status.idle": "2024-11-18T21:03:09.430185Z",
     "shell.execute_reply": "2024-11-18T21:03:09.428841Z"
    },
    "papermill": {
     "duration": 1.315678,
     "end_time": "2024-11-18T21:03:09.433169",
     "exception": false,
     "start_time": "2024-11-18T21:03:08.117491",
     "status": "completed"
    },
    "tags": []
   },
   "outputs": [
    {
     "name": "stdout",
     "output_type": "stream",
     "text": [
      "huggingface/tokenizers: The current process just got forked, after parallelism has already been used. Disabling parallelism to avoid deadlocks...\n",
      "To disable this warning, you can either:\n",
      "\t- Avoid using `tokenizers` before the fork if possible\n",
      "\t- Explicitly set the environment variable TOKENIZERS_PARALLELISM=(true | false)\n",
      "huggingface/tokenizers: The current process just got forked, after parallelism has already been used. Disabling parallelism to avoid deadlocks...\n",
      "To disable this warning, you can either:\n",
      "\t- Avoid using `tokenizers` before the fork if possible\n",
      "\t- Explicitly set the environment variable TOKENIZERS_PARALLELISM=(true | false)\n"
     ]
    },
    {
     "data": {
      "image/png": "[encoded data removed]",
      "text/plain": [
       "<IPython.core.display.Image object>"
      ]
     },
     "execution_count": 27,
     "metadata": {},
     "output_type": "execute_result"
    }
   ],
   "source": [
    "plot_model(model,'model.png',show_shapes=True,dpi=100)"
   ]
  },
  {
   "cell_type": "markdown",
   "id": "405f37d7",
   "metadata": {
    "papermill": {
     "duration": 0.013674,
     "end_time": "2024-11-18T21:03:09.461450",
     "exception": false,
     "start_time": "2024-11-18T21:03:09.447776",
     "status": "completed"
    },
    "tags": []
   },
   "source": [
    "## Training and fine-tuning the pretrained BERT model "
   ]
  },
  {
   "cell_type": "code",
   "execution_count": 28,
   "id": "e3a7bc83",
   "metadata": {
    "execution": {
     "iopub.execute_input": "2024-11-18T21:03:09.491509Z",
     "iopub.status.busy": "2024-11-18T21:03:09.491084Z",
     "iopub.status.idle": "2024-11-18T21:03:09.499889Z",
     "shell.execute_reply": "2024-11-18T21:03:09.498830Z"
    },
    "papermill": {
     "duration": 0.026788,
     "end_time": "2024-11-18T21:03:09.502233",
     "exception": false,
     "start_time": "2024-11-18T21:03:09.475445",
     "status": "completed"
    },
    "tags": []
   },
   "outputs": [
    {
     "data": {
      "text/plain": [
       "(<tf.Tensor: shape=(1400, 40), dtype=int32, numpy=\n",
       " array([[  101,  2318,  3110, ...,     0,     0,     0],\n",
       "        [  101,  2514,  9768, ...,     0,     0,     0],\n",
       "        [  101,  2514, 16360, ...,     0,     0,     0],\n",
       "        ...,\n",
       "        [  101,  2215,  2360, ...,     0,     0,     0],\n",
       "        [  101,  1049,  2425, ...,     0,     0,     0],\n",
       "        [  101,  2514,  2540, ...,     0,     0,     0]], dtype=int32)>,\n",
       " <tf.Tensor: shape=(1400, 40), dtype=int32, numpy=\n",
       " array([[1, 1, 1, ..., 0, 0, 0],\n",
       "        [1, 1, 1, ..., 0, 0, 0],\n",
       "        [1, 1, 1, ..., 0, 0, 0],\n",
       "        ...,\n",
       "        [1, 1, 1, ..., 0, 0, 0],\n",
       "        [1, 1, 1, ..., 0, 0, 0],\n",
       "        [1, 1, 1, ..., 0, 0, 0]], dtype=int32)>)"
      ]
     },
     "execution_count": 28,
     "metadata": {},
     "output_type": "execute_result"
    }
   ],
   "source": [
    "X_train['input_ids'],X_train['attention_mask']"
   ]
  },
  {
   "cell_type": "code",
   "execution_count": 29,
   "id": "4aa289a0",
   "metadata": {
    "execution": {
     "iopub.execute_input": "2024-11-18T21:03:09.532372Z",
     "iopub.status.busy": "2024-11-18T21:03:09.531945Z",
     "iopub.status.idle": "2024-11-18T21:56:31.753176Z",
     "shell.execute_reply": "2024-11-18T21:56:31.751866Z"
    },
    "papermill": {
     "duration": 3202.27466,
     "end_time": "2024-11-18T21:56:31.790906",
     "exception": false,
     "start_time": "2024-11-18T21:03:09.516246",
     "status": "completed"
    },
    "tags": []
   },
   "outputs": [
    {
     "name": "stdout",
     "output_type": "stream",
     "text": [
      "Epoch 1/10\n",
      "44/44 [==============================] - 351s 7s/step - loss: 1.5600 - balanced_accuracy: 0.3793 - val_loss: 1.3580 - val_balanced_accuracy: 0.5367\n",
      "Epoch 2/10\n",
      "44/44 [==============================] - 316s 7s/step - loss: 1.1599 - balanced_accuracy: 0.5871 - val_loss: 0.9269 - val_balanced_accuracy: 0.6667\n",
      "Epoch 3/10\n",
      "44/44 [==============================] - 316s 7s/step - loss: 0.7452 - balanced_accuracy: 0.7457 - val_loss: 0.5951 - val_balanced_accuracy: 0.7900\n",
      "Epoch 4/10\n",
      "44/44 [==============================] - 317s 7s/step - loss: 0.4254 - balanced_accuracy: 0.8650 - val_loss: 0.4354 - val_balanced_accuracy: 0.8500\n",
      "Epoch 5/10\n",
      "44/44 [==============================] - 317s 7s/step - loss: 0.2297 - balanced_accuracy: 0.9279 - val_loss: 0.4315 - val_balanced_accuracy: 0.8750\n",
      "Epoch 6/10\n",
      "44/44 [==============================] - 317s 7s/step - loss: 0.1343 - balanced_accuracy: 0.9614 - val_loss: 0.4264 - val_balanced_accuracy: 0.8700\n",
      "Epoch 7/10\n",
      "44/44 [==============================] - 316s 7s/step - loss: 0.0956 - balanced_accuracy: 0.9721 - val_loss: 0.4707 - val_balanced_accuracy: 0.8767\n",
      "Epoch 8/10\n",
      "44/44 [==============================] - 316s 7s/step - loss: 0.0562 - balanced_accuracy: 0.9886 - val_loss: 0.4455 - val_balanced_accuracy: 0.8767\n",
      "Epoch 9/10\n",
      "44/44 [==============================] - 318s 7s/step - loss: 0.0461 - balanced_accuracy: 0.9879 - val_loss: 0.4599 - val_balanced_accuracy: 0.8833\n",
      "Epoch 10/10\n",
      "44/44 [==============================] - 317s 7s/step - loss: 0.0359 - balanced_accuracy: 0.9921 - val_loss: 0.4896 - val_balanced_accuracy: 0.8917\n"
     ]
    }
   ],
   "source": [
    "r = model.fit(x={'input_ids': X_train['input_ids'], 'attention_mask': X_train['attention_mask']},\n",
    "             y=to_categorical(train_data.Label),\n",
    "             epochs=10,\n",
    "             batch_size=32,\n",
    "             validation_data=({'input_ids': X_test['input_ids'], 'attention_mask': X_test['attention_mask']},to_categorical(test_data.Label))\n",
    "             )"
   ]
  },
  {
   "cell_type": "markdown",
   "id": "dd15f385",
   "metadata": {
    "papermill": {
     "duration": 0.037456,
     "end_time": "2024-11-18T21:56:31.867121",
     "exception": false,
     "start_time": "2024-11-18T21:56:31.829665",
     "status": "completed"
    },
    "tags": []
   },
   "source": [
    "## Analyzing model performance"
   ]
  },
  {
   "cell_type": "code",
   "execution_count": 30,
   "id": "c2438030",
   "metadata": {
    "execution": {
     "iopub.execute_input": "2024-11-18T21:56:31.947218Z",
     "iopub.status.busy": "2024-11-18T21:56:31.946054Z",
     "iopub.status.idle": "2024-11-18T21:56:32.253682Z",
     "shell.execute_reply": "2024-11-18T21:56:32.252486Z"
    },
    "papermill": {
     "duration": 0.350732,
     "end_time": "2024-11-18T21:56:32.256263",
     "exception": false,
     "start_time": "2024-11-18T21:56:31.905531",
     "status": "completed"
    },
    "tags": []
   },
   "outputs": [
    {
     "data": {
      "image/png": "[encoded data removed]",
      "text/plain": [
       "<Figure size 864x576 with 1 Axes>"
      ]
     },
     "metadata": {
      "needs_background": "light"
     },
     "output_type": "display_data"
    }
   ],
   "source": [
    "plt.figure(figsize=(12,8))\n",
    "plt.plot(r.history['loss'],'r',label='train loss')\n",
    "plt.plot(r.history['val_loss'],'b',label='test loss')\n",
    "plt.xlabel('No. of Epochs')\n",
    "plt.ylabel('Loss')\n",
    "plt.title('Loss Graph')\n",
    "plt.legend();"
   ]
  },
  {
   "cell_type": "code",
   "execution_count": 31,
   "id": "f6cce7c3",
   "metadata": {
    "execution": {
     "iopub.execute_input": "2024-11-18T21:56:32.334174Z",
     "iopub.status.busy": "2024-11-18T21:56:32.333714Z",
     "iopub.status.idle": "2024-11-18T21:56:32.615227Z",
     "shell.execute_reply": "2024-11-18T21:56:32.614064Z"
    },
    "papermill": {
     "duration": 0.323495,
     "end_time": "2024-11-18T21:56:32.617794",
     "exception": false,
     "start_time": "2024-11-18T21:56:32.294299",
     "status": "completed"
    },
    "tags": []
   },
   "outputs": [
    {
     "data": {
      "image/png": "[encoded data removed]",
      "text/plain": [
       "<Figure size 864x576 with 1 Axes>"
      ]
     },
     "metadata": {
      "needs_background": "light"
     },
     "output_type": "display_data"
    }
   ],
   "source": [
    "plt.figure(figsize=(12,8))\n",
    "plt.plot(r.history['balanced_accuracy'],'r',label='train accuracy')\n",
    "plt.plot(r.history['val_balanced_accuracy'],'b',label='test accuracy')\n",
    "plt.xlabel('No. of Epochs')\n",
    "plt.ylabel('Accuracy')\n",
    "plt.title('Accuracy Graph')\n",
    "plt.legend();"
   ]
  },
  {
   "cell_type": "markdown",
   "id": "6d54b3ce",
   "metadata": {
    "papermill": {
     "duration": 0.038868,
     "end_time": "2024-11-18T21:56:32.695554",
     "exception": false,
     "start_time": "2024-11-18T21:56:32.656686",
     "status": "completed"
    },
    "tags": []
   },
   "source": [
    "## Saving the model"
   ]
  },
  {
   "cell_type": "code",
   "execution_count": 32,
   "id": "8a4b4b78",
   "metadata": {
    "execution": {
     "iopub.execute_input": "2024-11-18T21:56:32.775128Z",
     "iopub.status.busy": "2024-11-18T21:56:32.774688Z",
     "iopub.status.idle": "2024-11-18T21:56:35.254775Z",
     "shell.execute_reply": "2024-11-18T21:56:35.253282Z"
    },
    "papermill": {
     "duration": 2.523016,
     "end_time": "2024-11-18T21:56:35.257532",
     "exception": false,
     "start_time": "2024-11-18T21:56:32.734516",
     "status": "completed"
    },
    "tags": []
   },
   "outputs": [],
   "source": [
    "model.save(\"emotion_detector.h5\")"
   ]
  },
  {
   "cell_type": "markdown",
   "id": "36f77bca",
   "metadata": {
    "papermill": {
     "duration": 0.038904,
     "end_time": "2024-11-18T21:56:35.335519",
     "exception": false,
     "start_time": "2024-11-18T21:56:35.296615",
     "status": "completed"
    },
    "tags": []
   },
   "source": [
    "## Evaluating the model on the test dataset"
   ]
  },
  {
   "cell_type": "code",
   "execution_count": 33,
   "id": "6ab63e5f",
   "metadata": {
    "execution": {
     "iopub.execute_input": "2024-11-18T21:56:35.415969Z",
     "iopub.status.busy": "2024-11-18T21:56:35.415541Z",
     "iopub.status.idle": "2024-11-18T21:57:19.859953Z",
     "shell.execute_reply": "2024-11-18T21:57:19.858893Z"
    },
    "papermill": {
     "duration": 44.488061,
     "end_time": "2024-11-18T21:57:19.862295",
     "exception": false,
     "start_time": "2024-11-18T21:56:35.374234",
     "status": "completed"
    },
    "tags": []
   },
   "outputs": [
    {
     "name": "stdout",
     "output_type": "stream",
     "text": [
      "19/19 [==============================] - 44s 2s/step - loss: 0.4896 - balanced_accuracy: 0.8917\n",
      "Test Categorical Cross-Entropy Loss: 0.4896160364151001\n",
      "Test Categorical Accuracy: 0.8916666507720947\n"
     ]
    }
   ],
   "source": [
    "loss, acc = model.evaluate({'input_ids': X_test['input_ids'], 'attention_mask': X_test['attention_mask']},to_categorical(test_data.Label))\n",
    "print(\"Test Categorical Cross-Entropy Loss:\",loss)\n",
    "print(\"Test Categorical Accuracy:\",acc)"
   ]
  },
  {
   "cell_type": "code",
   "execution_count": 34,
   "id": "8946996f",
   "metadata": {
    "execution": {
     "iopub.execute_input": "2024-11-18T21:57:19.946521Z",
     "iopub.status.busy": "2024-11-18T21:57:19.946129Z",
     "iopub.status.idle": "2024-11-18T21:58:08.682670Z",
     "shell.execute_reply": "2024-11-18T21:58:08.681424Z"
    },
    "papermill": {
     "duration": 48.822554,
     "end_time": "2024-11-18T21:58:08.726137",
     "exception": false,
     "start_time": "2024-11-18T21:57:19.903583",
     "status": "completed"
    },
    "tags": []
   },
   "outputs": [
    {
     "name": "stdout",
     "output_type": "stream",
     "text": [
      "              precision    recall  f1-score   support\n",
      "\n",
      "           0       0.85      0.93      0.89        76\n",
      "           1       0.83      0.91      0.87        68\n",
      "           2       0.90      0.93      0.91       210\n",
      "           3       0.79      0.59      0.68        44\n",
      "           4       0.97      0.90      0.93       184\n",
      "           5       0.79      0.83      0.81        18\n",
      "\n",
      "    accuracy                           0.89       600\n",
      "   macro avg       0.85      0.85      0.85       600\n",
      "weighted avg       0.89      0.89      0.89       600\n",
      "\n"
     ]
    }
   ],
   "source": [
    "test_predictions = model.predict({'input_ids': X_test['input_ids'], 'attention_mask': X_test['attention_mask']})\n",
    "test_predictions = np.argmax(test_predictions,axis=1)\n",
    "print(classification_report(test_data.Label,test_predictions))"
   ]
  },
  {
   "cell_type": "markdown",
   "id": "bba0af33",
   "metadata": {
    "papermill": {
     "duration": 0.040336,
     "end_time": "2024-11-18T21:58:08.807125",
     "exception": false,
     "start_time": "2024-11-18T21:58:08.766789",
     "status": "completed"
    },
    "tags": []
   },
   "source": [
    "The result is quite promising as we've obtained an excellent f1-score of almost 80% for all the 6 emotion classes."
   ]
  }
 ],
 "metadata": {
  "kaggle": {
   "accelerator": "none",
   "dataSources": [
    {
     "datasetId": 605165,
     "sourceId": 1085454,
     "sourceType": "datasetVersion"
    }
   ],
   "dockerImageVersionId": 30302,
   "isGpuEnabled": false,
   "isInternetEnabled": true,
   "language": "python",
   "sourceType": "notebook"
  },
  "kernelspec": {
   "display_name": "Python 3",
   "language": "python",
   "name": "python3"
  },
  "language_info": {
   "codemirror_mode": {
    "name": "ipython",
    "version": 3
   },
   "file_extension": ".py",
   "mimetype": "text/x-python",
   "name": "python",
   "nbconvert_exporter": "python",
   "pygments_lexer": "ipython3",
   "version": "3.7.12"
  },
  "papermill": {
   "default_parameters": {},
   "duration": 3366.362591,
   "end_time": "2024-11-18T21:58:12.661995",
   "environment_variables": {},
   "exception": null,
   "input_path": "__notebook__.ipynb",
   "output_path": "__notebook__.ipynb",
   "parameters": {},
   "start_time": "2024-11-18T21:02:06.299404",
   "version": "2.3.4"
  },
  "widgets": {
   "application/vnd.jupyter.widget-state+json": {
    "state": {
     "0bfe3697126849898eaafeda1fc3a15b": {
      "model_module": "@jupyter-widgets/controls",
      "model_module_version": "1.5.0",
      "model_name": "HTMLModel",
      "state": {
       "_dom_classes": [],
       "_model_module": "@jupyter-widgets/controls",
       "_model_module_version": "1.5.0",
       "_model_name": "HTMLModel",
       "_view_count": null,
       "_view_module": "@jupyter-widgets/controls",
       "_view_module_version": "1.5.0",
       "_view_name": "HTMLView",
       "description": "",
       "description_tooltip": null,
       "layout": "IPY_MODEL_18fc50721c3c43aa9d10c18789701041",
       "placeholder": "​",
       "style": "IPY_MODEL_0c881fa325d2403199576460930909e4",
       "value": "Downloading: 100%"
      }
     },
     "0c3c0284527e4bd380ff47ea3f9ab330": {
      "model_module": "@jupyter-widgets/base",
      "model_module_version": "1.2.0",
      "model_name": "LayoutModel",
      "state": {
       "_model_module": "@jupyter-widgets/base",
       "_model_module_version": "1.2.0",
       "_model_name": "LayoutModel",
       "_view_count": null,
       "_view_module": "@jupyter-widgets/base",
       "_view_module_version": "1.2.0",
       "_view_name": "LayoutView",
       "align_content": null,
       "align_items": null,
       "align_self": null,
       "border": null,
       "bottom": null,
       "display": null,
       "flex": null,
       "flex_flow": null,
       "grid_area": null,
       "grid_auto_columns": null,
       "grid_auto_flow": null,
       "grid_auto_rows": null,
       "grid_column": null,
       "grid_gap": null,
       "grid_row": null,
       "grid_template_areas": null,
       "grid_template_columns": null,
       "grid_template_rows": null,
       "height": null,
       "justify_content": null,
       "justify_items": null,
       "left": null,
       "margin": null,
       "max_height": null,
       "max_width": null,
       "min_height": null,
       "min_width": null,
       "object_fit": null,
       "object_position": null,
       "order": null,
       "overflow": null,
       "overflow_x": null,
       "overflow_y": null,
       "padding": null,
       "right": null,
       "top": null,
       "visibility": null,
       "width": null
      }
     },
     "0c881fa325d2403199576460930909e4": {
      "model_module": "@jupyter-widgets/controls",
      "model_module_version": "1.5.0",
      "model_name": "DescriptionStyleModel",
      "state": {
       "_model_module": "@jupyter-widgets/controls",
       "_model_module_version": "1.5.0",
       "_model_name": "DescriptionStyleModel",
       "_view_count": null,
       "_view_module": "@jupyter-widgets/base",
       "_view_module_version": "1.2.0",
       "_view_name": "StyleView",
       "description_width": ""
      }
     },
     "0eba6544d44b41c3993c94e20e0a0aad": {
      "model_module": "@jupyter-widgets/controls",
      "model_module_version": "1.5.0",
      "model_name": "HTMLModel",
      "state": {
       "_dom_classes": [],
       "_model_module": "@jupyter-widgets/controls",
       "_model_module_version": "1.5.0",
       "_model_name": "HTMLModel",
       "_view_count": null,
       "_view_module": "@jupyter-widgets/controls",
       "_view_module_version": "1.5.0",
       "_view_name": "HTMLView",
       "description": "",
       "description_tooltip": null,
       "layout": "IPY_MODEL_ce5cd913814447dbb07916879862cefc",
       "placeholder": "​",
       "style": "IPY_MODEL_fb4268fb1c4a40c4bcb2c6bc6e61511a",
       "value": " 226k/226k [00:00&lt;00:00, 307kB/s]"
      }
     },
     "103de79d69074e3686b6ea2be4a46ea7": {
      "model_module": "@jupyter-widgets/controls",
      "model_module_version": "1.5.0",
      "model_name": "ProgressStyleModel",
      "state": {
       "_model_module": "@jupyter-widgets/controls",
       "_model_module_version": "1.5.0",
       "_model_name": "ProgressStyleModel",
       "_view_count": null,
       "_view_module": "@jupyter-widgets/base",
       "_view_module_version": "1.2.0",
       "_view_name": "StyleView",
       "bar_color": null,
       "description_width": ""
      }
     },
     "12562d46614342e9a74bc0c16e56a176": {
      "model_module": "@jupyter-widgets/controls",
      "model_module_version": "1.5.0",
      "model_name": "DescriptionStyleModel",
      "state": {
       "_model_module": "@jupyter-widgets/controls",
       "_model_module_version": "1.5.0",
       "_model_name": "DescriptionStyleModel",
       "_view_count": null,
       "_view_module": "@jupyter-widgets/base",
       "_view_module_version": "1.2.0",
       "_view_name": "StyleView",
       "description_width": ""
      }
     },
     "18fc50721c3c43aa9d10c18789701041": {
      "model_module": "@jupyter-widgets/base",
      "model_module_version": "1.2.0",
      "model_name": "LayoutModel",
      "state": {
       "_model_module": "@jupyter-widgets/base",
       "_model_module_version": "1.2.0",
       "_model_name": "LayoutModel",
       "_view_count": null,
       "_view_module": "@jupyter-widgets/base",
       "_view_module_version": "1.2.0",
       "_view_name": "LayoutView",
       "align_content": null,
       "align_items": null,
       "align_self": null,
       "border": null,
       "bottom": null,
       "display": null,
       "flex": null,
       "flex_flow": null,
       "grid_area": null,
       "grid_auto_columns": null,
       "grid_auto_flow": null,
       "grid_auto_rows": null,
       "grid_column": null,
       "grid_gap": null,
       "grid_row": null,
       "grid_template_areas": null,
       "grid_template_columns": null,
       "grid_template_rows": null,
       "height": null,
       "justify_content": null,
       "justify_items": null,
       "left": null,
       "margin": null,
       "max_height": null,
       "max_width": null,
       "min_height": null,
       "min_width": null,
       "object_fit": null,
       "object_position": null,
       "order": null,
       "overflow": null,
       "overflow_x": null,
       "overflow_y": null,
       "padding": null,
       "right": null,
       "top": null,
       "visibility": null,
       "width": null
      }
     },
     "1ec9f01a75b34c93b5c80350923798a9": {
      "model_module": "@jupyter-widgets/controls",
      "model_module_version": "1.5.0",
      "model_name": "DescriptionStyleModel",
      "state": {
       "_model_module": "@jupyter-widgets/controls",
       "_model_module_version": "1.5.0",
       "_model_name": "DescriptionStyleModel",
       "_view_count": null,
       "_view_module": "@jupyter-widgets/base",
       "_view_module_version": "1.2.0",
       "_view_name": "StyleView",
       "description_width": ""
      }
     },
     "2082ffb09a384b8a931b80223514b74e": {
      "model_module": "@jupyter-widgets/base",
      "model_module_version": "1.2.0",
      "model_name": "LayoutModel",
      "state": {
       "_model_module": "@jupyter-widgets/base",
       "_model_module_version": "1.2.0",
       "_model_name": "LayoutModel",
       "_view_count": null,
       "_view_module": "@jupyter-widgets/base",
       "_view_module_version": "1.2.0",
       "_view_name": "LayoutView",
       "align_content": null,
       "align_items": null,
       "align_self": null,
       "border": null,
       "bottom": null,
       "display": null,
       "flex": null,
       "flex_flow": null,
       "grid_area": null,
       "grid_auto_columns": null,
       "grid_auto_flow": null,
       "grid_auto_rows": null,
       "grid_column": null,
       "grid_gap": null,
       "grid_row": null,
       "grid_template_areas": null,
       "grid_template_columns": null,
       "grid_template_rows": null,
       "height": null,
       "justify_content": null,
       "justify_items": null,
       "left": null,
       "margin": null,
       "max_height": null,
       "max_width": null,
       "min_height": null,
       "min_width": null,
       "object_fit": null,
       "object_position": null,
       "order": null,
       "overflow": null,
       "overflow_x": null,
       "overflow_y": null,
       "padding": null,
       "right": null,
       "top": null,
       "visibility": null,
       "width": null
      }
     },
     "24dfc56873aa4523b1f26165ecc2e064": {
      "model_module": "@jupyter-widgets/controls",
      "model_module_version": "1.5.0",
      "model_name": "HTMLModel",
      "state": {
       "_dom_classes": [],
       "_model_module": "@jupyter-widgets/controls",
       "_model_module_version": "1.5.0",
       "_model_name": "HTMLModel",
       "_view_count": null,
       "_view_module": "@jupyter-widgets/controls",
       "_view_module_version": "1.5.0",
       "_view_name": "HTMLView",
       "description": "",
       "description_tooltip": null,
       "layout": "IPY_MODEL_b3f49621c453489e898b4097e5eb75a9",
       "placeholder": "​",
       "style": "IPY_MODEL_afa6155529ce46c0ae7eef4faaef21d4",
       "value": " 48.0/48.0 [00:00&lt;00:00, 1.70kB/s]"
      }
     },
     "2b31d2b5dcca46d3b794c41d13ab791e": {
      "model_module": "@jupyter-widgets/controls",
      "model_module_version": "1.5.0",
      "model_name": "FloatProgressModel",
      "state": {
       "_dom_classes": [],
       "_model_module": "@jupyter-widgets/controls",
       "_model_module_version": "1.5.0",
       "_model_name": "FloatProgressModel",
       "_view_count": null,
       "_view_module": "@jupyter-widgets/controls",
       "_view_module_version": "1.5.0",
       "_view_name": "ProgressView",
       "bar_style": "success",
       "description": "",
       "description_tooltip": null,
       "layout": "IPY_MODEL_0c3c0284527e4bd380ff47ea3f9ab330",
       "max": 48.0,
       "min": 0.0,
       "orientation": "horizontal",
       "style": "IPY_MODEL_d1d86550f0a2404a9cc46ec66b9dd2c0",
       "value": 48.0
      }
     },
     "2cf6e589a21648e89d67ed50c83dd64e": {
      "model_module": "@jupyter-widgets/base",
      "model_module_version": "1.2.0",
      "model_name": "LayoutModel",
      "state": {
       "_model_module": "@jupyter-widgets/base",
       "_model_module_version": "1.2.0",
       "_model_name": "LayoutModel",
       "_view_count": null,
       "_view_module": "@jupyter-widgets/base",
       "_view_module_version": "1.2.0",
       "_view_name": "LayoutView",
       "align_content": null,
       "align_items": null,
       "align_self": null,
       "border": null,
       "bottom": null,
       "display": null,
       "flex": null,
       "flex_flow": null,
       "grid_area": null,
       "grid_auto_columns": null,
       "grid_auto_flow": null,
       "grid_auto_rows": null,
       "grid_column": null,
       "grid_gap": null,
       "grid_row": null,
       "grid_template_areas": null,
       "grid_template_columns": null,
       "grid_template_rows": null,
       "height": null,
       "justify_content": null,
       "justify_items": null,
       "left": null,
       "margin": null,
       "max_height": null,
       "max_width": null,
       "min_height": null,
       "min_width": null,
       "object_fit": null,
       "object_position": null,
       "order": null,
       "overflow": null,
       "overflow_x": null,
       "overflow_y": null,
       "padding": null,
       "right": null,
       "top": null,
       "visibility": null,
       "width": null
      }
     },
     "33ed8a46a7394ba38b2afd4040b510e9": {
      "model_module": "@jupyter-widgets/controls",
      "model_module_version": "1.5.0",
      "model_name": "HTMLModel",
      "state": {
       "_dom_classes": [],
       "_model_module": "@jupyter-widgets/controls",
       "_model_module_version": "1.5.0",
       "_model_name": "HTMLModel",
       "_view_count": null,
       "_view_module": "@jupyter-widgets/controls",
       "_view_module_version": "1.5.0",
       "_view_name": "HTMLView",
       "description": "",
       "description_tooltip": null,
       "layout": "IPY_MODEL_fe4318c6ef0742b995bfa46ad8e044d6",
       "placeholder": "​",
       "style": "IPY_MODEL_aed96608b58a4de4997b424d930ea082",
       "value": " 511M/511M [00:09&lt;00:00, 51.6MB/s]"
      }
     },
     "382ddc589a0f4e609e2c2b90ce746195": {
      "model_module": "@jupyter-widgets/controls",
      "model_module_version": "1.5.0",
      "model_name": "HBoxModel",
      "state": {
       "_dom_classes": [],
       "_model_module": "@jupyter-widgets/controls",
       "_model_module_version": "1.5.0",
       "_model_name": "HBoxModel",
       "_view_count": null,
       "_view_module": "@jupyter-widgets/controls",
       "_view_module_version": "1.5.0",
       "_view_name": "HBoxView",
       "box_style": "",
       "children": [
        "IPY_MODEL_c9e8b53e2eed4d4e837045e019bfba83",
        "IPY_MODEL_4087225630db47b59e94745c7b532b11",
        "IPY_MODEL_0eba6544d44b41c3993c94e20e0a0aad"
       ],
       "layout": "IPY_MODEL_8b5ded98025c4c94aa5f09d8498c3d29"
      }
     },
     "3f8562ceda644691b25d866539f137f6": {
      "model_module": "@jupyter-widgets/base",
      "model_module_version": "1.2.0",
      "model_name": "LayoutModel",
      "state": {
       "_model_module": "@jupyter-widgets/base",
       "_model_module_version": "1.2.0",
       "_model_name": "LayoutModel",
       "_view_count": null,
       "_view_module": "@jupyter-widgets/base",
       "_view_module_version": "1.2.0",
       "_view_name": "LayoutView",
       "align_content": null,
       "align_items": null,
       "align_self": null,
       "border": null,
       "bottom": null,
       "display": null,
       "flex": null,
       "flex_flow": null,
       "grid_area": null,
       "grid_auto_columns": null,
       "grid_auto_flow": null,
       "grid_auto_rows": null,
       "grid_column": null,
       "grid_gap": null,
       "grid_row": null,
       "grid_template_areas": null,
       "grid_template_columns": null,
       "grid_template_rows": null,
       "height": null,
       "justify_content": null,
       "justify_items": null,
       "left": null,
       "margin": null,
       "max_height": null,
       "max_width": null,
       "min_height": null,
       "min_width": null,
       "object_fit": null,
       "object_position": null,
       "order": null,
       "overflow": null,
       "overflow_x": null,
       "overflow_y": null,
       "padding": null,
       "right": null,
       "top": null,
       "visibility": null,
       "width": null
      }
     },
     "4087225630db47b59e94745c7b532b11": {
      "model_module": "@jupyter-widgets/controls",
      "model_module_version": "1.5.0",
      "model_name": "FloatProgressModel",
      "state": {
       "_dom_classes": [],
       "_model_module": "@jupyter-widgets/controls",
       "_model_module_version": "1.5.0",
       "_model_name": "FloatProgressModel",
       "_view_count": null,
       "_view_module": "@jupyter-widgets/controls",
       "_view_module_version": "1.5.0",
       "_view_name": "ProgressView",
       "bar_style": "success",
       "description": "",
       "description_tooltip": null,
       "layout": "IPY_MODEL_8fe6ecbfcc8d4b7a8fd97ebccaf90966",
       "max": 231508.0,
       "min": 0.0,
       "orientation": "horizontal",
       "style": "IPY_MODEL_6dddf29c2f3b46b8b1b83f03112d4f4f",
       "value": 231508.0
      }
     },
     "43a728ebf5184a6c9c0d712d67d33fb9": {
      "model_module": "@jupyter-widgets/controls",
      "model_module_version": "1.5.0",
      "model_name": "HBoxModel",
      "state": {
       "_dom_classes": [],
       "_model_module": "@jupyter-widgets/controls",
       "_model_module_version": "1.5.0",
       "_model_name": "HBoxModel",
       "_view_count": null,
       "_view_module": "@jupyter-widgets/controls",
       "_view_module_version": "1.5.0",
       "_view_name": "HBoxView",
       "box_style": "",
       "children": [
        "IPY_MODEL_0bfe3697126849898eaafeda1fc3a15b",
        "IPY_MODEL_2b31d2b5dcca46d3b794c41d13ab791e",
        "IPY_MODEL_24dfc56873aa4523b1f26165ecc2e064"
       ],
       "layout": "IPY_MODEL_6e777fdf904643adbf22a707e2b91f32"
      }
     },
     "49fa6a38f1b04fb393723e1d25734e0b": {
      "model_module": "@jupyter-widgets/base",
      "model_module_version": "1.2.0",
      "model_name": "LayoutModel",
      "state": {
       "_model_module": "@jupyter-widgets/base",
       "_model_module_version": "1.2.0",
       "_model_name": "LayoutModel",
       "_view_count": null,
       "_view_module": "@jupyter-widgets/base",
       "_view_module_version": "1.2.0",
       "_view_name": "LayoutView",
       "align_content": null,
       "align_items": null,
       "align_self": null,
       "border": null,
       "bottom": null,
       "display": null,
       "flex": null,
       "flex_flow": null,
       "grid_area": null,
       "grid_auto_columns": null,
       "grid_auto_flow": null,
       "grid_auto_rows": null,
       "grid_column": null,
       "grid_gap": null,
       "grid_row": null,
       "grid_template_areas": null,
       "grid_template_columns": null,
       "grid_template_rows": null,
       "height": null,
       "justify_content": null,
       "justify_items": null,
       "left": null,
       "margin": null,
       "max_height": null,
       "max_width": null,
       "min_height": null,
       "min_width": null,
       "object_fit": null,
       "object_position": null,
       "order": null,
       "overflow": null,
       "overflow_x": null,
       "overflow_y": null,
       "padding": null,
       "right": null,
       "top": null,
       "visibility": null,
       "width": null
      }
     },
     "4a78dd5822b3474dace379c3d1030495": {
      "model_module": "@jupyter-widgets/controls",
      "model_module_version": "1.5.0",
      "model_name": "HBoxModel",
      "state": {
       "_dom_classes": [],
       "_model_module": "@jupyter-widgets/controls",
       "_model_module_version": "1.5.0",
       "_model_name": "HBoxModel",
       "_view_count": null,
       "_view_module": "@jupyter-widgets/controls",
       "_view_module_version": "1.5.0",
       "_view_name": "HBoxView",
       "box_style": "",
       "children": [
        "IPY_MODEL_872fb65127934dffb3a967a52f049645",
        "IPY_MODEL_ea52014c66d04c24b19201a33403e1a3",
        "IPY_MODEL_8e3c665f7d3f4cb098c3a329272877e7"
       ],
       "layout": "IPY_MODEL_fb54793ef16d4607b5561b492a64bd2c"
      }
     },
     "4df794fc40dd4d5c8a2a25e9a3c67019": {
      "model_module": "@jupyter-widgets/controls",
      "model_module_version": "1.5.0",
      "model_name": "HBoxModel",
      "state": {
       "_dom_classes": [],
       "_model_module": "@jupyter-widgets/controls",
       "_model_module_version": "1.5.0",
       "_model_name": "HBoxModel",
       "_view_count": null,
       "_view_module": "@jupyter-widgets/controls",
       "_view_module_version": "1.5.0",
       "_view_name": "HBoxView",
       "box_style": "",
       "children": [
        "IPY_MODEL_b9b32af0c6ef4bb393b79267ee2ce31a",
        "IPY_MODEL_6c12994d90bd48ac95d04be91c094aa7",
        "IPY_MODEL_b7b916c42a6c4b3cb51501d52b6c8ee1"
       ],
       "layout": "IPY_MODEL_3f8562ceda644691b25d866539f137f6"
      }
     },
     "510fcacd81b74ad798dea6b9ec6bf3fa": {
      "model_module": "@jupyter-widgets/base",
      "model_module_version": "1.2.0",
      "model_name": "LayoutModel",
      "state": {
       "_model_module": "@jupyter-widgets/base",
       "_model_module_version": "1.2.0",
       "_model_name": "LayoutModel",
       "_view_count": null,
       "_view_module": "@jupyter-widgets/base",
       "_view_module_version": "1.2.0",
       "_view_name": "LayoutView",
       "align_content": null,
       "align_items": null,
       "align_self": null,
       "border": null,
       "bottom": null,
       "display": null,
       "flex": null,
       "flex_flow": null,
       "grid_area": null,
       "grid_auto_columns": null,
       "grid_auto_flow": null,
       "grid_auto_rows": null,
       "grid_column": null,
       "grid_gap": null,
       "grid_row": null,
       "grid_template_areas": null,
       "grid_template_columns": null,
       "grid_template_rows": null,
       "height": null,
       "justify_content": null,
       "justify_items": null,
       "left": null,
       "margin": null,
       "max_height": null,
       "max_width": null,
       "min_height": null,
       "min_width": null,
       "object_fit": null,
       "object_position": null,
       "order": null,
       "overflow": null,
       "overflow_x": null,
       "overflow_y": null,
       "padding": null,
       "right": null,
       "top": null,
       "visibility": null,
       "width": null
      }
     },
     "53819e9e941042d9a3c191002e33fef1": {
      "model_module": "@jupyter-widgets/controls",
      "model_module_version": "1.5.0",
      "model_name": "DescriptionStyleModel",
      "state": {
       "_model_module": "@jupyter-widgets/controls",
       "_model_module_version": "1.5.0",
       "_model_name": "DescriptionStyleModel",
       "_view_count": null,
       "_view_module": "@jupyter-widgets/base",
       "_view_module_version": "1.2.0",
       "_view_name": "StyleView",
       "description_width": ""
      }
     },
     "5be43a4fa6d14722a393a3250dbd1f7e": {
      "model_module": "@jupyter-widgets/base",
      "model_module_version": "1.2.0",
      "model_name": "LayoutModel",
      "state": {
       "_model_module": "@jupyter-widgets/base",
       "_model_module_version": "1.2.0",
       "_model_name": "LayoutModel",
       "_view_count": null,
       "_view_module": "@jupyter-widgets/base",
       "_view_module_version": "1.2.0",
       "_view_name": "LayoutView",
       "align_content": null,
       "align_items": null,
       "align_self": null,
       "border": null,
       "bottom": null,
       "display": null,
       "flex": null,
       "flex_flow": null,
       "grid_area": null,
       "grid_auto_columns": null,
       "grid_auto_flow": null,
       "grid_auto_rows": null,
       "grid_column": null,
       "grid_gap": null,
       "grid_row": null,
       "grid_template_areas": null,
       "grid_template_columns": null,
       "grid_template_rows": null,
       "height": null,
       "justify_content": null,
       "justify_items": null,
       "left": null,
       "margin": null,
       "max_height": null,
       "max_width": null,
       "min_height": null,
       "min_width": null,
       "object_fit": null,
       "object_position": null,
       "order": null,
       "overflow": null,
       "overflow_x": null,
       "overflow_y": null,
       "padding": null,
       "right": null,
       "top": null,
       "visibility": null,
       "width": null
      }
     },
     "664b36c5c9324c6a84daf814835a0e27": {
      "model_module": "@jupyter-widgets/base",
      "model_module_version": "1.2.0",
      "model_name": "LayoutModel",
      "state": {
       "_model_module": "@jupyter-widgets/base",
       "_model_module_version": "1.2.0",
       "_model_name": "LayoutModel",
       "_view_count": null,
       "_view_module": "@jupyter-widgets/base",
       "_view_module_version": "1.2.0",
       "_view_name": "LayoutView",
       "align_content": null,
       "align_items": null,
       "align_self": null,
       "border": null,
       "bottom": null,
       "display": null,
       "flex": null,
       "flex_flow": null,
       "grid_area": null,
       "grid_auto_columns": null,
       "grid_auto_flow": null,
       "grid_auto_rows": null,
       "grid_column": null,
       "grid_gap": null,
       "grid_row": null,
       "grid_template_areas": null,
       "grid_template_columns": null,
       "grid_template_rows": null,
       "height": null,
       "justify_content": null,
       "justify_items": null,
       "left": null,
       "margin": null,
       "max_height": null,
       "max_width": null,
       "min_height": null,
       "min_width": null,
       "object_fit": null,
       "object_position": null,
       "order": null,
       "overflow": null,
       "overflow_x": null,
       "overflow_y": null,
       "padding": null,
       "right": null,
       "top": null,
       "visibility": null,
       "width": null
      }
     },
     "69e7bd6c85f64ff8af176c31fc8428ce": {
      "model_module": "@jupyter-widgets/base",
      "model_module_version": "1.2.0",
      "model_name": "LayoutModel",
      "state": {
       "_model_module": "@jupyter-widgets/base",
       "_model_module_version": "1.2.0",
       "_model_name": "LayoutModel",
       "_view_count": null,
       "_view_module": "@jupyter-widgets/base",
       "_view_module_version": "1.2.0",
       "_view_name": "LayoutView",
       "align_content": null,
       "align_items": null,
       "align_self": null,
       "border": null,
       "bottom": null,
       "display": null,
       "flex": null,
       "flex_flow": null,
       "grid_area": null,
       "grid_auto_columns": null,
       "grid_auto_flow": null,
       "grid_auto_rows": null,
       "grid_column": null,
       "grid_gap": null,
       "grid_row": null,
       "grid_template_areas": null,
       "grid_template_columns": null,
       "grid_template_rows": null,
       "height": null,
       "justify_content": null,
       "justify_items": null,
       "left": null,
       "margin": null,
       "max_height": null,
       "max_width": null,
       "min_height": null,
       "min_width": null,
       "object_fit": null,
       "object_position": null,
       "order": null,
       "overflow": null,
       "overflow_x": null,
       "overflow_y": null,
       "padding": null,
       "right": null,
       "top": null,
       "visibility": null,
       "width": null
      }
     },
     "6c12994d90bd48ac95d04be91c094aa7": {
      "model_module": "@jupyter-widgets/controls",
      "model_module_version": "1.5.0",
      "model_name": "FloatProgressModel",
      "state": {
       "_dom_classes": [],
       "_model_module": "@jupyter-widgets/controls",
       "_model_module_version": "1.5.0",
       "_model_name": "FloatProgressModel",
       "_view_count": null,
       "_view_module": "@jupyter-widgets/controls",
       "_view_module_version": "1.5.0",
       "_view_name": "ProgressView",
       "bar_style": "success",
       "description": "",
       "description_tooltip": null,
       "layout": "IPY_MODEL_69e7bd6c85f64ff8af176c31fc8428ce",
       "max": 570.0,
       "min": 0.0,
       "orientation": "horizontal",
       "style": "IPY_MODEL_103de79d69074e3686b6ea2be4a46ea7",
       "value": 570.0
      }
     },
     "6dddf29c2f3b46b8b1b83f03112d4f4f": {
      "model_module": "@jupyter-widgets/controls",
      "model_module_version": "1.5.0",
      "model_name": "ProgressStyleModel",
      "state": {
       "_model_module": "@jupyter-widgets/controls",
       "_model_module_version": "1.5.0",
       "_model_name": "ProgressStyleModel",
       "_view_count": null,
       "_view_module": "@jupyter-widgets/base",
       "_view_module_version": "1.2.0",
       "_view_name": "StyleView",
       "bar_color": null,
       "description_width": ""
      }
     },
     "6e777fdf904643adbf22a707e2b91f32": {
      "model_module": "@jupyter-widgets/base",
      "model_module_version": "1.2.0",
      "model_name": "LayoutModel",
      "state": {
       "_model_module": "@jupyter-widgets/base",
       "_model_module_version": "1.2.0",
       "_model_name": "LayoutModel",
       "_view_count": null,
       "_view_module": "@jupyter-widgets/base",
       "_view_module_version": "1.2.0",
       "_view_name": "LayoutView",
       "align_content": null,
       "align_items": null,
       "align_self": null,
       "border": null,
       "bottom": null,
       "display": null,
       "flex": null,
       "flex_flow": null,
       "grid_area": null,
       "grid_auto_columns": null,
       "grid_auto_flow": null,
       "grid_auto_rows": null,
       "grid_column": null,
       "grid_gap": null,
       "grid_row": null,
       "grid_template_areas": null,
       "grid_template_columns": null,
       "grid_template_rows": null,
       "height": null,
       "justify_content": null,
       "justify_items": null,
       "left": null,
       "margin": null,
       "max_height": null,
       "max_width": null,
       "min_height": null,
       "min_width": null,
       "object_fit": null,
       "object_position": null,
       "order": null,
       "overflow": null,
       "overflow_x": null,
       "overflow_y": null,
       "padding": null,
       "right": null,
       "top": null,
       "visibility": null,
       "width": null
      }
     },
     "872fb65127934dffb3a967a52f049645": {
      "model_module": "@jupyter-widgets/controls",
      "model_module_version": "1.5.0",
      "model_name": "HTMLModel",
      "state": {
       "_dom_classes": [],
       "_model_module": "@jupyter-widgets/controls",
       "_model_module_version": "1.5.0",
       "_model_name": "HTMLModel",
       "_view_count": null,
       "_view_module": "@jupyter-widgets/controls",
       "_view_module_version": "1.5.0",
       "_view_name": "HTMLView",
       "description": "",
       "description_tooltip": null,
       "layout": "IPY_MODEL_49fa6a38f1b04fb393723e1d25734e0b",
       "placeholder": "​",
       "style": "IPY_MODEL_53819e9e941042d9a3c191002e33fef1",
       "value": "Downloading: 100%"
      }
     },
     "8b5ded98025c4c94aa5f09d8498c3d29": {
      "model_module": "@jupyter-widgets/base",
      "model_module_version": "1.2.0",
      "model_name": "LayoutModel",
      "state": {
       "_model_module": "@jupyter-widgets/base",
       "_model_module_version": "1.2.0",
       "_model_name": "LayoutModel",
       "_view_count": null,
       "_view_module": "@jupyter-widgets/base",
       "_view_module_version": "1.2.0",
       "_view_name": "LayoutView",
       "align_content": null,
       "align_items": null,
       "align_self": null,
       "border": null,
       "bottom": null,
       "display": null,
       "flex": null,
       "flex_flow": null,
       "grid_area": null,
       "grid_auto_columns": null,
       "grid_auto_flow": null,
       "grid_auto_rows": null,
       "grid_column": null,
       "grid_gap": null,
       "grid_row": null,
       "grid_template_areas": null,
       "grid_template_columns": null,
       "grid_template_rows": null,
       "height": null,
       "justify_content": null,
       "justify_items": null,
       "left": null,
       "margin": null,
       "max_height": null,
       "max_width": null,
       "min_height": null,
       "min_width": null,
       "object_fit": null,
       "object_position": null,
       "order": null,
       "overflow": null,
       "overflow_x": null,
       "overflow_y": null,
       "padding": null,
       "right": null,
       "top": null,
       "visibility": null,
       "width": null
      }
     },
     "8e3c665f7d3f4cb098c3a329272877e7": {
      "model_module": "@jupyter-widgets/controls",
      "model_module_version": "1.5.0",
      "model_name": "HTMLModel",
      "state": {
       "_dom_classes": [],
       "_model_module": "@jupyter-widgets/controls",
       "_model_module_version": "1.5.0",
       "_model_name": "HTMLModel",
       "_view_count": null,
       "_view_module": "@jupyter-widgets/controls",
       "_view_module_version": "1.5.0",
       "_view_name": "HTMLView",
       "description": "",
       "description_tooltip": null,
       "layout": "IPY_MODEL_5be43a4fa6d14722a393a3250dbd1f7e",
       "placeholder": "​",
       "style": "IPY_MODEL_12562d46614342e9a74bc0c16e56a176",
       "value": " 455k/455k [00:00&lt;00:00, 537kB/s]"
      }
     },
     "8fe6ecbfcc8d4b7a8fd97ebccaf90966": {
      "model_module": "@jupyter-widgets/base",
      "model_module_version": "1.2.0",
      "model_name": "LayoutModel",
      "state": {
       "_model_module": "@jupyter-widgets/base",
       "_model_module_version": "1.2.0",
       "_model_name": "LayoutModel",
       "_view_count": null,
       "_view_module": "@jupyter-widgets/base",
       "_view_module_version": "1.2.0",
       "_view_name": "LayoutView",
       "align_content": null,
       "align_items": null,
       "align_self": null,
       "border": null,
       "bottom": null,
       "display": null,
       "flex": null,
       "flex_flow": null,
       "grid_area": null,
       "grid_auto_columns": null,
       "grid_auto_flow": null,
       "grid_auto_rows": null,
       "grid_column": null,
       "grid_gap": null,
       "grid_row": null,
       "grid_template_areas": null,
       "grid_template_columns": null,
       "grid_template_rows": null,
       "height": null,
       "justify_content": null,
       "justify_items": null,
       "left": null,
       "margin": null,
       "max_height": null,
       "max_width": null,
       "min_height": null,
       "min_width": null,
       "object_fit": null,
       "object_position": null,
       "order": null,
       "overflow": null,
       "overflow_x": null,
       "overflow_y": null,
       "padding": null,
       "right": null,
       "top": null,
       "visibility": null,
       "width": null
      }
     },
     "9166bfbead334a52a7502d8b0c99f4ee": {
      "model_module": "@jupyter-widgets/controls",
      "model_module_version": "1.5.0",
      "model_name": "DescriptionStyleModel",
      "state": {
       "_model_module": "@jupyter-widgets/controls",
       "_model_module_version": "1.5.0",
       "_model_name": "DescriptionStyleModel",
       "_view_count": null,
       "_view_module": "@jupyter-widgets/base",
       "_view_module_version": "1.2.0",
       "_view_name": "StyleView",
       "description_width": ""
      }
     },
     "a1d1567336d24c9ebc2d699f43726c5d": {
      "model_module": "@jupyter-widgets/controls",
      "model_module_version": "1.5.0",
      "model_name": "HBoxModel",
      "state": {
       "_dom_classes": [],
       "_model_module": "@jupyter-widgets/controls",
       "_model_module_version": "1.5.0",
       "_model_name": "HBoxModel",
       "_view_count": null,
       "_view_module": "@jupyter-widgets/controls",
       "_view_module_version": "1.5.0",
       "_view_name": "HBoxView",
       "box_style": "",
       "children": [
        "IPY_MODEL_be4a346c75f94ae6a136d0f67bf689a4",
        "IPY_MODEL_c13a292548c84198851f80f0e4a395d9",
        "IPY_MODEL_33ed8a46a7394ba38b2afd4040b510e9"
       ],
       "layout": "IPY_MODEL_c70d58a48b4c4088a4a5d1628f02affa"
      }
     },
     "ae3187c072884ef984d6198e4139b405": {
      "model_module": "@jupyter-widgets/controls",
      "model_module_version": "1.5.0",
      "model_name": "DescriptionStyleModel",
      "state": {
       "_model_module": "@jupyter-widgets/controls",
       "_model_module_version": "1.5.0",
       "_model_name": "DescriptionStyleModel",
       "_view_count": null,
       "_view_module": "@jupyter-widgets/base",
       "_view_module_version": "1.2.0",
       "_view_name": "StyleView",
       "description_width": ""
      }
     },
     "aed96608b58a4de4997b424d930ea082": {
      "model_module": "@jupyter-widgets/controls",
      "model_module_version": "1.5.0",
      "model_name": "DescriptionStyleModel",
      "state": {
       "_model_module": "@jupyter-widgets/controls",
       "_model_module_version": "1.5.0",
       "_model_name": "DescriptionStyleModel",
       "_view_count": null,
       "_view_module": "@jupyter-widgets/base",
       "_view_module_version": "1.2.0",
       "_view_name": "StyleView",
       "description_width": ""
      }
     },
     "afa6155529ce46c0ae7eef4faaef21d4": {
      "model_module": "@jupyter-widgets/controls",
      "model_module_version": "1.5.0",
      "model_name": "DescriptionStyleModel",
      "state": {
       "_model_module": "@jupyter-widgets/controls",
       "_model_module_version": "1.5.0",
       "_model_name": "DescriptionStyleModel",
       "_view_count": null,
       "_view_module": "@jupyter-widgets/base",
       "_view_module_version": "1.2.0",
       "_view_name": "StyleView",
       "description_width": ""
      }
     },
     "b3f49621c453489e898b4097e5eb75a9": {
      "model_module": "@jupyter-widgets/base",
      "model_module_version": "1.2.0",
      "model_name": "LayoutModel",
      "state": {
       "_model_module": "@jupyter-widgets/base",
       "_model_module_version": "1.2.0",
       "_model_name": "LayoutModel",
       "_view_count": null,
       "_view_module": "@jupyter-widgets/base",
       "_view_module_version": "1.2.0",
       "_view_name": "LayoutView",
       "align_content": null,
       "align_items": null,
       "align_self": null,
       "border": null,
       "bottom": null,
       "display": null,
       "flex": null,
       "flex_flow": null,
       "grid_area": null,
       "grid_auto_columns": null,
       "grid_auto_flow": null,
       "grid_auto_rows": null,
       "grid_column": null,
       "grid_gap": null,
       "grid_row": null,
       "grid_template_areas": null,
       "grid_template_columns": null,
       "grid_template_rows": null,
       "height": null,
       "justify_content": null,
       "justify_items": null,
       "left": null,
       "margin": null,
       "max_height": null,
       "max_width": null,
       "min_height": null,
       "min_width": null,
       "object_fit": null,
       "object_position": null,
       "order": null,
       "overflow": null,
       "overflow_x": null,
       "overflow_y": null,
       "padding": null,
       "right": null,
       "top": null,
       "visibility": null,
       "width": null
      }
     },
     "b7b916c42a6c4b3cb51501d52b6c8ee1": {
      "model_module": "@jupyter-widgets/controls",
      "model_module_version": "1.5.0",
      "model_name": "HTMLModel",
      "state": {
       "_dom_classes": [],
       "_model_module": "@jupyter-widgets/controls",
       "_model_module_version": "1.5.0",
       "_model_name": "HTMLModel",
       "_view_count": null,
       "_view_module": "@jupyter-widgets/controls",
       "_view_module_version": "1.5.0",
       "_view_name": "HTMLView",
       "description": "",
       "description_tooltip": null,
       "layout": "IPY_MODEL_2cf6e589a21648e89d67ed50c83dd64e",
       "placeholder": "​",
       "style": "IPY_MODEL_1ec9f01a75b34c93b5c80350923798a9",
       "value": " 570/570 [00:00&lt;00:00, 21.4kB/s]"
      }
     },
     "b95e75c289094b878650ea03c987f8ac": {
      "model_module": "@jupyter-widgets/controls",
      "model_module_version": "1.5.0",
      "model_name": "ProgressStyleModel",
      "state": {
       "_model_module": "@jupyter-widgets/controls",
       "_model_module_version": "1.5.0",
       "_model_name": "ProgressStyleModel",
       "_view_count": null,
       "_view_module": "@jupyter-widgets/base",
       "_view_module_version": "1.2.0",
       "_view_name": "StyleView",
       "bar_color": null,
       "description_width": ""
      }
     },
     "b9b32af0c6ef4bb393b79267ee2ce31a": {
      "model_module": "@jupyter-widgets/controls",
      "model_module_version": "1.5.0",
      "model_name": "HTMLModel",
      "state": {
       "_dom_classes": [],
       "_model_module": "@jupyter-widgets/controls",
       "_model_module_version": "1.5.0",
       "_model_name": "HTMLModel",
       "_view_count": null,
       "_view_module": "@jupyter-widgets/controls",
       "_view_module_version": "1.5.0",
       "_view_name": "HTMLView",
       "description": "",
       "description_tooltip": null,
       "layout": "IPY_MODEL_2082ffb09a384b8a931b80223514b74e",
       "placeholder": "​",
       "style": "IPY_MODEL_ae3187c072884ef984d6198e4139b405",
       "value": "Downloading: 100%"
      }
     },
     "be4a346c75f94ae6a136d0f67bf689a4": {
      "model_module": "@jupyter-widgets/controls",
      "model_module_version": "1.5.0",
      "model_name": "HTMLModel",
      "state": {
       "_dom_classes": [],
       "_model_module": "@jupyter-widgets/controls",
       "_model_module_version": "1.5.0",
       "_model_name": "HTMLModel",
       "_view_count": null,
       "_view_module": "@jupyter-widgets/controls",
       "_view_module_version": "1.5.0",
       "_view_name": "HTMLView",
       "description": "",
       "description_tooltip": null,
       "layout": "IPY_MODEL_f35900a6697a4c1bb2a8ddba69d96e0a",
       "placeholder": "​",
       "style": "IPY_MODEL_9166bfbead334a52a7502d8b0c99f4ee",
       "value": "Downloading: 100%"
      }
     },
     "c13a292548c84198851f80f0e4a395d9": {
      "model_module": "@jupyter-widgets/controls",
      "model_module_version": "1.5.0",
      "model_name": "FloatProgressModel",
      "state": {
       "_dom_classes": [],
       "_model_module": "@jupyter-widgets/controls",
       "_model_module_version": "1.5.0",
       "_model_name": "FloatProgressModel",
       "_view_count": null,
       "_view_module": "@jupyter-widgets/controls",
       "_view_module_version": "1.5.0",
       "_view_name": "ProgressView",
       "bar_style": "success",
       "description": "",
       "description_tooltip": null,
       "layout": "IPY_MODEL_664b36c5c9324c6a84daf814835a0e27",
       "max": 536063208.0,
       "min": 0.0,
       "orientation": "horizontal",
       "style": "IPY_MODEL_b95e75c289094b878650ea03c987f8ac",
       "value": 536063208.0
      }
     },
     "c267c5b93bcc4565b021b8895224b981": {
      "model_module": "@jupyter-widgets/controls",
      "model_module_version": "1.5.0",
      "model_name": "ProgressStyleModel",
      "state": {
       "_model_module": "@jupyter-widgets/controls",
       "_model_module_version": "1.5.0",
       "_model_name": "ProgressStyleModel",
       "_view_count": null,
       "_view_module": "@jupyter-widgets/base",
       "_view_module_version": "1.2.0",
       "_view_name": "StyleView",
       "bar_color": null,
       "description_width": ""
      }
     },
     "c70d58a48b4c4088a4a5d1628f02affa": {
      "model_module": "@jupyter-widgets/base",
      "model_module_version": "1.2.0",
      "model_name": "LayoutModel",
      "state": {
       "_model_module": "@jupyter-widgets/base",
       "_model_module_version": "1.2.0",
       "_model_name": "LayoutModel",
       "_view_count": null,
       "_view_module": "@jupyter-widgets/base",
       "_view_module_version": "1.2.0",
       "_view_name": "LayoutView",
       "align_content": null,
       "align_items": null,
       "align_self": null,
       "border": null,
       "bottom": null,
       "display": null,
       "flex": null,
       "flex_flow": null,
       "grid_area": null,
       "grid_auto_columns": null,
       "grid_auto_flow": null,
       "grid_auto_rows": null,
       "grid_column": null,
       "grid_gap": null,
       "grid_row": null,
       "grid_template_areas": null,
       "grid_template_columns": null,
       "grid_template_rows": null,
       "height": null,
       "justify_content": null,
       "justify_items": null,
       "left": null,
       "margin": null,
       "max_height": null,
       "max_width": null,
       "min_height": null,
       "min_width": null,
       "object_fit": null,
       "object_position": null,
       "order": null,
       "overflow": null,
       "overflow_x": null,
       "overflow_y": null,
       "padding": null,
       "right": null,
       "top": null,
       "visibility": null,
       "width": null
      }
     },
     "c9e8b53e2eed4d4e837045e019bfba83": {
      "model_module": "@jupyter-widgets/controls",
      "model_module_version": "1.5.0",
      "model_name": "HTMLModel",
      "state": {
       "_dom_classes": [],
       "_model_module": "@jupyter-widgets/controls",
       "_model_module_version": "1.5.0",
       "_model_name": "HTMLModel",
       "_view_count": null,
       "_view_module": "@jupyter-widgets/controls",
       "_view_module_version": "1.5.0",
       "_view_name": "HTMLView",
       "description": "",
       "description_tooltip": null,
       "layout": "IPY_MODEL_510fcacd81b74ad798dea6b9ec6bf3fa",
       "placeholder": "​",
       "style": "IPY_MODEL_e6889bcf8acf4e34a29cefaca8bc4c0b",
       "value": "Downloading: 100%"
      }
     },
     "ce5cd913814447dbb07916879862cefc": {
      "model_module": "@jupyter-widgets/base",
      "model_module_version": "1.2.0",
      "model_name": "LayoutModel",
      "state": {
       "_model_module": "@jupyter-widgets/base",
       "_model_module_version": "1.2.0",
       "_model_name": "LayoutModel",
       "_view_count": null,
       "_view_module": "@jupyter-widgets/base",
       "_view_module_version": "1.2.0",
       "_view_name": "LayoutView",
       "align_content": null,
       "align_items": null,
       "align_self": null,
       "border": null,
       "bottom": null,
       "display": null,
       "flex": null,
       "flex_flow": null,
       "grid_area": null,
       "grid_auto_columns": null,
       "grid_auto_flow": null,
       "grid_auto_rows": null,
       "grid_column": null,
       "grid_gap": null,
       "grid_row": null,
       "grid_template_areas": null,
       "grid_template_columns": null,
       "grid_template_rows": null,
       "height": null,
       "justify_content": null,
       "justify_items": null,
       "left": null,
       "margin": null,
       "max_height": null,
       "max_width": null,
       "min_height": null,
       "min_width": null,
       "object_fit": null,
       "object_position": null,
       "order": null,
       "overflow": null,
       "overflow_x": null,
       "overflow_y": null,
       "padding": null,
       "right": null,
       "top": null,
       "visibility": null,
       "width": null
      }
     },
     "d1d86550f0a2404a9cc46ec66b9dd2c0": {
      "model_module": "@jupyter-widgets/controls",
      "model_module_version": "1.5.0",
      "model_name": "ProgressStyleModel",
      "state": {
       "_model_module": "@jupyter-widgets/controls",
       "_model_module_version": "1.5.0",
       "_model_name": "ProgressStyleModel",
       "_view_count": null,
       "_view_module": "@jupyter-widgets/base",
       "_view_module_version": "1.2.0",
       "_view_name": "StyleView",
       "bar_color": null,
       "description_width": ""
      }
     },
     "e6889bcf8acf4e34a29cefaca8bc4c0b": {
      "model_module": "@jupyter-widgets/controls",
      "model_module_version": "1.5.0",
      "model_name": "DescriptionStyleModel",
      "state": {
       "_model_module": "@jupyter-widgets/controls",
       "_model_module_version": "1.5.0",
       "_model_name": "DescriptionStyleModel",
       "_view_count": null,
       "_view_module": "@jupyter-widgets/base",
       "_view_module_version": "1.2.0",
       "_view_name": "StyleView",
       "description_width": ""
      }
     },
     "ea52014c66d04c24b19201a33403e1a3": {
      "model_module": "@jupyter-widgets/controls",
      "model_module_version": "1.5.0",
      "model_name": "FloatProgressModel",
      "state": {
       "_dom_classes": [],
       "_model_module": "@jupyter-widgets/controls",
       "_model_module_version": "1.5.0",
       "_model_name": "FloatProgressModel",
       "_view_count": null,
       "_view_module": "@jupyter-widgets/controls",
       "_view_module_version": "1.5.0",
       "_view_name": "ProgressView",
       "bar_style": "success",
       "description": "",
       "description_tooltip": null,
       "layout": "IPY_MODEL_ee3fbee2d91c4bbe9feb1cab3e3a6498",
       "max": 466062.0,
       "min": 0.0,
       "orientation": "horizontal",
       "style": "IPY_MODEL_c267c5b93bcc4565b021b8895224b981",
       "value": 466062.0
      }
     },
     "ee3fbee2d91c4bbe9feb1cab3e3a6498": {
      "model_module": "@jupyter-widgets/base",
      "model_module_version": "1.2.0",
      "model_name": "LayoutModel",
      "state": {
       "_model_module": "@jupyter-widgets/base",
       "_model_module_version": "1.2.0",
       "_model_name": "LayoutModel",
       "_view_count": null,
       "_view_module": "@jupyter-widgets/base",
       "_view_module_version": "1.2.0",
       "_view_name": "LayoutView",
       "align_content": null,
       "align_items": null,
       "align_self": null,
       "border": null,
       "bottom": null,
       "display": null,
       "flex": null,
       "flex_flow": null,
       "grid_area": null,
       "grid_auto_columns": null,
       "grid_auto_flow": null,
       "grid_auto_rows": null,
       "grid_column": null,
       "grid_gap": null,
       "grid_row": null,
       "grid_template_areas": null,
       "grid_template_columns": null,
       "grid_template_rows": null,
       "height": null,
       "justify_content": null,
       "justify_items": null,
       "left": null,
       "margin": null,
       "max_height": null,
       "max_width": null,
       "min_height": null,
       "min_width": null,
       "object_fit": null,
       "object_position": null,
       "order": null,
       "overflow": null,
       "overflow_x": null,
       "overflow_y": null,
       "padding": null,
       "right": null,
       "top": null,
       "visibility": null,
       "width": null
      }
     },
     "f35900a6697a4c1bb2a8ddba69d96e0a": {
      "model_module": "@jupyter-widgets/base",
      "model_module_version": "1.2.0",
      "model_name": "LayoutModel",
      "state": {
       "_model_module": "@jupyter-widgets/base",
       "_model_module_version": "1.2.0",
       "_model_name": "LayoutModel",
       "_view_count": null,
       "_view_module": "@jupyter-widgets/base",
       "_view_module_version": "1.2.0",
       "_view_name": "LayoutView",
       "align_content": null,
       "align_items": null,
       "align_self": null,
       "border": null,
       "bottom": null,
       "display": null,
       "flex": null,
       "flex_flow": null,
       "grid_area": null,
       "grid_auto_columns": null,
       "grid_auto_flow": null,
       "grid_auto_rows": null,
       "grid_column": null,
       "grid_gap": null,
       "grid_row": null,
       "grid_template_areas": null,
       "grid_template_columns": null,
       "grid_template_rows": null,
       "height": null,
       "justify_content": null,
       "justify_items": null,
       "left": null,
       "margin": null,
       "max_height": null,
       "max_width": null,
       "min_height": null,
       "min_width": null,
       "object_fit": null,
       "object_position": null,
       "order": null,
       "overflow": null,
       "overflow_x": null,
       "overflow_y": null,
       "padding": null,
       "right": null,
       "top": null,
       "visibility": null,
       "width": null
      }
     },
     "fb4268fb1c4a40c4bcb2c6bc6e61511a": {
      "model_module": "@jupyter-widgets/controls",
      "model_module_version": "1.5.0",
      "model_name": "DescriptionStyleModel",
      "state": {
       "_model_module": "@jupyter-widgets/controls",
       "_model_module_version": "1.5.0",
       "_model_name": "DescriptionStyleModel",
       "_view_count": null,
       "_view_module": "@jupyter-widgets/base",
       "_view_module_version": "1.2.0",
       "_view_name": "StyleView",
       "description_width": ""
      }
     },
     "fb54793ef16d4607b5561b492a64bd2c": {
      "model_module": "@jupyter-widgets/base",
      "model_module_version": "1.2.0",
      "model_name": "LayoutModel",
      "state": {
       "_model_module": "@jupyter-widgets/base",
       "_model_module_version": "1.2.0",
       "_model_name": "LayoutModel",
       "_view_count": null,
       "_view_module": "@jupyter-widgets/base",
       "_view_module_version": "1.2.0",
       "_view_name": "LayoutView",
       "align_content": null,
       "align_items": null,
       "align_self": null,
       "border": null,
       "bottom": null,
       "display": null,
       "flex": null,
       "flex_flow": null,
       "grid_area": null,
       "grid_auto_columns": null,
       "grid_auto_flow": null,
       "grid_auto_rows": null,
       "grid_column": null,
       "grid_gap": null,
       "grid_row": null,
       "grid_template_areas": null,
       "grid_template_columns": null,
       "grid_template_rows": null,
       "height": null,
       "justify_content": null,
       "justify_items": null,
       "left": null,
       "margin": null,
       "max_height": null,
       "max_width": null,
       "min_height": null,
       "min_width": null,
       "object_fit": null,
       "object_position": null,
       "order": null,
       "overflow": null,
       "overflow_x": null,
       "overflow_y": null,
       "padding": null,
       "right": null,
       "top": null,
       "visibility": null,
       "width": null
      }
     },
     "fe4318c6ef0742b995bfa46ad8e044d6": {
      "model_module": "@jupyter-widgets/base",
      "model_module_version": "1.2.0",
      "model_name": "LayoutModel",
      "state": {
       "_model_module": "@jupyter-widgets/base",
       "_model_module_version": "1.2.0",
       "_model_name": "LayoutModel",
       "_view_count": null,
       "_view_module": "@jupyter-widgets/base",
       "_view_module_version": "1.2.0",
       "_view_name": "LayoutView",
       "align_content": null,
       "align_items": null,
       "align_self": null,
       "border": null,
       "bottom": null,
       "display": null,
       "flex": null,
       "flex_flow": null,
       "grid_area": null,
       "grid_auto_columns": null,
       "grid_auto_flow": null,
       "grid_auto_rows": null,
       "grid_column": null,
       "grid_gap": null,
       "grid_row": null,
       "grid_template_areas": null,
       "grid_template_columns": null,
       "grid_template_rows": null,
       "height": null,
       "justify_content": null,
       "justify_items": null,
       "left": null,
       "margin": null,
       "max_height": null,
       "max_width": null,
       "min_height": null,
       "min_width": null,
       "object_fit": null,
       "object_position": null,
       "order": null,
       "overflow": null,
       "overflow_x": null,
       "overflow_y": null,
       "padding": null,
       "right": null,
       "top": null,
       "visibility": null,
       "width": null
      }
     }
    },
    "version_major": 2,
    "version_minor": 0
   }
  }
 },
 "nbformat": 4,
 "nbformat_minor": 5
}
